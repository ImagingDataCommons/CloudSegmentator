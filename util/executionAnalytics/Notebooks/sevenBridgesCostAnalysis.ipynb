{
  "cells": [
    {
      "cell_type": "markdown",
      "id": "ffa6c11b",
      "metadata": {
        "colab_type": "text",
        "id": "view-in-github"
      },
      "source": [
        "<a href=\"https://colab.research.google.com/github/ImagingDataCommons/CloudSegmentator/blob/v1.3.0/util/executionAnalytics/Notebooks/sevenBridgesCostAnalysis.ipynb\" target=\"_parent\"><img src=\"https://colab.research.google.com/assets/colab-badge.svg\" alt=\"Open In Colab\"/></a>"
      ]
    },
    {
      "cell_type": "code",
      "execution_count": null,
      "id": "H668k-O9iOY-",
      "metadata": {
        "id": "H668k-O9iOY-"
      },
      "outputs": [],
      "source": [
        "%%capture\n",
        "!pip install sevenbridges-python"
      ]
    },
    {
      "cell_type": "code",
      "execution_count": null,
      "id": "0c089b70-3112-4a57-963a-632d7daf295f",
      "metadata": {
        "id": "0c089b70-3112-4a57-963a-632d7daf295f"
      },
      "outputs": [],
      "source": [
        "import sevenbridges as sbg"
      ]
    },
    {
      "cell_type": "code",
      "execution_count": null,
      "id": "j8L8d5ZB8M1M",
      "metadata": {
        "id": "j8L8d5ZB8M1M"
      },
      "outputs": [],
      "source": [
        "token=''"
      ]
    },
    {
      "cell_type": "code",
      "execution_count": null,
      "id": "6e95d812-366f-4fb0-83eb-88edacdfd580",
      "metadata": {
        "colab": {
          "base_uri": "https://localhost:8080/"
        },
        "id": "6e95d812-366f-4fb0-83eb-88edacdfd580",
        "outputId": "f979c422-a923-4ec7-e14d-cc131fb4388b"
      },
      "outputs": [],
      "source": [
        "api = sbg.Api(url='https://cgc-api.sbgenomics.com/v2', token=token,advance_access=True)"
      ]
    },
    {
      "cell_type": "code",
      "execution_count": null,
      "id": "be5efb0b-8238-4470-9cd1-8a7d2695292e",
      "metadata": {
        "colab": {
          "base_uri": "https://localhost:8080/"
        },
        "id": "be5efb0b-8238-4470-9cd1-8a7d2695292e",
        "outputId": "99619ac5-9d6a-4f80-c0ad-1b2fb91985ad"
      },
      "outputs": [],
      "source": [
        "projectIds = []\n",
        "for project in api.projects.query().all():\n",
        "    projectIds.append(project.id)\n",
        "projectIds"
      ]
    },
    {
      "cell_type": "code",
      "execution_count": null,
      "id": "ec26c6f0-57b8-4a22-9025-61dae1f31a15",
      "metadata": {
        "colab": {
          "base_uri": "https://localhost:8080/",
          "height": 424
        },
        "collapsed": true,
        "id": "ec26c6f0-57b8-4a22-9025-61dae1f31a15",
        "jupyter": {
          "outputs_hidden": true
        },
        "outputId": "cf8b9d0d-9c36-42ae-f15e-3e68d09c95fc",
        "tags": []
      },
      "outputs": [],
      "source": [
        "import pandas as pd\n",
        "\n",
        "data = []\n",
        "for project in projectIds:\n",
        "  for task in api.tasks.query(project=project, order_by='end_time',status='COMPLETED').all():\n",
        "      data.append([task.id, project, task.batch])\n",
        "\n",
        "df = pd.DataFrame(data, columns=['id','projectId', 'batch'])\n",
        "df"
      ]
    },
    {
      "cell_type": "code",
      "execution_count": null,
      "id": "771157e5-3e99-4b44-b940-6541fb7b6917",
      "metadata": {
        "colab": {
          "base_uri": "https://localhost:8080/",
          "height": 1000
        },
        "collapsed": true,
        "id": "771157e5-3e99-4b44-b940-6541fb7b6917",
        "jupyter": {
          "outputs_hidden": true
        },
        "outputId": "606e2223-a4c1-4e6b-fea3-6f2596b254ce",
        "tags": []
      },
      "outputs": [],
      "source": [
        "batch_tasks = df[df['batch'] == True].copy()\n",
        "individual_tasks = df[df['batch'] == False].copy()\n",
        "individual_tasks.loc[:, 'batchId'] = ''\n",
        "individual_tasks.rename(columns={'id': 'taskId'}, inplace=True)\n",
        "batch_tasks.rename(columns={'id': 'batchId'}, inplace=True)\n",
        "individual_tasks"
      ]
    },
    {
      "cell_type": "code",
      "execution_count": null,
      "id": "f7c7d380-2cc2-4ca2-8764-a374cf7eec2b",
      "metadata": {
        "colab": {
          "base_uri": "https://localhost:8080/",
          "height": 424
        },
        "collapsed": true,
        "id": "f7c7d380-2cc2-4ca2-8764-a374cf7eec2b",
        "jupyter": {
          "outputs_hidden": true
        },
        "outputId": "8be3e31b-6a1a-4c0c-b1c5-3cad3a0cd58d",
        "tags": []
      },
      "outputs": [],
      "source": [
        "batch_tasks_ids = batch_tasks['batchId'].tolist()\n",
        "batch_data = []\n",
        "\n",
        "for batchId in batch_tasks_ids:\n",
        "    for task in api.tasks.query(order_by='end_time', parent=batchId, status='COMPLETED').all():\n",
        "        batch_data.append([task.id, batchId ])\n",
        "\n",
        "batch = pd.DataFrame(batch_data, columns=['taskId', 'batchId'])\n",
        "batch_df = pd.merge(batch_tasks, batch, on='batchId', how='left').drop_duplicates().reset_index(drop=True)\n",
        "batch_df"
      ]
    },
    {
      "cell_type": "code",
      "execution_count": null,
      "id": "1b1bcda1-ce37-4dea-b8fd-258d52f68dc1",
      "metadata": {
        "colab": {
          "base_uri": "https://localhost:8080/",
          "height": 424
        },
        "collapsed": true,
        "id": "1b1bcda1-ce37-4dea-b8fd-258d52f68dc1",
        "jupyter": {
          "outputs_hidden": true
        },
        "outputId": "9c375fe8-92f3-4087-e9bf-e3b80fb57083",
        "tags": []
      },
      "outputs": [],
      "source": [
        "final_task_df= pd.concat([batch_df,individual_tasks ])\n",
        "final_task_df"
      ]
    },
    {
      "cell_type": "code",
      "execution_count": null,
      "id": "prahe7a2UU0i",
      "metadata": {
        "id": "prahe7a2UU0i"
      },
      "outputs": [],
      "source": [
        "# task_ids = final_task_df['taskId'].tolist()\n",
        "\n",
        "# data = []\n",
        "# for task_id in task_ids:\n",
        "#     task_details = api.tasks.get(id=task_id)\n",
        "#     outputs = task_details.outputs\n",
        "#     if isinstance(outputs, dict):\n",
        "#         for key, value in outputs.items():\n",
        "#             if value is not None and hasattr(value, 'id'):\n",
        "#                 new_row = [\n",
        "#                     task_details.id,\n",
        "#                     task_details.name,\n",
        "#                     task_details.status,\n",
        "#                     task_details.project,\n",
        "#                     task_details.app,\n",
        "#                     task_details.type,\n",
        "#                     task_details.batch,\n",
        "#                     task_details.created_by,\n",
        "#                     task_details.executed_by,\n",
        "#                     task_details.start_time,\n",
        "#                     task_details.end_time,\n",
        "#                     task_details.price.amount,\n",
        "#                     task_details.price.breakdown.storage,\n",
        "#                     task_details.price.breakdown.computation,\n",
        "#                     task_details.execution_status.steps_completed,\n",
        "#                     task_details.execution_status.system_limit,\n",
        "#                     task_details.execution_status.account_limit,\n",
        "#                     task_details.execution_status.instance_init,\n",
        "#                     task_details.execution_status.steps_total,\n",
        "#                     task_details.execution_status.message,\n",
        "#                     task_details.execution_status.duration,\n",
        "#                     task_details.execution_status.queued_duration,\n",
        "#                     task_details.execution_status.running_duration,\n",
        "#                     task_details.execution_status.execution_duration,\n",
        "#                     key,\n",
        "#                     value.id\n",
        "#                 ]\n",
        "#                 data.append(new_row)\n",
        "\n",
        "# details_df = pd.DataFrame(\n",
        "#     data,\n",
        "#     columns=[\n",
        "#         'taskId',\n",
        "#         'name',\n",
        "#         'status',\n",
        "#         'project',\n",
        "#         'app',\n",
        "#         'type',\n",
        "#         'batch',\n",
        "#         'created_by',\n",
        "#         'executed_by',\n",
        "#         'start_time',\n",
        "#         'end_time',\n",
        "#         'price',\n",
        "#         'storage_price',\n",
        "#         'compute_price',\n",
        "#         'steps_completed',\n",
        "#         'system_limit',\n",
        "#         'account_limit',\n",
        "#         'instance_init',\n",
        "#         'steps_total',\n",
        "#         'message',\n",
        "#         'duration',\n",
        "#         'queued_duration',\n",
        "#         'running_duration',\n",
        "#         'execution_duration',\n",
        "#         'output_key',\n",
        "#         'output_file_id'\n",
        "#     ]\n",
        "# )\n",
        "# details_df"
      ]
    },
    {
      "cell_type": "code",
      "execution_count": null,
      "id": "uTX8cBOLRAQr",
      "metadata": {
        "id": "uTX8cBOLRAQr"
      },
      "outputs": [],
      "source": [
        "# # Get the task IDs from the final task dataframe\n",
        "# import time\n",
        "# task_ids = final_task_df['taskId'].tolist()\n",
        "\n",
        "# # Create an empty list to store the data\n",
        "# data = []\n",
        "\n",
        "# # Initialize a counter for the number of API requests made\n",
        "# api_request_count = 0\n",
        "\n",
        "# # Iterate over the task IDs\n",
        "# for task_id in task_ids:\n",
        "\n",
        "#     # Get the task details\n",
        "#     task_details = api.tasks.get(id=task_id)\n",
        "\n",
        "#     # Get the outputs\n",
        "#     outputs = task_details.outputs\n",
        "\n",
        "#     # Get the execution details\n",
        "#     executionDetails= task_details.get_execution_details() \n",
        "\n",
        "#     # If the outputs are a dictionary\n",
        "#     if isinstance(outputs, dict):\n",
        "\n",
        "#         # Iterate over the keys and values in the outputs dictionary\n",
        "#         for key, value in outputs.items():\n",
        "\n",
        "#             # If the value is not None and has an ID\n",
        "#             if value is not None and hasattr(value, 'id'):\n",
        "\n",
        "#                 # Iterate over the jobs\n",
        "#                 for job in executionDetails.jobs:\n",
        "                \n",
        "#                     # Create a new row for each job\n",
        "#                     new_row = [\n",
        "#                         task_details.id,\n",
        "#                         task_details.name,\n",
        "#                         task_details.status,\n",
        "#                         task_details.project,\n",
        "#                         task_details.app,\n",
        "#                         task_details.type,\n",
        "#                         task_details.batch,\n",
        "#                         task_details.created_by,\n",
        "#                         task_details.executed_by,\n",
        "#                         task_details.start_time,\n",
        "#                         task_details.end_time,\n",
        "#                         task_details.price.amount,\n",
        "#                         task_details.price.breakdown.storage,\n",
        "#                         task_details.price.breakdown.computation,\n",
        "#                         task_details.execution_status.steps_completed,\n",
        "#                         task_details.execution_status.system_limit,\n",
        "#                         task_details.execution_status.account_limit,\n",
        "#                         task_details.execution_status.instance_init,\n",
        "#                         task_details.execution_status.steps_total,\n",
        "#                         task_details.execution_status.message,\n",
        "#                         task_details.execution_status.duration,\n",
        "#                         task_details.execution_status.queued_duration,\n",
        "#                         task_details.execution_status.running_duration,\n",
        "#                         task_details.execution_status.execution_duration,\n",
        "#                         key,\n",
        "#                         value.id,\n",
        "#                         job.name,\n",
        "#                         job.start_time,\n",
        "#                         job.end_time,\n",
        "#                         job.status,\n",
        "#                         job.instance.id,\n",
        "#                         job.instance.type,\n",
        "#                         job.instance.provider,\n",
        "#                         job.instance.disk.size,\n",
        "#                         job.instance.disk.unit,\n",
        "#                         job.instance.disk.type\n",
        "#                     ]\n",
        "\n",
        "#                     # Append the new row to the data list\n",
        "#                     data.append(new_row)\n",
        "\n",
        "#                     # Increment the API request counter\n",
        "#                     api_request_count += 1\n",
        "\n",
        "#                     # If we have made 500 API requests, wait for 5.5 minutes\n",
        "#                     if api_request_count == 500:\n",
        "#                         time.sleep(330)  # 330 seconds = 5.5 minutes\n",
        "#                         api_request_count = 0  # reset the API request counter\n",
        "\n",
        "\n",
        "# # Create a DataFrame from the data list\n",
        "# details_df = pd.DataFrame(\n",
        "#     data,\n",
        "#     columns=[\n",
        "#         'taskId',\n",
        "#         'name',\n",
        "#         'status',\n",
        "#         'project',\n",
        "#         'app',\n",
        "#         'type',\n",
        "#         'batch',\n",
        "#         'created_by',\n",
        "#         'executed_by',\n",
        "#         'start_time',\n",
        "#         'end_time',\n",
        "#         'price',\n",
        "#         'storage_price',\n",
        "#         'compute_price',\n",
        "#         'steps_completed',\n",
        "#         'system_limit',\n",
        "#         'account_limit',\n",
        "#         'instance_init',\n",
        "#         'steps_total',\n",
        "#         'message',\n",
        "#         'duration',\n",
        "#         'queued_duration',\n",
        "#         'running_duration',\n",
        "#         'execution_duration',\n",
        "#         'output_key',\n",
        "#         'output_file_id',\n",
        "#         'job_name',\n",
        "#         'job_start_time',\n",
        "#         'job_end_time',\n",
        "#         'job_status',\n",
        "#         'instance_id',\n",
        "#         'instance_type',\n",
        "#         'instance_provider',\n",
        "#         'instance_disk_size',\n",
        "#         'instance_disk_unit',\n",
        "#         'instance_disk_type'\n",
        "#     ]\n",
        "# )\n",
        "# details_df"
      ]
    },
    {
      "cell_type": "code",
      "execution_count": null,
      "id": "UezfcrWWBMxy",
      "metadata": {
        "colab": {
          "base_uri": "https://localhost:8080/",
          "height": 1000
        },
        "id": "UezfcrWWBMxy",
        "outputId": "38fee3e2-c143-403c-db20-5f0fa67aafda"
      },
      "outputs": [],
      "source": [
        "# Get the task IDs from the final task dataframe\n",
        "import time\n",
        "task_ids = final_task_df['taskId'].tolist()\n",
        "\n",
        "# Create an empty list to store the data\n",
        "data = []\n",
        "\n",
        "# Initialize the API request count and time\n",
        "api_request_count = 0\n",
        "api_request_time = time.time()\n",
        "\n",
        "# Iterate over the task IDs\n",
        "for task_id in task_ids:\n",
        "\n",
        "    # Get the task details\n",
        "    task_details = api.tasks.get(id=task_id)\n",
        "    api_request_count += 1\n",
        "\n",
        "    # Get the outputs\n",
        "    outputs = task_details.outputs\n",
        "    api_request_count += 1\n",
        "\n",
        "    # Get the execution details\n",
        "    executionDetails= task_details.get_execution_details() \n",
        "    api_request_count += 1\n",
        "\n",
        "    # Check if the API request count is a multiple of 500\n",
        "    if api_request_count % 500 == 0:\n",
        "\n",
        "        # Calculate the time elapsed since the last API request\n",
        "        elapsed_time = time.time() - api_request_time\n",
        "\n",
        "        # If less than 5.5 minutes have elapsed, sleep for the remaining time\n",
        "        if elapsed_time < 330:\n",
        "            time.sleep(330 - elapsed_time)\n",
        "\n",
        "        # Reset the API request time\n",
        "        api_request_time = time.time()\n",
        "\n",
        "    # If the outputs are a dictionary\n",
        "    if isinstance(outputs, dict):\n",
        "\n",
        "        # Iterate over the keys and values in the outputs dictionary\n",
        "        for key, value in outputs.items():\n",
        "\n",
        "            # If the value is not None and has an ID\n",
        "            if value is not None and hasattr(value, 'id'):\n",
        "\n",
        "                # Iterate over the jobs\n",
        "                for job in executionDetails.jobs:\n",
        "                \n",
        "                    # Create a new row for each job\n",
        "                    new_row = [\n",
        "                        task_details.id,\n",
        "                        task_details.name,\n",
        "                        task_details.status,\n",
        "                        task_details.project,\n",
        "                        task_details.app,\n",
        "                        task_details.type,\n",
        "                        task_details.batch,\n",
        "                        task_details.created_by,\n",
        "                        task_details.executed_by,\n",
        "                        task_details.start_time,\n",
        "                        task_details.end_time,\n",
        "                        task_details.price.amount,\n",
        "                        task_details.price.breakdown.storage,\n",
        "                        task_details.price.breakdown.computation,\n",
        "                        task_details.execution_status.steps_completed,\n",
        "                        task_details.execution_status.system_limit,\n",
        "                        task_details.execution_status.account_limit,\n",
        "                        task_details.execution_status.instance_init,\n",
        "                        task_details.execution_status.steps_total,\n",
        "                        task_details.execution_status.message,\n",
        "                        task_details.execution_status.duration,\n",
        "                        task_details.execution_status.queued_duration,\n",
        "                        task_details.execution_status.running_duration,\n",
        "                        task_details.execution_status.execution_duration,\n",
        "                        key,\n",
        "                        value.id,\n",
        "                        job.name,\n",
        "                        job.start_time,\n",
        "                        job.end_time,\n",
        "                        job.status,\n",
        "                        job.instance.id,\n",
        "                        job.instance.type,\n",
        "                        job.instance.provider,\n",
        "                        job.instance.disk.size,\n",
        "                        job.instance.disk.unit,\n",
        "                        job.instance.disk.type\n",
        "                    ]\n",
        "\n",
        "                    # Append the new row to the data list\n",
        "                    data.append(new_row)\n",
        "\n",
        "# Create a DataFrame from the data list\n",
        "details_df = pd.DataFrame(\n",
        "    data,\n",
        "    columns=[\n",
        "        'taskId',\n",
        "        'name',\n",
        "        'status',\n",
        "        'project',\n",
        "        'app',\n",
        "        'type',\n",
        "        'batch',\n",
        "        'created_by',\n",
        "        'executed_by',\n",
        "        'start_time',\n",
        "        'end_time',\n",
        "        'price',\n",
        "        'storage_price',\n",
        "        'compute_price',\n",
        "        'steps_completed',\n",
        "        'system_limit',\n",
        "        'account_limit',\n",
        "        'instance_init',\n",
        "        'steps_total',\n",
        "        'message',\n",
        "        'duration',\n",
        "        'queued_duration',\n",
        "        'running_duration',\n",
        "        'execution_duration',\n",
        "        'output_key',\n",
        "        'output_file_id',\n",
        "        'job_name',\n",
        "        'job_start_time',\n",
        "        'job_end_time',\n",
        "        'job_status',\n",
        "        'instance_id',\n",
        "        'instance_type',\n",
        "        'instance_provider',\n",
        "        'instance_disk_size',\n",
        "        'instance_disk_unit',\n",
        "        'instance_disk_type'\n",
        "    ]\n",
        ")\n",
        "details_df"
      ]
    },
    {
      "cell_type": "code",
      "execution_count": null,
      "id": "CTw8M6O4tDZh",
      "metadata": {
        "colab": {
          "base_uri": "https://localhost:8080/",
          "height": 1000
        },
        "id": "CTw8M6O4tDZh",
        "outputId": "34906ec7-34e3-422f-f46b-9653845597db"
      },
      "outputs": [],
      "source": [
        "final_detailed_task_df = pd.merge(final_task_df, details_df, on='taskId', how='left').drop_duplicates().reset_index(drop=True)\n",
        "final_detailed_task_df"
      ]
    },
    {
      "cell_type": "code",
      "execution_count": null,
      "id": "zWjShmeJ5OHc",
      "metadata": {
        "id": "zWjShmeJ5OHc"
      },
      "outputs": [],
      "source": [
        "import time\n",
        "\n",
        "outputFiles = final_detailed_task_df['output_file_id'].to_list()\n",
        "# Get unique list of output files\n",
        "unique_output_files = list(set(outputFiles))\n",
        "time.sleep(5.5 * 60)\n",
        "# Iterate over unique list and populate dataframe\n",
        "for file in unique_output_files:\n",
        "    try:\n",
        "        fileInfo = api.files.get(file)\n",
        "        name = fileInfo.name\n",
        "        url = fileInfo.download_info().url\n",
        "        \n",
        "        # Find all rows with the current file ID and populate with file name and URL\n",
        "        final_detailed_task_df.loc[final_detailed_task_df['output_file_id'] == file, 'file_name'] = name\n",
        "        final_detailed_task_df.loc[final_detailed_task_df['output_file_id'] == file, 'file_url'] = url\n",
        "        \n",
        "    except Exception as e:\n",
        "        print(f'Error retrieving file {file}: {e}')\n",
        "    \n",
        "    if (unique_output_files.index(file) + 1) % 500 == 0:\n",
        "        time.sleep(5.5 * 60)\n",
        "final_detailed_task_df"
      ]
    },
    {
      "cell_type": "code",
      "execution_count": null,
      "id": "6mCWDDafYcNb",
      "metadata": {
        "colab": {
          "base_uri": "https://localhost:8080/",
          "height": 1000
        },
        "id": "6mCWDDafYcNb",
        "outputId": "8b2d49d7-0f43-4a7b-d1fb-34a69f80d7e5"
      },
      "outputs": [],
      "source": [
        "final_detailed_task_df"
      ]
    },
    {
      "cell_type": "code",
      "execution_count": null,
      "id": "iSUOasVVFOVD",
      "metadata": {
        "id": "iSUOasVVFOVD"
      },
      "outputs": [],
      "source": [
        "final_detailed_task_df.to_csv('final.csv')"
      ]
    }
  ],
  "metadata": {
    "colab": {
      "include_colab_link": true,
      "provenance": []
    },
    "kernelspec": {
      "display_name": "Python 3 (ipykernel)",
      "language": "python",
      "name": "python3"
    },
    "language_info": {
      "codemirror_mode": {
        "name": "ipython",
        "version": 3
      },
      "file_extension": ".py",
      "mimetype": "text/x-python",
      "name": "python",
      "nbconvert_exporter": "python",
      "pygments_lexer": "ipython3",
      "version": "3.9.6"
    }
  },
  "nbformat": 4,
  "nbformat_minor": 5
}
