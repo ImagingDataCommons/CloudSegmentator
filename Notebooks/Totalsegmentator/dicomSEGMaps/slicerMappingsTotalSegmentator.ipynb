{
  "cells": [
    {
      "cell_type": "markdown",
      "metadata": {
        "colab_type": "text",
        "id": "view-in-github"
      },
      "source": [
        "<a href=\"https://colab.research.google.com/github/ImagingDataCommons/Cloud-Resources-Workflows/blob/main/Notebooks/Totalsegmentator/dicomSEGMaps/slicerMappingsTotalSegmentator.ipynb\" target=\"_parent\"><img src=\"https://colab.research.google.com/assets/colab-badge.svg\" alt=\"Open In Colab\"/></a>"
      ]
    },
    {
      "cell_type": "markdown",
      "metadata": {
        "id": "ubqTDx3-3I0x"
      },
      "source": [
        "###**Importing Packages**"
      ]
    },
    {
      "cell_type": "code",
      "execution_count": null,
      "metadata": {
        "id": "pQejBQ04RsAs"
      },
      "outputs": [],
      "source": [
        "import pandas as pd\n",
        "import json\n",
        "import yaml\n",
        "import os\n",
        "import sys\n",
        "from pathlib import Path\n",
        "import time\n",
        "import ast\n",
        "from natsort import natsorted"
      ]
    },
    {
      "cell_type": "markdown",
      "metadata": {
        "id": "jJ3mWjCy3Qkq"
      },
      "source": [
        "###**Runtime Environment**"
      ]
    },
    {
      "cell_type": "code",
      "execution_count": null,
      "metadata": {
        "colab": {
          "base_uri": "https://localhost:8080/"
        },
        "id": "Y_A5p88zR3WV",
        "outputId": "5ee87f70-9174-470d-df19-7cc244b7bb23"
      },
      "outputs": [],
      "source": [
        "curr_dir   = Path().absolute()\n",
        "os.environ['TZ'] = 'US/Eastern'\n",
        "time.tzset()\n",
        "current_time = time.strftime('%a %b %d %H:%M:%S %Y', time.localtime())\n",
        "print(current_time)\n",
        "print(\"\\nCurrent directory :{}\".format( curr_dir))\n",
        "print(\"Python version    :\", sys.version.split('\\n')[0])"
      ]
    },
    {
      "cell_type": "markdown",
      "metadata": {
        "id": "UySVqxW74FL3"
      },
      "source": [
        "###**Download TotalSegmentator mappings from Slicer Documentation**"
      ]
    },
    {
      "cell_type": "code",
      "execution_count": null,
      "metadata": {
        "colab": {
          "base_uri": "https://localhost:8080/"
        },
        "id": "zaekz3hERhSr",
        "outputId": "dced14f2-dfbc-41f5-aee1-1a77eb411532"
      },
      "outputs": [],
      "source": [
        "try:\n",
        "  os.remove(f'{curr_dir}/TotalSegmentator.py')\n",
        "except OSError:\n",
        "  pass\n",
        "!wget https://raw.githubusercontent.com/lassoan/SlicerTotalSegmentator/main/TotalSegmentator/TotalSegmentator.py"
      ]
    },
    {
      "cell_type": "markdown",
      "metadata": {
        "id": "9csIzy2W4psO"
      },
      "source": [
        "###**Data Wrangling**"
      ]
    },
    {
      "cell_type": "code",
      "execution_count": null,
      "metadata": {
        "colab": {
          "base_uri": "https://localhost:8080/",
          "height": 615
        },
        "id": "er1ul4-Ldh1B",
        "outputId": "0e818382-66bd-4260-fe7f-b429119ef170"
      },
      "outputs": [],
      "source": [
        "try:\n",
        "  os.remove(f'{curr_dir}/map_to_binary.py')\n",
        "except OSError:\n",
        "  pass\n",
        "!wget https://raw.githubusercontent.com/wasserth/TotalSegmentator/master/totalsegmentator/map_to_binary.py\n",
        "import map_to_binary\n",
        "label_id_body_part_data = map_to_binary.class_map['total']\n",
        "label_id_body_part_data_df = pd.DataFrame(list(label_id_body_part_data.items()), columns=['labelID', 'Structure'])\n",
        "label_id_body_part_data_df"
      ]
    },
    {
      "cell_type": "code",
      "execution_count": null,
      "metadata": {
        "colab": {
          "base_uri": "https://localhost:8080/",
          "height": 488
        },
        "id": "oOlf8b0YRo8s",
        "outputId": "2949643d-e182-4a4c-e6dc-3e6f35496d14"
      },
      "outputs": [],
      "source": [
        "with open('TotalSegmentator.py', 'r') as f:\n",
        "    content = f.read()\n",
        "    tree = ast.parse(content)\n",
        "\n",
        "class TotalSegmentatorLogicFinder(ast.NodeVisitor):\n",
        "    def __init__(self):\n",
        "        self.result = None\n",
        "\n",
        "    def visit_ClassDef(self, node):\n",
        "        if node.name == 'TotalSegmentatorLogic':\n",
        "            for body_node in node.body:\n",
        "                if isinstance(body_node, ast.FunctionDef) and body_node.name == '__init__':\n",
        "                    for expr in body_node.body:\n",
        "                        if isinstance(expr, ast.Assign):\n",
        "                            target = expr.targets[0]\n",
        "                            if isinstance(target, ast.Attribute) and target.attr == 'totalSegmentatorLabelTerminology':\n",
        "                                self.result = ast.literal_eval(ast.unparse(expr.value))\n",
        "        self.generic_visit(node)\n",
        "\n",
        "finder = TotalSegmentatorLogicFinder()\n",
        "finder.visit(tree)\n",
        "totalSegmentatorLabelTerminology = finder.result\n",
        "data = []\n",
        "for key, value in totalSegmentatorLabelTerminology.items():\n",
        "    fields = value.split('~')\n",
        "    row = {'Structure': key}\n",
        "    for i, field in enumerate(fields):\n",
        "        subfields = field.split('^')\n",
        "        if i == 0:\n",
        "            if len(subfields) > 1:\n",
        "                row['SegmentAlgorithmName'] = subfields[0]\n",
        "                row['SegmentAlgorithmType'] = subfields[1]\n",
        "        elif i == 1:\n",
        "            if len(subfields) > 2:\n",
        "                row['SegmentedPropertyCategoryCodeSequence.CodingSchemeDesignator'] = subfields[0]\n",
        "                row['SegmentedPropertyCategoryCodeSequence.CodeValue'] = subfields[1]\n",
        "                row['SegmentedPropertyCategoryCodeSequence.CodeMeaning'] = subfields[2]\n",
        "        elif i == 2:\n",
        "            if len(subfields) > 2:\n",
        "                row['SegmentedPropertyTypeCodeSequence.CodingSchemeDesignator'] = subfields[0]\n",
        "                row['SegmentedPropertyTypeCodeSequence.CodeValue'] = subfields[1]\n",
        "                row['SegmentedPropertyTypeCodeSequence.CodeMeaning'] = subfields[2]\n",
        "        elif i == 3:\n",
        "            if len(subfields) > 2:\n",
        "                row['SegmentedPropertyTypeModifierCodeSequence.CodingSchemeDesignator'] = subfields[0]\n",
        "                row['SegmentedPropertyTypeModifierCodeSequence.CodeValue'] = subfields[1]\n",
        "                row['SegmentedPropertyTypeModifierCodeSequence.CodeMeaning'] = subfields[2]\n",
        "    data.append(row)\n",
        "\n",
        "df = pd.DataFrame(data)\n",
        "\n",
        "from natsort import natsort_keygen\n",
        "\n",
        "df = df.sort_values('Structure', key=natsort_keygen()).reset_index(drop=True)\n",
        "\n",
        "slicer_merged_df = pd.merge(label_id_body_part_data_df,df, left_on='Structure', right_on='Structure')\n",
        "slicer_merged_df"
      ]
    },
    {
      "cell_type": "markdown",
      "metadata": {
        "id": "tpfV0-cU4_29"
      },
      "source": [
        "###**MhubAI's dcmqi json config as a template**"
      ]
    },
    {
      "cell_type": "code",
      "execution_count": null,
      "metadata": {
        "colab": {
          "base_uri": "https://localhost:8080/",
          "height": 615
        },
        "id": "PTvVHXObwg0o",
        "outputId": "fa9dad9b-e197-4f6e-a8e7-41cef2c41ed8"
      },
      "outputs": [],
      "source": [
        "try:\n",
        "  os.remove(f'{curr_dir}/dicomseg_metadata_whole.py')\n",
        "except OSError:\n",
        "  pass\n",
        "!wget https://raw.githubusercontent.com/MHubAI/models/main/models/totalsegmentator/config/dicomseg_metadata_whole.json\n",
        "\n",
        "with open('/content/dicomseg_metadata_whole.json', 'r') as file:\n",
        "    json_data = json.load(file)\n",
        "\n",
        "mhubai = pd.json_normalize(json_data['segmentAttributes'][0]).reset_index(drop=True)\n",
        "mhubai=mhubai[['SegmentAlgorithmName', 'SegmentAlgorithmType', 'SegmentDescription',\n",
        "       'labelID', 'recommendedDisplayRGBValue',]]\n",
        "mhubai"
      ]
    },
    {
      "cell_type": "markdown",
      "metadata": {
        "id": "BZxAsEAh5bfY"
      },
      "source": [
        "###**Generating Updated dcmqi json config using Slicer Mappings**"
      ]
    },
    {
      "cell_type": "code",
      "execution_count": null,
      "metadata": {
        "colab": {
          "base_uri": "https://localhost:8080/",
          "height": 522
        },
        "id": "GdStkHDuzZ2-",
        "outputId": "d2c82ab0-c36c-4d5a-c2db-37a44000d755"
      },
      "outputs": [],
      "source": [
        "merged_df = pd.merge(mhubai,slicer_merged_df, left_on='labelID', right_on='labelID')\n",
        "merged_df = merged_df.drop('Structure', axis=1)\n",
        "merged_df['SegmentAlgorithmName']='TotalSegmentator v1.5.5'\n",
        "merged_df=merged_df.sort_values('labelID')\n",
        "merged_df"
      ]
    },
    {
      "cell_type": "code",
      "execution_count": null,
      "metadata": {
        "colab": {
          "base_uri": "https://localhost:8080/"
        },
        "id": "M2p22YGp0Bfh",
        "outputId": "a7249d84-b09b-4117-d47e-0a423d646d6a"
      },
      "outputs": [],
      "source": [
        "# merged_df_json = json.loads(merged_df.to_json(orient='records'))\n",
        "\n",
        "# for segment in merged_df_json:\n",
        "#     segment['SegmentedPropertyCategoryCodeSequence'] = {\n",
        "#         'CodingSchemeDesignator': segment.pop('SegmentedPropertyCategoryCodeSequence.CodingSchemeDesignator'),\n",
        "#         'CodeValue': segment.pop('SegmentedPropertyCategoryCodeSequence.CodeValue'),\n",
        "#         'CodeMeaning': segment.pop('SegmentedPropertyCategoryCodeSequence.CodeMeaning')\n",
        "#     }\n",
        "#     segment['SegmentedPropertyTypeCodeSequence'] = {\n",
        "#         'CodingSchemeDesignator': segment.pop('SegmentedPropertyTypeCodeSequence.CodingSchemeDesignator'),\n",
        "#         'CodeValue': segment.pop('SegmentedPropertyTypeCodeSequence.CodeValue'),\n",
        "#         'CodeMeaning': segment.pop('SegmentedPropertyTypeCodeSequence.CodeMeaning')\n",
        "#     }\n",
        "#     segment['SegmentedPropertyTypeModifierCodeSequence'] = {\n",
        "#         'CodingSchemeDesignator': segment.pop('SegmentedPropertyTypeModifierCodeSequence.CodingSchemeDesignator'),\n",
        "#         'CodeValue': segment.pop('SegmentedPropertyTypeModifierCodeSequence.CodeValue'),\n",
        "#         'CodeMeaning': segment.pop('SegmentedPropertyTypeModifierCodeSequence.CodeMeaning')\n",
        "#     }\n",
        "\n",
        "merged_df_json = json.loads(merged_df.to_json(orient='records'))\n",
        "\n",
        "for segment in merged_df_json:\n",
        "    segment['SegmentedPropertyCategoryCodeSequence'] = {\n",
        "        'CodingSchemeDesignator': segment.pop('SegmentedPropertyCategoryCodeSequence.CodingSchemeDesignator'),\n",
        "        'CodeValue': segment.pop('SegmentedPropertyCategoryCodeSequence.CodeValue'),\n",
        "        'CodeMeaning': segment.pop('SegmentedPropertyCategoryCodeSequence.CodeMeaning')\n",
        "    }\n",
        "    segment['SegmentedPropertyTypeCodeSequence'] = {\n",
        "        'CodingSchemeDesignator': segment.pop('SegmentedPropertyTypeCodeSequence.CodingSchemeDesignator'),\n",
        "        'CodeValue': segment.pop('SegmentedPropertyTypeCodeSequence.CodeValue'),\n",
        "        'CodeMeaning': segment.pop('SegmentedPropertyTypeCodeSequence.CodeMeaning')\n",
        "    }\n",
        "    if ('SegmentedPropertyTypeModifierCodeSequence.CodingSchemeDesignator' in segment and\n",
        "        (segment['SegmentedPropertyTypeModifierCodeSequence.CodingSchemeDesignator'].strip() or\n",
        "         segment['SegmentedPropertyTypeModifierCodeSequence.CodeValue'].strip() or\n",
        "         segment['SegmentedPropertyTypeModifierCodeSequence.CodeMeaning'].strip())):\n",
        "        segment['SegmentedPropertyTypeModifierCodeSequence'] = {\n",
        "            'CodingSchemeDesignator': segment.pop('SegmentedPropertyTypeModifierCodeSequence.CodingSchemeDesignator'),\n",
        "            'CodeValue': segment.pop('SegmentedPropertyTypeModifierCodeSequence.CodeValue'),\n",
        "            'CodeMeaning': segment.pop('SegmentedPropertyTypeModifierCodeSequence.CodeMeaning')\n",
        "        }\n",
        "    else:\n",
        "        for key in ['SegmentedPropertyTypeModifierCodeSequence.CodingSchemeDesignator',\n",
        "                    'SegmentedPropertyTypeModifierCodeSequence.CodeValue',\n",
        "                    'SegmentedPropertyTypeModifierCodeSequence.CodeMeaning']:\n",
        "            if key in segment:\n",
        "                del segment[key]\n",
        "final_json = {\n",
        "    \"BodyPartExamined\": \"CHEST\",\n",
        "    \"ClinicalTrialCoordinatingCenterName\": \"dcmqi\",\n",
        "    \"ClinicalTrialSeriesID\": \"0\",\n",
        "    \"ClinicalTrialTimePointID\": \"1\",\n",
        "    \"ContentCreatorName\": \"IDC\",\n",
        "    \"ContentDescription\": \"Image segmentation\",\n",
        "    \"ContentLabel\": \"SEGMENTATION\",\n",
        "    \"InstanceNumber\": \"1\",\n",
        "    \"SeriesDescription\": \"TotalSegmentator Segmentation\",\n",
        "    \"SeriesNumber\": \"42\",\n",
        "    \"segmentAttributes\": [merged_df_json]\n",
        "}\n",
        "with open('dicomseg_metadata_whole_slicerAsRef.json', 'w') as file:\n",
        "    json.dump(final_json, file, indent=4)\n",
        "final_json    "
      ]
    },
    {
      "cell_type": "code",
      "execution_count": null,
      "metadata": {
        "id": "MQiMeP_o2bIn"
      },
      "outputs": [],
      "source": [
        "import yaml\n",
        "with open('dicomseg_metadata_whole_slicerAsRef.yaml', 'w') as file:\n",
        "    yaml.dump(final_json, file)\n"
      ]
    },
    {
      "cell_type": "markdown",
      "metadata": {
        "id": "D9wQMs1Y5sAA"
      },
      "source": [
        "###**Verifying Slicer Mappings against Snomed CT mappings**"
      ]
    },
    {
      "cell_type": "code",
      "execution_count": null,
      "metadata": {
        "colab": {
          "base_uri": "https://localhost:8080/",
          "height": 488
        },
        "id": "tYJzIDLhqdlR",
        "outputId": "2e42bd81-6e9f-4b2a-a8a6-21f8448ec350"
      },
      "outputs": [],
      "source": [
        "import requests\n",
        "import pandas as pd\n",
        "\n",
        "base_url = 'https://browser.ihtsdotools.org/snowstorm/snomed-ct/MAIN'\n",
        "headers = { 'User-Agent': 'Python'}\n",
        "\n",
        "# Replace this with the actual language reference set id for your desired language\n",
        "language_refset = '900000000000509007'\n",
        "\n",
        "# Replace these with the actual column names from your dataframe\n",
        "sct_codes = ['SegmentedPropertyCategoryCodeSequence.CodeValue', 'SegmentedPropertyTypeCodeSequence.CodeValue', 'SegmentedPropertyTypeModifierCodeSequence.CodeValue']\n",
        "\n",
        "for sct_code_column in sct_codes:\n",
        "    # Create new columns for preferred and acceptable terms\n",
        "    preferred_terms_column = sct_code_column + '.PreferredTerms'\n",
        "    acceptable_terms_column = sct_code_column + '.AcceptableTerms'\n",
        "    df[preferred_terms_column] = None\n",
        "    df[acceptable_terms_column] = None\n",
        "    \n",
        "    # Get unique SCT codes in column\n",
        "    unique_sct_codes = df[sct_code_column].unique()\n",
        "    \n",
        "    # Get preferred and acceptable terms for each unique SCT code\n",
        "    sct_code_terms = {}\n",
        "    for sct_code in unique_sct_codes:\n",
        "        if pd.isnull(sct_code):\n",
        "            # If SCT code is missing, set preferred and acceptable terms to empty arrays\n",
        "            sct_code_terms[sct_code] = ([], [])\n",
        "        else:\n",
        "            # Get all descriptions for the given SCT code\n",
        "            response = requests.get(f'{base_url}/descriptions?conceptId={sct_code}&limit=50', headers=headers)\n",
        "            descriptions = response.json()['items']\n",
        "            \n",
        "            # Filter descriptions by acceptability and activity\n",
        "            preferred_terms = [desc['term'] for desc in descriptions if desc['active'] and desc['acceptabilityMap'].get(language_refset) == 'PREFERRED']\n",
        "            acceptable_terms = [desc['term'] for desc in descriptions if desc['active'] and desc['acceptabilityMap'].get(language_refset) == 'ACCEPTABLE']\n",
        "            \n",
        "            # Store terms for SCT code\n",
        "            sct_code_terms[sct_code] = (preferred_terms, acceptable_terms)\n",
        "    \n",
        "    # Add arrays to dataframe\n",
        "    for index, row in df.iterrows():\n",
        "        sct_code = row[sct_code_column]\n",
        "        preferred_terms, acceptable_terms = sct_code_terms[sct_code]\n",
        "        df.at[index, preferred_terms_column] = preferred_terms\n",
        "        df.at[index, acceptable_terms_column] = acceptable_terms\n",
        "\n",
        "sct_code_column = 'SegmentedPropertyTypeModifierCodeSequence.CodeValue'\n",
        "preferred_terms_column = sct_code_column + '.PreferredTerms'\n",
        "acceptable_terms_column = sct_code_column + '.AcceptableTerms'\n",
        "\n",
        "# Remove or replace unexpected values in the preferred terms column\n",
        "for index, row in df.iterrows():\n",
        "    sct_code = row[sct_code_column]\n",
        "    if sct_code == '':\n",
        "        # If SCT code is an empty string, set preferred and acceptable terms to empty arrays\n",
        "        df.at[index, preferred_terms_column] = []\n",
        "        df.at[index, acceptable_terms_column] = []\n",
        "\n",
        "column_order = ['Structure',\n",
        "                'SegmentedPropertyCategoryCodeSequence.CodingSchemeDesignator',\n",
        "                'SegmentedPropertyCategoryCodeSequence.CodeValue',\n",
        "                'SegmentedPropertyCategoryCodeSequence.CodeMeaning',\n",
        "                'SegmentedPropertyCategoryCodeSequence.CodeValue.PreferredTerms',\n",
        "                'SegmentedPropertyCategoryCodeSequence.CodeValue.AcceptableTerms',\n",
        "                'SegmentedPropertyTypeCodeSequence.CodingSchemeDesignator',\n",
        "                'SegmentedPropertyTypeCodeSequence.CodeValue',\n",
        "                'SegmentedPropertyTypeCodeSequence.CodeMeaning',\n",
        "                'SegmentedPropertyTypeCodeSequence.CodeValue.PreferredTerms',\n",
        "                'SegmentedPropertyTypeCodeSequence.CodeValue.AcceptableTerms',\n",
        "                'SegmentedPropertyTypeModifierCodeSequence.CodingSchemeDesignator',\n",
        "                'SegmentedPropertyTypeModifierCodeSequence.CodeValue',\n",
        "                'SegmentedPropertyTypeModifierCodeSequence.CodeMeaning',\n",
        "                'SegmentedPropertyTypeModifierCodeSequence.CodeValue.PreferredTerms',\n",
        "                'SegmentedPropertyTypeModifierCodeSequence.CodeValue.AcceptableTerms']\n",
        "\n",
        "new_column_names = {'SegmentedPropertyCategoryCodeSequence.CodeValue.PreferredTerms': 'SegmentedPropertyCategoryCodeSequence.CodeValue.SNOMEDCTPreferredTerms',\n",
        "                    'SegmentedPropertyCategoryCodeSequence.CodeValue.AcceptableTerms': 'SegmentedPropertyCategoryCodeSequence.CodeValue.SNOMEDCTAcceptableTerms',\n",
        "                    'SegmentedPropertyTypeCodeSequence.CodeValue.PreferredTerms': 'SegmentedPropertyTypeCodeSequence.CodeValue.SNOMEDCTPreferredTerms',\n",
        "                    'SegmentedPropertyTypeCodeSequence.CodeValue.AcceptableTerms': 'SegmentedPropertyTypeCodeSequence.CodeValue.SNOMEDCTAcceptableTerms',\n",
        "                    'SegmentedPropertyTypeModifierCodeSequence.CodeValue.PreferredTerms': 'SegmentedPropertyTypeModifierCodeSequence.CodeValue.SNOMEDCTPreferredTerms',\n",
        "                    'SegmentedPropertyTypeModifierCodeSequence.CodeValue.AcceptableTerms': 'SegmentedPropertyTypeModifierCodeSequence.CodeValue.SNOMEDCTAcceptableTerms'}\n",
        "\n",
        "# Rename the columns of the DataFrame\n",
        "df = df.rename(columns=new_column_names)\n",
        "df"
      ]
    },
    {
      "cell_type": "code",
      "execution_count": null,
      "metadata": {
        "id": "TQxFZ7egJYJy"
      },
      "outputs": [],
      "source": [
        "df.to_csv('slicerMappingsToSnomedMappings.csv')"
      ]
    },
    {
      "cell_type": "code",
      "execution_count": null,
      "metadata": {
        "colab": {
          "base_uri": "https://localhost:8080/",
          "height": 488
        },
        "id": "-9DYHig_h2uo",
        "outputId": "3f3bd18d-dc56-4cd6-b920-ecb9df2f3e1e"
      },
      "outputs": [],
      "source": [
        "df=df[['Structure',\n",
        "       'SegmentedPropertyCategoryCodeSequence.CodingSchemeDesignator',\n",
        "       'SegmentedPropertyCategoryCodeSequence.CodeValue',\n",
        "       'SegmentedPropertyCategoryCodeSequence.CodeMeaning',\n",
        "       'SegmentedPropertyTypeCodeSequence.CodingSchemeDesignator',\n",
        "       'SegmentedPropertyTypeCodeSequence.CodeValue',\n",
        "       'SegmentedPropertyTypeCodeSequence.CodeMeaning',\n",
        "       'SegmentedPropertyTypeModifierCodeSequence.CodingSchemeDesignator',\n",
        "       'SegmentedPropertyTypeModifierCodeSequence.CodeValue',\n",
        "       'SegmentedPropertyTypeModifierCodeSequence.CodeMeaning']]\n",
        "df      "
      ]
    },
    {
      "cell_type": "code",
      "execution_count": null,
      "metadata": {
        "id": "zt1KWulTiG91"
      },
      "outputs": [],
      "source": [
        "df.to_csv('TotalSegmentator v1 SCT mapping - total.csv')"
      ]
    },
    {
      "cell_type": "markdown",
      "metadata": {
        "id": "MIkvX5pB2jyZ"
      },
      "source": [
        "###**Trying to use Slicer's json config (only has 87 parts)**"
      ]
    },
    {
      "cell_type": "code",
      "execution_count": null,
      "metadata": {
        "colab": {
          "base_uri": "https://localhost:8080/"
        },
        "id": "Z3KdCrFffUWj",
        "outputId": "ec31a494-cb82-4c3f-b332-6f882ebf3034"
      },
      "outputs": [],
      "source": [
        "try:\n",
        "  os.remove(f'{curr_dir}/SegmentationCategoryTypeModifier-TotalSegmentator.term.json')\n",
        "except OSError:\n",
        "  pass\n",
        "!wget https://raw.githubusercontent.com/lassoan/SlicerTotalSegmentator/main/TotalSegmentator/Resources/SegmentationCategoryTypeModifier-TotalSegmentator.term.json\n",
        "\n",
        "\n"
      ]
    },
    {
      "cell_type": "code",
      "execution_count": null,
      "metadata": {
        "colab": {
          "base_uri": "https://localhost:8080/",
          "height": 1000
        },
        "id": "TPuhfw_GhDYe",
        "outputId": "b6f930a6-7e61-4b05-db43-9f4a1a9b6034"
      },
      "outputs": [],
      "source": [
        "import json\n",
        "import pandas as pd\n",
        "\n",
        "with open('SegmentationCategoryTypeModifier-TotalSegmentator.term.json', 'r') as file:\n",
        "    json_data = json.load(file)\n",
        "\n",
        "rows = []\n",
        "for category in json_data['SegmentationCodes']['Category']:\n",
        "    for item in category['Type']:\n",
        "        row = {}\n",
        "        row['CodeValue'] = item['CodeValue']\n",
        "        row['CodeMeaning'] = item['CodeMeaning']\n",
        "        row['CodingSchemeDesignator'] = item['CodingSchemeDesignator']\n",
        "        if 'Modifier' in item:\n",
        "            for modifier in item['Modifier']:\n",
        "                new_row = row.copy()\n",
        "                new_row['ModifierCodeValue'] = modifier['CodeValue']\n",
        "                new_row['ModifierCodeMeaning'] = modifier['CodeMeaning']\n",
        "                new_row['ModifierCodingSchemeDesignator'] = modifier['CodingSchemeDesignator']\n",
        "                if '3dSlicerLabel' in modifier:\n",
        "                    new_row['3dSlicerLabel'] = modifier['3dSlicerLabel']\n",
        "                if 'recommendedDisplayRGBValue' in modifier:\n",
        "                    new_row['recommendedDisplayRGBValue'] = modifier['recommendedDisplayRGBValue']\n",
        "                rows.append(new_row)\n",
        "        else:\n",
        "            rows.append(row)\n",
        "\n",
        "df = pd.DataFrame(rows)\n",
        "\n",
        "# Rename the columns to match the desired column names\n",
        "df = df.rename(columns={\n",
        "    'CodingSchemeDesignator': 'SegmentedPropertyTypeCodeSequence.CodingSchemeDesignator',\n",
        "    'CodeValue': 'SegmentedPropertyTypeCodeSequence.CodeValue',\n",
        "    'CodeMeaning': 'SegmentedPropertyTypeCodeSequence.CodeMeaning',\n",
        "    'ModifierCodingSchemeDesignator': 'SegmentedPropertyTypeModifierCodeSequence.CodingSchemeDesignator',\n",
        "    'ModifierCodeValue': 'SegmentedPropertyTypeModifierCodeSequence.CodeValue',\n",
        "    'ModifierCodeMeaning': 'SegmentedPropertyTypeModifierCodeSequence.CodeMeaning'\n",
        "})\n",
        "filtered_df = df[pd.notna(df['3dSlicerLabel'])]\n",
        "filtered_df"
      ]
    }
  ],
  "metadata": {
    "colab": {
      "include_colab_link": true,
      "provenance": []
    },
    "kernelspec": {
      "display_name": "Python 3",
      "name": "python3"
    },
    "language_info": {
      "name": "python"
    }
  },
  "nbformat": 4,
  "nbformat_minor": 0
}
