{
  "cells": [
    {
      "cell_type": "markdown",
      "metadata": {
        "colab_type": "text",
        "id": "view-in-github"
      },
      "source": [
        "<a href=\"https://colab.research.google.com/github/ImagingDataCommons/Cloud-Resources-Workflows/blob/main/Notebooks/Totalsegmentator/dicomSEGMaps/slicerMappingsTotalSegmentator.ipynb\" target=\"_parent\"><img src=\"https://colab.research.google.com/assets/colab-badge.svg\" alt=\"Open In Colab\"/></a>"
      ]
    },
    {
      "cell_type": "markdown",
      "metadata": {
        "id": "QOFIdBeo0oHP"
      },
      "source": [
        "This notebook generates the config map used for creating DICOM SEG files for segmentations created by TotalSegmentator\n",
        "- The snomed codes for label and label maps are downloaded from official TotalSegmentator repo\n",
        "- Colors are then chosen from MhubAI\n",
        "- Lastly some colors are replaced by the ones chosen by Deepa"
      ]
    },
    {
      "cell_type": "markdown",
      "metadata": {
        "id": "ubqTDx3-3I0x"
      },
      "source": [
        "###**Importing Packages**"
      ]
    },
    {
      "cell_type": "code",
      "execution_count": null,
      "metadata": {
        "id": "pQejBQ04RsAs"
      },
      "outputs": [],
      "source": [
        "import pandas as pd\n",
        "import json\n",
        "import yaml\n",
        "import os\n",
        "import sys\n",
        "from pathlib import Path\n",
        "import time\n",
        "import numpy as np\n",
        "import ast\n",
        "from natsort import natsorted"
      ]
    },
    {
      "cell_type": "markdown",
      "metadata": {
        "id": "jJ3mWjCy3Qkq"
      },
      "source": [
        "###**Runtime Environment**"
      ]
    },
    {
      "cell_type": "code",
      "execution_count": null,
      "metadata": {
        "id": "Y_A5p88zR3WV"
      },
      "outputs": [],
      "source": [
        "curr_dir   = Path().absolute()\n",
        "os.environ['TZ'] = 'US/Eastern'\n",
        "time.tzset()\n",
        "current_time = time.strftime('%a %b %d %H:%M:%S %Y', time.localtime())\n",
        "print(current_time)\n",
        "print(\"\\nCurrent directory :{}\".format( curr_dir))\n",
        "print(\"Python version    :\", sys.version.split('\\n')[0])"
      ]
    },
    {
      "cell_type": "markdown",
      "metadata": {
        "id": "9csIzy2W4psO"
      },
      "source": [
        "**map_to_binary.py contains the mapping of labels and body parts and totalsegmentator_snomed_mapping.csv contains the body part to snomed codes.\n",
        "Parsing only total_v1 label map as we have colors only for the v1**"
      ]
    },
    {
      "cell_type": "code",
      "execution_count": null,
      "metadata": {
        "id": "9JQ3k9K05jm-"
      },
      "outputs": [],
      "source": [
        "try:\n",
        "  os.remove(f'{curr_dir}/map_to_binary.py')\n",
        "except OSError:\n",
        "  pass\n",
        "!wget -q  https://raw.githubusercontent.com/wasserth/TotalSegmentator/v2.0.5/totalsegmentator/map_to_binary.py\n",
        "!wget -q  https://raw.githubusercontent.com/wasserth/TotalSegmentator/1691bb8cd27a9ab78c2da3acef4dddf677c7dd24/resources/totalsegmentator_snomed_mapping.csv\n",
        "import map_to_binary"
      ]
    },
    {
      "cell_type": "code",
      "execution_count": null,
      "metadata": {
        "id": "er1ul4-Ldh1B"
      },
      "outputs": [],
      "source": [
        "label_id_body_part_data = map_to_binary.class_map['total_v1']\n",
        "label_id_body_part_data_df = pd.DataFrame(list(label_id_body_part_data.items()), columns=['labelID', 'Structure'])\n",
        "#label_id_body_part_data_df= label_id_body_part_data_df.astype(str)\n",
        "label_id_body_part_data_df"
      ]
    },
    {
      "cell_type": "code",
      "execution_count": null,
      "metadata": {
        "id": "z7JS5cqb97LH"
      },
      "outputs": [],
      "source": [
        "totalsegmentator_snomed_mapping_df=pd.read_csv('totalsegmentator_snomed_mapping.csv', encoding='utf-8',dtype='str')\n",
        "totalsegmentator_snomed_mapping_df"
      ]
    },
    {
      "cell_type": "markdown",
      "metadata": {
        "id": "I7_60-sw_E5Q"
      },
      "source": [
        "###Merge label map df and codes df using Structure name as key"
      ]
    },
    {
      "cell_type": "code",
      "execution_count": null,
      "metadata": {
        "id": "jP16wtjj_UOF"
      },
      "outputs": [],
      "source": [
        "totalseg_snomed_mapping_with_labels_df=pd.merge(totalsegmentator_snomed_mapping_df,label_id_body_part_data_df, how='left', left_on='Structure', right_on='Structure' )\n",
        "totalseg_snomed_mapping_with_labels_df"
      ]
    },
    {
      "cell_type": "markdown",
      "metadata": {
        "id": "tpfV0-cU4_29"
      },
      "source": [
        "These colors were originally chosen from mhubai' repo. However they labeled all parts as '1' so we can't use them directly\n",
        "\n",
        "`https://raw.githubusercontent.com/vkt1414/models/main/models/totalsegmentator/config/dicomseg_metadata_whole.json`\n",
        "\n",
        "Instead, we will use\n",
        "`https://raw.githubusercontent.com/ImagingDataCommons/Cloud-Resources-Workflows/main/configs/TotalSegmentator/dicomseg_metadata_whole_slicerAsRef.json`\n",
        "\n"
      ]
    },
    {
      "cell_type": "code",
      "execution_count": null,
      "metadata": {
        "id": "HMvbErEXAqvd"
      },
      "outputs": [],
      "source": [
        "!wget -q https://raw.githubusercontent.com/ImagingDataCommons/Cloud-Resources-Workflows/main/configs/TotalSegmentator/dicomseg_metadata_whole_slicerAsRef.json"
      ]
    },
    {
      "cell_type": "code",
      "execution_count": null,
      "metadata": {
        "id": "PTvVHXObwg0o"
      },
      "outputs": [],
      "source": [
        "with open('dicomseg_metadata_whole_slicerAsRef.json', 'r') as file:\n",
        "    json_data = json.load(file)\n",
        "\n",
        "# Initialize an empty list to store each DataFrame\n",
        "data_frames = []\n",
        "\n",
        "# Loop through each item in 'segmentAttributes'\n",
        "for item in json_data['segmentAttributes']:\n",
        "    # Normalize the item and append the DataFrame to the list\n",
        "    item_data = pd.json_normalize(item).reset_index(drop=True)\n",
        "    data_frames.append(item_data)\n",
        "\n",
        "# Concatenate all DataFrames in the list\n",
        "mhubai_colors = pd.concat(data_frames, ignore_index=True)\n",
        "\n",
        "mhubai_colors=mhubai_colors[['labelID', 'recommendedDisplayRGBValue']]\n",
        "#mhubai_colors=mhubai_colors.astype(str)\n",
        "mhubai_colors"
      ]
    },
    {
      "cell_type": "markdown",
      "metadata": {
        "id": "_35Rue7uBQ5Y"
      },
      "source": [
        "###Colors chosen by Deepa, for differentiating vertebrae and a few other body parts"
      ]
    },
    {
      "cell_type": "code",
      "execution_count": null,
      "metadata": {
        "id": "gSh7x2o3BQkQ"
      },
      "outputs": [],
      "source": [
        "!wget -q https://raw.githubusercontent.com/ImagingDataCommons/Cloud-Resources-Workflows/main/configs/TotalSegmentator/distinct_vertebrae_ribs_rgb_colors_TotalSegmentator.csv"
      ]
    },
    {
      "cell_type": "code",
      "execution_count": null,
      "metadata": {
        "id": "SzyrQ4GNEfEz"
      },
      "outputs": [],
      "source": [
        "distinct_vertebrae_ribs_colors=pd.read_csv('distinct_vertebrae_ribs_rgb_colors_TotalSegmentator.csv')\n",
        "distinct_vertebrae_ribs_colors"
      ]
    },
    {
      "cell_type": "code",
      "execution_count": null,
      "metadata": {
        "id": "bipOGm5djTyR"
      },
      "outputs": [],
      "source": [
        "distinct_vertebrae_ribs_colors.dtypes"
      ]
    },
    {
      "cell_type": "code",
      "execution_count": null,
      "metadata": {
        "id": "aBC1tEybE2WI"
      },
      "outputs": [],
      "source": [
        "distinct_vertebrae_ribs_colors_with_labels=pd.merge(distinct_vertebrae_ribs_colors,totalseg_snomed_mapping_with_labels_df,how='left',left_on='totalseg_labelname', right_on='Structure')\n",
        "distinct_vertebrae_ribs_colors_with_labels=distinct_vertebrae_ribs_colors_with_labels[['labelID','recommendedDisplayRGBValue']]\n",
        "#distinct_vertebrae_ribs_colors_with_labels=distinct_vertebrae_ribs_colors_with_labels.astype(str)\n",
        "distinct_vertebrae_ribs_colors_with_labels"
      ]
    },
    {
      "cell_type": "markdown",
      "metadata": {
        "id": "mKR2YCILQeBn"
      },
      "source": [
        "##Replace mhubai colors with Deepa's colors whereever possible"
      ]
    },
    {
      "cell_type": "code",
      "execution_count": null,
      "metadata": {
        "id": "onpYI1XmQdnP"
      },
      "outputs": [],
      "source": [
        "# Specify suffixes\n",
        "mhubai_colors_with_distinct_colors = pd.merge(mhubai_colors, distinct_vertebrae_ribs_colors_with_labels, how='left', left_on='labelID', right_on='labelID', suffixes=('_mhub', '_distinct'))\n",
        "\n",
        "# Fill NaN values in the 'distinct' column with 'mhub' values\n",
        "mhubai_colors_with_distinct_colors['recommendedDisplayRGBValue_distinct'].fillna(mhubai_colors_with_distinct_colors['recommendedDisplayRGBValue_mhub'], inplace=True)\n",
        "\n",
        "mhubai_colors_with_distinct_colors.drop(columns=['recommendedDisplayRGBValue_mhub'], inplace=True)\n",
        "\n",
        "face_rgb_value = [255, 182, 193]\n",
        "\n",
        "# Create a mask for the rows where labelID is 93\n",
        "mask = mhubai_colors_with_distinct_colors['labelID'] == 93\n",
        "\n",
        "# Create an iterable with the same length as the number of rows you're updating\n",
        "face_rgb_value_iterable = pd.Series([face_rgb_value] * sum(mask))\n",
        "\n",
        "# Set the RGB value for labelID 93\n",
        "mhubai_colors_with_distinct_colors.loc[mask, 'recommendedDisplayRGBValue_distinct'] = face_rgb_value_iterable.values\n",
        "mhubai_colors_with_distinct_colors"
      ]
    },
    {
      "cell_type": "code",
      "execution_count": null,
      "metadata": {
        "id": "VJMU8wAoj4zl"
      },
      "outputs": [],
      "source": [
        "# Function to convert string to list\n",
        "def convert_str_to_list(s):\n",
        "    if isinstance(s, list):\n",
        "        # If s is already a list, return it as it is\n",
        "        return s\n",
        "    try:\n",
        "        # Try to convert string representation of list to actual list\n",
        "        return ast.literal_eval(s)\n",
        "    except ValueError:\n",
        "        # If ValueError occurs, split the string on ',' and convert each item to int\n",
        "        return [int(i) for i in s.split(',')]\n",
        "\n",
        "# Apply the function to the 'recommendedDisplayRGBValue_distinct' column\n",
        "mhubai_colors_with_distinct_colors['recommendedDisplayRGBValue_distinct'] = mhubai_colors_with_distinct_colors['recommendedDisplayRGBValue_distinct'].apply(convert_str_to_list)\n",
        "mhubai_colors_with_distinct_colors"
      ]
    },
    {
      "cell_type": "code",
      "execution_count": null,
      "metadata": {
        "id": "5DgCtQ3kSJ_5"
      },
      "outputs": [],
      "source": [
        "final_df=pd.merge(totalseg_snomed_mapping_with_labels_df,mhubai_colors_with_distinct_colors,how='left',on='labelID')\n",
        "final_df=final_df.rename(columns={'recommendedDisplayRGBValue_distinct':'recommendedDisplayRGBValue'})\n",
        "final_df_without_labelid=final_df.drop(columns=[\"labelID\"])\n",
        "\n",
        "final_df"
      ]
    },
    {
      "cell_type": "code",
      "execution_count": null,
      "metadata": {
        "id": "Y5JqYc_gUweD"
      },
      "outputs": [],
      "source": [
        "final_df_without_labelid.to_csv('totalsegmentator_snomed_mapping_with_partial_colors.csv')"
      ]
    },
    {
      "cell_type": "code",
      "execution_count": null,
      "metadata": {
        "id": "cbnmlTadESqK"
      },
      "outputs": [],
      "source": [
        "dcmqi_df=final_df[final_df['recommendedDisplayRGBValue'].notnull()]\n",
        "dcmqi_df = dcmqi_df[dcmqi_df.columns.drop(list(dcmqi_df.filter(regex='Anatomic')))]\n",
        "dcmqi_df = dcmqi_df.drop(columns=['Structure'])\n",
        "dcmqi_df['labelID']=dcmqi_df['labelID'].astype(int)\n",
        "#dcmqi_df['recommendedDisplayRGBValue']=dcmqi_df['recommendedDisplayRGBValue'].astype(ast.literal_eval)\n",
        "dcmqi_df['SegmentDescription'] = dcmqi_df.apply(\n",
        "    lambda row: row['SegmentedPropertyTypeModifierCodeSequence.CodeMeaning'] + ' ' + row['SegmentedPropertyTypeCodeSequence.CodeMeaning']\n",
        "    if pd.notnull(row['SegmentedPropertyTypeModifierCodeSequence.CodeMeaning']) else row['SegmentedPropertyTypeCodeSequence.CodeMeaning'], axis=1)\n",
        "dcmqi_df['SegmentAlgorithmName']='TotalSegmentator v1.5.6'\n",
        "dcmqi_df['SegmentAlgorithmType']='AUTOMATIC'\n",
        "# dcmqi_df['SegmentedPropertyCategoryCodeSequence.CodeValue']=dcmqi_df['SegmentedPropertyCategoryCodeSequence.CodeValue'].astype(str)\n",
        "# dcmqi_df['SegmentedPropertyTypeModifierCodeSequence.CodeValue']=dcmqi_df['SegmentedPropertyTypeModifierCodeSequence.CodeValue'].astype(str)\n",
        "# dcmqi_df['SegmentedPropertyTypeCodeSequence.CodeValue'] = dcmqi_df['SegmentedPropertyTypeCodeSequence.CodeValue'].astype(str)\n",
        "dcmqi_df.fillna('', inplace=True)\n",
        "dcmqi_df"
      ]
    },
    {
      "cell_type": "code",
      "execution_count": null,
      "metadata": {
        "id": "DHjnOJDHC0YV"
      },
      "outputs": [],
      "source": [
        "dcmqi_df.to_csv('test.csv')"
      ]
    },
    {
      "cell_type": "code",
      "execution_count": null,
      "metadata": {
        "id": "M2p22YGp0Bfh"
      },
      "outputs": [],
      "source": [
        "merged_df_json = json.loads(dcmqi_df.to_json(orient='records'))\n",
        "\n",
        "for segment in merged_df_json:\n",
        "    segment['SegmentedPropertyCategoryCodeSequence'] = {\n",
        "        'CodingSchemeDesignator': segment.pop('SegmentedPropertyCategoryCodeSequence.CodingSchemeDesignator'),\n",
        "        'CodeValue': segment.pop('SegmentedPropertyCategoryCodeSequence.CodeValue'),\n",
        "        'CodeMeaning': segment.pop('SegmentedPropertyCategoryCodeSequence.CodeMeaning')\n",
        "    }\n",
        "    segment['SegmentedPropertyTypeCodeSequence'] = {\n",
        "        'CodingSchemeDesignator': segment.pop('SegmentedPropertyTypeCodeSequence.CodingSchemeDesignator'),\n",
        "        'CodeValue': segment.pop('SegmentedPropertyTypeCodeSequence.CodeValue'),\n",
        "        'CodeMeaning': segment.pop('SegmentedPropertyTypeCodeSequence.CodeMeaning')\n",
        "    }\n",
        "    if ('SegmentedPropertyTypeModifierCodeSequence.CodingSchemeDesignator' in segment and\n",
        "        (segment['SegmentedPropertyTypeModifierCodeSequence.CodingSchemeDesignator'].strip() or\n",
        "         segment['SegmentedPropertyTypeModifierCodeSequence.CodeValue'].strip() or\n",
        "         segment['SegmentedPropertyTypeModifierCodeSequence.CodeMeaning'].strip())):\n",
        "        segment['SegmentedPropertyTypeModifierCodeSequence'] = {\n",
        "            'CodingSchemeDesignator': segment.pop('SegmentedPropertyTypeModifierCodeSequence.CodingSchemeDesignator'),\n",
        "            'CodeValue': segment.pop('SegmentedPropertyTypeModifierCodeSequence.CodeValue'),\n",
        "            'CodeMeaning': segment.pop('SegmentedPropertyTypeModifierCodeSequence.CodeMeaning')\n",
        "        }\n",
        "    else:\n",
        "        for key in ['SegmentedPropertyTypeModifierCodeSequence.CodingSchemeDesignator',\n",
        "                    'SegmentedPropertyTypeModifierCodeSequence.CodeValue',\n",
        "                    'SegmentedPropertyTypeModifierCodeSequence.CodeMeaning']:\n",
        "            if key in segment:\n",
        "                del segment[key]\n",
        "final_json = {\n",
        "    \"BodyPartExamined\": \"CHEST\",\n",
        "    \"ClinicalTrialCoordinatingCenterName\": \"dcmqi\",\n",
        "    \"ClinicalTrialSeriesID\": \"0\",\n",
        "    \"ClinicalTrialTimePointID\": \"1\",\n",
        "    \"ContentCreatorName\": \"IDC\",\n",
        "    \"ContentDescription\": \"Image segmentation\",\n",
        "    \"ContentLabel\": \"SEGMENTATION\",\n",
        "    \"InstanceNumber\": \"1\",\n",
        "    \"SeriesDescription\": \"TotalSegmentator Segmentation\",\n",
        "    \"SeriesNumber\": \"42\",\n",
        "    \"segmentAttributes\": [merged_df_json]\n",
        "}\n",
        "with open('dicomseg_metadata_totalseg_v1.json', 'w') as file:\n",
        "    json.dump(final_json, file, indent=4)"
      ]
    },
    {
      "cell_type": "code",
      "execution_count": null,
      "metadata": {
        "id": "MQiMeP_o2bIn"
      },
      "outputs": [],
      "source": [
        "import yaml\n",
        "with open('dicomseg_metadata_totalseg_v1.yaml', 'w') as file:\n",
        "    yaml.dump(final_json, file)\n"
      ]
    }
  ],
  "metadata": {
    "colab": {
      "include_colab_link": true,
      "provenance": []
    },
    "kernelspec": {
      "display_name": "Python 3",
      "name": "python3"
    },
    "language_info": {
      "name": "python"
    }
  },
  "nbformat": 4,
  "nbformat_minor": 0
}
