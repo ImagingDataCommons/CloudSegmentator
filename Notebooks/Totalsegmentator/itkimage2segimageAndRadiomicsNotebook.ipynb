{
  "cells": [
    {
      "cell_type": "markdown",
      "metadata": {
        "id": "view-in-github",
        "colab_type": "text"
      },
      "source": [
        "<a href=\"https://colab.research.google.com/github/vkt1414/Cloud-Resources-Workflows/blob/main/Notebooks/Totalsegmentator/itkimage2segimageAndRadiomicsNotebook.ipynb\" target=\"_parent\"><img src=\"https://colab.research.google.com/assets/colab-badge.svg\" alt=\"Open In Colab\"/></a>"
      ]
    },
    {
      "cell_type": "markdown",
      "metadata": {
        "id": "EHS1DmzV54av"
      },
      "source": [
        "#**This Notebook does the last step in the split workflow on Terra**"
      ]
    },
    {
      "cell_type": "markdown",
      "metadata": {
        "id": "JBuvJLVl6C4g"
      },
      "source": [
        "The NIFTI files generated from Totalsegmentator are provided as input and the DICOM files are downloaded again to generate DICOM SEG Objects\n",
        "\n",
        "Please cite:\n",
        "Herz C, Fillion-Robin JC, Onken M, Riesmeier J, Lasso A, Pinter C, Fichtinger G, Pieper S, Clunie D, Kikinis R, Fedorov A. dcmqi: An Open Source Library for Standardized Communication of Quantitative Image Analysis Results Using DICOM. Cancer Res. 2017 Nov 1;77(21):e87-e90. doi: 10.1158/0008-5472.CAN-17-0336. PMID: 29092948; PMCID: PMC5675033."
      ]
    },
    {
      "cell_type": "markdown",
      "metadata": {
        "id": "zfrNp2OmC942"
      },
      "source": [
        "###**Installing Packages**"
      ]
    },
    {
      "cell_type": "code",
      "execution_count": 1,
      "metadata": {
        "id": "aOhW6CUz1qIm"
      },
      "outputs": [],
      "source": [
        "# %%capture\n",
        "# #Installing lz4 for compression/decompression\n",
        "# #xvfb required for previewing Totalsegmentator png images\n",
        "# !apt-get install lz4 dcm2niix wget pigz"
      ]
    },
    {
      "cell_type": "code",
      "source": [
        "# %%capture\n",
        "# !pip install pyradiomics nibabel p_tqdm tqdm"
      ],
      "metadata": {
        "id": "MrdPt-v_mr9U"
      },
      "execution_count": 2,
      "outputs": []
    },
    {
      "cell_type": "code",
      "execution_count": 3,
      "metadata": {
        "id": "YxH7dpgiDsUN"
      },
      "outputs": [],
      "source": [
        "# %%capture\n",
        "# dcmqi_release_url = \"https://github.com/QIICR/dcmqi/releases/download/v1.2.5/dcmqi-1.2.5-linux.tar.gz\"\n",
        "# dcmqi_download_path = f\"dcmqi-1.2.5-linux.tar.gz\"\n",
        "# dcmqi_path = f\"dcmqi-1.2.5-linux\"\n",
        "\n",
        "# !wget -O $dcmqi_download_path $dcmqi_release_url\n",
        "\n",
        "# !tar -xvf $dcmqi_download_path \n",
        "\n",
        "# !mv $dcmqi_path/bin/* /bin\n",
        "# !rm -r $dcmqi_download_path $dcmqi_path"
      ]
    },
    {
      "cell_type": "code",
      "execution_count": 4,
      "metadata": {
        "id": "PRDMnjsF5_JS"
      },
      "outputs": [],
      "source": [
        "# %%capture\n",
        "# #install s5cmd\n",
        "# !wget \"https://github.com/peak/s5cmd/releases/download/v2.0.0/s5cmd_2.0.0_Linux-64bit.tar.gz\"\n",
        "# !tar -xvzf \"s5cmd_2.0.0_Linux-64bit.tar.gz\"\n",
        "# !rm \"s5cmd_2.0.0_Linux-64bit.tar.gz\"\n",
        "# !mv s5cmd /usr/local/bin/s5cmd\n",
        "# !rm CHANGELOG.md LICENSE README.md"
      ]
    },
    {
      "cell_type": "markdown",
      "source": [
        "###**Importing Packages**"
      ],
      "metadata": {
        "id": "s8OTxhaXmODa"
      }
    },
    {
      "cell_type": "code",
      "execution_count": 349,
      "metadata": {
        "colab": {
          "base_uri": "https://localhost:8080/"
        },
        "id": "qoKIOAToFu2p",
        "outputId": "12f0c1cb-022e-4b62-b429-88fe7aa301dd"
      },
      "outputs": [
        {
          "output_type": "stream",
          "name": "stdout",
          "text": [
            "Thu May  4 20:14:02 2023\n",
            "\n",
            "Current directory :/content\n",
            "Python version    : 3.10.11 (main, Apr  5 2023, 14:15:10) [GCC 9.4.0]\n"
          ]
        }
      ],
      "source": [
        "from concurrent.futures import ThreadPoolExecutor\n",
        "from datetime import datetime\n",
        "from functools import partial\n",
        "import glob\n",
        "import json\n",
        "import logging\n",
        "import matplotlib.pyplot as plt\n",
        "import nibabel as nib\n",
        "import numpy as np\n",
        "from pathlib import Path\n",
        "import pandas as pd\n",
        "import psutil\n",
        "import radiomics\n",
        "from radiomics import featureextractor\n",
        "import shutil\n",
        "import SimpleITK as sitk\n",
        "from time import sleep\n",
        "import time\n",
        "import tqdm\n",
        "from tqdm.contrib.concurrent import process_map\n",
        "\n",
        "\n",
        "logging.getLogger('pyradiomics').setLevel(logging.CRITICAL)\n",
        "\n",
        "curr_dir   = Path().absolute()\n",
        "\n",
        "print(time.asctime(time.localtime()))\n",
        "print(\"\\nCurrent directory :{}\".format( curr_dir))\n",
        "print(\"Python version    :\", sys.version.split('\\n')[0])"
      ]
    },
    {
      "cell_type": "markdown",
      "metadata": {
        "id": "masmaHkeC1Al"
      },
      "source": [
        "###**Parameters for Papermill**"
      ]
    },
    {
      "cell_type": "code",
      "execution_count": 6,
      "metadata": {
        "id": "3RFWd8GDC4g9",
        "tags": [
          "parameters"
        ]
      },
      "outputs": [],
      "source": [
        "csvFilePath=''\n",
        "inferenceNiftiFilePath=''\n",
        "converterType='dcm2niix'"
      ]
    },
    {
      "cell_type": "markdown",
      "source": [
        "###**For local testing**"
      ],
      "metadata": {
        "id": "hLs3PeApaMQv"
      }
    },
    {
      "cell_type": "code",
      "source": [
        "# try:\n",
        "#   os.remove(f'{curr_dir}/batch_1.csv')\n",
        "#   os.remove(f'{curr_dir}/inferenceNiftiFiles.tar.lz4')\n",
        "# except OSError:\n",
        "#   pass\n",
        "\n",
        "# !wget https://raw.githubusercontent.com/vkt1414/Cloud-Resources-Workflows/main/sampleManifests/batch_1.csv\n",
        "# csvFilePath = glob.glob('*.csv')[0]\n",
        "\n",
        "# !wget https://github.com/vkt1414/Cloud-Resources-Workflows/raw/main/sampleManifests/inferenceNiftiFiles.tar.lz4\n",
        "# #Get the file path of the inferenceNiftiFiles\n",
        "# inferenceNiftiFilePath=glob.glob('*.lz4')[0]"
      ],
      "metadata": {
        "id": "smIAQvIiaPTO",
        "outputId": "1db6e911-55e9-4145-b7c1-e161aaa7ec50",
        "colab": {
          "base_uri": "https://localhost:8080/"
        }
      },
      "execution_count": 326,
      "outputs": [
        {
          "output_type": "stream",
          "name": "stdout",
          "text": [
            "--2023-05-04 19:20:59--  https://raw.githubusercontent.com/vkt1414/Cloud-Resources-Workflows/main/sampleManifests/batch_1.csv\n",
            "Resolving raw.githubusercontent.com (raw.githubusercontent.com)... 185.199.110.133, 185.199.111.133, 185.199.108.133, ...\n",
            "Connecting to raw.githubusercontent.com (raw.githubusercontent.com)|185.199.110.133|:443... connected.\n",
            "HTTP request sent, awaiting response... 200 OK\n",
            "Length: 139861 (137K) [text/plain]\n",
            "Saving to: ‘batch_1.csv’\n",
            "\n",
            "\rbatch_1.csv           0%[                    ]       0  --.-KB/s               \rbatch_1.csv         100%[===================>] 136.58K  --.-KB/s    in 0.01s   \n",
            "\n",
            "2023-05-04 19:20:59 (10.4 MB/s) - ‘batch_1.csv’ saved [139861/139861]\n",
            "\n",
            "--2023-05-04 19:20:59--  https://github.com/vkt1414/Cloud-Resources-Workflows/raw/main/sampleManifests/inferenceNiftiFiles.tar.lz4\n",
            "Resolving github.com (github.com)... 140.82.114.3\n",
            "Connecting to github.com (github.com)|140.82.114.3|:443... connected.\n",
            "HTTP request sent, awaiting response... 302 Found\n",
            "Location: https://raw.githubusercontent.com/vkt1414/Cloud-Resources-Workflows/main/sampleManifests/inferenceNiftiFiles.tar.lz4 [following]\n",
            "--2023-05-04 19:21:00--  https://raw.githubusercontent.com/vkt1414/Cloud-Resources-Workflows/main/sampleManifests/inferenceNiftiFiles.tar.lz4\n",
            "Resolving raw.githubusercontent.com (raw.githubusercontent.com)... 185.199.108.133, 185.199.109.133, 185.199.110.133, ...\n",
            "Connecting to raw.githubusercontent.com (raw.githubusercontent.com)|185.199.108.133|:443... connected.\n",
            "HTTP request sent, awaiting response... 200 OK\n",
            "Length: 4234084 (4.0M) [application/octet-stream]\n",
            "Saving to: ‘inferenceNiftiFiles.tar.lz4’\n",
            "\n",
            "inferenceNiftiFiles 100%[===================>]   4.04M  --.-KB/s    in 0.05s   \n",
            "\n",
            "2023-05-04 19:21:00 (74.9 MB/s) - ‘inferenceNiftiFiles.tar.lz4’ saved [4234084/4234084]\n",
            "\n"
          ]
        }
      ]
    },
    {
      "cell_type": "markdown",
      "metadata": {
        "id": "ogCLtxgeE5MF"
      },
      "source": [
        "###Extracting Inference NIFTI files"
      ]
    },
    {
      "cell_type": "code",
      "execution_count": 327,
      "metadata": {
        "colab": {
          "base_uri": "https://localhost:8080/"
        },
        "id": "1n_xTJNaD-cE",
        "outputId": "584e8ed2-6b7b-4564-8f68-c6c61785945a"
      },
      "outputs": [
        {
          "output_type": "stream",
          "name": "stdout",
          "text": [
            "Inference/1.2.840.113654.2.55.22770087029972268579113866309746562015/\n",
            "Inference/1.2.840.113654.2.55.22770087029972268579113866309746562015/1.2.840.113654.2.55.22770087029972268579113866309746562015.nii.lz4\n"
          ]
        }
      ],
      "source": [
        "try:\n",
        "  shutil.rmtree(f'Inference')\n",
        "except OSError:\n",
        "  pass\n",
        "#!lz4 -d --rm {inferenceNiftiFilePath} -c | tar --strip-components=0 -xvf -\n",
        "\n",
        "!lz4 -d --rm {inferenceNiftiFilePath} -c | tar --strip-components=0 -xvf - \n",
        "#!rm -r Inference/1.2.840.113654.2.55.243990451406006403331425809632881193215/ "
      ]
    },
    {
      "cell_type": "markdown",
      "metadata": {
        "id": "B5CYmAquMmY2"
      },
      "source": [
        "###Reading CSV File containing s5cmd Urls"
      ]
    },
    {
      "cell_type": "code",
      "execution_count": 328,
      "metadata": {
        "colab": {
          "base_uri": "https://localhost:8080/"
        },
        "id": "9BCGMHYhMruy",
        "outputId": "16fc4d39-4ae4-4b46-e540-8674482dd009"
      },
      "outputs": [
        {
          "output_type": "stream",
          "name": "stdout",
          "text": [
            "read in 0.008823633193969727  seconds\n"
          ]
        }
      ],
      "source": [
        "start_time = time.time()\n",
        "cohort_df=pd.read_csv(csvFilePath, delimiter=',', encoding='utf-8')\n",
        "read_time=time.time() -start_time\n",
        "print('read in '+str(read_time)+ '  seconds')  "
      ]
    },
    {
      "cell_type": "markdown",
      "source": [
        "###**Downloading Config for DICOM_SEG conversion and Label maps from TotalSegmentator** "
      ],
      "metadata": {
        "id": "B2J92QT-uGYc"
      }
    },
    {
      "cell_type": "code",
      "execution_count": 329,
      "metadata": {
        "colab": {
          "base_uri": "https://localhost:8080/"
        },
        "id": "zM6p-iVxUjIY",
        "outputId": "6170e3f2-4ec8-44e2-f407-593cb9583574"
      },
      "outputs": [
        {
          "output_type": "stream",
          "name": "stdout",
          "text": [
            "--2023-05-04 19:21:00--  https://raw.githubusercontent.com/vkt1414/Cloud-Resources-Workflows/main/configs/TotalSegmentator/dicomseg_metadata_whole_slicerAsRef.json\n",
            "Resolving raw.githubusercontent.com (raw.githubusercontent.com)... 185.199.108.133, 185.199.109.133, 185.199.110.133, ...\n",
            "Connecting to raw.githubusercontent.com (raw.githubusercontent.com)|185.199.108.133|:443... connected.\n",
            "HTTP request sent, awaiting response... 200 OK\n",
            "Length: 76948 (75K) [text/plain]\n",
            "Saving to: ‘dicomseg_metadata_whole_slicerAsRef.json’\n",
            "\n",
            "\r          dicomseg_   0%[                    ]       0  --.-KB/s               \rdicomseg_metadata_w 100%[===================>]  75.14K  --.-KB/s    in 0.009s  \n",
            "\n",
            "2023-05-04 19:21:00 (8.36 MB/s) - ‘dicomseg_metadata_whole_slicerAsRef.json’ saved [76948/76948]\n",
            "\n",
            "--2023-05-04 19:21:00--  https://raw.githubusercontent.com/wasserth/TotalSegmentator/master/totalsegmentator/map_to_binary.py\n",
            "Resolving raw.githubusercontent.com (raw.githubusercontent.com)... 185.199.110.133, 185.199.111.133, 185.199.108.133, ...\n",
            "Connecting to raw.githubusercontent.com (raw.githubusercontent.com)|185.199.110.133|:443... connected.\n",
            "HTTP request sent, awaiting response... 200 OK\n",
            "Length: 16041 (16K) [text/plain]\n",
            "Saving to: ‘map_to_binary.py’\n",
            "\n",
            "map_to_binary.py    100%[===================>]  15.67K  --.-KB/s    in 0s      \n",
            "\n",
            "2023-05-04 19:21:01 (33.9 MB/s) - ‘map_to_binary.py’ saved [16041/16041]\n",
            "\n"
          ]
        }
      ],
      "source": [
        "try:\n",
        "  os.remove(f'{curr_dir}/dicomseg_metadata_whole_slicerAsRef.json')\n",
        "  os.remove(f'{curr_dir}/map_to_binary.py')\n",
        "except OSError:\n",
        "  pass\n",
        "!wget https://raw.githubusercontent.com/vkt1414/Cloud-Resources-Workflows/main/configs/TotalSegmentator/dicomseg_metadata_whole_slicerAsRef.json\n",
        "!wget https://raw.githubusercontent.com/wasserth/TotalSegmentator/master/totalsegmentator/map_to_binary.py\n",
        "import map_to_binary"
      ]
    },
    {
      "cell_type": "markdown",
      "metadata": {
        "id": "TpY3JnL9N7zI"
      },
      "source": [
        "###Functions"
      ]
    },
    {
      "cell_type": "code",
      "execution_count": 330,
      "metadata": {
        "id": "ByNK-uLo5tfh"
      },
      "outputs": [],
      "source": [
        "try:\n",
        "  shutil.rmtree(f'itkimage2segimage')\n",
        "  shutil.rmtree(f'radiomics')\n",
        "  shutil.rmtree(f'{converterType}')\n",
        "except OSError:\n",
        "  pass\n",
        "os.mkdir(f'itkimage2segimage')\n",
        "os.mkdir(f'radiomics')\n",
        "os.mkdir(f'{converterType}')"
      ]
    },
    {
      "cell_type": "code",
      "execution_count": 331,
      "metadata": {
        "id": "o0ufgeVFnlCm"
      },
      "outputs": [],
      "source": [
        "def download_dicom_data(series_id):\n",
        "\n",
        "  \"\"\"\n",
        "  Download raw DICOM data into \"idc_data\" folder.\n",
        "\n",
        "  \"\"\"\n",
        "  global cohort_df\n",
        "  gs_file_path = \"s5cmd_manifest.txt\"\n",
        "  #when bigquery is used the following line could be used\n",
        "  #cohort_df = bq_client.query(selection_query).to_dataframe()\n",
        "  series_df=cohort_df[cohort_df['SeriesInstanceUID']==series_id]\n",
        "  series_df[\"s5cmdUrls\"].to_csv(gs_file_path, header = False, index = False)\n",
        "  #remove double quotes from the manifest file\n",
        "  !sed -i 's/\"//g' s5cmd_manifest.txt  \n",
        "\n",
        "  start_time = time.time()\n",
        "  print(\"Copying files from IDC buckets..\")\n",
        "\n",
        "  !s5cmd --no-sign-request --endpoint-url https://storage.googleapis.com run s5cmd_manifest.txt  >> /dev/null\n",
        "\n",
        "  elapsed = time.time() - start_time\n",
        "  print(\"Done in %g seconds.\"%elapsed)"
      ]
    },
    {
      "cell_type": "code",
      "source": [
        "def convert_dicom_to_nifti(series_id):\n",
        "  \n",
        "  if converterType.lower()=='dcm2niix':\n",
        "    try:\n",
        "      shutil.rmtree(f'dcm2niix/{series_id}')\n",
        "    except OSError:\n",
        "      pass\n",
        "    os.mkdir(f'dcm2niix/{series_id}')\n",
        "\n",
        "    !dcm2niix -z y -f %j_%p_%t_%s -b n -m y -o  /{curr_dir}/dcm2niix/{series_id}  /{curr_dir}/idc_data/\n",
        "  else:\n",
        "    try:\n",
        "      shutil.rmtree(f'plastimatch/{series_id}')\n",
        "    except OSError:\n",
        "      pass\n",
        "    os.mkdir(f'plastimatch/{series_id}')\n",
        "    \"\"\"\n",
        "    Make sure to check the s5cmd urls for the destination directory and \n",
        "    plastimatch input directory must be changed accordingly\n",
        "    dcm2niix, however, checks upto depth 5 to find DICOM files\n",
        "\n",
        "    \"\"\"\n",
        "    !plastimatch convert --input /{curr_dir}/idc_data/{series_id} --output-img /{curr_dir}/plastimatch/{series_id}/{series_id}.nii.gz\n"
      ],
      "metadata": {
        "id": "cmvzX809tGxM"
      },
      "execution_count": 332,
      "outputs": []
    },
    {
      "cell_type": "code",
      "source": [
        "#set radiomics verbosity\n",
        "logger = radiomics.logger\n",
        "logger.setLevel(logging.WARNING) "
      ],
      "metadata": {
        "id": "DaY8pJm7UXMm"
      },
      "execution_count": 333,
      "outputs": []
    },
    {
      "cell_type": "code",
      "source": [
        "def get_radiomics_features(seg_file, img_file, label=None):\n",
        "    try:\n",
        "      standard_features = ['shape_Elongation', 'shape_Flatness', 'shape_LeastAxisLength', 'shape_MajorAxisLength', 'shape_Maximum2DDiameterColumn', 'shape_Maximum2DDiameterRow', 'shape_Maximum2DDiameterSlice', 'shape_Maximum3DDiameter', 'shape_MeshVolume', 'shape_MinorAxisLength', 'shape_Sphericity', 'shape_SurfaceArea', 'shape_SurfaceVolumeRatio', 'shape_VoxelVolume', 'firstorder_10Percentile', 'firstorder_90Percentile', 'firstorder_Energy', 'firstorder_Entropy', 'firstorder_InterquartileRange', 'firstorder_Kurtosis', 'firstorder_Maximum', 'firstorder_MeanAbsoluteDeviation', 'firstorder_Mean', 'firstorder_Median', 'firstorder_Minimum', 'firstorder_Range', 'firstorder_RobustMeanAbsoluteDeviation', 'firstorder_RootMeanSquared', 'firstorder_Skewness', 'firstorder_TotalEnergy', 'firstorder_Uniformity', 'firstorder_Variance', 'glcm_Autocorrelation', 'glcm_ClusterProminence', 'glcm_ClusterShade', 'glcm_ClusterTendency', 'glcm_Contrast', 'glcm_Correlation', 'glcm_DifferenceAverage', 'glcm_DifferenceEntropy', 'glcm_DifferenceVariance', 'glcm_Id', 'glcm_Idm', 'glcm_Idmn', 'glcm_Idn', 'glcm_Imc1', 'glcm_Imc2', 'glcm_InverseVariance', 'glcm_JointAverage', 'glcm_JointEnergy', 'glcm_JointEntropy', 'glcm_MCC', 'glcm_MaximumProbability', 'glcm_SumAverage', 'glcm_SumEntropy', 'glcm_SumSquares', 'gldm_DependenceEntropy', 'gldm_DependenceNonUniformity', 'gldm_DependenceNonUniformityNormalized', 'gldm_DependenceVariance', 'gldm_GrayLevelNonUniformity', 'gldm_GrayLevelVariance', 'gldm_HighGrayLevelEmphasis', 'gldm_LargeDependenceEmphasis', 'gldm_LargeDependenceHighGrayLevelEmphasis', 'gldm_LargeDependenceLowGrayLevelEmphasis', 'gldm_LowGrayLevelEmphasis', 'gldm_SmallDependenceEmphasis', 'gldm_SmallDependenceHighGrayLevelEmphasis', 'gldm_SmallDependenceLowGrayLevelEmphasis', 'glrlm_GrayLevelNonUniformity', 'glrlm_GrayLevelNonUniformityNormalized', 'glrlm_GrayLevelVariance', 'glrlm_HighGrayLevelRunEmphasis', 'glrlm_LongRunEmphasis', 'glrlm_LongRunHighGrayLevelEmphasis', 'glrlm_LongRunLowGrayLevelEmphasis', 'glrlm_LowGrayLevelRunEmphasis', 'glrlm_RunEntropy', 'glrlm_RunLengthNonUniformity', 'glrlm_RunLengthNonUniformityNormalized', 'glrlm_RunPercentage', 'glrlm_RunVariance', 'glrlm_ShortRunEmphasis', 'glrlm_ShortRunHighGrayLevelEmphasis', 'glrlm_ShortRunLowGrayLevelEmphasis', 'glszm_GrayLevelNonUniformity', 'glszm_GrayLevelNonUniformityNormalized', 'glszm_GrayLevelVariance', 'glszm_HighGrayLevelZoneEmphasis', 'glszm_LargeAreaEmphasis', 'glszm_LargeAreaHighGrayLevelEmphasis', 'glszm_LargeAreaLowGrayLevelEmphasis', 'glszm_LowGrayLevelZoneEmphasis', 'glszm_SizeZoneNonUniformity', 'glszm_SizeZoneNonUniformityNormalized', 'glszm_SmallAreaEmphasis', 'glszm_SmallAreaHighGrayLevelEmphasis', 'glszm_SmallAreaLowGrayLevelEmphasis', 'glszm_ZoneEntropy', 'glszm_ZonePercentage', 'glszm_ZoneVariance', 'ngtdm_Busyness', 'ngtdm_Coarseness', 'ngtdm_Complexity', 'ngtdm_Contrast', 'ngtdm_Strength']\n",
        "      settings = {}\n",
        "      settings[\"resampledPixelSpacing\"] = [3,3,3]\n",
        "      settings[\"geometryTolerance\"] = 1e-3\n",
        "      settings[\"featureClass\"] = [\"shape\"]\n",
        "      radiomics.setVerbosity(logging.CRITICAL)\n",
        "      extractor = featureextractor.RadiomicsFeatureExtractor(**settings)\n",
        "      extractor.disableAllFeatures()\n",
        "      extractor.enableFeatureClassByName(\"shape\")\n",
        "      extractor.enableFeatureClassByName(\"firstorder\")\n",
        "      features = extractor.execute(str(img_file), str(seg_file), label=label)\n",
        "      features = {k.replace(\"original_\", \"\"): v for k, v in features.items() if k.startswith(\"original_\")}\n",
        "      features = {k: round(float(v), 4) for k, v in features.items()}\n",
        "    except Exception as e:\n",
        "      print(f\"WARNING: radiomics raised an exception (settings all features to 0): {e}\")\n",
        "      features = {feat: 0 for feat in standard_features}\n",
        "\n",
        "    return label, features"
      ],
      "metadata": {
        "id": "aiDObu4bwmXl"
      },
      "execution_count": 334,
      "outputs": []
    },
    {
      "cell_type": "code",
      "source": [
        "# from tqdm import tqdm\n",
        "# import multiprocessing\n",
        "# from functools import partial\n",
        "\n",
        "# def process_mask(seg_file, ct_file, label_id_body_part_df, label):\n",
        "#     mask_name, mask_stats = get_radiomics_features(seg_file, ct_file, label=label)\n",
        "#     mask_stats = {k: v.tolist() if isinstance(v, np.ndarray) else v for k, v in mask_stats.items()}\n",
        "#     body_part = label_id_body_part_df.loc[label_id_body_part_df['label_id'] == label]['body_part'].values[0]\n",
        "#     return (body_part, mask_stats)\n",
        "\n",
        "# def get_radiomics_features_for_all_labels(ct_file: Path, seg_file: Path, file_out: Path):\n",
        "#     label_id_body_part_data = map_to_binary.class_map['total'].items()\n",
        "#     # create a DataFrame from the extracted data\n",
        "#     label_id_body_part_df = pd.DataFrame(label_id_body_part_data, columns=['label_id', 'body_part'])\n",
        "#     stats = {}\n",
        "#     labels = [int(x) for x in np.unique(nib.load(seg_file).get_fdata()).tolist() if x != 0]\n",
        "#     with multiprocessing.Pool() as pool:\n",
        "#         func = partial(process_mask, seg_file, ct_file, label_id_body_part_df)\n",
        "#         results = list(tqdm(pool.imap(func, labels), total=len(labels)))\n",
        "#     for body_part, mask_stats in results:\n",
        "#         stats[body_part] = mask_stats\n",
        "#     with open(file_out, \"w\") as f:\n",
        "#         json.dump(stats, f, indent=4)"
      ],
      "metadata": {
        "id": "6LCqiBFcfZqT"
      },
      "execution_count": 335,
      "outputs": []
    },
    {
      "cell_type": "code",
      "source": [
        "from concurrent.futures import ThreadPoolExecutor\n",
        "from tqdm import tqdm\n",
        "def process_mask(seg_file, ct_file, label_id_body_part_df, label):\n",
        "    mask_name, mask_stats = get_radiomics_features(seg_file, ct_file, label=label)\n",
        "    mask_stats = {k: v.tolist() if isinstance(v, np.ndarray) else v for k, v in mask_stats.items()}\n",
        "    body_part = label_id_body_part_df.loc[label_id_body_part_df['label_id'] == label]['body_part'].values[0]\n",
        "    return (body_part, mask_stats)\n",
        "\n",
        "def get_radiomics_features_for_all_labels(ct_file: Path, seg_file: Path, file_out: Path):\n",
        "    label_id_body_part_data = map_to_binary.class_map['total'].items()\n",
        "    # create a DataFrame from the extracted data\n",
        "    label_id_body_part_df = pd.DataFrame(label_id_body_part_data, columns=['label_id', 'body_part'])\n",
        "    stats = {}\n",
        "    labels = [int(x) for x in np.unique(nib.load(seg_file).get_fdata()).tolist() if x != 0]\n",
        "    with ThreadPoolExecutor() as executor:\n",
        "        func = partial(process_mask, seg_file, ct_file, label_id_body_part_df)\n",
        "        results = list(tqdm(executor.map(func, labels), total=len(labels)))\n",
        "    for body_part, mask_stats in results:\n",
        "        stats[body_part] = mask_stats\n",
        "    with open(file_out, \"w\") as f:\n",
        "        json.dump(stats, f, indent=4)"
      ],
      "metadata": {
        "id": "3ctV2LN2h-kt"
      },
      "execution_count": 336,
      "outputs": []
    },
    {
      "cell_type": "code",
      "execution_count": 339,
      "metadata": {
        "id": "s_xmbQMgNN5H"
      },
      "outputs": [],
      "source": [
        "def remove_directories_without_nii_files(path):\n",
        "    for dirpath, dirnames, filenames in os.walk(path, topdown=False):\n",
        "        if dirpath != path and not any(filename.endswith('.nii.lz4') for filename in filenames):\n",
        "            try:\n",
        "                os.rmdir(dirpath)\n",
        "            except OSError as e:\n",
        "                print(f\"Error: Failed to remove directory {dirpath}: {e}\")"
      ]
    },
    {
      "cell_type": "code",
      "execution_count": 340,
      "metadata": {
        "id": "FTPLJHOeNN5I"
      },
      "outputs": [],
      "source": [
        "#removing empty directories\n",
        "remove_directories_without_nii_files(os.path.join(curr_dir,'Inference/'))"
      ]
    },
    {
      "cell_type": "code",
      "execution_count": 341,
      "metadata": {
        "id": "5r_ShPVDNN5I"
      },
      "outputs": [],
      "source": [
        "def check_itkimage_errors(series_id):\n",
        "    try:\n",
        "        # Check if the output file from itkimage2segimage exists\n",
        "        assert os.path.exists(f\"{curr_dir}/itkimage2segimage/{series_id}/{series_id}.dcm\")\n",
        "    except AssertionError:\n",
        "        # If the output file does not exist, log an error\n",
        "        with open('itkimage2segimage_error_file.txt', 'a') as f:\n",
        "            f.write(f\"Error: itkimage2segimage failed for series {series_id}\\n\")\n",
        "        return True\n",
        "    return False"
      ]
    },
    {
      "cell_type": "code",
      "source": [
        "def check_radiomics_errors(series_id):\n",
        "    try:\n",
        "        # Check if the output file from itkimage2segimage exists\n",
        "        assert os.path.exists(f\"{curr_dir}/radiomics/{series_id}/{series_id}_radiomics.json\")\n",
        "    except AssertionError:\n",
        "        # If the output file does not exist, log an error\n",
        "        with open('radiomics_error_file.txt', 'a') as f:\n",
        "            f.write(f\"Error: Radiomics Feature extraction failed for series {series_id}\\n\")\n",
        "        return True\n",
        "    return False"
      ],
      "metadata": {
        "id": "LuYIqIIgilyZ"
      },
      "execution_count": 342,
      "outputs": []
    },
    {
      "cell_type": "code",
      "execution_count": 337,
      "metadata": {
        "id": "xwRE4F8AmscK"
      },
      "outputs": [],
      "source": [
        "def itkimage2segimageAndRadiomics(series_id):\n",
        "      try:\n",
        "        shutil.rmtree(f'itkimage2segimage/{series_id}')\n",
        "        shutil.rmtree(f'radiomics/{series_id}')\n",
        "      except OSError:\n",
        "        pass\n",
        "        os.mkdir(f'itkimage2segimage/{series_id}')\n",
        "        os.mkdir(f'radiomics/{series_id}')\n",
        "\n",
        "      print(\"Processing series: \"+series_id)  \n",
        "\n",
        "      \"\"\"\n",
        "      Downloading DICOM files only for the Series with Totalsegmentator NIFTI files\n",
        "\n",
        "      \"\"\"\n",
        "      download_dicom_data(series_id) \n",
        "      convert_dicom_to_nifti(series_id)\n",
        "\n",
        "      #Get Inference NIFTI file path\n",
        "      inference_nifti_filename_path = os.path.join(curr_dir,'Inference', series_id, series_id+'.nii.lz4')\n",
        "      inference_nifti_filename = os.path.join(curr_dir,'Inference', series_id, series_id+'.nii')\n",
        "      \n",
        "      try:\n",
        "        os.remove(inference_nifti_filename)\n",
        "      except OSError:\n",
        "        pass\n",
        "      !lz4 -d {inference_nifti_filename_path}\n",
        "      #remove the compressed file after decompressing\n",
        "      !rm -r {inference_nifti_filename_path}\n",
        "       \n",
        "      start_time = time.time()\n",
        "      !itkimage2segimage --inputImageList {inference_nifti_filename} --inputDICOMDirectory {curr_dir}/idc_data/ --outputDICOM {curr_dir}/itkimage2segimage/{series_id}/{series_id}.dcm --inputMetadata {curr_dir}/dicomseg_metadata_whole_slicerAsRef.json --skip >> /dev/null\n",
        "      itkimage2segimage_time = time.time() - start_time\n",
        "      print(\"Done in %g seconds.\"%itkimage2segimage_time)\n",
        "      \n",
        "      check_itkimage_errors(series_id)\n",
        "\n",
        "\n",
        "      ct_series_id_folder_path= os.path.join(curr_dir, converterType, series_id)\n",
        "      # Get the list of files in series_id_path\n",
        "      ct_nifti_files = os.listdir(ct_series_id_folder_path)\n",
        "      # Get the first (and only) file in the list\n",
        "      ct_nifti_filename = ct_nifti_files[0]\n",
        "      # Get the full path of the file\n",
        "      ct_nifti_filename_path = os.path.join(ct_series_id_folder_path, ct_nifti_filename)\n",
        "      \n",
        "      radiomics_output_filename= os.path.join(curr_dir, 'radiomics', series_id, f'{series_id}_radiomics.json')\n",
        "      \n",
        "      start_time = time.time()   \n",
        "      get_radiomics_features_for_all_labels(ct_nifti_filename_path, inference_nifti_filename, radiomics_output_filename)\n",
        "      radiomics_time = time.time() - start_time\n",
        "      print(\"Radiomics Features Calculation Done in %g seconds.\"%radiomics_time)\n",
        "      \n",
        "\n",
        "      check_radiomics_errors(series_id)\n",
        "\n",
        "\n",
        "      start_time = time.time()     \n",
        "      !lz4 --rm {curr_dir}/itkimage2segimage/{series_id}/{series_id}.dcm  {curr_dir}/itkimage2segimage/{series_id}/{series_id}.dcm.lz4\n",
        "      !lz4 --rm {curr_dir}/radiomics/{series_id}/{series_id}_radiomics.json  {curr_dir}/radiomics/{series_id}/{series_id}_radiomics.json.lz4\n",
        "      archiving_time = time.time() - start_time\n",
        "      \n",
        "      log = pd.DataFrame({'SeriesInstanceUID': [series_id]}) \n",
        "      log['itkimage2segimage_time']=itkimage2segimage_time\n",
        "      log['archiving_time'] = archiving_time\n",
        "      log['radiomics_time']= radiomics_time\n",
        "\n",
        "      !rm -r {curr_dir}/Inference/{series_id}\n",
        "      !rm -r {curr_dir}/idc_data\n",
        "      !rm -r {curr_dir}/{converterType}/{series_id}\n",
        "\n",
        "      global runtime_stats\n",
        "      runtime_stats = pd.concat([runtime_stats, log], ignore_index=True, axis=0)"
      ]
    },
    {
      "cell_type": "code",
      "execution_count": 343,
      "metadata": {
        "id": "_rMtxR77N_RH"
      },
      "outputs": [],
      "source": [
        "class MemoryMonitor:\n",
        "    def __init__(self):\n",
        "        self.keep_measuring = True\n",
        "\n",
        "    def measure_usage(self):\n",
        "        cpu_usage = []\n",
        "        ram_usage_mb=[]\n",
        "        disk_usage_all=[]\n",
        "        time_stamps = []\n",
        "        start_time = time.time()\n",
        "        while self.keep_measuring:\n",
        "            cpu = psutil.cpu_percent()\n",
        "            ram = psutil.virtual_memory()\n",
        "            disk_used= psutil.disk_usage('/').used/1024/1024/1024\n",
        "            disk_total= psutil.disk_usage('/').total/1024/1024/1024\n",
        "            ram_total_mb = psutil.virtual_memory().total / 1024 / 1024\n",
        "            ram_mb = (ram.total - ram.available) / 1024 / 1024\n",
        "\n",
        "            cpu_usage.append(cpu)\n",
        "            ram_usage_mb.append(ram_mb)\n",
        "            disk_usage_all.append(disk_used)\n",
        "\n",
        "            time_stamps.append(time.time()- start_time)\n",
        "            sleep(1)\n",
        "\n",
        "        return cpu_usage, ram_usage_mb, time_stamps, ram_total_mb,  disk_usage_all, disk_total"
      ]
    },
    {
      "cell_type": "markdown",
      "metadata": {
        "id": "xqxRLpdSQAQ5"
      },
      "source": [
        "###Convert Inference NIFTI file to DICOM_SEG Object"
      ]
    },
    {
      "cell_type": "code",
      "execution_count": 344,
      "metadata": {
        "colab": {
          "base_uri": "https://localhost:8080/",
          "height": 653
        },
        "id": "w_-jEmCgKJBe",
        "outputId": "ef68c291-bfb3-4730-a1ff-761013a2c3ca"
      },
      "outputs": [
        {
          "output_type": "stream",
          "name": "stdout",
          "text": [
            "Processing series: 1.2.840.113654.2.55.22770087029972268579113866309746562015\n",
            "Copying files from IDC buckets..\n",
            "Done in 0.810765 seconds.\n",
            "Chris Rorden's dcm2niiX version v1.0.20181125  (JP2:OpenJPEG) GCC9.3.0 (64-bit Linux)\n",
            "Found 128 DICOM file(s)\n",
            "Convert 128 DICOM as //content/dcm2niix/1.2.840.113654.2.55.22770087029972268579113866309746562015/1.2.840.113654.2.55.22770087029972268579113866309746562015_1_OPA_GE_HSQX_STANDARD_380_2.5_120_56_0.1_1.5_20000102000000_2 (512x512x128x1)\n",
            "compress: \"/usr/bin/pigz\" -n -f -6 \"//content/dcm2niix/1.2.840.113654.2.55.22770087029972268579113866309746562015/1.2.840.113654.2.55.22770087029972268579113866309746562015_1_OPA_GE_HSQX_STANDARD_380_2.5_120_56_0.1_1.5_20000102000000_2.nii\"\n",
            "Conversion required 5.367813 seconds (0.430723 for core code).\n",
            "Decoding file /content/Inference/1.2.840.113654.2.55.22770087029972268579113866309746562015/1.2.840.113654.2.55.22770087029972268579113866309746562015.nii \n",
            "/content/Inference/1 : decoded 33566144 bytes \n",
            "Done in 7.93733 seconds.\n"
          ]
        },
        {
          "output_type": "stream",
          "name": "stderr",
          "text": [
            "100%|██████████| 76/76 [09:56<00:00,  7.85s/it]"
          ]
        },
        {
          "output_type": "stream",
          "name": "stdout",
          "text": [
            "Radiomics Features Calculation Done in 599.89 seconds.\n",
            "\r                                                                               \rCompressed 82700118 bytes into 702291 bytes ==> 0.85%\n"
          ]
        },
        {
          "output_type": "stream",
          "name": "stderr",
          "text": [
            "\n"
          ]
        },
        {
          "output_type": "stream",
          "name": "stdout",
          "text": [
            "\r                                                                               \rCompressed 106527 bytes into 31420 bytes ==> 29.49%\n"
          ]
        },
        {
          "output_type": "display_data",
          "data": {
            "text/plain": [
              "<Figure size 1200x400 with 3 Axes>"
            ],
            "image/png": "[encoded data removed]"
          },
          "metadata": {}
        }
      ],
      "source": [
        "\n",
        "runtime_stats = pd.DataFrame(columns=['SeriesInstanceUID','itkimage2segimage_time','radiomics_time',\n",
        "                                      'archiving_time', 'cpu_usage','ram_usage_mb', 'ram_total_mb', \n",
        "                                      'disk_usage_all', 'disk_total'\n",
        "                                      ])\n",
        "if __name__ == \"__main__\":\n",
        "    for series_id in os.listdir(f'Inference'):\n",
        "        with ThreadPoolExecutor() as executor:\n",
        "            monitor = MemoryMonitor()\n",
        "            mem_thread = executor.submit(monitor.measure_usage)\n",
        "            try:\n",
        "                proc_thread = executor.submit(itkimage2segimageAndRadiomics, series_id)\n",
        "                proc_thread.result()\n",
        "            finally:\n",
        "                monitor.keep_measuring = False\n",
        "                cpu_usage, ram_usage_mb, time_stamps, ram_total_mb, disk_usage_all, disk_total= mem_thread.result()\n",
        "                \n",
        "                cpu_idx = runtime_stats.index[runtime_stats['SeriesInstanceUID'] == series_id][0]\n",
        "                runtime_stats.iloc[cpu_idx, runtime_stats.columns.get_loc('cpu_usage')] = [[cpu_usage]]\n",
        "\n",
        "                ram_usage_mb_idx = runtime_stats.index[runtime_stats['SeriesInstanceUID'] == series_id][0]\n",
        "                runtime_stats.iloc[ram_usage_mb_idx, runtime_stats.columns.get_loc('ram_usage_mb')] = [[ram_usage_mb]]\n",
        "                \n",
        "                ram_total_mb_idx = runtime_stats.index[runtime_stats['SeriesInstanceUID'] == series_id][0]\n",
        "                runtime_stats.iloc[ram_total_mb_idx, runtime_stats.columns.get_loc('ram_total_mb')] = [[ram_total_mb]]\n",
        "\n",
        "                disk_usage_gb_idx = runtime_stats.index[runtime_stats['SeriesInstanceUID'] == series_id][0]\n",
        "                runtime_stats.iloc[disk_usage_gb_idx, runtime_stats.columns.get_loc('disk_usage_all')] = [[disk_usage_all]]\n",
        "\n",
        "                runtime_stats['disk_total']=disk_total    \n",
        "\n",
        "                fig, ((ax1,ax2, ax3)) = plt.subplots(1,3, figsize=(12, 4)) \n",
        "\n",
        "                ax1.plot(time_stamps, cpu_usage)\n",
        "                ax1.set_ylim(0, 100)\n",
        "                ax1.set_xlabel('Time (s)')\n",
        "                ax1.set_ylabel('CPU usage (%)')\n",
        "\n",
        "                ax2.plot(time_stamps, ram_usage_mb)\n",
        "                ax2.set_ylim(0, ram_total_mb)\n",
        "                ax2.set_xlabel('Time (s)')\n",
        "                ax2.set_ylabel('Memory usage (MB)')\n",
        "\n",
        "                ax3.plot(time_stamps, disk_usage_all)\n",
        "                ax3.set_ylim(0, disk_total)\n",
        "                ax3.set_xlabel('Time (s)')\n",
        "                ax3.set_ylabel('Disk usage (GB)')\n",
        "                plt.show()"
      ]
    },
    {
      "cell_type": "code",
      "source": [],
      "metadata": {
        "id": "U8aBQiVrQ4nq"
      },
      "execution_count": null,
      "outputs": []
    },
    {
      "cell_type": "markdown",
      "metadata": {
        "id": "GFqgbLWuQs9f"
      },
      "source": [
        "###Compressing Output Files"
      ]
    },
    {
      "cell_type": "code",
      "execution_count": 345,
      "metadata": {
        "colab": {
          "base_uri": "https://localhost:8080/"
        },
        "id": "S4xcpEa8pzZH",
        "outputId": "87eafd5e-ef49-4689-f8e2-872e1b41dd37"
      },
      "outputs": [
        {
          "output_type": "stream",
          "name": "stdout",
          "text": [
            "tar: Removing leading `/' from member names\n",
            "/content/itkimage2segimage/\n",
            "/content/itkimage2segimage/1.2.840.113654.2.55.22770087029972268579113866309746562015/\n",
            "/content/itkimage2segimage/1.2.840.113654.2.55.22770087029972268579113866309746562015/1.2.840.113654.2.55.22770087029972268579113866309746562015.dcm.lz4\n",
            "tar: Removing leading `/' from member names\n",
            "/content/radiomics/\n",
            "/content/radiomics/1.2.840.113654.2.55.22770087029972268579113866309746562015/\n",
            "/content/radiomics/1.2.840.113654.2.55.22770087029972268579113866309746562015/1.2.840.113654.2.55.22770087029972268579113866309746562015_radiomics.json.lz4\n"
          ]
        }
      ],
      "source": [
        "start_time = time.time()\n",
        "try:\n",
        "  os.remove(f'{curr_dir}/itkimage2segimageDICOMsegFiles.tar.lz4')\n",
        "  os.remove(f'{curr_dir}/pyradiomicsRadiomicsFeatures.tar.lz4')\n",
        "except OSError:\n",
        "  pass\n",
        "!tar cvf - {curr_dir}/itkimage2segimage | lz4 > {curr_dir}/itkimage2segimageDICOMsegFiles.tar.lz4\n",
        "!tar cvf - {curr_dir}/radiomics | lz4 > {curr_dir}/pyradiomicsRadiomicsFeatures.tar.lz4\n",
        "\n",
        "output_archiving_time = time.time() - start_time"
      ]
    },
    {
      "cell_type": "markdown",
      "metadata": {
        "id": "oYXE4SlxQxXy"
      },
      "source": [
        "###Utilization Metrics"
      ]
    },
    {
      "cell_type": "code",
      "execution_count": 346,
      "metadata": {
        "colab": {
          "base_uri": "https://localhost:8080/",
          "height": 159
        },
        "id": "3sSM4RRfpxeC",
        "outputId": "c9f72932-14d9-41f1-e62f-54571a712276"
      },
      "outputs": [
        {
          "output_type": "stream",
          "name": "stdout",
          "text": [
            "\r                                                                               \rCompressed 25242 bytes into 4944 bytes ==> 19.59%\n"
          ]
        },
        {
          "output_type": "execute_result",
          "data": {
            "text/plain": [
              "                                   SeriesInstanceUID  itkimage2segimage_time  \\\n",
              "0  1.2.840.113654.2.55.22770087029972268579113866...                7.937327   \n",
              "\n",
              "   radiomics_time  archiving_time  \\\n",
              "0      599.889821        0.212241   \n",
              "\n",
              "                                           cpu_usage  \\\n",
              "0  [[[14.7, 68.9, 88.6, 100.0, 100.0, 100.0, 100....   \n",
              "\n",
              "                                        ram_usage_mb     ram_total_mb  \\\n",
              "0  [[[2261.70703125, 2269.09375, 2335.87109375, 2...  [12985.5390625]   \n",
              "\n",
              "                                      disk_usage_all  disk_total  \\\n",
              "0  [[[23.837726593017578, 23.900737762451172, 23....  107.715084   \n",
              "\n",
              "   output_archiving_time  \n",
              "0               0.216546  "
            ],
            "text/html": [
              "\n",
              "  <div id=\"df-05dce52b-f815-4d43-b23f-792348cea804\">\n",
              "    <div class=\"colab-df-container\">\n",
              "      <div>\n",
              "<style scoped>\n",
              "    .dataframe tbody tr th:only-of-type {\n",
              "        vertical-align: middle;\n",
              "    }\n",
              "\n",
              "    .dataframe tbody tr th {\n",
              "        vertical-align: top;\n",
              "    }\n",
              "\n",
              "    .dataframe thead th {\n",
              "        text-align: right;\n",
              "    }\n",
              "</style>\n",
              "<table border=\"1\" class=\"dataframe\">\n",
              "  <thead>\n",
              "    <tr style=\"text-align: right;\">\n",
              "      <th></th>\n",
              "      <th>SeriesInstanceUID</th>\n",
              "      <th>itkimage2segimage_time</th>\n",
              "      <th>radiomics_time</th>\n",
              "      <th>archiving_time</th>\n",
              "      <th>cpu_usage</th>\n",
              "      <th>ram_usage_mb</th>\n",
              "      <th>ram_total_mb</th>\n",
              "      <th>disk_usage_all</th>\n",
              "      <th>disk_total</th>\n",
              "      <th>output_archiving_time</th>\n",
              "    </tr>\n",
              "  </thead>\n",
              "  <tbody>\n",
              "    <tr>\n",
              "      <th>0</th>\n",
              "      <td>1.2.840.113654.2.55.22770087029972268579113866...</td>\n",
              "      <td>7.937327</td>\n",
              "      <td>599.889821</td>\n",
              "      <td>0.212241</td>\n",
              "      <td>[[[14.7, 68.9, 88.6, 100.0, 100.0, 100.0, 100....</td>\n",
              "      <td>[[[2261.70703125, 2269.09375, 2335.87109375, 2...</td>\n",
              "      <td>[12985.5390625]</td>\n",
              "      <td>[[[23.837726593017578, 23.900737762451172, 23....</td>\n",
              "      <td>107.715084</td>\n",
              "      <td>0.216546</td>\n",
              "    </tr>\n",
              "  </tbody>\n",
              "</table>\n",
              "</div>\n",
              "      <button class=\"colab-df-convert\" onclick=\"convertToInteractive('df-05dce52b-f815-4d43-b23f-792348cea804')\"\n",
              "              title=\"Convert this dataframe to an interactive table.\"\n",
              "              style=\"display:none;\">\n",
              "        \n",
              "  <svg xmlns=\"http://www.w3.org/2000/svg\" height=\"24px\"viewBox=\"0 0 24 24\"\n",
              "       width=\"24px\">\n",
              "    <path d=\"M0 0h24v24H0V0z\" fill=\"none\"/>\n",
              "    <path d=\"M18.56 5.44l.94 2.06.94-2.06 2.06-.94-2.06-.94-.94-2.06-.94 2.06-2.06.94zm-11 1L8.5 8.5l.94-2.06 2.06-.94-2.06-.94L8.5 2.5l-.94 2.06-2.06.94zm10 10l.94 2.06.94-2.06 2.06-.94-2.06-.94-.94-2.06-.94 2.06-2.06.94z\"/><path d=\"M17.41 7.96l-1.37-1.37c-.4-.4-.92-.59-1.43-.59-.52 0-1.04.2-1.43.59L10.3 9.45l-7.72 7.72c-.78.78-.78 2.05 0 2.83L4 21.41c.39.39.9.59 1.41.59.51 0 1.02-.2 1.41-.59l7.78-7.78 2.81-2.81c.8-.78.8-2.07 0-2.86zM5.41 20L4 18.59l7.72-7.72 1.47 1.35L5.41 20z\"/>\n",
              "  </svg>\n",
              "      </button>\n",
              "      \n",
              "  <style>\n",
              "    .colab-df-container {\n",
              "      display:flex;\n",
              "      flex-wrap:wrap;\n",
              "      gap: 12px;\n",
              "    }\n",
              "\n",
              "    .colab-df-convert {\n",
              "      background-color: #E8F0FE;\n",
              "      border: none;\n",
              "      border-radius: 50%;\n",
              "      cursor: pointer;\n",
              "      display: none;\n",
              "      fill: #1967D2;\n",
              "      height: 32px;\n",
              "      padding: 0 0 0 0;\n",
              "      width: 32px;\n",
              "    }\n",
              "\n",
              "    .colab-df-convert:hover {\n",
              "      background-color: #E2EBFA;\n",
              "      box-shadow: 0px 1px 2px rgba(60, 64, 67, 0.3), 0px 1px 3px 1px rgba(60, 64, 67, 0.15);\n",
              "      fill: #174EA6;\n",
              "    }\n",
              "\n",
              "    [theme=dark] .colab-df-convert {\n",
              "      background-color: #3B4455;\n",
              "      fill: #D2E3FC;\n",
              "    }\n",
              "\n",
              "    [theme=dark] .colab-df-convert:hover {\n",
              "      background-color: #434B5C;\n",
              "      box-shadow: 0px 1px 3px 1px rgba(0, 0, 0, 0.15);\n",
              "      filter: drop-shadow(0px 1px 2px rgba(0, 0, 0, 0.3));\n",
              "      fill: #FFFFFF;\n",
              "    }\n",
              "  </style>\n",
              "\n",
              "      <script>\n",
              "        const buttonEl =\n",
              "          document.querySelector('#df-05dce52b-f815-4d43-b23f-792348cea804 button.colab-df-convert');\n",
              "        buttonEl.style.display =\n",
              "          google.colab.kernel.accessAllowed ? 'block' : 'none';\n",
              "\n",
              "        async function convertToInteractive(key) {\n",
              "          const element = document.querySelector('#df-05dce52b-f815-4d43-b23f-792348cea804');\n",
              "          const dataTable =\n",
              "            await google.colab.kernel.invokeFunction('convertToInteractive',\n",
              "                                                     [key], {});\n",
              "          if (!dataTable) return;\n",
              "\n",
              "          const docLinkHtml = 'Like what you see? Visit the ' +\n",
              "            '<a target=\"_blank\" href=https://colab.research.google.com/notebooks/data_table.ipynb>data table notebook</a>'\n",
              "            + ' to learn more about interactive tables.';\n",
              "          element.innerHTML = '';\n",
              "          dataTable['output_type'] = 'display_data';\n",
              "          await google.colab.output.renderOutput(dataTable, element);\n",
              "          const docLink = document.createElement('div');\n",
              "          docLink.innerHTML = docLinkHtml;\n",
              "          element.appendChild(docLink);\n",
              "        }\n",
              "      </script>\n",
              "    </div>\n",
              "  </div>\n",
              "  "
            ]
          },
          "metadata": {},
          "execution_count": 346
        }
      ],
      "source": [
        "runtime_stats.to_csv('runtime.csv')\n",
        "runtime_stats['output_archiving_time']=output_archiving_time\n",
        "try:\n",
        "  os.remove('itkimage2segimageUsageMetrics.lz4')\n",
        "except OSError:\n",
        "  pass\n",
        "!lz4 {curr_dir}/runtime.csv itkimage2segimageUsageMetrics.lz4\n",
        "runtime_stats"
      ]
    }
  ],
  "metadata": {
    "celltoolbar": "Tags",
    "colab": {
      "provenance": [],
      "include_colab_link": true
    },
    "kernelspec": {
      "display_name": "Python 3 (ipykernel)",
      "language": "python",
      "name": "python3"
    },
    "language_info": {
      "codemirror_mode": {
        "name": "ipython",
        "version": 3
      },
      "file_extension": ".py",
      "mimetype": "text/x-python",
      "name": "python",
      "nbconvert_exporter": "python",
      "pygments_lexer": "ipython3",
      "version": "3.9.13"
    }
  },
  "nbformat": 4,
  "nbformat_minor": 0
}