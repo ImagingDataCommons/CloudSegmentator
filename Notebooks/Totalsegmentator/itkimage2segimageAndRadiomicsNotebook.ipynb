{
  "cells": [
    {
      "cell_type": "markdown",
      "metadata": {
        "id": "view-in-github",
        "colab_type": "text"
      },
      "source": [
        "<a href=\"https://colab.research.google.com/github/vkt1414/Cloud-Resources-Workflows/blob/main/Notebooks/Totalsegmentator/itkimage2segimageAndRadiomicsNotebook.ipynb\" target=\"_parent\"><img src=\"https://colab.research.google.com/assets/colab-badge.svg\" alt=\"Open In Colab\"/></a>"
      ]
    },
    {
      "cell_type": "markdown",
      "metadata": {
        "id": "EHS1DmzV54av"
      },
      "source": [
        "#**This Notebook does the last step in the split workflow on Terra**"
      ]
    },
    {
      "cell_type": "markdown",
      "metadata": {
        "id": "JBuvJLVl6C4g"
      },
      "source": [
        "The NIFTI files generated from Totalsegmentator are provided as input and the DICOM files are downloaded again to generate DICOM SEG Objects\n",
        "\n",
        "Please cite:\n",
        "Herz C, Fillion-Robin JC, Onken M, Riesmeier J, Lasso A, Pinter C, Fichtinger G, Pieper S, Clunie D, Kikinis R, Fedorov A. dcmqi: An Open Source Library for Standardized Communication of Quantitative Image Analysis Results Using DICOM. Cancer Res. 2017 Nov 1;77(21):e87-e90. doi: 10.1158/0008-5472.CAN-17-0336. PMID: 29092948; PMCID: PMC5675033."
      ]
    },
    {
      "cell_type": "markdown",
      "metadata": {
        "id": "zfrNp2OmC942"
      },
      "source": [
        "###**Installing Packages**"
      ]
    },
    {
      "cell_type": "code",
      "execution_count": 33,
      "metadata": {
        "id": "aOhW6CUz1qIm"
      },
      "outputs": [],
      "source": [
        "%%capture\n",
        "#Installing lz4 for compression/decompression\n",
        "#xvfb required for previewing Totalsegmentator png images\n",
        "!apt-get install lz4 dcm2niix wget pigz"
      ]
    },
    {
      "cell_type": "code",
      "source": [
        "%%capture\n",
        "!pip install pyradiomics nibabel p_tqdm tqdm pydicom"
      ],
      "metadata": {
        "id": "MrdPt-v_mr9U"
      },
      "execution_count": 34,
      "outputs": []
    },
    {
      "cell_type": "code",
      "execution_count": 35,
      "metadata": {
        "id": "YxH7dpgiDsUN"
      },
      "outputs": [],
      "source": [
        "%%capture\n",
        "dcmqi_release_url = \"https://github.com/QIICR/dcmqi/releases/download/v1.2.5/dcmqi-1.2.5-linux.tar.gz\"\n",
        "dcmqi_download_path = f\"dcmqi-1.2.5-linux.tar.gz\"\n",
        "dcmqi_path = f\"dcmqi-1.2.5-linux\"\n",
        "\n",
        "!wget -O $dcmqi_download_path $dcmqi_release_url\n",
        "\n",
        "!tar -xvf $dcmqi_download_path \n",
        "\n",
        "!mv $dcmqi_path/bin/* /bin\n",
        "!rm -r $dcmqi_download_path $dcmqi_path"
      ]
    },
    {
      "cell_type": "code",
      "execution_count": 36,
      "metadata": {
        "id": "PRDMnjsF5_JS"
      },
      "outputs": [],
      "source": [
        "%%capture\n",
        "#install s5cmd\n",
        "!wget \"https://github.com/peak/s5cmd/releases/download/v2.0.0/s5cmd_2.0.0_Linux-64bit.tar.gz\"\n",
        "!tar -xvzf \"s5cmd_2.0.0_Linux-64bit.tar.gz\"\n",
        "!rm \"s5cmd_2.0.0_Linux-64bit.tar.gz\"\n",
        "!mv s5cmd /usr/local/bin/s5cmd\n",
        "!rm CHANGELOG.md LICENSE README.md"
      ]
    },
    {
      "cell_type": "markdown",
      "source": [
        "###**Importing Packages**"
      ],
      "metadata": {
        "id": "s8OTxhaXmODa"
      }
    },
    {
      "cell_type": "code",
      "execution_count": 37,
      "metadata": {
        "colab": {
          "base_uri": "https://localhost:8080/"
        },
        "id": "qoKIOAToFu2p",
        "outputId": "c66b5fd6-c63c-4397-9b00-3b823ba0b042"
      },
      "outputs": [
        {
          "output_type": "stream",
          "name": "stdout",
          "text": [
            "Sun May 21 22:41:32 2023\n",
            "\n",
            "Current directory :/content\n",
            "Python version    : 3.10.11 (main, Apr  5 2023, 14:15:10) [GCC 9.4.0]\n"
          ]
        }
      ],
      "source": [
        "from concurrent.futures import ThreadPoolExecutor\n",
        "from datetime import datetime\n",
        "from functools import partial\n",
        "import glob\n",
        "import json\n",
        "import logging\n",
        "import matplotlib.pyplot as plt\n",
        "import nibabel as nib\n",
        "import numpy as np\n",
        "import os\n",
        "from pathlib import Path\n",
        "import pandas as pd\n",
        "import psutil\n",
        "import radiomics\n",
        "from radiomics import featureextractor\n",
        "import shutil\n",
        "import SimpleITK as sitk\n",
        "import sys\n",
        "from time import sleep\n",
        "import time\n",
        "import tqdm\n",
        "from tqdm.contrib.concurrent import process_map\n",
        "from pydicom.filereader import dcmread\n",
        "\n",
        "logging.getLogger('pyradiomics').setLevel(logging.CRITICAL)\n",
        "\n",
        "curr_dir   = Path().absolute()\n",
        "\n",
        "print(time.asctime(time.localtime()))\n",
        "print(\"\\nCurrent directory :{}\".format( curr_dir))\n",
        "print(\"Python version    :\", sys.version.split('\\n')[0])"
      ]
    },
    {
      "cell_type": "markdown",
      "metadata": {
        "id": "masmaHkeC1Al"
      },
      "source": [
        "###**Parameters for Papermill**"
      ]
    },
    {
      "cell_type": "code",
      "execution_count": 38,
      "metadata": {
        "id": "3RFWd8GDC4g9",
        "tags": [
          "parameters"
        ]
      },
      "outputs": [],
      "source": [
        "csvFilePath=''\n",
        "inferenceNiftiFilePath=''\n",
        "converterType='dcm2niix'"
      ]
    },
    {
      "cell_type": "markdown",
      "source": [
        "###**For local testing**"
      ],
      "metadata": {
        "id": "hLs3PeApaMQv"
      }
    },
    {
      "cell_type": "code",
      "source": [
        "try:\n",
        "  os.remove(f'{curr_dir}/batch_1.csv')\n",
        "  os.remove(f'{curr_dir}/inferenceNiftiFiles.tar.lz4')\n",
        "except OSError:\n",
        "  pass\n",
        "\n",
        "!wget https://raw.githubusercontent.com/vkt1414/Cloud-Resources-Workflows/main/sampleManifests/batch_1.csv\n",
        "csvFilePath = glob.glob('*.csv')[0]\n",
        "\n",
        "!wget https://github.com/vkt1414/Cloud-Resources-Workflows/raw/main/sampleManifests/inferenceNiftiFiles.tar.lz4\n",
        "#Get the file path of the inferenceNiftiFiles\n",
        "inferenceNiftiFilePath=glob.glob('*.lz4')[0]"
      ],
      "metadata": {
        "id": "smIAQvIiaPTO",
        "outputId": "4acd6312-8412-445f-b72e-3bf35dd270f0",
        "colab": {
          "base_uri": "https://localhost:8080/"
        }
      },
      "execution_count": 39,
      "outputs": [
        {
          "output_type": "stream",
          "name": "stdout",
          "text": [
            "--2023-05-21 22:41:32--  https://raw.githubusercontent.com/vkt1414/Cloud-Resources-Workflows/main/sampleManifests/batch_1.csv\n",
            "Resolving raw.githubusercontent.com (raw.githubusercontent.com)... 185.199.109.133, 185.199.111.133, 185.199.110.133, ...\n",
            "Connecting to raw.githubusercontent.com (raw.githubusercontent.com)|185.199.109.133|:443... connected.\n",
            "HTTP request sent, awaiting response... 200 OK\n",
            "Length: 139861 (137K) [text/plain]\n",
            "Saving to: ‘batch_1.csv’\n",
            "\n",
            "batch_1.csv         100%[===================>] 136.58K  --.-KB/s    in 0.02s   \n",
            "\n",
            "2023-05-21 22:41:33 (5.70 MB/s) - ‘batch_1.csv’ saved [139861/139861]\n",
            "\n",
            "--2023-05-21 22:41:33--  https://github.com/vkt1414/Cloud-Resources-Workflows/raw/main/sampleManifests/inferenceNiftiFiles.tar.lz4\n",
            "Resolving github.com (github.com)... 140.82.114.3\n",
            "Connecting to github.com (github.com)|140.82.114.3|:443... connected.\n",
            "HTTP request sent, awaiting response... 302 Found\n",
            "Location: https://raw.githubusercontent.com/vkt1414/Cloud-Resources-Workflows/main/sampleManifests/inferenceNiftiFiles.tar.lz4 [following]\n",
            "--2023-05-21 22:41:34--  https://raw.githubusercontent.com/vkt1414/Cloud-Resources-Workflows/main/sampleManifests/inferenceNiftiFiles.tar.lz4\n",
            "Resolving raw.githubusercontent.com (raw.githubusercontent.com)... 185.199.111.133, 185.199.108.133, 185.199.110.133, ...\n",
            "Connecting to raw.githubusercontent.com (raw.githubusercontent.com)|185.199.111.133|:443... connected.\n",
            "HTTP request sent, awaiting response... 200 OK\n",
            "Length: 4234084 (4.0M) [application/octet-stream]\n",
            "Saving to: ‘inferenceNiftiFiles.tar.lz4’\n",
            "\n",
            "inferenceNiftiFiles 100%[===================>]   4.04M  --.-KB/s    in 0.09s   \n",
            "\n",
            "2023-05-21 22:41:34 (47.5 MB/s) - ‘inferenceNiftiFiles.tar.lz4’ saved [4234084/4234084]\n",
            "\n"
          ]
        }
      ]
    },
    {
      "cell_type": "markdown",
      "metadata": {
        "id": "ogCLtxgeE5MF"
      },
      "source": [
        "###Extracting Inference NIFTI files"
      ]
    },
    {
      "cell_type": "code",
      "execution_count": 40,
      "metadata": {
        "colab": {
          "base_uri": "https://localhost:8080/"
        },
        "id": "1n_xTJNaD-cE",
        "outputId": "926f78a9-d520-424f-d435-6d9f3a4f0d30"
      },
      "outputs": [
        {
          "output_type": "stream",
          "name": "stdout",
          "text": [
            "Inference/\n",
            "Inference/1.3.6.1.4.1.14519.5.2.1.7009.9004.118722452529394350711166589345/\n",
            "Inference/1.2.840.113654.2.55.22770087029972268579113866309746562015/\n",
            "Inference/1.2.840.113654.2.55.22770087029972268579113866309746562015/1.2.840.113654.2.55.22770087029972268579113866309746562015.nii.lz4\n",
            "Inference/1.2.840.113654.2.55.142419057730651121165090739113900499978/\n",
            "Inference/1.2.840.113654.2.55.243990451406006403331425809632881193215/\n",
            "Inference/1.2.840.113654.2.55.243990451406006403331425809632881193215/1.2.840.113654.2.55.243990451406006403331425809632881193215.nii.lz4\n",
            "Inference/1.2.840.113654.2.55.185309182591805634517860395342326800332/\n",
            "Inference/1.2.840.113654.2.55.185309182591805634517860395342326800332/1.2.840.113654.2.55.185309182591805634517860395342326800332.nii.lz4\n",
            "Inference/1.3.6.1.4.1.14519.5.2.1.7009.9004.431377773401197924485551006033/\n",
            "Inference/1.3.6.1.4.1.14519.5.2.1.7009.9004.431377773401197924485551006033/1.3.6.1.4.1.14519.5.2.1.7009.9004.431377773401197924485551006033.nii.lz4\n",
            "Inference/1.2.840.113654.2.55.100875189782210690344207306235124901243/\n",
            "Inference/1.2.840.113654.2.55.100875189782210690344207306235124901243/1.2.840.113654.2.55.100875189782210690344207306235124901243.nii.lz4\n",
            "Inference/1.2.840.113654.2.55.146601594654322994982630019583270053397/\n",
            "Inference/1.2.840.113654.2.55.146601594654322994982630019583270053397/1.2.840.113654.2.55.146601594654322994982630019583270053397.nii.lz4\n",
            "Inference/1.2.840.113654.2.55.113040386178547843571271236478024341696/\n",
            "Inference/1.2.840.113654.2.55.113040386178547843571271236478024341696/1.2.840.113654.2.55.113040386178547843571271236478024341696.nii.lz4\n",
            "Inference/1.2.840.113654.2.55.14382674871619950799472325766084940706/\n",
            "Inference/1.2.840.113654.2.55.14382674871619950799472325766084940706/1.2.840.113654.2.55.14382674871619950799472325766084940706.nii.lz4\n",
            "Inference/1.2.840.113654.2.55.216614002338888733987350522981366678482/\n",
            "Inference/1.2.840.113654.2.55.216614002338888733987350522981366678482/1.2.840.113654.2.55.216614002338888733987350522981366678482.nii.lz4\n",
            "Inference/1.2.840.113654.2.55.154809705591242159075253605419469935510/\n",
            "Inference/1.2.840.113654.2.55.154809705591242159075253605419469935510/1.2.840.113654.2.55.154809705591242159075253605419469935510.nii.lz4\n"
          ]
        }
      ],
      "source": [
        "try:\n",
        "  shutil.rmtree(f'Inference')\n",
        "except OSError:\n",
        "  pass\n",
        "#!lz4 -d --rm {inferenceNiftiFilePath} -c | tar --strip-components=0 -xvf -\n",
        "\n",
        "!lz4 -d --rm {inferenceNiftiFilePath} -c | tar --strip-components=0 -xvf - \n",
        "#!rm -r Inference/1.2.840.113654.2.55.243990451406006403331425809632881193215/ "
      ]
    },
    {
      "cell_type": "markdown",
      "metadata": {
        "id": "B5CYmAquMmY2"
      },
      "source": [
        "###Reading CSV File containing s5cmd Urls"
      ]
    },
    {
      "cell_type": "code",
      "execution_count": 41,
      "metadata": {
        "colab": {
          "base_uri": "https://localhost:8080/"
        },
        "id": "9BCGMHYhMruy",
        "outputId": "8ba57993-ac4d-4d63-a31a-e987a37e206a"
      },
      "outputs": [
        {
          "output_type": "stream",
          "name": "stdout",
          "text": [
            "read in 0.022518157958984375  seconds\n"
          ]
        }
      ],
      "source": [
        "start_time = time.time()\n",
        "cohort_df=pd.read_csv(csvFilePath, delimiter=',', encoding='utf-8')\n",
        "read_time=time.time() -start_time\n",
        "print('read in '+str(read_time)+ '  seconds')  "
      ]
    },
    {
      "cell_type": "markdown",
      "source": [
        "###**Downloading Config for DICOM_SEG conversion and Label maps from TotalSegmentator** "
      ],
      "metadata": {
        "id": "B2J92QT-uGYc"
      }
    },
    {
      "cell_type": "code",
      "execution_count": 42,
      "metadata": {
        "colab": {
          "base_uri": "https://localhost:8080/"
        },
        "id": "zM6p-iVxUjIY",
        "outputId": "b7dfb592-e865-4f13-d338-4886a300e25c"
      },
      "outputs": [
        {
          "output_type": "stream",
          "name": "stdout",
          "text": [
            "--2023-05-21 22:41:34--  https://raw.githubusercontent.com/vkt1414/Cloud-Resources-Workflows/main/configs/TotalSegmentator/dicomseg_metadata_whole_slicerAsRef.json\n",
            "Resolving raw.githubusercontent.com (raw.githubusercontent.com)... 185.199.110.133, 185.199.108.133, 185.199.111.133, ...\n",
            "Connecting to raw.githubusercontent.com (raw.githubusercontent.com)|185.199.110.133|:443... connected.\n",
            "HTTP request sent, awaiting response... 200 OK\n",
            "Length: 76948 (75K) [text/plain]\n",
            "Saving to: ‘dicomseg_metadata_whole_slicerAsRef.json’\n",
            "\n",
            "dicomseg_metadata_w 100%[===================>]  75.14K  --.-KB/s    in 0.02s   \n",
            "\n",
            "2023-05-21 22:41:34 (4.38 MB/s) - ‘dicomseg_metadata_whole_slicerAsRef.json’ saved [76948/76948]\n",
            "\n",
            "--2023-05-21 22:41:35--  https://raw.githubusercontent.com/wasserth/TotalSegmentator/master/totalsegmentator/map_to_binary.py\n",
            "Resolving raw.githubusercontent.com (raw.githubusercontent.com)... 185.199.108.133, 185.199.109.133, 185.199.110.133, ...\n",
            "Connecting to raw.githubusercontent.com (raw.githubusercontent.com)|185.199.108.133|:443... connected.\n",
            "HTTP request sent, awaiting response... 200 OK\n",
            "Length: 16041 (16K) [text/plain]\n",
            "Saving to: ‘map_to_binary.py’\n",
            "\n",
            "map_to_binary.py    100%[===================>]  15.67K  --.-KB/s    in 0s      \n",
            "\n",
            "2023-05-21 22:41:35 (34.2 MB/s) - ‘map_to_binary.py’ saved [16041/16041]\n",
            "\n"
          ]
        }
      ],
      "source": [
        "try:\n",
        "  os.remove(f'{curr_dir}/dicomseg_metadata_whole_slicerAsRef.json')\n",
        "  os.remove(f'{curr_dir}/map_to_binary.py')\n",
        "except OSError:\n",
        "  pass\n",
        "!wget https://raw.githubusercontent.com/vkt1414/Cloud-Resources-Workflows/main/configs/TotalSegmentator/dicomseg_metadata_whole_slicerAsRef.json\n",
        "!wget https://raw.githubusercontent.com/wasserth/TotalSegmentator/master/totalsegmentator/map_to_binary.py\n",
        "import map_to_binary"
      ]
    },
    {
      "cell_type": "markdown",
      "metadata": {
        "id": "TpY3JnL9N7zI"
      },
      "source": [
        "###Functions"
      ]
    },
    {
      "cell_type": "code",
      "execution_count": 43,
      "metadata": {
        "id": "ByNK-uLo5tfh"
      },
      "outputs": [],
      "source": [
        "try:\n",
        "  shutil.rmtree(f'itkimage2segimage')\n",
        "  shutil.rmtree(f'radiomics')\n",
        "  shutil.rmtree(f'{converterType}')\n",
        "  shutil.rmtree(f'structuredReports')\n",
        "except OSError:\n",
        "  pass\n",
        "os.mkdir(f'itkimage2segimage')\n",
        "os.mkdir(f'radiomics')\n",
        "os.mkdir(f'{converterType}')\n",
        "os.mkdir(f'structuredReports')"
      ]
    },
    {
      "cell_type": "code",
      "execution_count": 44,
      "metadata": {
        "id": "o0ufgeVFnlCm"
      },
      "outputs": [],
      "source": [
        "def download_dicom_data(series_id):\n",
        "\n",
        "  \"\"\"\n",
        "  Download raw DICOM data into \"idc_data\" folder.\n",
        "\n",
        "  \"\"\"\n",
        "  global cohort_df\n",
        "  gs_file_path = \"s5cmd_manifest.txt\"\n",
        "  #when bigquery is used the following line could be used\n",
        "  #cohort_df = bq_client.query(selection_query).to_dataframe()\n",
        "  series_df=cohort_df[cohort_df['SeriesInstanceUID']==series_id]\n",
        "  series_df[\"s5cmdUrls\"].to_csv(gs_file_path, header = False, index = False)\n",
        "  #remove double quotes from the manifest file\n",
        "  !sed -i 's/\"//g' s5cmd_manifest.txt  \n",
        "\n",
        "  start_time = time.time()\n",
        "  print(\"Copying files from IDC buckets..\")\n",
        "\n",
        "  !s5cmd --no-sign-request --endpoint-url https://storage.googleapis.com run s5cmd_manifest.txt  >> /dev/null\n",
        "\n",
        "  elapsed = time.time() - start_time\n",
        "  print(\"Done in %g seconds.\"%elapsed)"
      ]
    },
    {
      "cell_type": "code",
      "source": [
        "def convert_dicom_to_nifti(series_id):\n",
        "  \n",
        "  if converterType.lower()=='dcm2niix':\n",
        "    try:\n",
        "      shutil.rmtree(f'dcm2niix/{series_id}')\n",
        "    except OSError:\n",
        "      pass\n",
        "    os.mkdir(f'dcm2niix/{series_id}')\n",
        "\n",
        "    !dcm2niix -z y -f %j_%p_%t_%s -b n -m y -o  /{curr_dir}/dcm2niix/{series_id}  /{curr_dir}/idc_data/\n",
        "  else:\n",
        "    try:\n",
        "      shutil.rmtree(f'plastimatch/{series_id}')\n",
        "    except OSError:\n",
        "      pass\n",
        "    os.mkdir(f'plastimatch/{series_id}')\n",
        "    \"\"\"\n",
        "    Make sure to check the s5cmd urls for the destination directory and \n",
        "    plastimatch input directory must be changed accordingly\n",
        "    dcm2niix, however, checks upto depth 5 to find DICOM files\n",
        "    \"\"\"\n",
        "    !plastimatch convert --input /{curr_dir}/idc_data/{series_id} --output-img /{curr_dir}/plastimatch/{series_id}/{series_id}.nii.gz"
      ],
      "metadata": {
        "id": "cmvzX809tGxM"
      },
      "execution_count": 45,
      "outputs": []
    },
    {
      "cell_type": "code",
      "source": [
        "#set radiomics verbosity\n",
        "logger = radiomics.logger\n",
        "logger.setLevel(logging.WARNING) "
      ],
      "metadata": {
        "id": "DaY8pJm7UXMm"
      },
      "execution_count": 46,
      "outputs": []
    },
    {
      "cell_type": "code",
      "source": [
        "def get_radiomics_features(seg_file, img_file, label=None):\n",
        "    try:\n",
        "      standard_features = ['shape_Elongation', 'shape_Flatness', 'shape_LeastAxisLength', 'shape_MajorAxisLength', 'shape_Maximum2DDiameterColumn', 'shape_Maximum2DDiameterRow', 'shape_Maximum2DDiameterSlice', 'shape_Maximum3DDiameter', 'shape_MeshVolume', 'shape_MinorAxisLength', 'shape_Sphericity', 'shape_SurfaceArea', 'shape_SurfaceVolumeRatio', 'shape_VoxelVolume', 'firstorder_10Percentile', 'firstorder_90Percentile', 'firstorder_Energy', 'firstorder_Entropy', 'firstorder_InterquartileRange', 'firstorder_Kurtosis', 'firstorder_Maximum', 'firstorder_MeanAbsoluteDeviation', 'firstorder_Mean', 'firstorder_Median', 'firstorder_Minimum', 'firstorder_Range', 'firstorder_RobustMeanAbsoluteDeviation', 'firstorder_RootMeanSquared', 'firstorder_Skewness', 'firstorder_TotalEnergy', 'firstorder_Uniformity', 'firstorder_Variance', 'glcm_Autocorrelation', 'glcm_ClusterProminence', 'glcm_ClusterShade', 'glcm_ClusterTendency', 'glcm_Contrast', 'glcm_Correlation', 'glcm_DifferenceAverage', 'glcm_DifferenceEntropy', 'glcm_DifferenceVariance', 'glcm_Id', 'glcm_Idm', 'glcm_Idmn', 'glcm_Idn', 'glcm_Imc1', 'glcm_Imc2', 'glcm_InverseVariance', 'glcm_JointAverage', 'glcm_JointEnergy', 'glcm_JointEntropy', 'glcm_MCC', 'glcm_MaximumProbability', 'glcm_SumAverage', 'glcm_SumEntropy', 'glcm_SumSquares', 'gldm_DependenceEntropy', 'gldm_DependenceNonUniformity', 'gldm_DependenceNonUniformityNormalized', 'gldm_DependenceVariance', 'gldm_GrayLevelNonUniformity', 'gldm_GrayLevelVariance', 'gldm_HighGrayLevelEmphasis', 'gldm_LargeDependenceEmphasis', 'gldm_LargeDependenceHighGrayLevelEmphasis', 'gldm_LargeDependenceLowGrayLevelEmphasis', 'gldm_LowGrayLevelEmphasis', 'gldm_SmallDependenceEmphasis', 'gldm_SmallDependenceHighGrayLevelEmphasis', 'gldm_SmallDependenceLowGrayLevelEmphasis', 'glrlm_GrayLevelNonUniformity', 'glrlm_GrayLevelNonUniformityNormalized', 'glrlm_GrayLevelVariance', 'glrlm_HighGrayLevelRunEmphasis', 'glrlm_LongRunEmphasis', 'glrlm_LongRunHighGrayLevelEmphasis', 'glrlm_LongRunLowGrayLevelEmphasis', 'glrlm_LowGrayLevelRunEmphasis', 'glrlm_RunEntropy', 'glrlm_RunLengthNonUniformity', 'glrlm_RunLengthNonUniformityNormalized', 'glrlm_RunPercentage', 'glrlm_RunVariance', 'glrlm_ShortRunEmphasis', 'glrlm_ShortRunHighGrayLevelEmphasis', 'glrlm_ShortRunLowGrayLevelEmphasis', 'glszm_GrayLevelNonUniformity', 'glszm_GrayLevelNonUniformityNormalized', 'glszm_GrayLevelVariance', 'glszm_HighGrayLevelZoneEmphasis', 'glszm_LargeAreaEmphasis', 'glszm_LargeAreaHighGrayLevelEmphasis', 'glszm_LargeAreaLowGrayLevelEmphasis', 'glszm_LowGrayLevelZoneEmphasis', 'glszm_SizeZoneNonUniformity', 'glszm_SizeZoneNonUniformityNormalized', 'glszm_SmallAreaEmphasis', 'glszm_SmallAreaHighGrayLevelEmphasis', 'glszm_SmallAreaLowGrayLevelEmphasis', 'glszm_ZoneEntropy', 'glszm_ZonePercentage', 'glszm_ZoneVariance', 'ngtdm_Busyness', 'ngtdm_Coarseness', 'ngtdm_Complexity', 'ngtdm_Contrast', 'ngtdm_Strength']\n",
        "      settings = {}\n",
        "      settings[\"resampledPixelSpacing\"] = [3,3,3]\n",
        "      settings[\"geometryTolerance\"] = 1e-3\n",
        "      settings[\"featureClass\"] = [\"shape\"]\n",
        "      radiomics.setVerbosity(logging.CRITICAL)\n",
        "      extractor = featureextractor.RadiomicsFeatureExtractor(**settings)\n",
        "      extractor.disableAllFeatures()\n",
        "      extractor.enableFeatureClassByName(\"shape\")\n",
        "      extractor.enableFeatureClassByName(\"firstorder\")\n",
        "      features = extractor.execute(str(img_file), str(seg_file), label=label)\n",
        "      features = {k.replace(\"original_\", \"\"): v for k, v in features.items() if k.startswith(\"original_\")}\n",
        "      features = {k: round(float(v), 4) for k, v in features.items()}\n",
        "    except Exception as e:\n",
        "      print(f\"WARNING: radiomics raised an exception (settings all features to 0): {e}\")\n",
        "      features = {feat: 0 for feat in standard_features}\n",
        "\n",
        "    return label, features"
      ],
      "metadata": {
        "id": "aiDObu4bwmXl"
      },
      "execution_count": 47,
      "outputs": []
    },
    {
      "cell_type": "code",
      "source": [
        "# from tqdm import tqdm\n",
        "# import multiprocessing\n",
        "# from functools import partial\n",
        "\n",
        "# def process_mask(seg_file, ct_file, label_id_body_part_df, label):\n",
        "#     mask_name, mask_stats = get_radiomics_features(seg_file, ct_file, label=label)\n",
        "#     mask_stats = {k: v.tolist() if isinstance(v, np.ndarray) else v for k, v in mask_stats.items()}\n",
        "#     body_part = label_id_body_part_df.loc[label_id_body_part_df['label_id'] == label]['body_part'].values[0]\n",
        "#     return (body_part, mask_stats)\n",
        "\n",
        "# def get_radiomics_features_for_all_labels(ct_file: Path, seg_file: Path, file_out: Path):\n",
        "#     label_id_body_part_data = map_to_binary.class_map['total'].items()\n",
        "#     # create a DataFrame from the extracted data\n",
        "#     label_id_body_part_df = pd.DataFrame(label_id_body_part_data, columns=['label_id', 'body_part'])\n",
        "#     stats = {}\n",
        "#     labels = [int(x) for x in np.unique(nib.load(seg_file).get_fdata()).tolist() if x != 0]\n",
        "#     with multiprocessing.Pool() as pool:\n",
        "#         func = partial(process_mask, seg_file, ct_file, label_id_body_part_df)\n",
        "#         results = list(tqdm(pool.imap(func, labels), total=len(labels)))\n",
        "#     for body_part, mask_stats in results:\n",
        "#         stats[body_part] = mask_stats\n",
        "#     with open(file_out, \"w\") as f:\n",
        "#         json.dump(stats, f, indent=4)"
      ],
      "metadata": {
        "id": "6LCqiBFcfZqT"
      },
      "execution_count": 48,
      "outputs": []
    },
    {
      "cell_type": "code",
      "source": [
        "from concurrent.futures import ThreadPoolExecutor\n",
        "from tqdm import tqdm\n",
        "def process_mask(seg_file, ct_file, label_id_body_part_df, label):\n",
        "    mask_name, mask_stats = get_radiomics_features(seg_file, ct_file, label=label)\n",
        "    mask_stats = {k: v.tolist() if isinstance(v, np.ndarray) else v for k, v in mask_stats.items()}\n",
        "    body_part = label_id_body_part_df.loc[label_id_body_part_df['label_id'] == label]['body_part'].values[0]\n",
        "    return (body_part, mask_stats)\n",
        "\n",
        "def get_radiomics_features_for_all_labels(ct_file: Path, seg_file: Path, file_out: Path):\n",
        "    label_id_body_part_data = map_to_binary.class_map['total'].items()\n",
        "    # create a DataFrame from the extracted data\n",
        "    label_id_body_part_df = pd.DataFrame(label_id_body_part_data, columns=['label_id', 'body_part'])\n",
        "    stats = {}\n",
        "    labels = [int(x) for x in np.unique(nib.load(seg_file).get_fdata()).tolist() if x != 0]\n",
        "    with ThreadPoolExecutor() as executor:\n",
        "        func = partial(process_mask, seg_file, ct_file, label_id_body_part_df)\n",
        "        results = list(tqdm(executor.map(func, labels), total=len(labels)))\n",
        "    for body_part, mask_stats in results:\n",
        "        stats[body_part] = mask_stats\n",
        "    with open(file_out, \"w\") as f:\n",
        "        json.dump(stats, f, indent=4)"
      ],
      "metadata": {
        "id": "3ctV2LN2h-kt"
      },
      "execution_count": 49,
      "outputs": []
    },
    {
      "cell_type": "code",
      "execution_count": 50,
      "metadata": {
        "id": "s_xmbQMgNN5H"
      },
      "outputs": [],
      "source": [
        "def remove_directories_without_nii_files(path):\n",
        "    for dirpath, dirnames, filenames in os.walk(path, topdown=False):\n",
        "        if dirpath != path and not any(filename.endswith('.nii.lz4') for filename in filenames):\n",
        "            try:\n",
        "                os.rmdir(dirpath)\n",
        "            except OSError as e:\n",
        "                print(f\"Error: Failed to remove directory {dirpath}: {e}\")"
      ]
    },
    {
      "cell_type": "code",
      "source": [
        "# !wget https://raw.githubusercontent.com/vkt1414/Cloud-Resources-Workflows/main/configs/TotalSegmentator/radiomicsFeaturesMaps.csv\n",
        "# !wget https://raw.githubusercontent.com/vkt1414/Cloud-Resources-Workflows/main/configs/TotalSegmentator/TotalSegmentator%20v1%20SCT%20mapping%20-%20total.csv\n",
        "import pandas as pd\n",
        "nnunet_segments_code_mapping_df=pd.read_csv('https://raw.githubusercontent.com/vkt1414/Cloud-Resources-Workflows/main/configs/TotalSegmentator/TotalSegmentator%20v1%20SCT%20mapping%20-%20total.csv')\n",
        "nnunet_shape_features_code_mapping_df=pd.read_csv('https://raw.githubusercontent.com/vkt1414/Cloud-Resources-Workflows/main/configs/TotalSegmentator/radiomicsFeaturesMaps.csv')"
      ],
      "metadata": {
        "id": "6E0y_02qWRU6"
      },
      "execution_count": 51,
      "outputs": []
    },
    {
      "cell_type": "code",
      "execution_count": 52,
      "metadata": {
        "id": "FTPLJHOeNN5I"
      },
      "outputs": [],
      "source": [
        "#removing empty directories\n",
        "remove_directories_without_nii_files(os.path.join(curr_dir,'Inference/'))"
      ]
    },
    {
      "cell_type": "code",
      "execution_count": 53,
      "metadata": {
        "id": "5r_ShPVDNN5I"
      },
      "outputs": [],
      "source": [
        "def check_itkimage_errors(series_id):\n",
        "    try:\n",
        "        # Check if the output file from itkimage2segimage exists\n",
        "        assert os.path.exists(f\"{curr_dir}/itkimage2segimage/{series_id}/{series_id}.dcm\")\n",
        "    except AssertionError:\n",
        "        # If the output file does not exist, log an error\n",
        "        with open('itkimage2segimage_error_file.txt', 'a') as f:\n",
        "            f.write(f\"Error: itkimage2segimage failed for series {series_id}\\n\")\n",
        "        return True\n",
        "    return False"
      ]
    },
    {
      "cell_type": "code",
      "source": [
        "def check_radiomics_errors(series_id):\n",
        "    try:\n",
        "        # Check if the output file from itkimage2segimage exists\n",
        "        assert os.path.exists(f\"{curr_dir}/radiomics/{series_id}/{series_id}_radiomics.json\")\n",
        "    except AssertionError:\n",
        "        # If the output file does not exist, log an error\n",
        "        with open('radiomics_error_file.txt', 'a') as f:\n",
        "            f.write(f\"Error: Radiomics Feature extraction failed for series {series_id}\\n\")\n",
        "        return True\n",
        "    return False"
      ],
      "metadata": {
        "id": "LuYIqIIgilyZ"
      },
      "execution_count": 54,
      "outputs": []
    },
    {
      "cell_type": "code",
      "source": [
        "def order_dicom_files_image_position(dcm_directory):\n",
        "  \"\"\"\n",
        "  Orders the dicom files according to image position and orientation. \n",
        "\n",
        "  Arguments:\n",
        "    dcm_directory : input directory of dcm files to put in order \n",
        "\n",
        "  Outputs:\n",
        "    files_sorted   : dcm files in sorted order \n",
        "    sop_all_sorted : the SOPInstanceUIDs in sorted order \n",
        "    pos_all_sorted : the image position in sorted order \n",
        "\n",
        "  \"\"\"\n",
        "  files = [os.path.join(dcm_directory,f) for f in os.listdir(dcm_directory)]\n",
        "\n",
        "  num_files = len(files)\n",
        "\n",
        "  pos_all = []  \n",
        "  sop_all = [] \n",
        "\n",
        "  for n in range(0,num_files):\n",
        "    # read dcm file \n",
        "    filename = files[n]\n",
        "    ds = dcmread(filename)\n",
        "\n",
        "    # get ImageOrientation (0020, 0037)\n",
        "    # ImageOrientation = ds['0x0020','0x0037'].value\n",
        "    ImageOrientation = ds.ImageOrientationPatient\n",
        "\n",
        "    # get ImagePositionPatient (0020, 0032) \n",
        "    # ImagePositionPatient = ds['0x0020','0x0032'].value\n",
        "    ImagePositionPatient = ds.ImagePositionPatient\n",
        "\n",
        "    # calculate z value\n",
        "    x_vector = ImageOrientation[0:3]\n",
        "    y_vector = ImageOrientation[3:]\n",
        "    z_vector = np.cross(x_vector,y_vector)\n",
        "\n",
        "    # multiple z_vector by ImagePositionPatient\n",
        "    pos = np.dot(z_vector,ImagePositionPatient)\n",
        "    pos_all.append(pos)\n",
        "\n",
        "    # get the SOPInstanceUID \n",
        "    # sop = ds['0x0008', '0x0018'].value\n",
        "    sop = ds.SOPInstanceUID\n",
        "    sop_all.append(sop)\n",
        "\n",
        "\n",
        "  #----- order the SOPInstanceUID/files by z value ----# \n",
        "\n",
        "  sorted_ind = np.argsort(pos_all)\n",
        "  pos_all_sorted = np.array(pos_all)[sorted_ind.astype(int)]\n",
        "  sop_all_sorted = np.array(sop_all)[sorted_ind.astype(int)]\n",
        "  files_sorted = np.array(files)[sorted_ind.astype(int)]\n",
        "\n",
        "  return files_sorted, sop_all_sorted, pos_all_sorted "
      ],
      "metadata": {
        "id": "NH_cs3nYRV5v"
      },
      "execution_count": 55,
      "outputs": []
    },
    {
      "cell_type": "code",
      "source": [
        "# def create_structured_report_metajson_for_shape_features(SeriesInstanceUID, \n",
        "#                                                          SOPInstanceUID_seg,\n",
        "#                                                          seg_file, \n",
        "#                                                          dcm_directory, \n",
        "#                                                          segments_code_mapping_df,\n",
        "#                                                          shape_features_code_mapping_df,\n",
        "#                                                          radiomics_features, \n",
        "#                                                          ):\n",
        "  \n",
        "#   \"\"\"Function that creates the metajson necessary for the creation of a\n",
        "#   structured report from a pandas dataframe of label names and features for \n",
        "#   each. \n",
        "\n",
        "#   Inputs: \n",
        "#     SeriesInstanceUID               : SeriesInstanceUID of the corresponding CT \n",
        "#                                       file \n",
        "#     SOPInstanceUID_seg              : SOPInstanceUID of the corresponding SEG file \n",
        "#     seg_file                        : filename of SEG DCM file \n",
        "#     dcm_directory                   : ct directory that will be sorted in \n",
        "#                                       terms of axial ordering according to the \n",
        "#                                       ImagePositionPatient and ImageOrientation \n",
        "#                                       fields\n",
        "#     segments_code_mapping_df        : dataframe that holds the names of the \n",
        "#                                       segments and the associated code values etc.\n",
        "#     shape_features_code_mapping_df  : dataframe that holds the names of the \n",
        "#                                       features and the associated code values etc. \n",
        "#     df_features                     : a pandas dataframe holding the segments and a \n",
        "#                                       set of 3D shape features for each \n",
        "\n",
        "#   Outputs:\n",
        "#     Returns the metajson for the structured report that will then be used by\n",
        "#     dcmqi tid1500writer to create a structured report \n",
        "#   \"\"\" \n",
        "#   # --- Get the version number for the pyradiomics package --- #\n",
        "\n",
        "#   pyradiomics_version_number = str(radiomics.__version__)\n",
        "  \n",
        "#   # --- Sort the dcm files first according to --- # \n",
        "#   # --- ImagePositionPatient and ImageOrientation --- #\n",
        "\n",
        "#   files_sorted, sop_all_sorted, pos_all_sorted = order_dicom_files_image_position(dcm_directory)\n",
        "#   files_sorted = [os.path.basename(f) for f in files_sorted]\n",
        "\n",
        "#   # --- Create the header for the json --- # \n",
        "  \n",
        "#   inputMetadata = {}\n",
        "#   inputMetadata[\"@schema\"]= \"https://raw.githubusercontent.com/qiicr/dcmqi/master/doc/schemas/sr-tid1500-schema.json#\"\n",
        "#   inputMetadata[\"SeriesDescription\"] = \"Measurements\"\n",
        "#   inputMetadata[\"SeriesNumber\"] = \"1001\"\n",
        "#   inputMetadata[\"InstanceNumber\"] = \"1\"\n",
        "\n",
        "#   inputMetadata[\"compositeContext\"] = [seg_file] # not full path\n",
        "\n",
        "#   inputMetadata[\"imageLibrary\"] = files_sorted # not full path \n",
        "#   inputMetadata[\"observerContext\"] = {\n",
        "#                       \"ObserverType\": \"DEVICE\",\n",
        "#                       \"DeviceObserverName\": \"pyradiomics\",\n",
        "#                       \"DeviceObserverModelName\": pyradiomics_version_number\n",
        "#                     }\n",
        "\n",
        "#   inputMetadata[\"VerificationFlag\"]  = \"UNVERIFIED\"\n",
        "#   inputMetadata[\"CompletionFlag\"] =  \"COMPLETE\"\n",
        "#   inputMetadata[\"activitySession\"] = \"1\"\n",
        "#   inputMetadata[\"timePoint\"] = \"1\"\n",
        "\n",
        "#   # ------------------------------------------------------------------------- # \n",
        "#   # --- Create the measurement_dict for each segment - holds all features --- # \n",
        "\n",
        "#   measurement = [] \n",
        "\n",
        "#   # --- Now create the dict for all features and all segments --- #\n",
        "\n",
        "#   # --- Loop over the number of segments --- #\n",
        "\n",
        "#   # number of rows in the df_features \n",
        "#   num_segments = radiomics_features.shape[0]\n",
        "#   print(num_segments)\n",
        "\n",
        "#   # Array of dictionaries - one dictionary for each segment \n",
        "#   measurement_across_segments_combined = [] \n",
        "\n",
        "#   for segment_id in range(0,num_segments):\n",
        "\n",
        "#     ReferencedSegment = int(radiomics_features['label_id'].values[segment_id]) # referencedsegment must be an integer according to the schema.\n",
        "#     FindingSite = radiomics_features['body_part'].values[segment_id]\n",
        "\n",
        "#     # print('segment_id: ' + str(segment_id))\n",
        "#     # print('ReferencedSegment: ' + str(ReferencedSegment))\n",
        "#     # print('FindingSite: ' + str(FindingSite))\n",
        "\n",
        "#     # --- Create the dict for the Measurements group --- # \n",
        "#     TrackingIdentifier = \"Measurements group \" + str(ReferencedSegment)\n",
        "\n",
        "#     segment_row = segments_code_mapping_df[segments_code_mapping_df[\"Structure\"] == FindingSite]\n",
        "\n",
        "\n",
        "#     # print(segment_row)\n",
        "        \n",
        "#     my_dict = {\n",
        "#       \"TrackingIdentifier\": str(TrackingIdentifier),\n",
        "#       \"ReferencedSegment\": str(ReferencedSegment),\n",
        "#       \"SourceSeriesForImageSegmentation\": str(SeriesInstanceUID),\n",
        "#       \"segmentationSOPInstanceUID\": str(SOPInstanceUID_seg),\n",
        "#       \"Finding\": {\n",
        "#         \"CodeValue\": str(segment_row[\"SegmentedPropertyCategoryCodeSequence.CodeValue\"].iloc[0]),\n",
        "#         \"CodingSchemeDesignator\": str(segment_row[\"SegmentedPropertyCategoryCodeSequence.CodingSchemeDesignator\"].iloc[0]),\n",
        "#         \"CodeMeaning\": str(segment_row[\"SegmentedPropertyCategoryCodeSequence.CodeMeaning\"].iloc[0]),\n",
        "#       }, \n",
        "#       \"FindingSite\": {\n",
        "#         \"CodeValue\": str(segment_row[\"SegmentedPropertyTypeCodeSequence.CodeValue\"].iloc[0]),\n",
        "#         \"CodingSchemeDesignator\": str(segment_row[\"SegmentedPropertyTypeCodeSequence.CodingSchemeDesignator\"].iloc[0]),\n",
        "#         \"CodeMeaning\": str(segment_row[\"SegmentedPropertyTypeCodeSequence.CodeMeaning\"].iloc[0]),\n",
        "#       },\n",
        "#       \"Laterality\": {\n",
        "#           \"CodeValue\": str(segment_row[\"SegmentedPropertyTypeModifierCodeSequence.CodeValue\"].iloc[0]),\n",
        "#           \"CodingSchemeDesignator\": str(segment_row[\"SegmentedPropertyTypeModifierCodeSequence.CodingSchemeDesignator\"].iloc[0]),\n",
        "#           \"CodeMeaning\": str(segment_row[\"SegmentedPropertyTypeModifierCodeSequence.CodeMeaning\"].iloc[0])\n",
        "#       } \n",
        "      \n",
        "#     }\n",
        "    \n",
        "#     measurement = []  \n",
        "#     # number of features - number of columns in df_features - 2 (label_name and ReferencedSegment)\n",
        "#     num_values = len(radiomics_features.columns)-2 \n",
        "\n",
        "#     #feature_list = radiomics_features.columns[2:] # remove first two \n",
        "#     feature_list = nnunet_shape_features_code_mapping_df.feature.to_list()\n",
        "\n",
        "#     # For each measurement per region segment\n",
        "#     for n in range(0,len(feature_list)): \n",
        "#       measurement_dict = {}\n",
        "#       row = radiomics_features.loc[radiomics_features['body_part'] == FindingSite]\n",
        "#       feature_row = shape_features_code_mapping_df.loc[shape_features_code_mapping_df[\"feature\"] == feature_list[n]]\n",
        "#       value = str(np.round(row[feature_list[n]].values[0],3))\n",
        "#       measurement_dict[\"value\"] = value\n",
        "#       measurement_dict[\"quantity\"] = {}\n",
        "#       measurement_dict[\"quantity\"][\"CodeValue\"] = str(feature_row[\"quantity_CodeValue\"].values[0])\n",
        "#       measurement_dict[\"quantity\"][\"CodingSchemeDesignator\"] = str(feature_row[\"quantity_CodingSchemeDesignator\"].values[0])\n",
        "#       measurement_dict[\"quantity\"][\"CodeMeaning\"] = str(feature_row[\"quantity_CodeMeaning\"].values[0])\n",
        "#       measurement_dict[\"units\"] = {}\n",
        "#       measurement_dict[\"units\"][\"CodeValue\"] = str(feature_row[\"units_CodeValue\"].values[0])\n",
        "#       measurement_dict[\"units\"][\"CodingSchemeDesignator\"] = str(feature_row[\"units_CodingSchemeDesignator\"].values[0])\n",
        "#       measurement_dict[\"units\"][\"CodeMeaning\"] = str(feature_row[\"units_CodeMeaning\"].values[0])\n",
        "#       measurement_dict[\"measurementAlgorithmIdentification\"] = {}\n",
        "#       measurement_dict[\"measurementAlgorithmIdentification\"][\"AlgorithmName\"] = \"pyradiomics\"\n",
        "#       measurement_dict[\"measurementAlgorithmIdentification\"][\"AlgorithmVersion\"] = str(pyradiomics_version_number)\n",
        "#       measurement.append(measurement_dict) \n",
        "\n",
        "#     measurement_combined_dict = {}\n",
        "#     measurement_combined_dict['measurementItems'] = measurement # measurement is an array of dictionaries \n",
        "\n",
        "#     output_dict_one_segment = {**my_dict, **measurement_combined_dict}\n",
        "\n",
        "#     # append to array for all segments \n",
        "\n",
        "#     measurement_across_segments_combined.append(output_dict_one_segment)\n",
        "\n",
        "#   # --- Add the measurement data --- # \n",
        "\n",
        "#   inputMetadata[\"Measurements\"] = {}\n",
        "#   inputMetadata[\"Measurements\"] = measurement_across_segments_combined\n",
        "\n",
        "#   return inputMetadata"
      ],
      "metadata": {
        "id": "zy4ZraAESdww"
      },
      "execution_count": 56,
      "outputs": []
    },
    {
      "cell_type": "code",
      "source": [
        "def create_structured_report_metajson_for_shape_features(SeriesInstanceUID, \n",
        "                                                         SOPInstanceUID_seg,\n",
        "                                                         seg_file, \n",
        "                                                         dcm_directory, \n",
        "                                                         segments_code_mapping_df,\n",
        "                                                         shape_features_code_mapping_df,\n",
        "                                                         radiomics_features, \n",
        "                                                         ):\n",
        "  \n",
        "  \"\"\"Function that creates the metajson necessary for the creation of a\n",
        "  structured report from a pandas dataframe of label names and features for \n",
        "  each. \n",
        "\n",
        "  Inputs: \n",
        "    SeriesInstanceUID               : SeriesInstanceUID of the corresponding CT \n",
        "                                      file \n",
        "    SOPInstanceUID_seg              : SOPInstanceUID of the corresponding SEG file \n",
        "    seg_file                        : filename of SEG DCM file \n",
        "    dcm_directory                   : ct directory that will be sorted in \n",
        "                                      terms of axial ordering according to the \n",
        "                                      ImagePositionPatient and ImageOrientation \n",
        "                                      fields\n",
        "    segments_code_mapping_df        : dataframe that holds the names of the \n",
        "                                      segments and the associated code values etc.\n",
        "    shape_features_code_mapping_df  : dataframe that holds the names of the \n",
        "                                      features and the associated code values etc. \n",
        "    df_features                     : a pandas dataframe holding the segments and a \n",
        "                                      set of 3D shape features for each \n",
        "\n",
        "  Outputs:\n",
        "    Returns the metajson for the structured report that will then be used by\n",
        "    dcmqi tid1500writer to create a structured report \n",
        "  \"\"\" \n",
        "  # --- Get the version number for the pyradiomics package --- #\n",
        "\n",
        "  pyradiomics_version_number = str(radiomics.__version__)\n",
        "  \n",
        "  # --- Sort the dcm files first according to --- # \n",
        "  # --- ImagePositionPatient and ImageOrientation --- #\n",
        "\n",
        "  files_sorted, sop_all_sorted, pos_all_sorted = order_dicom_files_image_position(dcm_directory)\n",
        "  files_sorted = [os.path.basename(f) for f in files_sorted]\n",
        "\n",
        "  # --- Create the header for the json --- # \n",
        "  \n",
        "  inputMetadata = {}\n",
        "  inputMetadata[\"@schema\"]= \"https://raw.githubusercontent.com/qiicr/dcmqi/master/doc/schemas/sr-tid1500-schema.json#\"\n",
        "  inputMetadata[\"SeriesDescription\"] = \"Measurements\"\n",
        "  inputMetadata[\"SeriesNumber\"] = \"1001\"\n",
        "  inputMetadata[\"InstanceNumber\"] = \"1\"\n",
        "\n",
        "  inputMetadata[\"compositeContext\"] = [seg_file] # not full path\n",
        "\n",
        "  inputMetadata[\"imageLibrary\"] = files_sorted # not full path \n",
        "  inputMetadata[\"observerContext\"] = {\n",
        "                      \"ObserverType\": \"DEVICE\",\n",
        "                      \"DeviceObserverName\": \"pyradiomics\",\n",
        "                      \"DeviceObserverModelName\": pyradiomics_version_number\n",
        "                    }\n",
        "\n",
        "  inputMetadata[\"VerificationFlag\"]  = \"UNVERIFIED\"\n",
        "  inputMetadata[\"CompletionFlag\"] =  \"COMPLETE\"\n",
        "  inputMetadata[\"activitySession\"] = \"1\"\n",
        "  inputMetadata[\"timePoint\"] = \"1\"\n",
        "\n",
        "  # ------------------------------------------------------------------------- # \n",
        "  # --- Create the measurement_dict for each segment - holds all features --- # \n",
        "\n",
        "  measurement = [] \n",
        "\n",
        "  # --- Now create the dict for all features and all segments --- #\n",
        "\n",
        "  # --- Loop over the number of segments --- #\n",
        "\n",
        "  # number of rows in the df_features \n",
        "  num_segments = radiomics_features.shape[0]\n",
        "  print(num_segments)\n",
        "\n",
        "  # Array of dictionaries - one dictionary for each segment \n",
        "  measurement_across_segments_combined = [] \n",
        "\n",
        "  for segment_id in range(0,num_segments):\n",
        "\n",
        "    ReferencedSegment = int(radiomics_features['label_id'].values[segment_id]) # referencedsegment must be an integer according to the schema.\n",
        "    FindingSite = radiomics_features['body_part'].values[segment_id]\n",
        "\n",
        "    # print('segment_id: ' + str(segment_id))\n",
        "    # print('ReferencedSegment: ' + str(ReferencedSegment))\n",
        "    # print('FindingSite: ' + str(FindingSite))\n",
        "\n",
        "    # --- Create the dict for the Measurements group --- # \n",
        "    TrackingIdentifier = \"Measurements group \" + str(ReferencedSegment)\n",
        "\n",
        "    segment_row = segments_code_mapping_df[segments_code_mapping_df[\"Structure\"] == FindingSite]\n",
        "\n",
        "\n",
        "    # print(segment_row)\n",
        "        \n",
        "    my_dict = {\n",
        "      \"TrackingIdentifier\": str(TrackingIdentifier),\n",
        "      \"ReferencedSegment\": str(ReferencedSegment),\n",
        "      \"SourceSeriesForImageSegmentation\": str(SeriesInstanceUID),\n",
        "      \"segmentationSOPInstanceUID\": str(SOPInstanceUID_seg),\n",
        "      \"Finding\": {\n",
        "        \"CodeValue\": str(segment_row[\"SegmentedPropertyCategoryCodeSequence.CodeValue\"].iloc[0]),\n",
        "        \"CodingSchemeDesignator\": str(segment_row[\"SegmentedPropertyCategoryCodeSequence.CodingSchemeDesignator\"].iloc[0]),\n",
        "        \"CodeMeaning\": str(segment_row[\"SegmentedPropertyCategoryCodeSequence.CodeMeaning\"].iloc[0]),\n",
        "      }, \n",
        "      \"FindingSite\": {\n",
        "        \"CodeValue\": str(segment_row[\"SegmentedPropertyTypeCodeSequence.CodeValue\"].iloc[0]),\n",
        "        \"CodingSchemeDesignator\": str(segment_row[\"SegmentedPropertyTypeCodeSequence.CodingSchemeDesignator\"].iloc[0]),\n",
        "        \"CodeMeaning\": str(segment_row[\"SegmentedPropertyTypeCodeSequence.CodeMeaning\"].iloc[0]),\n",
        "      },\n",
        "      \"Laterality\": {\n",
        "          \"CodeValue\": str(segment_row[\"SegmentedPropertyTypeModifierCodeSequence.CodeValue\"].iloc[0]),\n",
        "          \"CodingSchemeDesignator\": str(segment_row[\"SegmentedPropertyTypeModifierCodeSequence.CodingSchemeDesignator\"].iloc[0]),\n",
        "          \"CodeMeaning\": str(segment_row[\"SegmentedPropertyTypeModifierCodeSequence.CodeMeaning\"].iloc[0])\n",
        "      } \n",
        "      \n",
        "    }\n",
        "    \n",
        "    measurement = []  \n",
        "    # number of features - number of columns in df_features - 2 (label_name and ReferencedSegment)\n",
        "    num_values = len(radiomics_features.columns)-2 \n",
        "\n",
        "    #feature_list = radiomics_features.columns[2:] # remove first two \n",
        "    feature_list = nnunet_shape_features_code_mapping_df.feature.to_list()\n",
        "\n",
        "    # For each measurement per region segment\n",
        "    for n in range(0,len(feature_list)): \n",
        "      measurement_dict = {}\n",
        "      row = radiomics_features.loc[radiomics_features['body_part'] == FindingSite]\n",
        "      feature_row = shape_features_code_mapping_df.loc[shape_features_code_mapping_df[\"feature\"] == feature_list[n]]\n",
        "      value = str(np.round(row[feature_list[n]].values[0],3))\n",
        "      measurement_dict[\"value\"] = value\n",
        "      measurement_dict[\"quantity\"] = {}\n",
        "      measurement_dict[\"quantity\"][\"CodeValue\"] = str(feature_row[\"quantity_CodeValue\"].values[0])\n",
        "      measurement_dict[\"quantity\"][\"CodingSchemeDesignator\"] = str(feature_row[\"quantity_CodingSchemeDesignator\"].values[0])\n",
        "      measurement_dict[\"quantity\"][\"CodeMeaning\"] = str(feature_row[\"quantity_CodeMeaning\"].values[0])\n",
        "      measurement_dict[\"units\"] = {}\n",
        "      measurement_dict[\"units\"][\"CodeValue\"] = str(feature_row[\"units_CodeValue\"].values[0])\n",
        "      measurement_dict[\"units\"][\"CodingSchemeDesignator\"] = str(feature_row[\"units_CodingSchemeDesignator\"].values[0])\n",
        "      measurement_dict[\"units\"][\"CodeMeaning\"] = str(feature_row[\"units_CodeMeaning\"].values[0])\n",
        "      measurement_dict[\"measurementAlgorithmIdentification\"] = {}\n",
        "      measurement_dict[\"measurementAlgorithmIdentification\"][\"AlgorithmName\"] = \"pyradiomics\"\n",
        "      measurement_dict[\"measurementAlgorithmIdentification\"][\"AlgorithmVersion\"] = str(pyradiomics_version_number)\n",
        "      measurement.append(measurement_dict) \n",
        "\n",
        "    measurement_combined_dict = {}\n",
        "    measurement_combined_dict['measurementItems'] = measurement # measurement is an array of dictionaries \n",
        "\n",
        "    output_dict_one_segment = {**my_dict, **measurement_combined_dict}\n",
        "\n",
        "    # append to array for all segments \n",
        "\n",
        "    measurement_across_segments_combined.append(output_dict_one_segment)\n",
        "\n",
        "  # --- Add the measurement data --- # \n",
        "\n",
        "  inputMetadata[\"Measurements\"] = {}\n",
        "  inputMetadata[\"Measurements\"] = measurement_across_segments_combined\n",
        "\n",
        "  sr_json_path=f'{curr_dir}/structuredReports/{series_id}/{series_id}_sr.json'\n",
        "  sr_path=f'{curr_dir}/structuredReports/{series_id}/{series_id}_sr.dcm'\n",
        "  pred_dicomseg_path=f'{curr_dir}/itkimage2segimage/{series_id}/'\n",
        "\n",
        "  with open(sr_json_path, 'w') as f:\n",
        "    json.dump(inputMetadata, f, indent=2)\n",
        "    print ('wrote out json for shape features')\n",
        "\n",
        "  inputImageLibraryDirectory = dcm_directory\n",
        "  # outputDICOM = sr_json_path\n",
        "  outputDICOM = sr_path\n",
        "  # the name of the folder where the seg files are located \n",
        "  inputCompositeContextDirectory = os.path.basename(pred_dicomseg_path) # might need to check this\n",
        "  inputMetadata_json = sr_json_path \n",
        "\n",
        "  print ('inputImageLibraryDirectory: ' + str(inputImageLibraryDirectory))\n",
        "  print ('outputDICOM: ' + str(outputDICOM))\n",
        "  print ('inputCompositeContextDirectory: ' + str(inputCompositeContextDirectory))\n",
        "  print ('inputMetadata_json: ' + str(inputMetadata_json)) \n",
        "  !tid1500writer --inputImageLibraryDirectory $inputImageLibraryDirectory \\\n",
        "                --outputDICOM $outputDICOM  \\\n",
        "                --inputCompositeContextDirectory $inputCompositeContextDirectory \\\n",
        "                --inputMetadata $inputMetadata_json\n",
        "  print ('wrote out SR for shape features')\n",
        "\n",
        "  "
      ],
      "metadata": {
        "id": "cH6G9RDcPjzs"
      },
      "execution_count": 57,
      "outputs": []
    },
    {
      "cell_type": "code",
      "source": [
        "# def save_structured_report_for_shape_features(\n",
        "#                                               SeriesInstanceUID, \n",
        "#                                               SOPInstanceUID_seg, \n",
        "#                                               pred_dicomseg_path, \n",
        "#                                               dcm_directory, \n",
        "#                                               segments_code_mapping_df,\n",
        "#                                               shape_features_code_mapping_df,\n",
        "#                                               sr_json_path,\n",
        "#                                               sr_path,\n",
        "#                                               df_features\n",
        "#                                               ):\n",
        "  \n",
        "#   \"\"\" This function creates the SR necessary for the nnUNet shape features \n",
        "\n",
        "#   Inputs: \n",
        "#   SeriesInstanceUID               : SeriesInstanceUID of the corresponding CT \n",
        "#                                     file \n",
        "#   SOPInstanceUID_seg              : SOPInstanceUID of the corresponding SEG file \n",
        "#   pred_dicomseg_path              : filename of DICOM SEG file \n",
        "#   dicomseg_json_path              : json file for DICOM SEG file \n",
        "#   dcm_directory                   : list of ct files that will be sorted in \n",
        "#                                     terms of axial ordering according to the \n",
        "#                                     ImagePositionPatient and ImageOrientation \n",
        "#                                     fields\n",
        "#   pred_nifti_path                 : predictions in nifti format \n",
        "#   nnunet_base_path                : path to hold the split nifti files \n",
        "#   ct_nifti_path                   : filename for CT nifti file\n",
        "#   segments_code_mapping_df        : dataframe that holds the names of the \n",
        "#                                     segments and the associated code values etc.\n",
        "#   shape_features_code_mapping_df  : dataframe that holds the names of the \n",
        "#                                     features and the associated code values etc. \n",
        "#   sr_json_path                    : the path that the metajson for the SR for \n",
        "#                                     the 3D shape features will be saved \n",
        "#   sr_path                         : the path that the SR for the 3D shape \n",
        "#                                     features will be saved \n",
        "\n",
        "#   Outputs:\n",
        "#     Returns the metajson for the structured report that will then be used by\n",
        "#     dcmqi tid1500writer to create a structured report \n",
        "\n",
        "#   \"\"\"\n",
        "\n",
        "#   # # --- get label values and names from metajson file --- #\n",
        "#   # label_values, label_names = get_label_and_names_from_metadata_json(dicomseg_json_path)\n",
        "\n",
        "#   # # --- split the multilabel nifti into individual files --- #\n",
        "#   # split_pred_nii_path = os.path.join(nnunet_base_path, \"split_nii\")\n",
        "#   # if not os.path.isdir(split_pred_nii_path): \n",
        "#   #   os.mkdir(split_pred_nii_path)\n",
        "#   # split_nii(pred_nifti_path, split_pred_nii_path, label_names)\n",
        "\n",
        "#   # # --- compute features and save csv for each region --- #\n",
        "#   # if not os.path.isdir(features_csv_path_nnunet):\n",
        "#   #   os.mkdir(features_csv_path_nnunet) \n",
        "#   # df_features = compute_pyradiomics_3D_features(ct_nifti_path, \n",
        "#   #                                               label_values, \n",
        "#   #                                               label_names,\n",
        "#   #                                               split_pred_nii_path, \n",
        "#   #                                               nnunet_shape_features_code_mapping_df)\n",
        "#   # print ('created df_features')\n",
        "  \n",
        "#   # --- upload csv file to bucket --- #\n",
        "#   # !$s5cmd_path --endpoint-url https://storage.googleapis.com cp $pred_features_csv_path $gs_uri_features_csv_file\n",
        "\n",
        "#   # # remove nii files after saving out pyradiomics results\n",
        "#   # !rm $split_pred_nii_path/*\n",
        "#   # # remove csv \n",
        "#   # # !rm $pred_features_csv_path\n",
        "\n",
        "#   # --- Create the final metadata for the SR --- #\n",
        "#   inputMetadata = create_structured_report_metajson_for_shape_features(SeriesInstanceUID, \n",
        "#                                                                        SOPInstanceUID_seg,\n",
        "#                                                                        pred_dicomseg_path, \n",
        "#                                                                        dcm_directory, \n",
        "#                                                                        segments_code_mapping_df, \n",
        "#                                                                        shape_features_code_mapping_df,\n",
        "#                                                                        df_features)\n",
        "\n",
        "#   print ('created SR json for shape features')\n",
        "\n",
        "#   # --- Write out json --- #\n",
        "\n",
        "#   with open(sr_json_path, 'w') as f:\n",
        "#     json.dump(inputMetadata, f, indent=2)\n",
        "#   print ('wrote out json for shape features')\n",
        "\n",
        "#   # --- Save the SR for nnUNet shape features --- # \n",
        "#   # inputImageLibraryDirectory = os.path.join(\"/content\", \"raw\")\n",
        "#   # outputDICOM = os.path.join(\"/content\",\"features_sr.dcm\")\n",
        "#   # inputCompositeContextDirectory = os.path.join(\"/content\",\"seg\")\n",
        "#   inputImageLibraryDirectory = dcm_directory\n",
        "#   # outputDICOM = sr_json_path\n",
        "#   outputDICOM = sr_path\n",
        "#   # the name of the folder where the seg files are located \n",
        "#   inputCompositeContextDirectory = os.path.basename(pred_dicomseg_path) # might need to check this\n",
        "#   inputMetadata_json = sr_json_path \n",
        "\n",
        "#   print ('inputImageLibraryDirectory: ' + str(inputImageLibraryDirectory))\n",
        "#   print ('outputDICOM: ' + str(outputDICOM))\n",
        "#   print ('inputCompositeContextDirectory: ' + str(inputCompositeContextDirectory))\n",
        "#   print ('inputMetadata_json: ' + str(inputMetadata_json)) \n",
        "#   !tid1500writer --inputImageLibraryDirectory $inputImageLibraryDirectory \\\n",
        "#                 --outputDICOM $outputDICOM  \\\n",
        "#                 --inputCompositeContextDirectory $inputCompositeContextDirectory \\\n",
        "#                 --inputMetadata $inputMetadata_json\n",
        "#   print ('wrote out SR for shape features')\n",
        "\n",
        "#   return "
      ],
      "metadata": {
        "id": "oaj0skEoTM1K"
      },
      "execution_count": 58,
      "outputs": []
    },
    {
      "cell_type": "code",
      "execution_count": 59,
      "metadata": {
        "id": "xwRE4F8AmscK"
      },
      "outputs": [],
      "source": [
        "def itkimage2segimageAndRadiomics(series_id):\n",
        "      try:\n",
        "        shutil.rmtree(f'itkimage2segimage/{series_id}')\n",
        "        shutil.rmtree(f'radiomics/{series_id}')\n",
        "        shutil.rmtree(f'{curr_dir}/structuredReports/{series_id}')\n",
        "      except OSError:\n",
        "        pass\n",
        "        os.mkdir(f'itkimage2segimage/{series_id}')\n",
        "        os.mkdir(f'radiomics/{series_id}')\n",
        "        os.mkdir(f'{curr_dir}/structuredReports/{series_id}')\n",
        "\n",
        "      print(\"Processing series: \"+series_id)  \n",
        "\n",
        "      \"\"\"\n",
        "      Downloading DICOM files only for the Series with Totalsegmentator NIFTI files\n",
        "\n",
        "      \"\"\"\n",
        "      download_dicom_data(series_id) \n",
        "      convert_dicom_to_nifti(series_id)\n",
        "\n",
        "      #Get Inference NIFTI file path\n",
        "      inference_nifti_filename_path = os.path.join(curr_dir,'Inference', series_id, series_id+'.nii.lz4')\n",
        "      inference_nifti_filename = os.path.join(curr_dir,'Inference', series_id, series_id+'.nii')\n",
        "      \n",
        "      try:\n",
        "        os.remove(inference_nifti_filename)\n",
        "      except OSError:\n",
        "        pass\n",
        "      !lz4 -d --rm {inference_nifti_filename_path}\n",
        "\n",
        "      start_time = time.time()\n",
        "      !itkimage2segimage --inputImageList {inference_nifti_filename} --inputDICOMDirectory {curr_dir}/idc_data/ --outputDICOM {curr_dir}/itkimage2segimage/{series_id}/{series_id}.dcm --inputMetadata {curr_dir}/dicomseg_metadata_whole_slicerAsRef.json --skip >> /dev/null\n",
        "      itkimage2segimage_time = time.time() - start_time\n",
        "      print(\"Done in %g seconds.\"%itkimage2segimage_time)\n",
        "      \n",
        "      check_itkimage_errors(series_id)\n",
        "\n",
        "\n",
        "      ct_series_id_folder_path= os.path.join(curr_dir, converterType, series_id)\n",
        "      # Get the list of files in series_id_path\n",
        "      ct_nifti_files = os.listdir(ct_series_id_folder_path)\n",
        "      # Get the first (and only) file in the list\n",
        "      ct_nifti_filename = ct_nifti_files[0]\n",
        "      # Get the full path of the file\n",
        "      ct_nifti_filename_path = os.path.join(ct_series_id_folder_path, ct_nifti_filename)\n",
        "      \n",
        "      radiomics_output_filename= os.path.join(curr_dir, 'radiomics', series_id, f'{series_id}_radiomics.json')\n",
        "      \n",
        "      start_time = time.time()   \n",
        "      get_radiomics_features_for_all_labels(ct_nifti_filename_path, inference_nifti_filename, radiomics_output_filename)\n",
        "      radiomics_time = time.time() - start_time\n",
        "      print(\"Radiomics Features Calculation Done in %g seconds.\"%radiomics_time)\n",
        "      \n",
        "      check_radiomics_errors(series_id)\n",
        "\n",
        "\n",
        "      radiomics_features = pd.read_json(os.path.join(curr_dir, 'radiomics', series_id, f'{series_id}_radiomics.json'), orient='index')\n",
        "      radiomics_features = radiomics_features.rename(columns=lambda x: x.split('_')[-1])\n",
        "      radiomics_features = radiomics_features.reset_index().rename(columns={'index': 'body_part'})\n",
        "      label_id_body_part_data = map_to_binary.class_map['total'].items()\n",
        "      label_id_body_part_df = pd.DataFrame(label_id_body_part_data, columns=['label_id', 'body_part'])\n",
        "      radiomics_features = pd.merge(radiomics_features, label_id_body_part_df, on='body_part')\n",
        "      cols = radiomics_features.columns.tolist()\n",
        "      cols.insert(1, cols.pop(cols.index('label_id')))\n",
        "      radiomics_features = radiomics_features[cols]\n",
        "\n",
        "      seg_dcm=dcmread(f'{curr_dir}/itkimage2segimage/{series_id}/{series_id}.dcm')\n",
        "      SOPInstanceUID_seg=seg_dcm.file_meta['0x0002', '0x0003'].value\n",
        "\n",
        "      seg_file=f'{series_id}.dcm'\n",
        "      dcm_directory=f'{curr_dir}/idc_data/' \n",
        "      segments_code_mapping_df=nnunet_segments_code_mapping_df\n",
        "      shape_features_code_mapping_df=nnunet_shape_features_code_mapping_df\n",
        "\n",
        "      create_structured_report_metajson_for_shape_features( SeriesInstanceUID, \n",
        "                                                            SOPInstanceUID_seg,\n",
        "                                                            seg_file, \n",
        "                                                            dcm_directory, \n",
        "                                                            segments_code_mapping_df,\n",
        "                                                            shape_features_code_mapping_df,\n",
        "                                                            radiomics_features, \n",
        "                                                            )\n",
        "\n",
        "      start_time = time.time()     \n",
        "      !lz4 --rm {curr_dir}/itkimage2segimage/{series_id}/{series_id}.dcm  {curr_dir}/itkimage2segimage/{series_id}/{series_id}.dcm.lz4\n",
        "      !lz4 --rm {curr_dir}/radiomics/{series_id}/{series_id}_radiomics.json  {curr_dir}/radiomics/{series_id}/{series_id}_radiomics.json.lz4\n",
        "      archiving_time = time.time() - start_time\n",
        "      \n",
        "      log = pd.DataFrame({'SeriesInstanceUID': [series_id]}) \n",
        "      log['itkimage2segimage_time']=itkimage2segimage_time\n",
        "      log['archiving_time'] = archiving_time\n",
        "      log['radiomics_time']= radiomics_time\n",
        "\n",
        "      !rm -r {curr_dir}/Inference/{series_id}\n",
        "      #!rm -r {curr_dir}/idc_data\n",
        "      !rm -r {curr_dir}/{converterType}/{series_id}\n",
        "\n",
        "      global runtime_stats\n",
        "      runtime_stats = pd.concat([runtime_stats, log], ignore_index=True, axis=0)"
      ]
    },
    {
      "cell_type": "code",
      "execution_count": 60,
      "metadata": {
        "id": "_rMtxR77N_RH"
      },
      "outputs": [],
      "source": [
        "class MemoryMonitor:\n",
        "    def __init__(self):\n",
        "        self.keep_measuring = True\n",
        "\n",
        "    def measure_usage(self):\n",
        "        cpu_usage = []\n",
        "        ram_usage_mb=[]\n",
        "        disk_usage_all=[]\n",
        "        time_stamps = []\n",
        "        start_time = time.time()\n",
        "        while self.keep_measuring:\n",
        "            cpu = psutil.cpu_percent()\n",
        "            ram = psutil.virtual_memory()\n",
        "            disk_used= psutil.disk_usage('/').used/1024/1024/1024\n",
        "            disk_total= psutil.disk_usage('/').total/1024/1024/1024\n",
        "            ram_total_mb = psutil.virtual_memory().total / 1024 / 1024\n",
        "            ram_mb = (ram.total - ram.available) / 1024 / 1024\n",
        "\n",
        "            cpu_usage.append(cpu)\n",
        "            ram_usage_mb.append(ram_mb)\n",
        "            disk_usage_all.append(disk_used)\n",
        "\n",
        "            time_stamps.append(time.time()- start_time)\n",
        "            sleep(1)\n",
        "\n",
        "        return cpu_usage, ram_usage_mb, time_stamps, ram_total_mb,  disk_usage_all, disk_total"
      ]
    },
    {
      "cell_type": "markdown",
      "metadata": {
        "id": "xqxRLpdSQAQ5"
      },
      "source": [
        "###Convert Inference NIFTI file to DICOM_SEG Object"
      ]
    },
    {
      "cell_type": "code",
      "execution_count": 61,
      "metadata": {
        "id": "w_-jEmCgKJBe",
        "colab": {
          "base_uri": "https://localhost:8080/",
          "height": 1000
        },
        "outputId": "c6890a42-2aad-437d-ab1c-af3b955e31fd"
      },
      "outputs": [
        {
          "output_type": "stream",
          "name": "stdout",
          "text": [
            "Processing series: 1.2.840.113654.2.55.22770087029972268579113866309746562015\n",
            "Copying files from IDC buckets..\n",
            "Done in 1.3178 seconds.\n",
            "Chris Rorden's dcm2niiX version v1.0.20181125  (JP2:OpenJPEG) GCC9.3.0 (64-bit Linux)\n",
            "Found 128 DICOM file(s)\n",
            "Convert 128 DICOM as //content/dcm2niix/1.2.840.113654.2.55.22770087029972268579113866309746562015/1.2.840.113654.2.55.22770087029972268579113866309746562015_1_OPA_GE_HSQX_STANDARD_380_2.5_120_56_0.1_1.5_20000102000000_2 (512x512x128x1)\n",
            "compress: \"/usr/bin/pigz\" -n -f -6 \"//content/dcm2niix/1.2.840.113654.2.55.22770087029972268579113866309746562015/1.2.840.113654.2.55.22770087029972268579113866309746562015_1_OPA_GE_HSQX_STANDARD_380_2.5_120_56_0.1_1.5_20000102000000_2.nii\"\n",
            "Conversion required 7.209426 seconds (0.288776 for core code).\n",
            "Decoding file /content/Inference/1.2.840.113654.2.55.22770087029972268579113866309746562015/1.2.840.113654.2.55.22770087029972268579113866309746562015.nii \n",
            "/content/Inference/1 : decoded 33566144 bytes \n",
            "Done in 14.1071 seconds.\n"
          ]
        },
        {
          "output_type": "stream",
          "name": "stderr",
          "text": [
            "100%|██████████| 76/76 [09:31<00:00,  7.51s/it]\n"
          ]
        },
        {
          "output_type": "stream",
          "name": "stdout",
          "text": [
            "Radiomics Features Calculation Done in 573.296 seconds.\n",
            "76\n",
            "wrote out json for shape features\n",
            "inputImageLibraryDirectory: /content/idc_data/\n",
            "outputDICOM: /content/structuredReports/1.2.840.113654.2.55.22770087029972268579113866309746562015/1.2.840.113654.2.55.22770087029972268579113866309746562015_sr.dcm\n",
            "inputCompositeContextDirectory: \n",
            "inputMetadata_json: /content/structuredReports/1.2.840.113654.2.55.22770087029972268579113866309746562015/1.2.840.113654.2.55.22770087029972268579113866309746562015_sr.json\n",
            "dcmqi repository URL: git@github.com:QIICR/dcmqi.git revision: 1153738 tag: v1.2.5\n",
            "PARSE ERROR: Argument: /content/structuredReports/1.2.840.113654.2.55.22770087029972268579113866309746562015/1.2.840.113654.2.55.22770087029972268579113866309746562015_sr.json\n",
            "             Couldn't find match for argument\n",
            "\n",
            "Brief USAGE: \n",
            "   tid1500writer  [--returnparameterfile <std::string>]\n",
            "                  [--processinformationaddress <std::string>] [--xml]\n",
            "                  [--echo] [--inputImageLibraryDirectory <std::string>]\n",
            "                  [--inputCompositeContextDirectory <std::string>]\n",
            "                  [--outputDICOM <std::string>] [--inputMetadata\n",
            "                  <std::string>] [--] [--version] [-h]\n",
            "\n",
            "For complete USAGE and HELP type: \n",
            "   tid1500writer --help\n",
            "\n",
            "wrote out SR for shape features\n",
            "Compressed 82700118 bytes into 702291 bytes ==> 0.85%\n",
            "Compressed 106527 bytes into 31420 bytes ==> 29.49%\n"
          ]
        },
        {
          "output_type": "display_data",
          "data": {
            "text/plain": [
              "<Figure size 1200x400 with 3 Axes>"
            ],
            "image/png": "[encoded data removed]"
          },
          "metadata": {}
        }
      ],
      "source": [
        "\n",
        "runtime_stats = pd.DataFrame(columns=['SeriesInstanceUID','itkimage2segimage_time','radiomics_time',\n",
        "                                      'archiving_time', 'cpu_usage','ram_usage_mb', 'ram_total_mb', \n",
        "                                      'disk_usage_all', 'disk_total'\n",
        "                                      ])\n",
        "if __name__ == \"__main__\":\n",
        "    for series_id in ['1.2.840.113654.2.55.22770087029972268579113866309746562015']:\n",
        "        with ThreadPoolExecutor() as executor:\n",
        "            monitor = MemoryMonitor()\n",
        "            mem_thread = executor.submit(monitor.measure_usage)\n",
        "            try:\n",
        "                proc_thread = executor.submit(itkimage2segimageAndRadiomics, series_id)\n",
        "                proc_thread.result()\n",
        "            finally:\n",
        "                monitor.keep_measuring = False\n",
        "                cpu_usage, ram_usage_mb, time_stamps, ram_total_mb, disk_usage_all, disk_total= mem_thread.result()\n",
        "                \n",
        "                cpu_idx = runtime_stats.index[runtime_stats['SeriesInstanceUID'] == series_id][0]\n",
        "                runtime_stats.iloc[cpu_idx, runtime_stats.columns.get_loc('cpu_usage')] = [[cpu_usage]]\n",
        "\n",
        "                ram_usage_mb_idx = runtime_stats.index[runtime_stats['SeriesInstanceUID'] == series_id][0]\n",
        "                runtime_stats.iloc[ram_usage_mb_idx, runtime_stats.columns.get_loc('ram_usage_mb')] = [[ram_usage_mb]]\n",
        "                \n",
        "                ram_total_mb_idx = runtime_stats.index[runtime_stats['SeriesInstanceUID'] == series_id][0]\n",
        "                runtime_stats.iloc[ram_total_mb_idx, runtime_stats.columns.get_loc('ram_total_mb')] = [[ram_total_mb]]\n",
        "\n",
        "                disk_usage_gb_idx = runtime_stats.index[runtime_stats['SeriesInstanceUID'] == series_id][0]\n",
        "                runtime_stats.iloc[disk_usage_gb_idx, runtime_stats.columns.get_loc('disk_usage_all')] = [[disk_usage_all]]\n",
        "\n",
        "                runtime_stats['disk_total']=disk_total    \n",
        "\n",
        "                fig, ((ax1,ax2, ax3)) = plt.subplots(1,3, figsize=(12, 4)) \n",
        "\n",
        "                ax1.plot(time_stamps, cpu_usage)\n",
        "                ax1.set_ylim(0, 100)\n",
        "                ax1.set_xlabel('Time (s)')\n",
        "                ax1.set_ylabel('CPU usage (%)')\n",
        "\n",
        "                ax2.plot(time_stamps, ram_usage_mb)\n",
        "                ax2.set_ylim(0, ram_total_mb)\n",
        "                ax2.set_xlabel('Time (s)')\n",
        "                ax2.set_ylabel('Memory usage (MB)')\n",
        "\n",
        "                ax3.plot(time_stamps, disk_usage_all)\n",
        "                ax3.set_ylim(0, disk_total)\n",
        "                ax3.set_xlabel('Time (s)')\n",
        "                ax3.set_ylabel('Disk usage (GB)')\n",
        "                plt.show()"
      ]
    },
    {
      "cell_type": "markdown",
      "metadata": {
        "id": "GFqgbLWuQs9f"
      },
      "source": [
        "###Compressing Output Files"
      ]
    },
    {
      "cell_type": "code",
      "execution_count": 62,
      "metadata": {
        "colab": {
          "base_uri": "https://localhost:8080/"
        },
        "id": "S4xcpEa8pzZH",
        "outputId": "433bd448-26a2-4aa0-fd31-7f5b27bfcd23"
      },
      "outputs": [
        {
          "output_type": "stream",
          "name": "stdout",
          "text": [
            "tar: Removing leading `/' from member names\n",
            "/content/itkimage2segimage/\n",
            "/content/itkimage2segimage/1.2.840.113654.2.55.22770087029972268579113866309746562015/\n",
            "/content/itkimage2segimage/1.2.840.113654.2.55.22770087029972268579113866309746562015/1.2.840.113654.2.55.22770087029972268579113866309746562015.dcm.lz4\n",
            "tar: Removing leading `/' from member names\n",
            "/content/radiomics/\n",
            "/content/radiomics/1.2.840.113654.2.55.22770087029972268579113866309746562015/\n",
            "/content/radiomics/1.2.840.113654.2.55.22770087029972268579113866309746562015/1.2.840.113654.2.55.22770087029972268579113866309746562015_radiomics.json.lz4\n"
          ]
        }
      ],
      "source": [
        "start_time = time.time()\n",
        "try:\n",
        "  os.remove(f'{curr_dir}/itkimage2segimageDICOMsegFiles.tar.lz4')\n",
        "  os.remove(f'{curr_dir}/pyradiomicsRadiomicsFeatures.tar.lz4')\n",
        "except OSError:\n",
        "  pass\n",
        "!tar cvf - {curr_dir}/itkimage2segimage | lz4 > {curr_dir}/itkimage2segimageDICOMsegFiles.tar.lz4\n",
        "!tar cvf - {curr_dir}/radiomics | lz4 > {curr_dir}/pyradiomicsRadiomicsFeatures.tar.lz4\n",
        "\n",
        "output_archiving_time = time.time() - start_time"
      ]
    },
    {
      "cell_type": "markdown",
      "metadata": {
        "id": "oYXE4SlxQxXy"
      },
      "source": [
        "###Utilization Metrics"
      ]
    },
    {
      "cell_type": "code",
      "execution_count": 63,
      "metadata": {
        "colab": {
          "base_uri": "https://localhost:8080/",
          "height": 266
        },
        "id": "3sSM4RRfpxeC",
        "outputId": "2c6ffe1f-8edc-44b8-f524-44475d438a33"
      },
      "outputs": [
        {
          "output_type": "stream",
          "name": "stdout",
          "text": [
            "\r                                                                               \rCompressed 24258 bytes into 4859 bytes ==> 20.03%\n"
          ]
        },
        {
          "output_type": "execute_result",
          "data": {
            "text/plain": [
              "                                   SeriesInstanceUID  itkimage2segimage_time  \\\n",
              "0  1.2.840.113654.2.55.22770087029972268579113866...                 14.1071   \n",
              "\n",
              "   radiomics_time  archiving_time  \\\n",
              "0      573.295962        0.219039   \n",
              "\n",
              "                                           cpu_usage  \\\n",
              "0  [[[41.7, 100.0, 100.0, 100.0, 100.0, 100.0, 10...   \n",
              "\n",
              "                                        ram_usage_mb    ram_total_mb  \\\n",
              "0  [[[1403.7734375, 1446.1875, 1500.59375, 1500.5...  [12982.671875]   \n",
              "\n",
              "                                      disk_usage_all  disk_total  \\\n",
              "0  [[[23.843738555908203, 23.79882049560547, 23.8...  107.715084   \n",
              "\n",
              "   output_archiving_time  \n",
              "0               0.212409  "
            ],
            "text/html": [
              "\n",
              "  <div id=\"df-f8afdacf-3a2d-4bbc-ba5a-50af65f799ae\">\n",
              "    <div class=\"colab-df-container\">\n",
              "      <div>\n",
              "<style scoped>\n",
              "    .dataframe tbody tr th:only-of-type {\n",
              "        vertical-align: middle;\n",
              "    }\n",
              "\n",
              "    .dataframe tbody tr th {\n",
              "        vertical-align: top;\n",
              "    }\n",
              "\n",
              "    .dataframe thead th {\n",
              "        text-align: right;\n",
              "    }\n",
              "</style>\n",
              "<table border=\"1\" class=\"dataframe\">\n",
              "  <thead>\n",
              "    <tr style=\"text-align: right;\">\n",
              "      <th></th>\n",
              "      <th>SeriesInstanceUID</th>\n",
              "      <th>itkimage2segimage_time</th>\n",
              "      <th>radiomics_time</th>\n",
              "      <th>archiving_time</th>\n",
              "      <th>cpu_usage</th>\n",
              "      <th>ram_usage_mb</th>\n",
              "      <th>ram_total_mb</th>\n",
              "      <th>disk_usage_all</th>\n",
              "      <th>disk_total</th>\n",
              "      <th>output_archiving_time</th>\n",
              "    </tr>\n",
              "  </thead>\n",
              "  <tbody>\n",
              "    <tr>\n",
              "      <th>0</th>\n",
              "      <td>1.2.840.113654.2.55.22770087029972268579113866...</td>\n",
              "      <td>14.1071</td>\n",
              "      <td>573.295962</td>\n",
              "      <td>0.219039</td>\n",
              "      <td>[[[41.7, 100.0, 100.0, 100.0, 100.0, 100.0, 10...</td>\n",
              "      <td>[[[1403.7734375, 1446.1875, 1500.59375, 1500.5...</td>\n",
              "      <td>[12982.671875]</td>\n",
              "      <td>[[[23.843738555908203, 23.79882049560547, 23.8...</td>\n",
              "      <td>107.715084</td>\n",
              "      <td>0.212409</td>\n",
              "    </tr>\n",
              "  </tbody>\n",
              "</table>\n",
              "</div>\n",
              "      <button class=\"colab-df-convert\" onclick=\"convertToInteractive('df-f8afdacf-3a2d-4bbc-ba5a-50af65f799ae')\"\n",
              "              title=\"Convert this dataframe to an interactive table.\"\n",
              "              style=\"display:none;\">\n",
              "        \n",
              "  <svg xmlns=\"http://www.w3.org/2000/svg\" height=\"24px\"viewBox=\"0 0 24 24\"\n",
              "       width=\"24px\">\n",
              "    <path d=\"M0 0h24v24H0V0z\" fill=\"none\"/>\n",
              "    <path d=\"M18.56 5.44l.94 2.06.94-2.06 2.06-.94-2.06-.94-.94-2.06-.94 2.06-2.06.94zm-11 1L8.5 8.5l.94-2.06 2.06-.94-2.06-.94L8.5 2.5l-.94 2.06-2.06.94zm10 10l.94 2.06.94-2.06 2.06-.94-2.06-.94-.94-2.06-.94 2.06-2.06.94z\"/><path d=\"M17.41 7.96l-1.37-1.37c-.4-.4-.92-.59-1.43-.59-.52 0-1.04.2-1.43.59L10.3 9.45l-7.72 7.72c-.78.78-.78 2.05 0 2.83L4 21.41c.39.39.9.59 1.41.59.51 0 1.02-.2 1.41-.59l7.78-7.78 2.81-2.81c.8-.78.8-2.07 0-2.86zM5.41 20L4 18.59l7.72-7.72 1.47 1.35L5.41 20z\"/>\n",
              "  </svg>\n",
              "      </button>\n",
              "      \n",
              "  <style>\n",
              "    .colab-df-container {\n",
              "      display:flex;\n",
              "      flex-wrap:wrap;\n",
              "      gap: 12px;\n",
              "    }\n",
              "\n",
              "    .colab-df-convert {\n",
              "      background-color: #E8F0FE;\n",
              "      border: none;\n",
              "      border-radius: 50%;\n",
              "      cursor: pointer;\n",
              "      display: none;\n",
              "      fill: #1967D2;\n",
              "      height: 32px;\n",
              "      padding: 0 0 0 0;\n",
              "      width: 32px;\n",
              "    }\n",
              "\n",
              "    .colab-df-convert:hover {\n",
              "      background-color: #E2EBFA;\n",
              "      box-shadow: 0px 1px 2px rgba(60, 64, 67, 0.3), 0px 1px 3px 1px rgba(60, 64, 67, 0.15);\n",
              "      fill: #174EA6;\n",
              "    }\n",
              "\n",
              "    [theme=dark] .colab-df-convert {\n",
              "      background-color: #3B4455;\n",
              "      fill: #D2E3FC;\n",
              "    }\n",
              "\n",
              "    [theme=dark] .colab-df-convert:hover {\n",
              "      background-color: #434B5C;\n",
              "      box-shadow: 0px 1px 3px 1px rgba(0, 0, 0, 0.15);\n",
              "      filter: drop-shadow(0px 1px 2px rgba(0, 0, 0, 0.3));\n",
              "      fill: #FFFFFF;\n",
              "    }\n",
              "  </style>\n",
              "\n",
              "      <script>\n",
              "        const buttonEl =\n",
              "          document.querySelector('#df-f8afdacf-3a2d-4bbc-ba5a-50af65f799ae button.colab-df-convert');\n",
              "        buttonEl.style.display =\n",
              "          google.colab.kernel.accessAllowed ? 'block' : 'none';\n",
              "\n",
              "        async function convertToInteractive(key) {\n",
              "          const element = document.querySelector('#df-f8afdacf-3a2d-4bbc-ba5a-50af65f799ae');\n",
              "          const dataTable =\n",
              "            await google.colab.kernel.invokeFunction('convertToInteractive',\n",
              "                                                     [key], {});\n",
              "          if (!dataTable) return;\n",
              "\n",
              "          const docLinkHtml = 'Like what you see? Visit the ' +\n",
              "            '<a target=\"_blank\" href=https://colab.research.google.com/notebooks/data_table.ipynb>data table notebook</a>'\n",
              "            + ' to learn more about interactive tables.';\n",
              "          element.innerHTML = '';\n",
              "          dataTable['output_type'] = 'display_data';\n",
              "          await google.colab.output.renderOutput(dataTable, element);\n",
              "          const docLink = document.createElement('div');\n",
              "          docLink.innerHTML = docLinkHtml;\n",
              "          element.appendChild(docLink);\n",
              "        }\n",
              "      </script>\n",
              "    </div>\n",
              "  </div>\n",
              "  "
            ]
          },
          "metadata": {},
          "execution_count": 63
        }
      ],
      "source": [
        "runtime_stats.to_csv('runtime.csv')\n",
        "runtime_stats['output_archiving_time']=output_archiving_time\n",
        "try:\n",
        "  os.remove('itkimage2segimageUsageMetrics.lz4')\n",
        "except OSError:\n",
        "  pass\n",
        "!lz4 {curr_dir}/runtime.csv itkimage2segimageUsageMetrics.lz4\n",
        "runtime_stats"
      ]
    },
    {
      "cell_type": "code",
      "source": [
        "# !lz4 -d /content/itkimage2segimage/1.2.840.113654.2.55.22770087029972268579113866309746562015/1.2.840.113654.2.55.22770087029972268579113866309746562015.dcm.lz4"
      ],
      "metadata": {
        "id": "ZbVwwoQYWsRn"
      },
      "execution_count": 64,
      "outputs": []
    },
    {
      "cell_type": "code",
      "source": [
        "# from pydicom.filereader import dcmread\n",
        "# seg_dcm = dcmread('/content/itkimage2segimage/1.2.840.113654.2.55.22770087029972268579113866309746562015/1.2.840.113654.2.55.22770087029972268579113866309746562015.dcm')\n",
        "# SOPInstanceUID_seg = seg_dcm.file_meta['0x0002', '0x0003'].value\n",
        "# SOPInstanceUID_seg                                                      "
      ],
      "metadata": {
        "id": "HjbdvD0SWYOu"
      },
      "execution_count": 65,
      "outputs": []
    },
    {
      "cell_type": "code",
      "source": [
        "# !lz4 -d /content/radiomics/1.2.840.113654.2.55.22770087029972268579113866309746562015/1.2.840.113654.2.55.22770087029972268579113866309746562015_radiomics.json.lz4"
      ],
      "metadata": {
        "id": "LptgsSz1_Rp5"
      },
      "execution_count": 66,
      "outputs": []
    },
    {
      "cell_type": "code",
      "source": [
        "# radiomics_features = pd.read_json('/content/radiomics/1.2.840.113654.2.55.22770087029972268579113866309746562015/1.2.840.113654.2.55.22770087029972268579113866309746562015_radiomics.json', orient='index')\n",
        "# radiomics_features = radiomics_features.rename(columns=lambda x: x.split('_')[-1])\n",
        "# radiomics_features = radiomics_features.reset_index().rename(columns={'index': 'body_part'})\n",
        "# label_id_body_part_data = map_to_binary.class_map['total'].items()\n",
        "# label_id_body_part_df = pd.DataFrame(label_id_body_part_data, columns=['label_id', 'body_part'])\n",
        "# radiomics_features = pd.merge(radiomics_features, label_id_body_part_df, on='body_part')\n",
        "# cols = radiomics_features.columns.tolist()\n",
        "# cols.insert(1, cols.pop(cols.index('label_id')))\n",
        "# radiomics_features = radiomics_features[cols]\n",
        "# radiomics_features"
      ],
      "metadata": {
        "id": "dDsL-7MhLklK"
      },
      "execution_count": 67,
      "outputs": []
    },
    {
      "cell_type": "code",
      "source": [
        "# num_values = len(radiomics_features.columns)-2 \n",
        "# feature_list = radiomics_features.columns[2:] \n",
        "# feature_list[0]"
      ],
      "metadata": {
        "id": "k2os_jRtYm6X"
      },
      "execution_count": 68,
      "outputs": []
    },
    {
      "cell_type": "code",
      "source": [
        "# SeriesInstanceUID='1.2.840.113654.2.55.22770087029972268579113866309746562015'\n",
        "# SOPInstanceUID_seg='1.2.276.0.7230010.3.1.4.481037312.1199.1684330692.292908'\n",
        "# pred_dicomseg_path='/content/itkimage2segimage/1.2.840.113654.2.55.22770087029972268579113866309746562015/1.2.840.113654.2.55.22770087029972268579113866309746562015.dcm'\n",
        "# dcm_directory='/content/idc_data'\n",
        "# nnunet_segments_code_mapping_df=pd.read_csv('/content/TotalSegmentator v1 SCT mapping - total.csv')\n",
        "# nnunet_shape_features_code_mapping_df=pd.read_csv('/content/radiomicsFeaturesMaps.csv')\n",
        "# df_features=radiomics_features\n",
        "\n",
        "\n",
        "# measurement = [] \n",
        "# pyradiomics_version_number = str(radiomics.__version__)\n",
        "# num_values = len(radiomics_features.columns)-2 \n",
        "# feature_list = nnunet_shape_features_code_mapping_df.feature.to_list()\n",
        "\n",
        "\n",
        "\n",
        "# for n in range(0,len(feature_list)): \n",
        "#   measurement_dict = {}\n",
        "#   row = radiomics_features.loc[radiomics_features['body_part'] == 'clavicula_right']\n",
        "#   feature_row = nnunet_shape_features_code_mapping_df.loc[nnunet_shape_features_code_mapping_df[\"feature\"] == feature_list[n]]\n",
        "#   value = str(np.round(row[feature_list[n]].values[0],3))\n",
        "#   measurement_dict[\"value\"] = value\n",
        "#   measurement_dict[\"quantity\"] = {}\n",
        "#   measurement_dict[\"quantity\"][\"CodeValue\"] = str(feature_row[\"quantity_CodeValue\"].values[0])\n",
        "#   measurement_dict[\"quantity\"][\"CodingSchemeDesignator\"] = str(feature_row[\"quantity_CodingSchemeDesignator\"].values[0])\n",
        "#   measurement_dict[\"quantity\"][\"CodeMeaning\"] = str(feature_row[\"quantity_CodeMeaning\"].values[0])\n",
        "#   measurement_dict[\"units\"] = {}\n",
        "#   measurement_dict[\"units\"][\"CodeValue\"] = str(feature_row[\"units_CodeValue\"].values[0])\n",
        "#   measurement_dict[\"units\"][\"CodingSchemeDesignator\"] = str(feature_row[\"units_CodingSchemeDesignator\"].values[0])\n",
        "#   measurement_dict[\"units\"][\"CodeMeaning\"] = str(feature_row[\"units_CodeMeaning\"].values[0])\n",
        "#   measurement_dict[\"measurementAlgorithmIdentification\"] = {}\n",
        "#   measurement_dict[\"measurementAlgorithmIdentification\"][\"AlgorithmName\"] = \"pyradiomics\"\n",
        "#   measurement_dict[\"measurementAlgorithmIdentification\"][\"AlgorithmVersion\"] = str(pyradiomics_version_number)\n",
        "#   measurement.append(measurement_dict) \n",
        "\n",
        "# measurement"
      ],
      "metadata": {
        "id": "fBw0Z0ZPb5GL"
      },
      "execution_count": 69,
      "outputs": []
    },
    {
      "cell_type": "code",
      "source": [
        "# radiomics_features"
      ],
      "metadata": {
        "id": "xdO3c8Nb3OwA"
      },
      "execution_count": 70,
      "outputs": []
    },
    {
      "cell_type": "code",
      "source": [
        "# nnunet_segments_code_mapping_df=pd.read_csv('/content/TotalSegmentator v1 SCT mapping - total.csv')\n",
        "# nnunet_shape_features_code_mapping_df=pd.read_csv('/content/radiomicsFeaturesMaps.csv')\n",
        "# df_features=radiomics_features\n",
        "# segments_code_mapping_df=nnunet_segments_code_mapping_df\n",
        "\n",
        "\n",
        "# for segment_id in range(1,10):\n",
        "\n",
        "#     ReferencedSegment = radiomics_features['label_id'].values[segment_id]\n",
        "#     FindingSite = radiomics_features['body_part'].values[segment_id]\n",
        "#     print(FindingSite)\n",
        "#     # print('segment_id: ' + str(segment_id))\n",
        "#     # print('ReferencedSegment: ' + str(ReferencedSegment))\n",
        "#     # print('FindingSite: ' + str(FindingSite))\n",
        "\n",
        "#     # --- Create the dict for the Measurements group --- # \n",
        "#     TrackingIdentifier = \"Measurements group \" + str(ReferencedSegment)\n",
        "\n",
        "#     segment_row = segments_code_mapping_df[segments_code_mapping_df[\"Structure\"] == FindingSite]\n",
        "\n",
        "#     # segments_code_mapping_df = segments_code_mapping_df.set_index(\"Structure\")\n",
        "\n",
        "#     # segment_row = segments_code_mapping_df.loc[FindingSite]"
      ],
      "metadata": {
        "id": "-YQ_-Rtk236U"
      },
      "execution_count": 71,
      "outputs": []
    },
    {
      "cell_type": "code",
      "source": [
        "# SeriesInstanceUID='1.2.840.113654.2.55.22770087029972268579113866309746562015'\n",
        "# SOPInstanceUID_seg='1.2.276.0.7230010.3.1.4.481037312.1199.1684330692.292908'\n",
        "# pred_dicomseg_path='/content/itkimage2segimage/1.2.840.113654.2.55.22770087029972268579113866309746562015/1.2.840.113654.2.55.22770087029972268579113866309746562015.dcm'\n",
        "# dcm_directory='/content/idc_data'\n",
        "# nnunet_segments_code_mapping_df=pd.read_csv('/content/TotalSegmentator v1 SCT mapping - total.csv')\n",
        "# nnunet_shape_features_code_mapping_df=pd.read_csv('/content/radiomicsFeaturesMaps.csv')\n",
        "# df_features=radiomics_features\n",
        "\n",
        "# inputMetadata = create_structured_report_metajson_for_shape_features(SeriesInstanceUID, \n",
        "#                                                                        SOPInstanceUID_seg,\n",
        "#                                                                        pred_dicomseg_path, \n",
        "#                                                                        dcm_directory, \n",
        "#                                                                        nnunet_segments_code_mapping_df, \n",
        "#                                                                        nnunet_shape_features_code_mapping_df,\n",
        "#                                                                        df_features)\n",
        "\n",
        "# print ('created SR json for shape features')\n",
        "\n",
        "# # --- Write out json --- #\n",
        "\n",
        "# with open('a.json', 'w') as f:\n",
        "#   json.dump(inputMetadata, f, indent=2)\n",
        "# print ('wrote out json for shape features')"
      ],
      "metadata": {
        "id": "rwEQspJDVMMY"
      },
      "execution_count": 72,
      "outputs": []
    },
    {
      "cell_type": "code",
      "source": [
        "# inputImageLibraryDirectory= '/content/idc_data'\n",
        "# outputDICOM='output.dcm'\n",
        "# inputCompositeContextDirectory='/content/itkimage2segimage/1.2.840.113654.2.55.22770087029972268579113866309746562015'\n",
        "# inputMetadata_json='/content/a3.json'\n",
        "\n",
        "# !tid1500writer --inputImageLibraryDirectory $inputImageLibraryDirectory \\\n",
        "#               --outputDICOM $outputDICOM  \\\n",
        "#               --inputCompositeContextDirectory $inputCompositeContextDirectory \\\n",
        "#               --inputMetadata $inputMetadata_json\n",
        "\n"
      ],
      "metadata": {
        "id": "ESdPnAUfej97"
      },
      "execution_count": 73,
      "outputs": []
    }
  ],
  "metadata": {
    "celltoolbar": "Tags",
    "colab": {
      "provenance": [],
      "include_colab_link": true
    },
    "kernelspec": {
      "display_name": "Python 3 (ipykernel)",
      "language": "python",
      "name": "python3"
    },
    "language_info": {
      "codemirror_mode": {
        "name": "ipython",
        "version": 3
      },
      "file_extension": ".py",
      "mimetype": "text/x-python",
      "name": "python",
      "nbconvert_exporter": "python",
      "pygments_lexer": "ipython3",
      "version": "3.9.13"
    }
  },
  "nbformat": 4,
  "nbformat_minor": 0
}