{
  "cells": [
    {
      "cell_type": "markdown",
      "metadata": {
        "id": "view-in-github",
        "colab_type": "text"
      },
      "source": [
        "<a href=\"https://colab.research.google.com/github/vkt1414/Cloud-Resources-Workflows/blob/main/Notebooks/Totalsegmentator/inferenceTotalSegmentatorNotebook.ipynb\" target=\"_parent\"><img src=\"https://colab.research.google.com/assets/colab-badge.svg\" alt=\"Open In Colab\"/></a>"
      ]
    },
    {
      "cell_type": "markdown",
      "metadata": {
        "id": "_QhtMLIRPQsH"
      },
      "source": [
        "#**This Notebook does the second step in the split workflow on Terra**"
      ]
    },
    {
      "cell_type": "markdown",
      "metadata": {
        "id": "L6wX5zMpPYn8"
      },
      "source": [
        "The NIFTI files generated from first step are provided as input for Inference.\n",
        "\n",
        "\n",
        "Please cite:\n",
        "\n",
        "Jakob Wasserthal, Manfred Meyer, Hanns-Christian Breit, Joshy Cyriac, Shan Yang, & Martin Segeroth. (2022). TotalSegmentator: robust segmentation of 104 anatomical structures in CT images. https://doi.org/10.48550/arXiv.2208.05868\n",
        "\n",
        "Isensee, F., Jaeger, P.F., Kohl, S.A.A. et al. nnU-Net: a self-configuring method for deep learning-based biomedical image segmentation. Nat Methods 18, 203–211 (2021). https://doi.org/10.1038/s41592-020-01008-z"
      ]
    },
    {
      "cell_type": "markdown",
      "metadata": {
        "id": "_jcGevLmr3JW"
      },
      "source": [
        "###**Installing Packages**"
      ]
    },
    {
      "cell_type": "code",
      "execution_count": 1,
      "metadata": {
        "id": "p0BAKG7AOI9a"
      },
      "outputs": [],
      "source": [
        "%%capture\n",
        "#Installing lz4 for compression/decompression\n",
        "#xvfb required for previewing Totalsegmentator png images\n",
        "!apt-get install lz4 xvfb"
      ]
    },
    {
      "cell_type": "code",
      "execution_count": 2,
      "metadata": {
        "id": "R68Zs8VTrvKg"
      },
      "outputs": [],
      "source": [
        "%%capture\n",
        "#Installing Totalsegmentator for Inference\n",
        "#pyradiomics required for extracting radiomics features \n",
        "#nvidia-ml-py3 for capturing gpu utilization\n",
        "!pip install TotalSegmentator pyradiomics nvidia-ml-py3"
      ]
    },
    {
      "cell_type": "markdown",
      "metadata": {
        "id": "5nlRssXE5q5O"
      },
      "source": [
        "###**Importing Packages**"
      ]
    },
    {
      "cell_type": "code",
      "execution_count": 3,
      "metadata": {
        "colab": {
          "base_uri": "https://localhost:8080/"
        },
        "id": "tuihieSG5kjW",
        "outputId": "41ce4ff6-4db9-49ee-eea5-95574a2534c3"
      },
      "outputs": [
        {
          "output_type": "stream",
          "name": "stdout",
          "text": [
            "Tue Apr 18 22:13:33 2023\n",
            "\n",
            "Current directory :/content\n",
            "Python version    : 3.9.16 (main, Dec  7 2022, 01:11:51) \n"
          ]
        }
      ],
      "source": [
        "import glob\n",
        "import os\n",
        "import sys\n",
        "import shutil\n",
        "from pathlib import Path\n",
        "import time\n",
        "import subprocess\n",
        "from concurrent.futures import ThreadPoolExecutor\n",
        "from time import sleep\n",
        "from datetime import datetime\n",
        "import psutil\n",
        "import pandas as pd\n",
        "import matplotlib.pyplot as plt\n",
        "import nvidia_smi\n",
        "\n",
        "\n",
        "curr_dir   = Path().absolute()\n",
        "\n",
        "print(time.asctime(time.localtime()))\n",
        "print(\"\\nCurrent directory :{}\".format( curr_dir))\n",
        "print(\"Python version    :\", sys.version.split('\\n')[0])"
      ]
    },
    {
      "cell_type": "markdown",
      "metadata": {
        "id": "8l5mWkLoRGVX"
      },
      "source": [
        "###**Parameters for Papermill**"
      ]
    },
    {
      "cell_type": "code",
      "execution_count": 4,
      "metadata": {
        "id": "JJ-g6Lw2RDUp",
        "tags": [
          "parameters"
        ]
      },
      "outputs": [],
      "source": [
        "converterType='dcm2niix'\n",
        "niftiFilePath=''"
      ]
    },
    {
      "cell_type": "markdown",
      "metadata": {
        "id": "AhkrtpRH5MK1"
      },
      "source": [
        "###**Local testing**"
      ]
    },
    {
      "cell_type": "code",
      "execution_count": 5,
      "metadata": {
        "colab": {
          "base_uri": "https://localhost:8080/"
        },
        "id": "JifIJvxZ41OC",
        "outputId": "b1870aa6-9851-4948-c38c-c9323f689ac4"
      },
      "outputs": [
        {
          "output_type": "stream",
          "name": "stdout",
          "text": [
            "Looking in indexes: https://pypi.org/simple, https://us-python.pkg.dev/colab-wheels/public/simple/\n",
            "Requirement already satisfied: gdown in /usr/local/lib/python3.9/dist-packages (4.6.6)\n",
            "Requirement already satisfied: beautifulsoup4 in /usr/local/lib/python3.9/dist-packages (from gdown) (4.11.2)\n",
            "Requirement already satisfied: filelock in /usr/local/lib/python3.9/dist-packages (from gdown) (3.11.0)\n",
            "Requirement already satisfied: tqdm in /usr/local/lib/python3.9/dist-packages (from gdown) (4.65.0)\n",
            "Requirement already satisfied: six in /usr/local/lib/python3.9/dist-packages (from gdown) (1.16.0)\n",
            "Requirement already satisfied: requests[socks] in /usr/local/lib/python3.9/dist-packages (from gdown) (2.27.1)\n",
            "Requirement already satisfied: soupsieve>1.2 in /usr/local/lib/python3.9/dist-packages (from beautifulsoup4->gdown) (2.4)\n",
            "Requirement already satisfied: idna<4,>=2.5 in /usr/local/lib/python3.9/dist-packages (from requests[socks]->gdown) (3.4)\n",
            "Requirement already satisfied: certifi>=2017.4.17 in /usr/local/lib/python3.9/dist-packages (from requests[socks]->gdown) (2022.12.7)\n",
            "Requirement already satisfied: charset-normalizer~=2.0.0 in /usr/local/lib/python3.9/dist-packages (from requests[socks]->gdown) (2.0.12)\n",
            "Requirement already satisfied: urllib3<1.27,>=1.21.1 in /usr/local/lib/python3.9/dist-packages (from requests[socks]->gdown) (1.26.15)\n",
            "Requirement already satisfied: PySocks!=1.5.7,>=1.5.6 in /usr/local/lib/python3.9/dist-packages (from requests[socks]->gdown) (1.7.1)\n"
          ]
        }
      ],
      "source": [
        "!pip install gdown"
      ]
    },
    {
      "cell_type": "code",
      "execution_count": 6,
      "metadata": {
        "colab": {
          "base_uri": "https://localhost:8080/"
        },
        "id": "u3QXHGDp2htr",
        "outputId": "68358098-11f5-4351-84b6-0ded9c077c0a"
      },
      "outputs": [
        {
          "output_type": "stream",
          "name": "stdout",
          "text": [
            "Downloading...\n",
            "From: https://drive.google.com/uc?id=1LsRPn_gTWUwVZwrcnSllogTaw8MW2d2M\n",
            "To: /content/_1_downloadDicomAndConvertNiftiFiles.tar.lz4\n",
            "100% 464M/464M [00:06<00:00, 74.8MB/s]\n"
          ]
        }
      ],
      "source": [
        "!gdown \"https://drive.google.com/uc?id=1LsRPn_gTWUwVZwrcnSllogTaw8MW2d2M\" \n",
        "niftiFilePath= glob.glob(\"*.lz4\")[0]"
      ]
    },
    {
      "cell_type": "markdown",
      "metadata": {
        "id": "RrD7DBKTJIHT"
      },
      "source": [
        "###**Decompressing NIFTI files from first step**"
      ]
    },
    {
      "cell_type": "code",
      "execution_count": 7,
      "metadata": {
        "colab": {
          "base_uri": "https://localhost:8080/"
        },
        "id": "y_so3BoXMa10",
        "outputId": "b26fa3c9-3ba8-4dfc-b0ad-c58f05b5067a"
      },
      "outputs": [
        {
          "output_type": "stream",
          "name": "stdout",
          "text": [
            "dcm2niix/\n",
            "dcm2niix/1.3.6.1.4.1.14519.5.2.1.7009.9004.118722452529394350711166589345/\n",
            "dcm2niix/1.3.6.1.4.1.14519.5.2.1.7009.9004.118722452529394350711166589345/1.3.6.1.4.1.14519.5.2.1.7009.9004.11872245252939435071116658934_1_OPA_GE_LSPR16_STANDARD_330_2.5_120_80_58.2_1.4_20000102000000_2.nii.gz\n",
            "dcm2niix/1.3.6.1.4.1.14519.5.2.1.7009.9004.431377773401197924485551006033/\n",
            "dcm2niix/1.3.6.1.4.1.14519.5.2.1.7009.9004.431377773401197924485551006033/1.3.6.1.4.1.14519.5.2.1.7009.9004.43137777340119792448555100603_1_OPA_GE_LS16_STANDARD_339_2.5_120_40_29.1_1.4_20000102000000_2.nii.gz\n",
            "dcm2niix/1.2.840.113654.2.55.100875189782210690344207306235124901243/\n",
            "dcm2niix/1.2.840.113654.2.55.100875189782210690344207306235124901243/1.2.840.113654.2.55.100875189782210690344207306235124901243_0_OPA_GE_LSQX_STANDARD_360_2.5_120_na_na_na_19990102000000_2.nii.gz\n",
            "dcm2niix/1.2.840.113654.2.55.113040386178547843571271236478024341696/\n",
            "dcm2niix/1.2.840.113654.2.55.113040386178547843571271236478024341696/1.2.840.113654.2.55.113040386178547843571271236478024341696_0_OPA_GE_LSQX_STANDARD_352_2.5_120_64_0.1_1.5_19990102000000_2.nii.gz\n",
            "dcm2niix/1.2.840.113654.2.55.142419057730651121165090739113900499978/\n",
            "dcm2niix/1.2.840.113654.2.55.142419057730651121165090739113900499978/1.2.840.113654.2.55.142419057730651121165090739113900499978_2_OPA_GE_LSQX_BONE_360_2.5_120_72_0.1_1.5_20010102000000_3.nii.gz\n",
            "dcm2niix/1.2.840.113654.2.55.14382674871619950799472325766084940706/\n",
            "dcm2niix/1.2.840.113654.2.55.14382674871619950799472325766084940706/1.2.840.113654.2.55.14382674871619950799472325766084940706_0_OPA_GE_LSQX_STANDARD_350_2.5_120_na_na_na_19990102000000_2.nii.gz\n",
            "dcm2niix/1.2.840.113654.2.55.146601594654322994982630019583270053397/\n",
            "dcm2niix/1.2.840.113654.2.55.146601594654322994982630019583270053397/1.2.840.113654.2.55.146601594654322994982630019583270053397_1_OPA_GE_LSQX_STANDARD_360_2.5_140_40_0_1.5_20000102000000_2.nii.gz\n",
            "dcm2niix/1.2.840.113654.2.55.154809705591242159075253605419469935510/\n",
            "dcm2niix/1.2.840.113654.2.55.154809705591242159075253605419469935510/1.2.840.113654.2.55.154809705591242159075253605419469935510_0_OPA_GE_LSQX_STANDARD_310_2.5_120_64_0.1_1.5_19990102000000_2.nii.gz\n",
            "dcm2niix/1.2.840.113654.2.55.185309182591805634517860395342326800332/\n",
            "dcm2niix/1.2.840.113654.2.55.185309182591805634517860395342326800332/1.2.840.113654.2.55.185309182591805634517860395342326800332_1_OPA_GE_LSQX_STANDARD_360_2.5_120_48_0_1.5_20000102000000_2.nii.gz\n",
            "dcm2niix/1.2.840.113654.2.55.216614002338888733987350522981366678482/\n",
            "dcm2niix/1.2.840.113654.2.55.216614002338888733987350522981366678482/1.2.840.113654.2.55.216614002338888733987350522981366678482_0_OPA_GE_HSQX_BONE_340_2.5_120_56_0.1_1.5_19990102000000_3.nii.gz\n",
            "dcm2niix/1.2.840.113654.2.55.22770087029972268579113866309746562015/\n",
            "dcm2niix/1.2.840.113654.2.55.22770087029972268579113866309746562015/1.2.840.113654.2.55.22770087029972268579113866309746562015_1_OPA_GE_HSQX_STANDARD_380_2.5_120_56_0.1_1.5_20000102000000_2.nii.gz\n",
            "dcm2niix/1.2.840.113654.2.55.243990451406006403331425809632881193215/\n",
            "dcm2niix/1.2.840.113654.2.55.243990451406006403331425809632881193215/1.2.840.113654.2.55.243990451406006403331425809632881193215_1_OPA_GE_LSQX_STANDARD_360_2.5_120_64_0.1_1.5_20000102000000_2.nii.gz\n"
          ]
        }
      ],
      "source": [
        "!lz4 -d {niftiFilePath} -c | tar  --strip-components=0  -xvf -"
      ]
    },
    {
      "cell_type": "markdown",
      "metadata": {
        "id": "hGbSvle4RSpd"
      },
      "source": [
        "###**Defining Functions**"
      ]
    },
    {
      "cell_type": "code",
      "execution_count": 8,
      "metadata": {
        "id": "sqeESHc7ntX8"
      },
      "outputs": [],
      "source": [
        "#create directory for TotalSegmentator Output files\n",
        "try:\n",
        "  shutil.rmtree('Inference')\n",
        "  shutil.rmtree('metadata')\n",
        "except OSError:\n",
        "  pass\n",
        "os.mkdir('Inference')\n",
        "os.mkdir('metadata')"
      ]
    },
    {
      "cell_type": "code",
      "execution_count": 9,
      "metadata": {
        "id": "cGQ_URr1pQpj"
      },
      "outputs": [],
      "source": [
        "class MemoryMonitor:\n",
        "    def __init__(self):\n",
        "        self.keep_measuring = True\n",
        "\n",
        "    def measure_usage(self):\n",
        "        cpu_usage = []\n",
        "        ram_usage_mb=[]\n",
        "        gpu_usage_mb=[]\n",
        "        disk_usage_all=[]\n",
        "        time_stamps = []\n",
        "        start_time = time.time()\n",
        "        while self.keep_measuring:\n",
        "            cpu = psutil.cpu_percent()\n",
        "            ram = psutil.virtual_memory()\n",
        "            disk_used= psutil.disk_usage('/').used/1024/1024/1024\n",
        "            disk_total= psutil.disk_usage('/').total/1024/1024/1024\n",
        "            ram_total_mb = psutil.virtual_memory().total / 1024 / 1024\n",
        "            ram_mb = (ram.total - ram.available) / 1024 / 1024\n",
        "\n",
        "            nvidia_smi.nvmlInit()\n",
        "            handle = nvidia_smi.nvmlDeviceGetHandleByIndex(0)\n",
        "            info = nvidia_smi.nvmlDeviceGetMemoryInfo(handle)\n",
        "            gpu_type = nvidia_smi.nvmlDeviceGetName(handle)\n",
        "            gpu_total_mb = info.total/1024/1024\n",
        "            gpu_mb = info.used/1024/1024\n",
        "            nvidia_smi.nvmlShutdown()\n",
        "\n",
        "            cpu_usage.append(cpu)\n",
        "            ram_usage_mb.append(ram_mb)\n",
        "            disk_usage_all.append(disk_used)\n",
        "            gpu_usage_mb.append(gpu_mb)\n",
        "            time_stamps.append(time.time()- start_time)\n",
        "            sleep(1)\n",
        "\n",
        "        return cpu_usage, ram_usage_mb, time_stamps, ram_total_mb, gpu_usage_mb, gpu_total_mb, gpu_type, disk_usage_all, disk_total"
      ]
    },
    {
      "cell_type": "code",
      "execution_count": 10,
      "metadata": {
        "id": "tXm-eEONAHMX"
      },
      "outputs": [],
      "source": [
        "def check_total_segmentator_errors(series_id):\n",
        "    try:\n",
        "        # Check if the output files from TotalSegmentator exist\n",
        "        assert os.path.exists(f\"{curr_dir}/Inference/{series_id}/segmentations.nii\")\n",
        "        assert os.path.exists(f\"{curr_dir}/Inference/{series_id}/statistics_radiomics.json\")\n",
        "        assert os.path.exists(f\"{curr_dir}/Inference/{series_id}/preview_total.png\")\n",
        "    except AssertionError:\n",
        "        # If any of the output files do not exist, log an error\n",
        "        with open('totalsegmentator_errors.txt', 'a') as f:\n",
        "            f.write(f\"Error: TotalSegmentator failed for series {series_id}\\n\")\n",
        "        return True\n",
        "    return False"
      ]
    },
    {
      "cell_type": "code",
      "execution_count": 11,
      "metadata": {
        "id": "10_jVVTElNZ5"
      },
      "outputs": [],
      "source": [
        "def inferenceTotalSegmentator(series_id):\n",
        "      try:\n",
        "        shutil.rmtree(f'Inference/{series_id}')\n",
        "        shutil.rmtree(f'metadata/{series_id}')\n",
        "        os.remove('segmentations.nii.gz')\n",
        "        os.remove('statistics_radiomics.json')\n",
        "        os.remove('preview_total.png')\n",
        "      except OSError:\n",
        "        pass\n",
        "      os.mkdir(f'Inference/{series_id}')\n",
        "      os.mkdir(f'metadata/{series_id}')\n",
        "\n",
        "      print(\"Processing series: \"+series_id)  \n",
        "\n",
        "      log = pd.DataFrame({'SeriesInstanceUID': [series_id]}) \n",
        "      series_id_folder_path= os.path.join(curr_dir, converterType, series_id)\n",
        "      # Get the list of files in series_id_path\n",
        "      nifti_files = os.listdir(series_id_folder_path)\n",
        "      # Get the first (and only) file in the list\n",
        "      nifti_filename = nifti_files[0]\n",
        "      # Get the full path of the file\n",
        "      nifti_filename_path = os.path.join(series_id_folder_path, nifti_filename)\n",
        "  \n",
        "      start_time = time.time()\n",
        "      #!TotalSegmentator -i {nifti_filename_path} -o segmentations --ml --fast --preview  --radiomics \n",
        "      result=subprocess.run(['TotalSegmentator', '-i', nifti_filename_path, '-o', 'segmentations', '--ml', '--preview', '--radiomics'],stdout=subprocess.PIPE, stderr=subprocess.PIPE,  universal_newlines=True)\n",
        "      print(result.stdout)\n",
        "      total_segmentator_time = time.time() - start_time\n",
        "\n",
        "\n",
        "\n",
        "      try:\n",
        "        subprocess.run([\"mv\", f\"{curr_dir}/preview_total.png\", f\"{curr_dir}/segmentations.nii\", f\"{curr_dir}/statistics_radiomics.json\", f\"{curr_dir}/Inference/{series_id}/\"], check=True)\n",
        "        print(\"Files moved successfully using the first command\")\n",
        "      except subprocess.CalledProcessError:\n",
        "        try:\n",
        "            subprocess.run([\"mv\", \"segmentations/preview_total.png\", \"segmentations/segmentations.nii\", \"segmentations/statistics_radiomics.json\", f\"{curr_dir}/Inference/{series_id}/\"], check=True)\n",
        "            print(\"Files moved successfully using the second command\")\n",
        "        except subprocess.CalledProcessError:\n",
        "                print(\"Error: Failed to move files using both commands\")\n",
        "\n",
        " \n",
        "      check_total_segmentator_errors(series_id)  \n",
        "      \n",
        "      #!mv {curr_dir}/preview_total.png {curr_dir}/segmentations.nii {curr_dir}/statistics_radiomics.json {curr_dir}/Inference/{series_id}/\n",
        "      !mv {curr_dir}/Inference/{series_id}/segmentations.nii {curr_dir}/Inference/{series_id}/{series_id}.nii\n",
        "      !mv {curr_dir}/Inference/{series_id}/statistics_radiomics.json {curr_dir}/Inference/{series_id}/{series_id}_statistics_radiomics.json      \n",
        "      !mv {curr_dir}/Inference/{series_id}/preview_total.png {curr_dir}/Inference/{series_id}/{series_id}_preview_total.png\n",
        "\n",
        "      \n",
        "      start_time = time.time()  \n",
        "      !lz4 {curr_dir}/Inference/{series_id}/{series_id}.nii {curr_dir}/Inference/{series_id}/{series_id}.nii.lz4\n",
        "      !tar cvf - -C {curr_dir}/Inference/{series_id} {series_id}_statistics_radiomics.json {series_id}_preview_total.png | lz4  > metadata/{series_id}_metadata.tar.lz4\n",
        "      archiving_time = time.time() - start_time\n",
        "\n",
        "      log['total_segmentator_time']=total_segmentator_time\n",
        "      log['archiving_time'] = archiving_time\n",
        "      \n",
        "\n",
        "      !rm -r {curr_dir}/Inference/{series_id}/{series_id}.nii {curr_dir}/Inference/{series_id}/{series_id}_statistics_radiomics.json {curr_dir}/Inference/{series_id}/{series_id}_preview_total.png\n",
        "      !rm -r {curr_dir}/{converterType}/{series_id}\n",
        "      global runtime_stats\n",
        "      runtime_stats = pd.concat([runtime_stats, log], ignore_index=True, axis=0)"
      ]
    },
    {
      "cell_type": "markdown",
      "metadata": {
        "id": "b_L2B-sjRf_1"
      },
      "source": [
        "###**Total Segmentator**"
      ]
    },
    {
      "cell_type": "code",
      "execution_count": null,
      "metadata": {
        "colab": {
          "base_uri": "https://localhost:8080/"
        },
        "id": "rZfAhcQopl59",
        "outputId": "e90309dc-f2ee-48cc-ac1a-1e8988059b07"
      },
      "outputs": [
        {
          "output_type": "stream",
          "name": "stdout",
          "text": [
            "Processing series: 1.2.840.113654.2.55.22770087029972268579113866309746562015\n"
          ]
        }
      ],
      "source": [
        "runtime_stats = pd.DataFrame(columns=['SeriesInstanceUID','total_segmentator_time',\n",
        "                                      'archiving_time', 'cpu_usage','ram_usage_mb', 'ram_total_mb', \n",
        "                                      'gpu_usage_mb', 'gpu_total_mb', 'gpu_type', 'disk_usage_all', 'disk_total'\n",
        "                                      ])\n",
        "if __name__ == \"__main__\":\n",
        "    for series_id in os.listdir(f'{curr_dir}/{converterType}'):\n",
        "        with ThreadPoolExecutor() as executor:\n",
        "            monitor = MemoryMonitor()\n",
        "            mem_thread = executor.submit(monitor.measure_usage)\n",
        "            try:\n",
        "                proc_thread = executor.submit(inferenceTotalSegmentator, series_id)\n",
        "                proc_thread.result()\n",
        "            finally:\n",
        "                monitor.keep_measuring = False\n",
        "                cpu_usage, ram_usage_mb, time_stamps, ram_total_mb, gpu_usage_mb, gpu_total_mb, gpu_type, disk_usage_all, disk_total= mem_thread.result()\n",
        "                \n",
        "                cpu_idx = runtime_stats.index[runtime_stats['SeriesInstanceUID'] == series_id][0]\n",
        "                runtime_stats.iloc[cpu_idx, runtime_stats.columns.get_loc('cpu_usage')] = [[cpu_usage]]\n",
        "\n",
        "                ram_usage_mb_idx = runtime_stats.index[runtime_stats['SeriesInstanceUID'] == series_id][0]\n",
        "                runtime_stats.iloc[ram_usage_mb_idx, runtime_stats.columns.get_loc('ram_usage_mb')] = [[ram_usage_mb]]\n",
        "                \n",
        "                ram_total_mb_idx = runtime_stats.index[runtime_stats['SeriesInstanceUID'] == series_id][0]\n",
        "                runtime_stats.iloc[ram_total_mb_idx, runtime_stats.columns.get_loc('ram_total_mb')] = [[ram_total_mb]]\n",
        "\n",
        "                gpu_total_mb_idx = runtime_stats.index[runtime_stats['SeriesInstanceUID'] == series_id][0]\n",
        "                runtime_stats.iloc[gpu_total_mb_idx, runtime_stats.columns.get_loc('gpu_total_mb')] = [[gpu_total_mb]]\n",
        "\n",
        "                gpu_usage_mb_idx = runtime_stats.index[runtime_stats['SeriesInstanceUID'] == series_id][0]\n",
        "                runtime_stats.iloc[gpu_usage_mb_idx, runtime_stats.columns.get_loc('gpu_usage_mb')] = [[gpu_usage_mb]]\n",
        "\n",
        "                disk_usage_gb_idx = runtime_stats.index[runtime_stats['SeriesInstanceUID'] == series_id][0]\n",
        "                runtime_stats.iloc[disk_usage_gb_idx, runtime_stats.columns.get_loc('disk_usage_all')] = [[disk_usage_all]]\n",
        "\n",
        "                runtime_stats['gpu_type']=gpu_type\n",
        "                runtime_stats['disk_total']=disk_total    \n",
        "\n",
        "                fig, ((ax1, ax2), (ax3, ax4)) = plt.subplots(2,2, figsize=(8, 6)) \n",
        "\n",
        "                ax1.plot(time_stamps, cpu_usage)\n",
        "                ax1.set_ylim(0, 100)\n",
        "                ax1.set_xlabel('Time (s)')\n",
        "                ax1.set_ylabel('CPU usage (%)')\n",
        "\n",
        "                ax2.plot(time_stamps, ram_usage_mb)\n",
        "                ax2.set_ylim(0, ram_total_mb)\n",
        "                ax2.set_xlabel('Time (s)')\n",
        "                ax2.set_ylabel('Memory usage (MB)')\n",
        "\n",
        "                ax3.plot(time_stamps, gpu_usage_mb)\n",
        "                ax3.set_ylim(0, gpu_total_mb)\n",
        "                ax3.set_xlabel('Time (s)')\n",
        "                ax3.set_ylabel('GPU Memory usage (MB)')\n",
        "\n",
        "                ax4.plot(time_stamps, disk_usage_all)\n",
        "                ax4.set_ylim(0, disk_total)\n",
        "                ax4.set_xlabel('Time (s)')\n",
        "                ax4.set_ylabel('Disk usage (GB)')\n",
        "                plt.show()"
      ]
    },
    {
      "cell_type": "markdown",
      "metadata": {
        "id": "KzCG2YATRtVH"
      },
      "source": [
        "###Compressing Output Files"
      ]
    },
    {
      "cell_type": "code",
      "execution_count": null,
      "metadata": {
        "id": "bxuuD6yqdmzF"
      },
      "outputs": [],
      "source": [
        "start_time = time.time()\n",
        "try:\n",
        "  os.remove('inferenceNiftiFiles.tar.lz4')\n",
        "  os.remove('metadata.tar.lz4')\n",
        "except OSError:\n",
        "  pass\n",
        "!tar cvf - -C {curr_dir} Inference | lz4 > inferenceNiftiFiles.tar.lz4\n",
        "!tar cvf - -C {curr_dir} metadata | lz4 > inferenceMetaData.tar.lz4\n",
        "archiving_time = time.time() - start_time\n"
      ]
    },
    {
      "cell_type": "markdown",
      "metadata": {
        "id": "n4pMpClKRzEe"
      },
      "source": [
        "###**Utilization Metrics**"
      ]
    },
    {
      "cell_type": "code",
      "execution_count": null,
      "metadata": {
        "id": "Lc7Hep0lkJWd"
      },
      "outputs": [],
      "source": [
        "runtime_stats.to_csv('runtime.csv')\n",
        "runtime_stats['archiving_time']=archiving_time\n",
        "try:\n",
        "  os.remove('inferenceUsageMetrics.lz4')\n",
        "except OSError:\n",
        "  pass\n",
        "!lz4 {curr_dir}/runtime.csv inferenceUsageMetrics.lz4\n",
        "runtime_stats"
      ]
    }
  ],
  "metadata": {
    "accelerator": "GPU",
    "celltoolbar": "Tags",
    "colab": {
      "provenance": [],
      "include_colab_link": true
    },
    "gpuClass": "standard",
    "kernelspec": {
      "display_name": "Python 3 (ipykernel)",
      "language": "python",
      "name": "python3"
    },
    "language_info": {
      "codemirror_mode": {
        "name": "ipython",
        "version": 3
      },
      "file_extension": ".py",
      "mimetype": "text/x-python",
      "name": "python",
      "nbconvert_exporter": "python",
      "pygments_lexer": "ipython3",
      "version": "3.9.13"
    }
  },
  "nbformat": 4,
  "nbformat_minor": 0
}