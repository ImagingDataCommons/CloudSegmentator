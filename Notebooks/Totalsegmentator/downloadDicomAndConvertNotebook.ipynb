{
  "cells": [
    {
      "cell_type": "markdown",
      "metadata": {
        "id": "view-in-github",
        "colab_type": "text"
      },
      "source": [
        "<a href=\"https://colab.research.google.com/github/vkt1414/Cloud-Resources-Workflows/blob/main/Notebooks/Totalsegmentator/downloadDicomAndConvertNotebook.ipynb\" target=\"_parent\"><img src=\"https://colab.research.google.com/assets/colab-badge.svg\" alt=\"Open In Colab\"/></a>"
      ]
    },
    {
      "cell_type": "code",
      "execution_count": 68,
      "metadata": {
        "id": "hT_MQVJ_NbZU"
      },
      "outputs": [],
      "source": [
        "%%capture\n",
        "!apt-get install dcm2niix"
      ]
    },
    {
      "cell_type": "code",
      "execution_count": 69,
      "metadata": {
        "id": "eoxmjmJgnWKR"
      },
      "outputs": [],
      "source": [
        "%%capture\n",
        "!pip install pyplastimatch "
      ]
    },
    {
      "cell_type": "code",
      "execution_count": 70,
      "metadata": {
        "id": "N2Z3udYNn7ur"
      },
      "outputs": [],
      "source": [
        "%%capture\n",
        "!apt install plastimatch "
      ]
    },
    {
      "cell_type": "code",
      "execution_count": 71,
      "metadata": {
        "colab": {
          "base_uri": "https://localhost:8080/"
        },
        "id": "rXY1-bMRruQj",
        "outputId": "1c30cd58-bb91-459f-b254-4a26a0a1ca8a"
      },
      "outputs": [
        {
          "output_type": "stream",
          "name": "stdout",
          "text": [
            "plastimatch version 1.8.0\n"
          ]
        }
      ],
      "source": [
        "!plastimatch --version"
      ]
    },
    {
      "cell_type": "code",
      "execution_count": 72,
      "metadata": {
        "id": "cMi94BlAQrb5"
      },
      "outputs": [],
      "source": [
        "%%capture\n",
        "#install s5cmd\n",
        "!wget \"https://github.com/peak/s5cmd/releases/download/v2.0.0/s5cmd_2.0.0_Linux-64bit.tar.gz\"\n",
        "!tar -xvzf \"s5cmd_2.0.0_Linux-64bit.tar.gz\"\n",
        "!rm \"s5cmd_2.0.0_Linux-64bit.tar.gz\"\n",
        "!mv s5cmd /usr/local/bin/s5cmd"
      ]
    },
    {
      "cell_type": "code",
      "execution_count": 73,
      "metadata": {
        "id": "mWLvDAwIQcg1"
      },
      "outputs": [],
      "source": [
        "import os\n",
        "import time\n",
        "import pandas as pd"
      ]
    },
    {
      "cell_type": "code",
      "execution_count": 74,
      "metadata": {
        "id": "LZMjMRsyQyCH"
      },
      "outputs": [],
      "source": [
        "cohort_df= pd.read_csv('/content/drive/MyDrive/bq-results-20230315-160529-1678896367937/bq-results-20230315-160529-1678896367937.csv')\n"
      ]
    },
    {
      "cell_type": "code",
      "execution_count": 75,
      "metadata": {
        "id": "jDxZvqDlR5Cc"
      },
      "outputs": [],
      "source": [
        "#SeriesInstanceUIDs= cohort_df[\"SeriesInstanceUID\"].values.tolist()\n",
        "SeriesInstanceUIDs=[\n",
        "'1.3.6.1.4.1.14519.5.2.1.7009.9004.318602497855340168746421125221'\n",
        "# '1.3.6.1.4.1.14519.5.2.1.7009.9004.946109466334058509440732472138',\n",
        "# '1.2.840.113654.2.55.99651797089556982668213819691341139949',\n",
        "# '1.3.6.1.4.1.14519.5.2.1.7009.9004.232085097739286069987727730632',\n",
        "# '1.3.6.1.4.1.14519.5.2.1.7009.9004.171396052820297460506369313586',\n",
        "# '1.3.6.1.4.1.14519.5.2.1.7009.9004.157523143808189016007292783743',\n",
        "# '1.3.6.1.4.1.14519.5.2.1.7009.9004.120962159182977025862744100528',\n",
        "# '1.3.6.1.4.1.14519.5.2.1.7009.9004.233720172411521069206993854389',\n",
        "# '1.3.6.1.4.1.14519.5.2.1.7009.9004.173170853908044997397123665862',\n",
        "# '1.3.6.1.4.1.14519.5.2.1.7009.9004.188290278428073689858811092699',\n",
        "# '1.3.6.1.4.1.14519.5.2.1.7009.9004.142140685181040038525271327574',\n",
        "# '1.3.6.1.4.1.14519.5.2.1.7009.9004.919262012980081990607078665322',\n",
        "# '1.3.6.1.4.1.14519.5.2.1.7009.9004.287814520939797980646993158146'    \n",
        "\n",
        "    \n",
        "]"
      ]
    },
    {
      "cell_type": "code",
      "execution_count": 76,
      "metadata": {
        "id": "L5W5GJ6SSA3r"
      },
      "outputs": [],
      "source": [
        "from pathlib import Path\n",
        "curr_dir   = Path().absolute()\n",
        "!rm -r dcm2niix plastimatch\n",
        "!mkdir dcm2niix plastimatch\n",
        "import subprocess"
      ]
    },
    {
      "cell_type": "code",
      "execution_count": 77,
      "metadata": {
        "id": "QFG0KcZ_QPyG"
      },
      "outputs": [],
      "source": [
        "def download_dicom_data(series_id):\n",
        "\n",
        "  \"\"\"\n",
        "  Download raw DICOM data and run dicomsort to standardise the input format.\n",
        "  \"\"\"\n",
        "  global cohort_df\n",
        "  gs_file_path = \"s5cmd_manifest.txt\"\n",
        "  #cohort_df = bq_client.query(selection_query).to_dataframe()\n",
        "  series_df=cohort_df[cohort_df['SeriesInstanceUID']==series_id]\n",
        "  series_df[\"s5cmd_cp_url\"].to_csv(gs_file_path, header = False, index = False)\n",
        "  #remove double quotes from the manifest file\n",
        "  !sed -i 's/\"//g' s5cmd_manifest.txt  \n",
        "\n",
        "  start_time = time.time()\n",
        "  print(\"Copying files from IDC buckets..\")\n",
        "\n",
        "  #!cat $gs_file_path | gsutil -q -m cp -Ir $download_path >> /dev/null\n",
        "  !s5cmd --no-sign-request --endpoint-url https://storage.googleapis.com run s5cmd_manifest.txt  >> /dev/null\n",
        "\n",
        "  elapsed = time.time() - start_time\n",
        "  print(\"Done in %g seconds.\"%elapsed)"
      ]
    },
    {
      "cell_type": "code",
      "source": [
        "import os\n",
        "import subprocess\n",
        "cwd = os.getcwd()\n",
        "def convert_dicom_to_nifti(series_id):\n",
        "  # !rm -r dcm2niix/{series_id}  \n",
        "  # !mkdir dcm2niix/{series_id} \n",
        "  # !dcm2niix -z y -f %j_%p_%t_%s -b n -m y -v y -o  /content/dcm2niix/{series_id}  /content/idc_data/{series_id}\n",
        "  #subprocess.run([\"dcm2niix\", \"-z\", \"y\", \"-f\", \"%j_%p_%t_%s\", \"-b\", \"n\", \"-m\", \"y\", \"-o\",\n",
        "  #              f\"{cwd}/dcm2niix/{series_id}\", f\"{cwd}/idc_data/{series_id}\"])\n",
        "  !rm -r plastimatch/{series_id} >> /dev/null\n",
        "  !mkdir plastimatch/{series_id} \n",
        "  subprocess.run([\"plastimatch\", \"convert\", \"--input\", f\"{cwd}/idc_data/{series_id}\",\n",
        "                \"--output-img\", f\"{cwd}/plastimatch/{series_id}/{series_id}.nii.gz\"])\n",
        "  #To do !plastimatch convert --input $cwd/idc_data/$series_id --output-img $cwd/plastimatch/$series_id/$series_id.nii.gz\n",
        "  !rm -r idc_data/{series_id} "
      ],
      "metadata": {
        "id": "s0SPIZ5RTxDb"
      },
      "execution_count": 78,
      "outputs": []
    },
    {
      "cell_type": "code",
      "source": [
        "import os\n",
        "import zipfile\n",
        "from concurrent.futures import ThreadPoolExecutor\n",
        "from time import sleep\n",
        "from datetime import datetime\n",
        "import psutil\n",
        "import pandas as pd\n",
        "import matplotlib.pyplot as plt\n",
        "\n",
        "class MemoryMonitor:\n",
        "    def __init__(self):\n",
        "        self.keep_measuring = True\n",
        "\n",
        "    def measure_usage(self):\n",
        "        cpu_usage = []\n",
        "        ram_usage_mb=[]\n",
        "        time_stamps = []\n",
        "        start_time = time.time()\n",
        "        while self.keep_measuring:\n",
        "            cpu = psutil.cpu_percent()\n",
        "            ram = psutil.virtual_memory()\n",
        "            ram_total_mb = psutil.virtual_memory().total / 1024 / 1024\n",
        "            ram_mb = (ram.total - ram.available) / 1024 / 1024\n",
        "            cpu_usage.append(cpu)\n",
        "            ram_usage_mb.append(ram_mb)\n",
        "            time_stamps.append(time.time()- start_time)\n",
        "            sleep(1)\n",
        "\n",
        "        return cpu_usage, ram_usage_mb, time_stamps, ram_total_mb"
      ],
      "metadata": {
        "id": "fGX6gofuPhjf"
      },
      "execution_count": 80,
      "outputs": []
    },
    {
      "cell_type": "code",
      "source": [
        "def download_and_process_series(series_id):\n",
        "    log = pd.DataFrame({'SeriesInstanceUID': [series_id]})\n",
        "\n",
        "    start_time = time.time()\n",
        "    download_dicom_data( series_id)\n",
        "    download_time = time.time() - start_time\n",
        "\n",
        "    log['download_time'] = download_time\n",
        "\n",
        "    start_time = time.time()\n",
        "    convert_dicom_to_nifti(series_id)\n",
        "    convert_dicom_to_nifti_time = time.time() - start_time\n",
        "\n",
        "    log['NiftiConverter_time'] = convert_dicom_to_nifti_time\n",
        "\n",
        "    global runtime_stats\n",
        "    runtime_stats = runtime_stats.append(log, ignore_index=True)\n",
        "\n"
      ],
      "metadata": {
        "id": "oKATbtgwPjX9"
      },
      "execution_count": 81,
      "outputs": []
    },
    {
      "cell_type": "code",
      "source": [
        "runtime_stats = pd.DataFrame(columns=['SeriesInstanceUID','download_time',\n",
        "                                      'NiftiConverter_time', 'cpu_usage','ram_usage_mb', 'ram_total_mb'\n",
        "                                      ])\n",
        "if __name__ == \"__main__\":\n",
        "    for series_id in SeriesInstanceUIDs:\n",
        "        with ThreadPoolExecutor() as executor:\n",
        "            monitor = MemoryMonitor()\n",
        "            mem_thread = executor.submit(monitor.measure_usage)\n",
        "            try:\n",
        "                proc_thread = executor.submit(download_and_process_series, series_id)\n",
        "                proc_thread.result()\n",
        "            finally:\n",
        "                monitor.keep_measuring = False\n",
        "                cpu_usage, ram_usage_mb, time_stamps, ram_total_mb = mem_thread.result()\n",
        "                \n",
        "                cpu_idx = runtime_stats.index[runtime_stats['SeriesInstanceUID'] == series_id][0]\n",
        "                runtime_stats.iloc[cpu_idx, runtime_stats.columns.get_loc('cpu_usage')] = [[cpu_usage]]\n",
        "\n",
        "                ram_usage_mb_idx = runtime_stats.index[runtime_stats['SeriesInstanceUID'] == series_id][0]\n",
        "                runtime_stats.iloc[ram_usage_mb_idx, runtime_stats.columns.get_loc('ram_usage_mb')] = [[ram_usage_mb]]\n",
        "                \n",
        "                ram_total_mb_idx = runtime_stats.index[runtime_stats['SeriesInstanceUID'] == series_id][0]\n",
        "                runtime_stats.iloc[ram_total_mb_idx, runtime_stats.columns.get_loc('ram_total_mb')] = [[ram_total_mb]]\n",
        "                \n",
        "                \n",
        "                #runtime_stats.at[runtime_stats['SeriesInstanceUID']==series_id, 'cpu_usage']=[[cpu_usage]]\n",
        "                #runtime_stats.at[runtime_stats['SeriesInstanceUID']==series_id, 'ram_usage_mb']=[[ram_usage_mb]]\n",
        "                #runtime_stats.at[runtime_stats['SeriesInstanceUID']==series_id, 'ram_total_mb']=[[ram_total_mb]]\n",
        "\n",
        "                plt.plot(time_stamps, cpu_usage)\n",
        "                plt.ylim(0, 100)\n",
        "                plt.xlabel('Time (s)')\n",
        "                plt.ylabel('CPU usage (%)')\n",
        "                plt.show()\n",
        "\n",
        "                plt.plot(time_stamps, ram_usage_mb)\n",
        "                plt.ylim(0, ram_total_mb)\n",
        "                plt.xlabel('Time (s)')\n",
        "                plt.ylabel('Memory usage (MB)')\n",
        "                plt.show()\n",
        "\n",
        "runtime_stats.to_csv('runtime.csv')\n",
        "subprocess.run([\"zip\", \"-j\", \"-r\", \"downloadDicomAndConvertNiftiFiles.zip\", os.path.join(curr_dir, \"runtime.csv\")])\n",
        "subprocess.run([\"zip\", \"-j\", \"-r\", \"downloadDicomAndConvertNiftiFiles.zip\", os.path.join(curr_dir, \"plastimatch\")])"
      ],
      "metadata": {
        "colab": {
          "base_uri": "https://localhost:8080/",
          "height": 669
        },
        "id": "ZTtOJ7CtQYkX",
        "outputId": "a717e487-c43c-4346-d7eb-056e35eb64c3"
      },
      "execution_count": 82,
      "outputs": [
        {
          "output_type": "stream",
          "name": "stdout",
          "text": [
            "Copying files from IDC buckets..\n",
            "Done in 3.25731 seconds.\n",
            "rm: cannot remove 'plastimatch/1.3.6.1.4.1.14519.5.2.1.7009.9004.318602497855340168746421125221': No such file or directory\n"
          ]
        },
        {
          "output_type": "stream",
          "name": "stderr",
          "text": [
            "<ipython-input-81-c099e7a1ec80>:17: FutureWarning: The frame.append method is deprecated and will be removed from pandas in a future version. Use pandas.concat instead.\n",
            "  runtime_stats = runtime_stats.append(log, ignore_index=True)\n"
          ]
        },
        {
          "output_type": "display_data",
          "data": {
            "text/plain": [
              "<Figure size 432x288 with 1 Axes>"
            ],
            "image/png": "[encoded data removed]"
          },
          "metadata": {
            "needs_background": "light"
          }
        },
        {
          "output_type": "display_data",
          "data": {
            "text/plain": [
              "<Figure size 432x288 with 1 Axes>"
            ],
            "image/png": "[encoded data removed]"
          },
          "metadata": {
            "needs_background": "light"
          }
        },
        {
          "output_type": "execute_result",
          "data": {
            "text/plain": [
              "CompletedProcess(args=['zip', '-j', '-r', 'downloadDicomAndConvertNiftiFiles.zip', '/content/plastimatch'], returncode=0)"
            ]
          },
          "metadata": {},
          "execution_count": 82
        }
      ]
    },
    {
      "cell_type": "code",
      "source": [
        "runtime_stats"
      ],
      "metadata": {
        "colab": {
          "base_uri": "https://localhost:8080/",
          "height": 177
        },
        "id": "z9n17x4vhDQp",
        "outputId": "ce6b012f-de51-4f2e-fc15-1f1be04f2073"
      },
      "execution_count": 83,
      "outputs": [
        {
          "output_type": "execute_result",
          "data": {
            "text/plain": [
              "                                   SeriesInstanceUID  download_time  \\\n",
              "0  1.3.6.1.4.1.14519.5.2.1.7009.9004.318602497855...       3.381384   \n",
              "\n",
              "   NiftiConverter_time                                          cpu_usage  \\\n",
              "0            70.234283  [[[28.0, 88.6, 100.0, 99.5, 100.0, 100.0, 100....   \n",
              "\n",
              "                                        ram_usage_mb    ram_total_mb  \n",
              "0  [[[1010.32421875, 1090.1875, 1128.203125, 1140...  [12985.546875]  "
            ],
            "text/html": [
              "\n",
              "  <div id=\"df-2239984d-2e01-4b87-91e9-10ed83ec2e90\">\n",
              "    <div class=\"colab-df-container\">\n",
              "      <div>\n",
              "<style scoped>\n",
              "    .dataframe tbody tr th:only-of-type {\n",
              "        vertical-align: middle;\n",
              "    }\n",
              "\n",
              "    .dataframe tbody tr th {\n",
              "        vertical-align: top;\n",
              "    }\n",
              "\n",
              "    .dataframe thead th {\n",
              "        text-align: right;\n",
              "    }\n",
              "</style>\n",
              "<table border=\"1\" class=\"dataframe\">\n",
              "  <thead>\n",
              "    <tr style=\"text-align: right;\">\n",
              "      <th></th>\n",
              "      <th>SeriesInstanceUID</th>\n",
              "      <th>download_time</th>\n",
              "      <th>NiftiConverter_time</th>\n",
              "      <th>cpu_usage</th>\n",
              "      <th>ram_usage_mb</th>\n",
              "      <th>ram_total_mb</th>\n",
              "    </tr>\n",
              "  </thead>\n",
              "  <tbody>\n",
              "    <tr>\n",
              "      <th>0</th>\n",
              "      <td>1.3.6.1.4.1.14519.5.2.1.7009.9004.318602497855...</td>\n",
              "      <td>3.381384</td>\n",
              "      <td>70.234283</td>\n",
              "      <td>[[[28.0, 88.6, 100.0, 99.5, 100.0, 100.0, 100....</td>\n",
              "      <td>[[[1010.32421875, 1090.1875, 1128.203125, 1140...</td>\n",
              "      <td>[12985.546875]</td>\n",
              "    </tr>\n",
              "  </tbody>\n",
              "</table>\n",
              "</div>\n",
              "      <button class=\"colab-df-convert\" onclick=\"convertToInteractive('df-2239984d-2e01-4b87-91e9-10ed83ec2e90')\"\n",
              "              title=\"Convert this dataframe to an interactive table.\"\n",
              "              style=\"display:none;\">\n",
              "        \n",
              "  <svg xmlns=\"http://www.w3.org/2000/svg\" height=\"24px\"viewBox=\"0 0 24 24\"\n",
              "       width=\"24px\">\n",
              "    <path d=\"M0 0h24v24H0V0z\" fill=\"none\"/>\n",
              "    <path d=\"M18.56 5.44l.94 2.06.94-2.06 2.06-.94-2.06-.94-.94-2.06-.94 2.06-2.06.94zm-11 1L8.5 8.5l.94-2.06 2.06-.94-2.06-.94L8.5 2.5l-.94 2.06-2.06.94zm10 10l.94 2.06.94-2.06 2.06-.94-2.06-.94-.94-2.06-.94 2.06-2.06.94z\"/><path d=\"M17.41 7.96l-1.37-1.37c-.4-.4-.92-.59-1.43-.59-.52 0-1.04.2-1.43.59L10.3 9.45l-7.72 7.72c-.78.78-.78 2.05 0 2.83L4 21.41c.39.39.9.59 1.41.59.51 0 1.02-.2 1.41-.59l7.78-7.78 2.81-2.81c.8-.78.8-2.07 0-2.86zM5.41 20L4 18.59l7.72-7.72 1.47 1.35L5.41 20z\"/>\n",
              "  </svg>\n",
              "      </button>\n",
              "      \n",
              "  <style>\n",
              "    .colab-df-container {\n",
              "      display:flex;\n",
              "      flex-wrap:wrap;\n",
              "      gap: 12px;\n",
              "    }\n",
              "\n",
              "    .colab-df-convert {\n",
              "      background-color: #E8F0FE;\n",
              "      border: none;\n",
              "      border-radius: 50%;\n",
              "      cursor: pointer;\n",
              "      display: none;\n",
              "      fill: #1967D2;\n",
              "      height: 32px;\n",
              "      padding: 0 0 0 0;\n",
              "      width: 32px;\n",
              "    }\n",
              "\n",
              "    .colab-df-convert:hover {\n",
              "      background-color: #E2EBFA;\n",
              "      box-shadow: 0px 1px 2px rgba(60, 64, 67, 0.3), 0px 1px 3px 1px rgba(60, 64, 67, 0.15);\n",
              "      fill: #174EA6;\n",
              "    }\n",
              "\n",
              "    [theme=dark] .colab-df-convert {\n",
              "      background-color: #3B4455;\n",
              "      fill: #D2E3FC;\n",
              "    }\n",
              "\n",
              "    [theme=dark] .colab-df-convert:hover {\n",
              "      background-color: #434B5C;\n",
              "      box-shadow: 0px 1px 3px 1px rgba(0, 0, 0, 0.15);\n",
              "      filter: drop-shadow(0px 1px 2px rgba(0, 0, 0, 0.3));\n",
              "      fill: #FFFFFF;\n",
              "    }\n",
              "  </style>\n",
              "\n",
              "      <script>\n",
              "        const buttonEl =\n",
              "          document.querySelector('#df-2239984d-2e01-4b87-91e9-10ed83ec2e90 button.colab-df-convert');\n",
              "        buttonEl.style.display =\n",
              "          google.colab.kernel.accessAllowed ? 'block' : 'none';\n",
              "\n",
              "        async function convertToInteractive(key) {\n",
              "          const element = document.querySelector('#df-2239984d-2e01-4b87-91e9-10ed83ec2e90');\n",
              "          const dataTable =\n",
              "            await google.colab.kernel.invokeFunction('convertToInteractive',\n",
              "                                                     [key], {});\n",
              "          if (!dataTable) return;\n",
              "\n",
              "          const docLinkHtml = 'Like what you see? Visit the ' +\n",
              "            '<a target=\"_blank\" href=https://colab.research.google.com/notebooks/data_table.ipynb>data table notebook</a>'\n",
              "            + ' to learn more about interactive tables.';\n",
              "          element.innerHTML = '';\n",
              "          dataTable['output_type'] = 'display_data';\n",
              "          await google.colab.output.renderOutput(dataTable, element);\n",
              "          const docLink = document.createElement('div');\n",
              "          docLink.innerHTML = docLinkHtml;\n",
              "          element.appendChild(docLink);\n",
              "        }\n",
              "      </script>\n",
              "    </div>\n",
              "  </div>\n",
              "  "
            ]
          },
          "metadata": {},
          "execution_count": 83
        }
      ]
    }
  ],
  "metadata": {
    "colab": {
      "provenance": [],
      "mount_file_id": "1p-ZpkJeUN2lU-RppKUbNX0V_APgHME38",
      "authorship_tag": "ABX9TyOfXisZkFfOTUWcpLuZOi9j",
      "include_colab_link": true
    },
    "kernelspec": {
      "display_name": "Python 3",
      "name": "python3"
    },
    "language_info": {
      "name": "python"
    }
  },
  "nbformat": 4,
  "nbformat_minor": 0
}