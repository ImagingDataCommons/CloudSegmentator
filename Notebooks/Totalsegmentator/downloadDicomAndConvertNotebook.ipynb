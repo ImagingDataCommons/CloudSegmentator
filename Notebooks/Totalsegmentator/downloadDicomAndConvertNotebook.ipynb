{
  "cells": [
    {
      "cell_type": "markdown",
      "metadata": {
        "id": "view-in-github",
        "colab_type": "text"
      },
      "source": [
        "<a href=\"https://colab.research.google.com/github/vkt1414/Cloud-Resources-Workflows/blob/main/Notebooks/Totalsegmentator/downloadDicomAndConvertNotebook.ipynb\" target=\"_parent\"><img src=\"https://colab.research.google.com/assets/colab-badge.svg\" alt=\"Open In Colab\"/></a>"
      ]
    },
    {
      "cell_type": "markdown",
      "source": [
        "# This Notebook does the first step in the split workflow on Terra \n",
        "DICOM files are downloaded from IDC and converted to NIFTI files with dcm2niix or plastimatch. Whenever there are multiple NIFTI files for a series, such series are prohibited from continuing to Inference. A CSV file is created with a list of such series.\n",
        "\n",
        "Please cite:\n",
        "\n",
        "Li X, Morgan PS, Ashburner J, Smith J, Rorden C. (2016) The first step for neuroimaging data analysis: DICOM to NIfTI conversion. J Neurosci Methods. 264:47-56.\n",
        "\n",
        "Shackleford, James A., Nagarajan Kandasamy and Gregory C. Sharp. “Plastimatch—An Open-Source Software for Radiotherapy Imaging.” (2014).\n",
        "\n"
      ],
      "metadata": {
        "id": "rh8wdZYXnGby"
      }
    },
    {
      "cell_type": "markdown",
      "source": [
        "###Installing Packages"
      ],
      "metadata": {
        "id": "zVSZRlpTrXTe"
      }
    },
    {
      "cell_type": "code",
      "execution_count": null,
      "metadata": {
        "id": "hT_MQVJ_NbZU"
      },
      "outputs": [],
      "source": [
        "# %%capture\n",
        "# #Installing dcm2niix and pigz\n",
        "# !apt-get install dcm2niix pigz lz4"
      ]
    },
    {
      "cell_type": "code",
      "execution_count": null,
      "metadata": {
        "id": "N2Z3udYNn7ur"
      },
      "outputs": [],
      "source": [
        "# %%capture\n",
        "# #Installing plastimatch\n",
        "# !apt-get install plastimatch "
      ]
    },
    {
      "cell_type": "code",
      "execution_count": null,
      "metadata": {
        "id": "cMi94BlAQrb5"
      },
      "outputs": [],
      "source": [
        "# %%capture\n",
        "# #install s5cmd\n",
        "# !wget \"https://github.com/peak/s5cmd/releases/download/v2.0.0/s5cmd_2.0.0_Linux-64bit.tar.gz\"\n",
        "# !tar -xvzf \"s5cmd_2.0.0_Linux-64bit.tar.gz\"\n",
        "# !rm \"s5cmd_2.0.0_Linux-64bit.tar.gz\"\n",
        "# !mv s5cmd /usr/local/bin/s5cmd"
      ]
    },
    {
      "cell_type": "markdown",
      "source": [
        "###Parameters for papermill"
      ],
      "metadata": {
        "id": "VbgSoKrkjdPg"
      }
    },
    {
      "cell_type": "code",
      "source": [
        "converter='dcm2niix'\n",
        "csvFilePath=''"
      ],
      "metadata": {
        "id": "gy6QqWR-jjdP"
      },
      "execution_count": null,
      "outputs": []
    },
    {
      "cell_type": "markdown",
      "source": [
        "###Reading CSV File containing s5cmd Urls"
      ],
      "metadata": {
        "id": "MTenSEj6tada"
      }
    },
    {
      "cell_type": "code",
      "execution_count": null,
      "metadata": {
        "id": "mWLvDAwIQcg1"
      },
      "outputs": [],
      "source": [
        "import os\n",
        "import sys\n",
        "import time\n",
        "import pandas as pd\n",
        "from pathlib import Path\n",
        "import shutil"
      ]
    },
    {
      "cell_type": "code",
      "source": [
        "curr_dir   = Path().absolute()\n",
        "\n",
        "print(time.asctime(time.localtime()))\n",
        "print(\"\\nCurrent directory :{}\".format( curr_dir))\n",
        "print(\"Python version    :\", sys.version.split('\\n')[0])"
      ],
      "metadata": {
        "colab": {
          "base_uri": "https://localhost:8080/"
        },
        "id": "0pyWQJ86m7JC",
        "outputId": "89a06800-6304-411e-8375-a5dbc977a54c"
      },
      "execution_count": null,
      "outputs": [
        {
          "output_type": "stream",
          "name": "stdout",
          "text": [
            "Wed Mar 22 15:13:23 2023\n",
            "\n",
            "Current directory :/content\n",
            "Python version    : 3.9.16 (main, Dec  7 2022, 01:11:51) \n"
          ]
        }
      ]
    },
    {
      "cell_type": "code",
      "execution_count": null,
      "metadata": {
        "id": "LZMjMRsyQyCH",
        "colab": {
          "base_uri": "https://localhost:8080/"
        },
        "outputId": "d4ed7dd0-08cf-4b38-9af8-8caff4c757c5"
      },
      "outputs": [
        {
          "output_type": "stream",
          "name": "stdout",
          "text": [
            "read in 0.14537572860717773  seconds\n"
          ]
        }
      ],
      "source": [
        "#get the path of the zip file containing csv file in the current working directory3\n",
        "#In Terra, a zip file containing the csv file will be provided as input and will be localized\n",
        "#to the current working directory.\n",
        "\n",
        "#Since it will be the only zip file that will be provided as input, we will be unzipping \n",
        "#the first zip file in the current working directory.\n",
        "\n",
        "import glob\n",
        "\n",
        "#zip_file_path = glob.glob('*.zip')[0]\n",
        "#zip_file_path='/content/drive/MyDrive/result.zip'\n",
        "#!unzip $zip_file_path\n",
        "\n",
        "#csv_file_path = glob.glob('*.csv')[0]\n",
        "#csv_file_path= '/home/vamsi/Downloads/result.csv'\n",
        "csv_file_path=csv_file_path.replace(\"gs://\", \"/cromwell_root/\")\n",
        "\n",
        "start_time = time.time()\n",
        "cohort_df=pd.read_csv(csv_file_path, delimiter=',', encoding='utf-8')\n",
        "#cohort_df= pd.read_csv('/content/drive/MyDrive/bquxjob_7f0d87d5_187056e0dd3.csv') #two nifti files example\n",
        "#cohort_df= pd.read_csv('/content/drive/MyDrive/bq-results-20230315-160529-1678896367937/bq-results-20230315-160529-1678896367937.csv')\n",
        "read_time=time.time() -start_time\n",
        "print('read in '+str(read_time)+ '  seconds')"
      ]
    },
    {
      "cell_type": "code",
      "execution_count": null,
      "metadata": {
        "id": "jDxZvqDlR5Cc"
      },
      "outputs": [],
      "source": [
        "SeriesInstanceUIDs= cohort_df[\"SeriesInstanceUID\"].sample(n=10).values.tolist()\n",
        "# SeriesInstanceUIDs=[\n",
        "# # '1.3.6.1.4.1.14519.5.2.1.7009.9004.100143549999116733615345241533',\n",
        "# # '1.3.6.1.4.1.14519.5.2.1.7009.9004.100148350742920339334061834697',\n",
        "# #series that create two volumes\n",
        "# '1.3.6.1.4.1.14519.5.2.1.7009.9004.946109466334058509440732472138',\n",
        "# '1.2.840.113654.2.55.99651797089556982668213819691341139949'  \n",
        "# ]"
      ]
    },
    {
      "cell_type": "markdown",
      "source": [
        "###Defining Functions"
      ],
      "metadata": {
        "id": "MNhldQv7tEj-"
      }
    },
    {
      "cell_type": "code",
      "source": [
        "#Creating Directories\n",
        "if converterType.lower()=='dcm2niix':\n",
        "  try:\n",
        "    shutil.rmtree('dcm2niix')\n",
        "  except OSError:\n",
        "    pass\n",
        "  os.mkdir('dcm2niix')\n",
        "else:\n",
        "  try:\n",
        "    shutil.rmtree('plastimatch')\n",
        "  except OSError:\n",
        "    pass\n",
        "  os.mkdir('plastimatch')"
      ],
      "metadata": {
        "id": "lx_U7rRjtRYk"
      },
      "execution_count": null,
      "outputs": []
    },
    {
      "cell_type": "code",
      "execution_count": null,
      "metadata": {
        "id": "QFG0KcZ_QPyG"
      },
      "outputs": [],
      "source": [
        "def download_dicom_data(series_id):\n",
        "\n",
        "  \"\"\"\n",
        "  Download raw DICOM data into \"idc_data\" folder.\n",
        "  \"\"\"\n",
        "  global cohort_df\n",
        "  gs_file_path = \"s5cmd_manifest.txt\"\n",
        "  #when bigquery is used the following line could be used\n",
        "  #cohort_df = bq_client.query(selection_query).to_dataframe()\n",
        "  series_df=cohort_df[cohort_df['SeriesInstanceUID']==series_id]\n",
        "  series_df[\"s5cmdUrls\"].to_csv(gs_file_path, header = False, index = False)\n",
        "  #remove double quotes from the manifest file\n",
        "  !sed -i 's/\"//g' s5cmd_manifest.txt  \n",
        "\n",
        "  start_time = time.time()\n",
        "  print(\"Copying files from IDC buckets..\")\n",
        "\n",
        "  #!cat $gs_file_path | gsutil -q -m cp -Ir $download_path >> /dev/null\n",
        "  !s5cmd --no-sign-request --endpoint-url https://storage.googleapis.com run s5cmd_manifest.txt  >> /dev/null\n",
        "\n",
        "  elapsed = time.time() - start_time\n",
        "  print(\"Done in %g seconds.\"%elapsed)"
      ]
    },
    {
      "cell_type": "code",
      "source": [
        "def convert_dicom_to_nifti(series_id):\n",
        "  if converterType.lower()=='dcm2niix':\n",
        "    try:\n",
        "      shutil.rmtree(f'dcm2niix/{series_id}')\n",
        "    except OSError:\n",
        "      pass\n",
        "    os.mkdir(f'dcm2niix/{series_id}')\n",
        "\n",
        "    !dcm2niix -z y -f %j_%p_%t_%s -b n -m y -o  /{curr_dir}/dcm2niix/{series_id}  /{curr_dir}/idc_data/\n",
        "  else:\n",
        "    try:\n",
        "      shutil.rmtree(f'plastimatch/{series_id}')\n",
        "    except OSError:\n",
        "      pass\n",
        "    os.mkdir(f'plastimatch/{series_id}')\n",
        "    \"\"\"\n",
        "    Make sure to check the s5cmd urls for the destination directory and \n",
        "    plastimatch input directory must be changed accordingly\n",
        "    dcm2niix, however, checks upto depth 5 to find DICOM files\n",
        "\n",
        "    \"\"\"\n",
        "    !plastimatch convert --input /{curr_dir}/idc_data/{series_id} --output-img /{curr_dir}/plastimatch/{series_id}/{series_id}.nii.gz\n",
        "\n",
        "\n",
        "  try:\n",
        "      shutil.rmtree('idc_data')\n",
        "  except OSError:\n",
        "      pass\n",
        "  os.mkdir('idc_data')"
      ],
      "metadata": {
        "id": "s0SPIZ5RTxDb"
      },
      "execution_count": null,
      "outputs": []
    },
    {
      "cell_type": "code",
      "source": [
        "import os\n",
        "import zipfile\n",
        "from concurrent.futures import ThreadPoolExecutor\n",
        "from time import sleep\n",
        "from datetime import datetime\n",
        "import psutil\n",
        "import pandas as pd\n",
        "import matplotlib.pyplot as plt\n",
        "\n",
        "class MemoryMonitor:\n",
        "    def __init__(self):\n",
        "        self.keep_measuring = True\n",
        "\n",
        "    def measure_usage(self):\n",
        "        cpu_usage = []\n",
        "        ram_usage_mb=[]\n",
        "        time_stamps = []\n",
        "        start_time = time.time()\n",
        "        while self.keep_measuring:\n",
        "            cpu = psutil.cpu_percent()\n",
        "            ram = psutil.virtual_memory()\n",
        "            ram_total_mb = psutil.virtual_memory().total / 1024 / 1024\n",
        "            ram_mb = (ram.total - ram.available) / 1024 / 1024\n",
        "\n",
        "            cpu_usage.append(cpu)\n",
        "            ram_usage_mb.append(ram_mb)\n",
        "            time_stamps.append(time.time()- start_time)\n",
        "            sleep(1)\n",
        "\n",
        "        return cpu_usage, ram_usage_mb, time_stamps, ram_total_mb"
      ],
      "metadata": {
        "id": "fGX6gofuPhjf"
      },
      "execution_count": null,
      "outputs": []
    },
    {
      "cell_type": "code",
      "source": [
        "def download_and_process_series(series_id):\n",
        "    log = pd.DataFrame({'SeriesInstanceUID': [series_id]})\n",
        "\n",
        "    start_time = time.time()\n",
        "    download_dicom_data( series_id)\n",
        "    download_time = time.time() - start_time\n",
        "\n",
        "    log['download_time'] = download_time\n",
        "\n",
        "    start_time = time.time()\n",
        "    convert_dicom_to_nifti(series_id)\n",
        "    convert_dicom_to_nifti_time = time.time() - start_time\n",
        "\n",
        "    log['NiftiConverter_time'] = convert_dicom_to_nifti_time\n",
        "\n",
        "    global runtime_stats\n",
        "    runtime_stats = pd.concat([runtime_stats, log], ignore_index=True, axis=0)\n",
        "\n"
      ],
      "metadata": {
        "id": "oKATbtgwPjX9"
      },
      "execution_count": null,
      "outputs": []
    },
    {
      "cell_type": "markdown",
      "source": [
        "###Downloading and Converting"
      ],
      "metadata": {
        "id": "TYcb5F-2sFSO"
      }
    },
    {
      "cell_type": "code",
      "source": [
        "runtime_stats = pd.DataFrame(columns=['SeriesInstanceUID','download_time',\n",
        "                                      'NiftiConverter_time', 'cpu_usage','ram_usage_mb', 'ram_total_mb'\n",
        "                                      ])\n",
        "if __name__ == \"__main__\":\n",
        "    for series_id in SeriesInstanceUIDs:\n",
        "        with ThreadPoolExecutor() as executor:\n",
        "            monitor = MemoryMonitor()\n",
        "            mem_thread = executor.submit(monitor.measure_usage)\n",
        "            try:\n",
        "                proc_thread = executor.submit(download_and_process_series, series_id)\n",
        "                proc_thread.result()\n",
        "            finally:\n",
        "                monitor.keep_measuring = False\n",
        "                cpu_usage, ram_usage_mb, time_stamps, ram_total_mb = mem_thread.result()\n",
        "                \n",
        "                cpu_idx = runtime_stats.index[runtime_stats['SeriesInstanceUID'] == series_id][0]\n",
        "                runtime_stats.iloc[cpu_idx, runtime_stats.columns.get_loc('cpu_usage')] = [[cpu_usage]]\n",
        "\n",
        "                ram_usage_mb_idx = runtime_stats.index[runtime_stats['SeriesInstanceUID'] == series_id][0]\n",
        "                runtime_stats.iloc[ram_usage_mb_idx, runtime_stats.columns.get_loc('ram_usage_mb')] = [[ram_usage_mb]]\n",
        "                \n",
        "                ram_total_mb_idx = runtime_stats.index[runtime_stats['SeriesInstanceUID'] == series_id][0]\n",
        "                runtime_stats.iloc[ram_total_mb_idx, runtime_stats.columns.get_loc('ram_total_mb')] = [[ram_total_mb]]\n",
        "                \n",
        "\n",
        "                plt.plot(time_stamps, cpu_usage)\n",
        "                plt.ylim(0, 100)\n",
        "                plt.xlabel('Time (s)')\n",
        "                plt.ylabel('CPU usage (%)')\n",
        "                plt.show()\n",
        "\n",
        "                plt.plot(time_stamps, ram_usage_mb)\n",
        "                plt.ylim(0, ram_total_mb)\n",
        "                plt.xlabel('Time (s)')\n",
        "                plt.ylabel('Memory usage (MB)')\n",
        "                plt.show()\n"
      ],
      "metadata": {
        "colab": {
          "base_uri": "https://localhost:8080/",
          "height": 1000
        },
        "id": "ZTtOJ7CtQYkX",
        "outputId": "b4688bda-7eb3-4c73-cbdb-0208d099c2c7"
      },
      "execution_count": null,
      "outputs": [
        {
          "output_type": "stream",
          "name": "stdout",
          "text": [
            "Copying files from IDC buckets..\n",
            "Done in 1.51953 seconds.\n",
            "Chris Rorden's dcm2niiX version v1.0.20181125  (JP2:OpenJPEG) GCC9.3.0 (64-bit Linux)\n",
            "Found 491 DICOM file(s)\n",
            "Convert 491 DICOM as //content/dcm2niix/1.3.6.1.4.1.14519.5.2.1.7009.9004.733117372429656659742127849071/1.3.6.1.4.1.14519.5.2.1.7009.9004.73311737242965665974212784907_1_OPA_GE_LS16_STANDARD_320_0.6_120_144_104.7_1.4_20000102000000_2 (512x512x491x1)\n",
            "compress: \"/usr/bin/pigz\" -n -f -6 \"//content/dcm2niix/1.3.6.1.4.1.14519.5.2.1.7009.9004.733117372429656659742127849071/1.3.6.1.4.1.14519.5.2.1.7009.9004.73311737242965665974212784907_1_OPA_GE_LS16_STANDARD_320_0.6_120_144_104.7_1.4_20000102000000_2.nii\"\n",
            "Conversion required 20.920686 seconds (0.843774 for core code).\n"
          ]
        },
        {
          "output_type": "display_data",
          "data": {
            "text/plain": [
              "<Figure size 432x288 with 1 Axes>"
            ],
            "image/png": "[encoded data removed]"
          },
          "metadata": {
            "needs_background": "light"
          }
        },
        {
          "output_type": "display_data",
          "data": {
            "text/plain": [
              "<Figure size 432x288 with 1 Axes>"
            ],
            "image/png": "[encoded data removed]"
          },
          "metadata": {
            "needs_background": "light"
          }
        },
        {
          "output_type": "stream",
          "name": "stdout",
          "text": [
            "Copying files from IDC buckets..\n",
            "Done in 1.42614 seconds.\n",
            "Chris Rorden's dcm2niiX version v1.0.20181125  (JP2:OpenJPEG) GCC9.3.0 (64-bit Linux)\n",
            "Found 440 DICOM file(s)\n",
            "Convert 440 DICOM as //content/dcm2niix/1.3.6.1.4.1.14519.5.2.1.7009.9004.170901486168382528079104337556/1.3.6.1.4.1.14519.5.2.1.7009.9004.17090148616838252807910433755_2_OPA_GE_LS16_STANDARD_360_1.2_120_70_50.9_1.4_20010102000000_2 (512x512x440x1)\n",
            "compress: \"/usr/bin/pigz\" -n -f -6 \"//content/dcm2niix/1.3.6.1.4.1.14519.5.2.1.7009.9004.170901486168382528079104337556/1.3.6.1.4.1.14519.5.2.1.7009.9004.17090148616838252807910433755_2_OPA_GE_LS16_STANDARD_360_1.2_120_70_50.9_1.4_20010102000000_2.nii\"\n",
            "Conversion required 17.015388 seconds (0.727577 for core code).\n"
          ]
        },
        {
          "output_type": "display_data",
          "data": {
            "text/plain": [
              "<Figure size 432x288 with 1 Axes>"
            ],
            "image/png": "[encoded data removed]"
          },
          "metadata": {
            "needs_background": "light"
          }
        },
        {
          "output_type": "display_data",
          "data": {
            "text/plain": [
              "<Figure size 432x288 with 1 Axes>"
            ],
            "image/png": "[encoded data removed]"
          },
          "metadata": {
            "needs_background": "light"
          }
        },
        {
          "output_type": "stream",
          "name": "stdout",
          "text": [
            "Copying files from IDC buckets..\n",
            "Done in 1.32031 seconds.\n",
            "Chris Rorden's dcm2niiX version v1.0.20181125  (JP2:OpenJPEG) GCC9.3.0 (64-bit Linux)\n",
            "Found 350 DICOM file(s)\n",
            "Convert 350 DICOM as //content/dcm2niix/1.3.6.1.4.1.14519.5.2.1.7009.9004.173170853908044997397123665862/1.3.6.1.4.1.14519.5.2.1.7009.9004.17317085390804499739712366586_2_OPA_GE_LS16_STANDARD_280_1.2_120_70_50.9_1.4_20010102000000_2 (512x512x350x1)\n",
            "compress: \"/usr/bin/pigz\" -n -f -6 \"//content/dcm2niix/1.3.6.1.4.1.14519.5.2.1.7009.9004.173170853908044997397123665862/1.3.6.1.4.1.14519.5.2.1.7009.9004.17317085390804499739712366586_2_OPA_GE_LS16_STANDARD_280_1.2_120_70_50.9_1.4_20010102000000_2.nii\"\n",
            "Conversion required 13.599368 seconds (0.619141 for core code).\n"
          ]
        },
        {
          "output_type": "display_data",
          "data": {
            "text/plain": [
              "<Figure size 432x288 with 1 Axes>"
            ],
            "image/png": "[encoded data removed]"
          },
          "metadata": {
            "needs_background": "light"
          }
        },
        {
          "output_type": "display_data",
          "data": {
            "text/plain": [
              "<Figure size 432x288 with 1 Axes>"
            ],
            "image/png": "[encoded data removed]"
          },
          "metadata": {
            "needs_background": "light"
          }
        },
        {
          "output_type": "stream",
          "name": "stdout",
          "text": [
            "Copying files from IDC buckets..\n",
            "Done in 1.532 seconds.\n",
            "Chris Rorden's dcm2niiX version v1.0.20181125  (JP2:OpenJPEG) GCC9.3.0 (64-bit Linux)\n",
            "Found 457 DICOM file(s)\n",
            "Convert 457 DICOM as //content/dcm2niix/1.3.6.1.4.1.14519.5.2.1.7009.9004.329454839643246158711092793890/1.3.6.1.4.1.14519.5.2.1.7009.9004.32945483964324615871109279389_2_OSA_GE_LS16_STANDARD_320_1.2_120_70_50.9_1.4_20010102000000_102 (512x512x457x1)\n",
            "compress: \"/usr/bin/pigz\" -n -f -6 \"//content/dcm2niix/1.3.6.1.4.1.14519.5.2.1.7009.9004.329454839643246158711092793890/1.3.6.1.4.1.14519.5.2.1.7009.9004.32945483964324615871109279389_2_OSA_GE_LS16_STANDARD_320_1.2_120_70_50.9_1.4_20010102000000_102.nii\"\n",
            "Conversion required 18.897186 seconds (0.784559 for core code).\n"
          ]
        },
        {
          "output_type": "display_data",
          "data": {
            "text/plain": [
              "<Figure size 432x288 with 1 Axes>"
            ],
            "image/png": "[encoded data removed]"
          },
          "metadata": {
            "needs_background": "light"
          }
        },
        {
          "output_type": "display_data",
          "data": {
            "text/plain": [
              "<Figure size 432x288 with 1 Axes>"
            ],
            "image/png": "[encoded data removed]"
          },
          "metadata": {
            "needs_background": "light"
          }
        },
        {
          "output_type": "stream",
          "name": "stdout",
          "text": [
            "Copying files from IDC buckets..\n",
            "Done in 1.53536 seconds.\n",
            "Chris Rorden's dcm2niiX version v1.0.20181125  (JP2:OpenJPEG) GCC9.3.0 (64-bit Linux)\n",
            "Found 451 DICOM file(s)\n",
            "Convert 451 DICOM as //content/dcm2niix/1.3.6.1.4.1.14519.5.2.1.7009.9004.146169319628002365923929765651/1.3.6.1.4.1.14519.5.2.1.7009.9004.14616931962800236592392976565_2_OPA_GE_LS16_STANDARD_315_1.2_120_70_50.9_1.4_20010102000000_2 (512x512x451x1)\n",
            "compress: \"/usr/bin/pigz\" -n -f -6 \"//content/dcm2niix/1.3.6.1.4.1.14519.5.2.1.7009.9004.146169319628002365923929765651/1.3.6.1.4.1.14519.5.2.1.7009.9004.14616931962800236592392976565_2_OPA_GE_LS16_STANDARD_315_1.2_120_70_50.9_1.4_20010102000000_2.nii\"\n",
            "Conversion required 17.411982 seconds (0.766249 for core code).\n"
          ]
        },
        {
          "output_type": "display_data",
          "data": {
            "text/plain": [
              "<Figure size 432x288 with 1 Axes>"
            ],
            "image/png": "[encoded data removed]"
          },
          "metadata": {
            "needs_background": "light"
          }
        },
        {
          "output_type": "display_data",
          "data": {
            "text/plain": [
              "<Figure size 432x288 with 1 Axes>"
            ],
            "image/png": "[encoded data removed]"
          },
          "metadata": {
            "needs_background": "light"
          }
        },
        {
          "output_type": "stream",
          "name": "stdout",
          "text": [
            "Copying files from IDC buckets..\n",
            "Done in 1.7233 seconds.\n",
            "Chris Rorden's dcm2niiX version v1.0.20181125  (JP2:OpenJPEG) GCC9.3.0 (64-bit Linux)\n",
            "Found 453 DICOM file(s)\n",
            "Convert 453 DICOM as //content/dcm2niix/1.3.6.1.4.1.14519.5.2.1.7009.9004.281442150085452545908657153882/1.3.6.1.4.1.14519.5.2.1.7009.9004.28144215008545254590865715388_2_OPA_GE_LS16_STANDARD_300_1.2_120_70_50.9_1.4_20010102000000_2 (512x512x453x1)\n",
            "compress: \"/usr/bin/pigz\" -n -f -6 \"//content/dcm2niix/1.3.6.1.4.1.14519.5.2.1.7009.9004.281442150085452545908657153882/1.3.6.1.4.1.14519.5.2.1.7009.9004.28144215008545254590865715388_2_OPA_GE_LS16_STANDARD_300_1.2_120_70_50.9_1.4_20010102000000_2.nii\"\n",
            "Conversion required 17.828496 seconds (0.861348 for core code).\n"
          ]
        },
        {
          "output_type": "display_data",
          "data": {
            "text/plain": [
              "<Figure size 432x288 with 1 Axes>"
            ],
            "image/png": "[encoded data removed]"
          },
          "metadata": {
            "needs_background": "light"
          }
        },
        {
          "output_type": "display_data",
          "data": {
            "text/plain": [
              "<Figure size 432x288 with 1 Axes>"
            ],
            "image/png": "[encoded data removed]"
          },
          "metadata": {
            "needs_background": "light"
          }
        },
        {
          "output_type": "stream",
          "name": "stdout",
          "text": [
            "Copying files from IDC buckets..\n",
            "Done in 2.35869 seconds.\n",
            "Chris Rorden's dcm2niiX version v1.0.20181125  (JP2:OpenJPEG) GCC9.3.0 (64-bit Linux)\n",
            "Found 444 DICOM file(s)\n",
            "Convert 444 DICOM as //content/dcm2niix/1.3.6.1.4.1.14519.5.2.1.7009.9004.232085097739286069987727730632/1.3.6.1.4.1.14519.5.2.1.7009.9004.23208509773928606998772773063_2_OPA_GE_LS16_STANDARD_400_1.2_120_70_50.9_1.4_20010102000000_2 (512x512x444x1)\n",
            "compress: \"/usr/bin/pigz\" -n -f -6 \"//content/dcm2niix/1.3.6.1.4.1.14519.5.2.1.7009.9004.232085097739286069987727730632/1.3.6.1.4.1.14519.5.2.1.7009.9004.23208509773928606998772773063_2_OPA_GE_LS16_STANDARD_400_1.2_120_70_50.9_1.4_20010102000000_2.nii\"\n",
            "Conversion required 17.751184 seconds (0.875054 for core code).\n"
          ]
        },
        {
          "output_type": "display_data",
          "data": {
            "text/plain": [
              "<Figure size 432x288 with 1 Axes>"
            ],
            "image/png": "[encoded data removed]"
          },
          "metadata": {
            "needs_background": "light"
          }
        },
        {
          "output_type": "display_data",
          "data": {
            "text/plain": [
              "<Figure size 432x288 with 1 Axes>"
            ],
            "image/png": "[encoded data removed]"
          },
          "metadata": {
            "needs_background": "light"
          }
        },
        {
          "output_type": "stream",
          "name": "stdout",
          "text": [
            "Copying files from IDC buckets..\n",
            "Done in 1.54954 seconds.\n",
            "Chris Rorden's dcm2niiX version v1.0.20181125  (JP2:OpenJPEG) GCC9.3.0 (64-bit Linux)\n",
            "Found 471 DICOM file(s)\n",
            "Convert 471 DICOM as //content/dcm2niix/1.3.6.1.4.1.14519.5.2.1.7009.9004.315472835069304488500404379375/1.3.6.1.4.1.14519.5.2.1.7009.9004.31547283506930448850040437937_2_OPA_GE_LSPR16_STANDARD_330_1.2_120_80_58.2_1.4_20010102000000_3 (512x512x471x1)\n",
            "compress: \"/usr/bin/pigz\" -n -f -6 \"//content/dcm2niix/1.3.6.1.4.1.14519.5.2.1.7009.9004.315472835069304488500404379375/1.3.6.1.4.1.14519.5.2.1.7009.9004.31547283506930448850040437937_2_OPA_GE_LSPR16_STANDARD_330_1.2_120_80_58.2_1.4_20010102000000_3.nii\"\n",
            "Conversion required 14.751991 seconds (0.815794 for core code).\n"
          ]
        },
        {
          "output_type": "display_data",
          "data": {
            "text/plain": [
              "<Figure size 432x288 with 1 Axes>"
            ],
            "image/png": "[encoded data removed]"
          },
          "metadata": {
            "needs_background": "light"
          }
        },
        {
          "output_type": "display_data",
          "data": {
            "text/plain": [
              "<Figure size 432x288 with 1 Axes>"
            ],
            "image/png": "[encoded data removed]"
          },
          "metadata": {
            "needs_background": "light"
          }
        },
        {
          "output_type": "stream",
          "name": "stdout",
          "text": [
            "Copying files from IDC buckets..\n",
            "Done in 1.62578 seconds.\n",
            "Chris Rorden's dcm2niiX version v1.0.20181125  (JP2:OpenJPEG) GCC9.3.0 (64-bit Linux)\n",
            "Found 461 DICOM file(s)\n",
            "Convert 461 DICOM as //content/dcm2niix/1.3.6.1.4.1.14519.5.2.1.7009.9004.162274427304615677708118002304/1.3.6.1.4.1.14519.5.2.1.7009.9004.16227442730461567770811800230_1_OPA_GE_LSPR16_STANDARD_360_1.2_120_80_58.2_1.4_20000102000000_3 (512x512x461x1)\n",
            "compress: \"/usr/bin/pigz\" -n -f -6 \"//content/dcm2niix/1.3.6.1.4.1.14519.5.2.1.7009.9004.162274427304615677708118002304/1.3.6.1.4.1.14519.5.2.1.7009.9004.16227442730461567770811800230_1_OPA_GE_LSPR16_STANDARD_360_1.2_120_80_58.2_1.4_20000102000000_3.nii\"\n",
            "Conversion required 15.654987 seconds (0.788316 for core code).\n"
          ]
        },
        {
          "output_type": "display_data",
          "data": {
            "text/plain": [
              "<Figure size 432x288 with 1 Axes>"
            ],
            "image/png": "[encoded data removed]"
          },
          "metadata": {
            "needs_background": "light"
          }
        },
        {
          "output_type": "display_data",
          "data": {
            "text/plain": [
              "<Figure size 432x288 with 1 Axes>"
            ],
            "image/png": "[encoded data removed]"
          },
          "metadata": {
            "needs_background": "light"
          }
        },
        {
          "output_type": "stream",
          "name": "stdout",
          "text": [
            "Copying files from IDC buckets..\n",
            "Done in 1.63197 seconds.\n",
            "Chris Rorden's dcm2niiX version v1.0.20181125  (JP2:OpenJPEG) GCC9.3.0 (64-bit Linux)\n",
            "Found 418 DICOM file(s)\n",
            "Convert 418 DICOM as //content/dcm2niix/1.3.6.1.4.1.14519.5.2.1.7009.9004.217673105140221092884829354405/1.3.6.1.4.1.14519.5.2.1.7009.9004.21767310514022109288482935440_2_OPA_GE_LS16_STANDARD_290_1.2_120_70_50.9_1.4_20010102000000_2 (512x512x418x1)\n",
            "compress: \"/usr/bin/pigz\" -n -f -6 \"//content/dcm2niix/1.3.6.1.4.1.14519.5.2.1.7009.9004.217673105140221092884829354405/1.3.6.1.4.1.14519.5.2.1.7009.9004.21767310514022109288482935440_2_OPA_GE_LS16_STANDARD_290_1.2_120_70_50.9_1.4_20010102000000_2.nii\"\n",
            "Conversion required 17.672448 seconds (0.865868 for core code).\n"
          ]
        },
        {
          "output_type": "display_data",
          "data": {
            "text/plain": [
              "<Figure size 432x288 with 1 Axes>"
            ],
            "image/png": "[encoded data removed]"
          },
          "metadata": {
            "needs_background": "light"
          }
        },
        {
          "output_type": "display_data",
          "data": {
            "text/plain": [
              "<Figure size 432x288 with 1 Axes>"
            ],
            "image/png": "[encoded data removed]"
          },
          "metadata": {
            "needs_background": "light"
          }
        }
      ]
    },
    {
      "cell_type": "markdown",
      "source": [
        "###Monitoring for dcm2niix Errors"
      ],
      "metadata": {
        "id": "su4z4ettsTaO"
      }
    },
    {
      "cell_type": "code",
      "source": [
        "import os\n",
        "import csv\n",
        "\n",
        "# def check_dcm2niix_errors(path):\n",
        "#     with open('dcm2niix_errors.csv', 'w') as csvfile:\n",
        "#         writer = csv.writer(csvfile)\n",
        "#         for series_id in os.listdir(path):\n",
        "#             series_id_path = os.path.join(path, series_id)\n",
        "#             if os.path.isdir(series_id_path):\n",
        "#                 num_files = len([f for f in os.listdir(series_id_path) if os.path.isfile(os.path.join(series_id_path, f))])\n",
        "#                 if num_files > 1:\n",
        "#                     print(f'Found one more than one nifti for the {series_id}')\n",
        "#                     writer.writerow([series_id])\n",
        "#                     shutil.rmtree(f'dcm2niix/{series_id}')\n",
        "\n",
        "\n",
        "def check_dcm2niix_errors(path):\n",
        "    for series_id in os.listdir(path):\n",
        "        series_id_path = os.path.join(path, series_id)\n",
        "        if os.path.isdir(series_id_path):\n",
        "            num_files = len([f for f in os.listdir(series_id_path) if os.path.isfile(os.path.join(series_id_path, f))])\n",
        "            if num_files > 1:\n",
        "                print(f'Found one more than one nifti for the {series_id}')\n",
        "                with open('dcm2niix_errors.csv', 'a') as csvfile:\n",
        "                    writer = csv.writer(csvfile)\n",
        "                    writer.writerow([series_id])\n",
        "                shutil.rmtree(f'dcm2niix/{series_id}')\n"
      ],
      "metadata": {
        "id": "tba4tK6pvja9"
      },
      "execution_count": null,
      "outputs": []
    },
    {
      "cell_type": "code",
      "source": [
        "if converterType.lower()=='dcm2niix':\n",
        "    check_dcm2niix_errors(f'/{curr_dir}/dcm2niix')"
      ],
      "metadata": {
        "id": "wP7_k4msvl2E"
      },
      "execution_count": null,
      "outputs": []
    },
    {
      "cell_type": "markdown",
      "source": [
        "###Zipping Output Files\n"
      ],
      "metadata": {
        "id": "y-EDu3IFsxdq"
      }
    },
    {
      "cell_type": "code",
      "source": [
        "if converterType.lower()=='dcm2niix':\n",
        "  start_time = time.time()\n",
        "  #!zip -j -r -m downloadDicomAndConvertNiftiFiles.zip {curr_dir}/dcm2niix\n",
        "  try:\n",
        "    os.remove('downloadDicomAndConvertNiftiFiles.tar.lz4')\n",
        "  except OSError:\n",
        "    pass\n",
        "  !tar cvf - {curr_dir}/dcm2niix | lz4 > downloadDicomAndConvertNiftiFiles.tar.lz4\n",
        "  archiving_time = time.time() - start_time\n",
        "else:\n",
        "  start_time = time.time()\n",
        "  try:\n",
        "    os.remove('downloadDicomAndConvertNiftiFiles.tar.lz4')\n",
        "  except OSError:\n",
        "    pass\n",
        "  !tar cvf - {curr_dir}/plastimatch | lz4 > downloadDicomAndConvertNiftiFiles.tar.lz4\n",
        "  #!zip -j -r -m downloadDicomAndConvertNiftiFiles.zip {curr_dir}/plastimatch\n",
        "  archiving_time = time.time() - start_time"
      ],
      "metadata": {
        "colab": {
          "base_uri": "https://localhost:8080/"
        },
        "id": "-q3J_d00v0gz",
        "outputId": "1abfdac6-cb92-4602-858e-c1e011ad4514"
      },
      "execution_count": null,
      "outputs": [
        {
          "output_type": "stream",
          "name": "stdout",
          "text": [
            "tar: Removing leading `/' from member names\n",
            "/content/dcm2niix/\n",
            "/content/dcm2niix/1.3.6.1.4.1.14519.5.2.1.7009.9004.217673105140221092884829354405/\n",
            "/content/dcm2niix/1.3.6.1.4.1.14519.5.2.1.7009.9004.217673105140221092884829354405/1.3.6.1.4.1.14519.5.2.1.7009.9004.21767310514022109288482935440_2_OPA_GE_LS16_STANDARD_290_1.2_120_70_50.9_1.4_20010102000000_2.nii.gz\n",
            "/content/dcm2niix/1.3.6.1.4.1.14519.5.2.1.7009.9004.146169319628002365923929765651/\n",
            "/content/dcm2niix/1.3.6.1.4.1.14519.5.2.1.7009.9004.146169319628002365923929765651/1.3.6.1.4.1.14519.5.2.1.7009.9004.14616931962800236592392976565_2_OPA_GE_LS16_STANDARD_315_1.2_120_70_50.9_1.4_20010102000000_2.nii.gz\n",
            "/content/dcm2niix/1.3.6.1.4.1.14519.5.2.1.7009.9004.232085097739286069987727730632/\n",
            "/content/dcm2niix/1.3.6.1.4.1.14519.5.2.1.7009.9004.232085097739286069987727730632/1.3.6.1.4.1.14519.5.2.1.7009.9004.23208509773928606998772773063_2_OPA_GE_LS16_STANDARD_400_1.2_120_70_50.9_1.4_20010102000000_2.nii.gz\n",
            "/content/dcm2niix/1.3.6.1.4.1.14519.5.2.1.7009.9004.173170853908044997397123665862/\n",
            "/content/dcm2niix/1.3.6.1.4.1.14519.5.2.1.7009.9004.173170853908044997397123665862/1.3.6.1.4.1.14519.5.2.1.7009.9004.17317085390804499739712366586_2_OPA_GE_LS16_STANDARD_280_1.2_120_70_50.9_1.4_20010102000000_2.nii.gz\n",
            "/content/dcm2niix/1.3.6.1.4.1.14519.5.2.1.7009.9004.162274427304615677708118002304/\n",
            "/content/dcm2niix/1.3.6.1.4.1.14519.5.2.1.7009.9004.162274427304615677708118002304/1.3.6.1.4.1.14519.5.2.1.7009.9004.16227442730461567770811800230_1_OPA_GE_LSPR16_STANDARD_360_1.2_120_80_58.2_1.4_20000102000000_3.nii.gz\n",
            "/content/dcm2niix/1.3.6.1.4.1.14519.5.2.1.7009.9004.170901486168382528079104337556/\n",
            "/content/dcm2niix/1.3.6.1.4.1.14519.5.2.1.7009.9004.170901486168382528079104337556/1.3.6.1.4.1.14519.5.2.1.7009.9004.17090148616838252807910433755_2_OPA_GE_LS16_STANDARD_360_1.2_120_70_50.9_1.4_20010102000000_2.nii.gz\n",
            "/content/dcm2niix/1.3.6.1.4.1.14519.5.2.1.7009.9004.733117372429656659742127849071/\n",
            "/content/dcm2niix/1.3.6.1.4.1.14519.5.2.1.7009.9004.733117372429656659742127849071/1.3.6.1.4.1.14519.5.2.1.7009.9004.73311737242965665974212784907_1_OPA_GE_LS16_STANDARD_320_0.6_120_144_104.7_1.4_20000102000000_2.nii.gz\n",
            "/content/dcm2niix/1.3.6.1.4.1.14519.5.2.1.7009.9004.315472835069304488500404379375/\n",
            "/content/dcm2niix/1.3.6.1.4.1.14519.5.2.1.7009.9004.315472835069304488500404379375/1.3.6.1.4.1.14519.5.2.1.7009.9004.31547283506930448850040437937_2_OPA_GE_LSPR16_STANDARD_330_1.2_120_80_58.2_1.4_20010102000000_3.nii.gz\n",
            "/content/dcm2niix/1.3.6.1.4.1.14519.5.2.1.7009.9004.329454839643246158711092793890/\n",
            "/content/dcm2niix/1.3.6.1.4.1.14519.5.2.1.7009.9004.329454839643246158711092793890/1.3.6.1.4.1.14519.5.2.1.7009.9004.32945483964324615871109279389_2_OSA_GE_LS16_STANDARD_320_1.2_120_70_50.9_1.4_20010102000000_102.nii.gz\n",
            "/content/dcm2niix/1.3.6.1.4.1.14519.5.2.1.7009.9004.281442150085452545908657153882/\n",
            "/content/dcm2niix/1.3.6.1.4.1.14519.5.2.1.7009.9004.281442150085452545908657153882/1.3.6.1.4.1.14519.5.2.1.7009.9004.28144215008545254590865715388_2_OPA_GE_LS16_STANDARD_300_1.2_120_70_50.9_1.4_20010102000000_2.nii.gz\n"
          ]
        }
      ]
    },
    {
      "cell_type": "markdown",
      "source": [
        "###Utilization Metrics"
      ],
      "metadata": {
        "id": "CVsFcPebsoro"
      }
    },
    {
      "cell_type": "code",
      "source": [
        "runtime_stats.to_csv('runtime.csv')\n",
        "runtime_stats['csv_read_time']=read_time\n",
        "runtime_stats['archiving_time']=archiving_time\n",
        "\n",
        "#!zip -j -r downloadDicomAndConvertUsageMetrics.zip  {curr_dir}/runtime.csv\n",
        "try:\n",
        "  os.remove('downloadDicomAndConvertUsageMetrics.lz4')\n",
        "except OSError:\n",
        "  pass\n",
        "!lz4 {curr_dir}/runtime.csv downloadDicomAndConvertUsageMetrics.lz4\n",
        "runtime_stats"
      ],
      "metadata": {
        "colab": {
          "base_uri": "https://localhost:8080/",
          "height": 772
        },
        "id": "z9n17x4vhDQp",
        "outputId": "87510aba-d893-4e20-d3e1-96533a8da513"
      },
      "execution_count": null,
      "outputs": [
        {
          "output_type": "stream",
          "name": "stdout",
          "text": [
            "\r                                                                               \rCompressed 5464 bytes into 2510 bytes ==> 45.94%\n"
          ]
        },
        {
          "output_type": "execute_result",
          "data": {
            "text/plain": [
              "                                   SeriesInstanceUID  download_time  \\\n",
              "0  1.3.6.1.4.1.14519.5.2.1.7009.9004.733117372429...       1.637134   \n",
              "1  1.3.6.1.4.1.14519.5.2.1.7009.9004.170901486168...       1.548409   \n",
              "2  1.3.6.1.4.1.14519.5.2.1.7009.9004.173170853908...       1.439587   \n",
              "3  1.3.6.1.4.1.14519.5.2.1.7009.9004.329454839643...       1.656579   \n",
              "4  1.3.6.1.4.1.14519.5.2.1.7009.9004.146169319628...       1.660176   \n",
              "5  1.3.6.1.4.1.14519.5.2.1.7009.9004.281442150085...       1.843812   \n",
              "6  1.3.6.1.4.1.14519.5.2.1.7009.9004.232085097739...       2.485517   \n",
              "7  1.3.6.1.4.1.14519.5.2.1.7009.9004.315472835069...       1.669971   \n",
              "8  1.3.6.1.4.1.14519.5.2.1.7009.9004.162274427304...       1.748098   \n",
              "9  1.3.6.1.4.1.14519.5.2.1.7009.9004.217673105140...       1.753188   \n",
              "\n",
              "   NiftiConverter_time                                          cpu_usage  \\\n",
              "0            21.068480  [[[27.0, 86.4, 79.9, 83.4, 100.0, 100.0, 100.0...   \n",
              "1            17.149352  [[[65.3, 86.9, 67.7, 79.0, 100.0, 100.0, 100.0...   \n",
              "2            13.746369  [[[65.6, 86.5, 71.9, 88.9, 100.0, 100.0, 100.0...   \n",
              "3            19.016735  [[[30.4, 86.9, 76.4, 79.4, 100.0, 100.0, 100.0...   \n",
              "4            17.509000  [[[88.9, 88.0, 73.9, 72.6, 100.0, 100.0, 100.0...   \n",
              "5            18.029801  [[[29.6, 87.1, 84.4, 73.9, 100.0, 100.0, 100.0...   \n",
              "6            17.926692  [[[93.1, 94.5, 100.0, 99.5, 76.3, 100.0, 100.0...   \n",
              "7            14.920648  [[[44.0, 86.9, 80.0, 71.9, 100.0, 100.0, 100.0...   \n",
              "8            15.777005  [[[55.8, 86.5, 82.4, 73.2, 56.6, 100.0, 100.0,...   \n",
              "9            17.847000  [[[54.1, 87.8, 95.5, 100.0, 100.0, 100.0, 100....   \n",
              "\n",
              "                                        ram_usage_mb    ram_total_mb  \\\n",
              "0  [[[1388.69921875, 1494.07421875, 1468.72265625...  [12985.546875]   \n",
              "1  [[[1401.4921875, 1486.921875, 1621.171875, 163...  [12985.546875]   \n",
              "2  [[[1402.3515625, 1483.5625, 1586.87890625, 158...  [12985.546875]   \n",
              "3  [[[1402.2265625, 1493.21484375, 1476.28125, 16...  [12985.546875]   \n",
              "4  [[[1404.23046875, 1485.2421875, 1477.72265625,...  [12985.546875]   \n",
              "5  [[[1404.69921875, 1508.734375, 1412.640625, 16...  [12985.546875]   \n",
              "6  [[[1411.265625, 1482.91796875, 1510.3359375, 1...  [12985.546875]   \n",
              "7  [[[1409.69140625, 1491.83203125, 1451.87890625...  [12985.546875]   \n",
              "8  [[[1411.88671875, 1509.890625, 1420.34765625, ...  [12985.546875]   \n",
              "9  [[[1411.47265625, 1507.609375, 1421.078125, 16...  [12985.546875]   \n",
              "\n",
              "   csv_read_time  archiving_time  \n",
              "0       0.145376        4.050716  \n",
              "1       0.145376        4.050716  \n",
              "2       0.145376        4.050716  \n",
              "3       0.145376        4.050716  \n",
              "4       0.145376        4.050716  \n",
              "5       0.145376        4.050716  \n",
              "6       0.145376        4.050716  \n",
              "7       0.145376        4.050716  \n",
              "8       0.145376        4.050716  \n",
              "9       0.145376        4.050716  "
            ],
            "text/html": [
              "\n",
              "  <div id=\"df-a6e4bb32-57ad-4fe1-bc7a-a674f7c0b5e5\">\n",
              "    <div class=\"colab-df-container\">\n",
              "      <div>\n",
              "<style scoped>\n",
              "    .dataframe tbody tr th:only-of-type {\n",
              "        vertical-align: middle;\n",
              "    }\n",
              "\n",
              "    .dataframe tbody tr th {\n",
              "        vertical-align: top;\n",
              "    }\n",
              "\n",
              "    .dataframe thead th {\n",
              "        text-align: right;\n",
              "    }\n",
              "</style>\n",
              "<table border=\"1\" class=\"dataframe\">\n",
              "  <thead>\n",
              "    <tr style=\"text-align: right;\">\n",
              "      <th></th>\n",
              "      <th>SeriesInstanceUID</th>\n",
              "      <th>download_time</th>\n",
              "      <th>NiftiConverter_time</th>\n",
              "      <th>cpu_usage</th>\n",
              "      <th>ram_usage_mb</th>\n",
              "      <th>ram_total_mb</th>\n",
              "      <th>csv_read_time</th>\n",
              "      <th>archiving_time</th>\n",
              "    </tr>\n",
              "  </thead>\n",
              "  <tbody>\n",
              "    <tr>\n",
              "      <th>0</th>\n",
              "      <td>1.3.6.1.4.1.14519.5.2.1.7009.9004.733117372429...</td>\n",
              "      <td>1.637134</td>\n",
              "      <td>21.068480</td>\n",
              "      <td>[[[27.0, 86.4, 79.9, 83.4, 100.0, 100.0, 100.0...</td>\n",
              "      <td>[[[1388.69921875, 1494.07421875, 1468.72265625...</td>\n",
              "      <td>[12985.546875]</td>\n",
              "      <td>0.145376</td>\n",
              "      <td>4.050716</td>\n",
              "    </tr>\n",
              "    <tr>\n",
              "      <th>1</th>\n",
              "      <td>1.3.6.1.4.1.14519.5.2.1.7009.9004.170901486168...</td>\n",
              "      <td>1.548409</td>\n",
              "      <td>17.149352</td>\n",
              "      <td>[[[65.3, 86.9, 67.7, 79.0, 100.0, 100.0, 100.0...</td>\n",
              "      <td>[[[1401.4921875, 1486.921875, 1621.171875, 163...</td>\n",
              "      <td>[12985.546875]</td>\n",
              "      <td>0.145376</td>\n",
              "      <td>4.050716</td>\n",
              "    </tr>\n",
              "    <tr>\n",
              "      <th>2</th>\n",
              "      <td>1.3.6.1.4.1.14519.5.2.1.7009.9004.173170853908...</td>\n",
              "      <td>1.439587</td>\n",
              "      <td>13.746369</td>\n",
              "      <td>[[[65.6, 86.5, 71.9, 88.9, 100.0, 100.0, 100.0...</td>\n",
              "      <td>[[[1402.3515625, 1483.5625, 1586.87890625, 158...</td>\n",
              "      <td>[12985.546875]</td>\n",
              "      <td>0.145376</td>\n",
              "      <td>4.050716</td>\n",
              "    </tr>\n",
              "    <tr>\n",
              "      <th>3</th>\n",
              "      <td>1.3.6.1.4.1.14519.5.2.1.7009.9004.329454839643...</td>\n",
              "      <td>1.656579</td>\n",
              "      <td>19.016735</td>\n",
              "      <td>[[[30.4, 86.9, 76.4, 79.4, 100.0, 100.0, 100.0...</td>\n",
              "      <td>[[[1402.2265625, 1493.21484375, 1476.28125, 16...</td>\n",
              "      <td>[12985.546875]</td>\n",
              "      <td>0.145376</td>\n",
              "      <td>4.050716</td>\n",
              "    </tr>\n",
              "    <tr>\n",
              "      <th>4</th>\n",
              "      <td>1.3.6.1.4.1.14519.5.2.1.7009.9004.146169319628...</td>\n",
              "      <td>1.660176</td>\n",
              "      <td>17.509000</td>\n",
              "      <td>[[[88.9, 88.0, 73.9, 72.6, 100.0, 100.0, 100.0...</td>\n",
              "      <td>[[[1404.23046875, 1485.2421875, 1477.72265625,...</td>\n",
              "      <td>[12985.546875]</td>\n",
              "      <td>0.145376</td>\n",
              "      <td>4.050716</td>\n",
              "    </tr>\n",
              "    <tr>\n",
              "      <th>5</th>\n",
              "      <td>1.3.6.1.4.1.14519.5.2.1.7009.9004.281442150085...</td>\n",
              "      <td>1.843812</td>\n",
              "      <td>18.029801</td>\n",
              "      <td>[[[29.6, 87.1, 84.4, 73.9, 100.0, 100.0, 100.0...</td>\n",
              "      <td>[[[1404.69921875, 1508.734375, 1412.640625, 16...</td>\n",
              "      <td>[12985.546875]</td>\n",
              "      <td>0.145376</td>\n",
              "      <td>4.050716</td>\n",
              "    </tr>\n",
              "    <tr>\n",
              "      <th>6</th>\n",
              "      <td>1.3.6.1.4.1.14519.5.2.1.7009.9004.232085097739...</td>\n",
              "      <td>2.485517</td>\n",
              "      <td>17.926692</td>\n",
              "      <td>[[[93.1, 94.5, 100.0, 99.5, 76.3, 100.0, 100.0...</td>\n",
              "      <td>[[[1411.265625, 1482.91796875, 1510.3359375, 1...</td>\n",
              "      <td>[12985.546875]</td>\n",
              "      <td>0.145376</td>\n",
              "      <td>4.050716</td>\n",
              "    </tr>\n",
              "    <tr>\n",
              "      <th>7</th>\n",
              "      <td>1.3.6.1.4.1.14519.5.2.1.7009.9004.315472835069...</td>\n",
              "      <td>1.669971</td>\n",
              "      <td>14.920648</td>\n",
              "      <td>[[[44.0, 86.9, 80.0, 71.9, 100.0, 100.0, 100.0...</td>\n",
              "      <td>[[[1409.69140625, 1491.83203125, 1451.87890625...</td>\n",
              "      <td>[12985.546875]</td>\n",
              "      <td>0.145376</td>\n",
              "      <td>4.050716</td>\n",
              "    </tr>\n",
              "    <tr>\n",
              "      <th>8</th>\n",
              "      <td>1.3.6.1.4.1.14519.5.2.1.7009.9004.162274427304...</td>\n",
              "      <td>1.748098</td>\n",
              "      <td>15.777005</td>\n",
              "      <td>[[[55.8, 86.5, 82.4, 73.2, 56.6, 100.0, 100.0,...</td>\n",
              "      <td>[[[1411.88671875, 1509.890625, 1420.34765625, ...</td>\n",
              "      <td>[12985.546875]</td>\n",
              "      <td>0.145376</td>\n",
              "      <td>4.050716</td>\n",
              "    </tr>\n",
              "    <tr>\n",
              "      <th>9</th>\n",
              "      <td>1.3.6.1.4.1.14519.5.2.1.7009.9004.217673105140...</td>\n",
              "      <td>1.753188</td>\n",
              "      <td>17.847000</td>\n",
              "      <td>[[[54.1, 87.8, 95.5, 100.0, 100.0, 100.0, 100....</td>\n",
              "      <td>[[[1411.47265625, 1507.609375, 1421.078125, 16...</td>\n",
              "      <td>[12985.546875]</td>\n",
              "      <td>0.145376</td>\n",
              "      <td>4.050716</td>\n",
              "    </tr>\n",
              "  </tbody>\n",
              "</table>\n",
              "</div>\n",
              "      <button class=\"colab-df-convert\" onclick=\"convertToInteractive('df-a6e4bb32-57ad-4fe1-bc7a-a674f7c0b5e5')\"\n",
              "              title=\"Convert this dataframe to an interactive table.\"\n",
              "              style=\"display:none;\">\n",
              "        \n",
              "  <svg xmlns=\"http://www.w3.org/2000/svg\" height=\"24px\"viewBox=\"0 0 24 24\"\n",
              "       width=\"24px\">\n",
              "    <path d=\"M0 0h24v24H0V0z\" fill=\"none\"/>\n",
              "    <path d=\"M18.56 5.44l.94 2.06.94-2.06 2.06-.94-2.06-.94-.94-2.06-.94 2.06-2.06.94zm-11 1L8.5 8.5l.94-2.06 2.06-.94-2.06-.94L8.5 2.5l-.94 2.06-2.06.94zm10 10l.94 2.06.94-2.06 2.06-.94-2.06-.94-.94-2.06-.94 2.06-2.06.94z\"/><path d=\"M17.41 7.96l-1.37-1.37c-.4-.4-.92-.59-1.43-.59-.52 0-1.04.2-1.43.59L10.3 9.45l-7.72 7.72c-.78.78-.78 2.05 0 2.83L4 21.41c.39.39.9.59 1.41.59.51 0 1.02-.2 1.41-.59l7.78-7.78 2.81-2.81c.8-.78.8-2.07 0-2.86zM5.41 20L4 18.59l7.72-7.72 1.47 1.35L5.41 20z\"/>\n",
              "  </svg>\n",
              "      </button>\n",
              "      \n",
              "  <style>\n",
              "    .colab-df-container {\n",
              "      display:flex;\n",
              "      flex-wrap:wrap;\n",
              "      gap: 12px;\n",
              "    }\n",
              "\n",
              "    .colab-df-convert {\n",
              "      background-color: #E8F0FE;\n",
              "      border: none;\n",
              "      border-radius: 50%;\n",
              "      cursor: pointer;\n",
              "      display: none;\n",
              "      fill: #1967D2;\n",
              "      height: 32px;\n",
              "      padding: 0 0 0 0;\n",
              "      width: 32px;\n",
              "    }\n",
              "\n",
              "    .colab-df-convert:hover {\n",
              "      background-color: #E2EBFA;\n",
              "      box-shadow: 0px 1px 2px rgba(60, 64, 67, 0.3), 0px 1px 3px 1px rgba(60, 64, 67, 0.15);\n",
              "      fill: #174EA6;\n",
              "    }\n",
              "\n",
              "    [theme=dark] .colab-df-convert {\n",
              "      background-color: #3B4455;\n",
              "      fill: #D2E3FC;\n",
              "    }\n",
              "\n",
              "    [theme=dark] .colab-df-convert:hover {\n",
              "      background-color: #434B5C;\n",
              "      box-shadow: 0px 1px 3px 1px rgba(0, 0, 0, 0.15);\n",
              "      filter: drop-shadow(0px 1px 2px rgba(0, 0, 0, 0.3));\n",
              "      fill: #FFFFFF;\n",
              "    }\n",
              "  </style>\n",
              "\n",
              "      <script>\n",
              "        const buttonEl =\n",
              "          document.querySelector('#df-a6e4bb32-57ad-4fe1-bc7a-a674f7c0b5e5 button.colab-df-convert');\n",
              "        buttonEl.style.display =\n",
              "          google.colab.kernel.accessAllowed ? 'block' : 'none';\n",
              "\n",
              "        async function convertToInteractive(key) {\n",
              "          const element = document.querySelector('#df-a6e4bb32-57ad-4fe1-bc7a-a674f7c0b5e5');\n",
              "          const dataTable =\n",
              "            await google.colab.kernel.invokeFunction('convertToInteractive',\n",
              "                                                     [key], {});\n",
              "          if (!dataTable) return;\n",
              "\n",
              "          const docLinkHtml = 'Like what you see? Visit the ' +\n",
              "            '<a target=\"_blank\" href=https://colab.research.google.com/notebooks/data_table.ipynb>data table notebook</a>'\n",
              "            + ' to learn more about interactive tables.';\n",
              "          element.innerHTML = '';\n",
              "          dataTable['output_type'] = 'display_data';\n",
              "          await google.colab.output.renderOutput(dataTable, element);\n",
              "          const docLink = document.createElement('div');\n",
              "          docLink.innerHTML = docLinkHtml;\n",
              "          element.appendChild(docLink);\n",
              "        }\n",
              "      </script>\n",
              "    </div>\n",
              "  </div>\n",
              "  "
            ]
          },
          "metadata": {},
          "execution_count": 59
        }
      ]
    },
    {
      "cell_type": "code",
      "source": [
        "#to decompress lz4 tar file\n",
        "#!lz4 -d dcm2niix_lz4.tar.lz4 -c | tar xvf -"
      ],
      "metadata": {
        "id": "nWV5c_DYVj47"
      },
      "execution_count": null,
      "outputs": []
    },
    {
      "cell_type": "code",
      "source": [
        "# !cp downloadDicomAndConvertNiftiFiles.tar.lz4 /content/drive/MyDrive/idc_vamsi"
      ],
      "metadata": {
        "id": "G8RuAFEJi-nW"
      },
      "execution_count": null,
      "outputs": []
    }
  ],
  "metadata": {
    "colab": {
      "provenance": [],
      "mount_file_id": "1p-ZpkJeUN2lU-RppKUbNX0V_APgHME38",
      "authorship_tag": "ABX9TyOAhLGqRDpimnEo9/a9N5b9",
      "include_colab_link": true
    },
    "kernelspec": {
      "display_name": "Python 3",
      "name": "python3"
    },
    "language_info": {
      "name": "python"
    }
  },
  "nbformat": 4,
  "nbformat_minor": 0
}