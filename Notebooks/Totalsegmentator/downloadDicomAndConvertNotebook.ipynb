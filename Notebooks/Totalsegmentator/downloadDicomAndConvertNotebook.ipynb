{
  "cells": [
    {
      "cell_type": "markdown",
      "metadata": {
        "id": "view-in-github",
        "colab_type": "text"
      },
      "source": [
        "<a href=\"https://colab.research.google.com/github/vkt1414/Cloud-Resources-Workflows/blob/main/Notebooks/Totalsegmentator/downloadDicomAndConvertNotebook.ipynb\" target=\"_parent\"><img src=\"https://colab.research.google.com/assets/colab-badge.svg\" alt=\"Open In Colab\"/></a>"
      ]
    },
    {
      "cell_type": "markdown",
      "source": [
        "# This Notebook does the first step in the split workflow. \n",
        "DICOM files are downloaded from IDC and converted to NIFTI files with dcm2niix or plastimatch. Whenever there are multiple NIFTI files for a series, such series are prohibited from continuing to Inference. A CSV file is created with a list of such series."
      ],
      "metadata": {
        "id": "rh8wdZYXnGby"
      }
    },
    {
      "cell_type": "code",
      "execution_count": 28,
      "metadata": {
        "id": "hT_MQVJ_NbZU"
      },
      "outputs": [],
      "source": [
        "%%capture\n",
        "#Installing dcm2niix\n",
        "!apt-get install dcm2niix pigz"
      ]
    },
    {
      "cell_type": "code",
      "execution_count": 30,
      "metadata": {
        "id": "N2Z3udYNn7ur"
      },
      "outputs": [],
      "source": [
        "%%capture\n",
        "#Installing plastimatch\n",
        "!apt-get install plastimatch "
      ]
    },
    {
      "cell_type": "code",
      "execution_count": 31,
      "metadata": {
        "id": "cMi94BlAQrb5"
      },
      "outputs": [],
      "source": [
        "%%capture\n",
        "#install s5cmd\n",
        "!wget \"https://github.com/peak/s5cmd/releases/download/v2.0.0/s5cmd_2.0.0_Linux-64bit.tar.gz\"\n",
        "!tar -xvzf \"s5cmd_2.0.0_Linux-64bit.tar.gz\"\n",
        "!rm \"s5cmd_2.0.0_Linux-64bit.tar.gz\"\n",
        "!mv s5cmd /usr/local/bin/s5cmd"
      ]
    },
    {
      "cell_type": "code",
      "execution_count": 32,
      "metadata": {
        "id": "mWLvDAwIQcg1"
      },
      "outputs": [],
      "source": [
        "import os\n",
        "import sys\n",
        "import time\n",
        "import pandas as pd\n",
        "from pathlib import Path\n",
        "import subprocess"
      ]
    },
    {
      "cell_type": "code",
      "source": [
        "curr_dir   = Path().absolute()\n",
        "\n",
        "print(time.asctime(time.localtime()))\n",
        "print(\"\\nCurrent directory :{}\".format( curr_dir))\n",
        "print(\"Python version    :\", sys.version.split('\\n')[0])"
      ],
      "metadata": {
        "id": "0pyWQJ86m7JC"
      },
      "execution_count": null,
      "outputs": []
    },
    {
      "cell_type": "code",
      "source": [
        "curr_dir   = Path().absolute()\n",
        "!rm -r dcm2niix plastimatch\n",
        "!mkdir dcm2niix plastimatch"
      ],
      "metadata": {
        "id": "gqEamh55murg"
      },
      "execution_count": null,
      "outputs": []
    },
    {
      "cell_type": "code",
      "execution_count": 33,
      "metadata": {
        "id": "LZMjMRsyQyCH"
      },
      "outputs": [],
      "source": [
        "cohort_df= pd.read_csv('/content/drive/MyDrive/bquxjob_7f0d87d5_187056e0dd3.csv')\n",
        "# !rm -r result.csv\n",
        "# !unzip '/content/drive/MyDrive/result (1).zip'\n",
        "# cohort_df= pd.read_csv('/content/result.csv')"
      ]
    },
    {
      "cell_type": "code",
      "source": [
        "# df=pd.read_csv('/content/bquxjob_29163fac_18700984012.csv')\n",
        "# SeriesInstanceUIDs=df.SeriesInstanceUID.tolist()"
      ],
      "metadata": {
        "id": "OtBpBgThmYzF"
      },
      "execution_count": 34,
      "outputs": []
    },
    {
      "cell_type": "code",
      "execution_count": 35,
      "metadata": {
        "id": "jDxZvqDlR5Cc"
      },
      "outputs": [],
      "source": [
        "#SeriesInstanceUIDs= cohort_df[\"SeriesInstanceUID\"].values.tolist()\n",
        "SeriesInstanceUIDs=[\n",
        "    \n",
        "\t\n",
        "\n",
        "# '1.3.6.1.4.1.14519.5.2.1.7009.9004.100143549999116733615345241533',\n",
        "# '1.3.6.1.4.1.14519.5.2.1.7009.9004.100148350742920339334061834697',\n",
        "# '1.3.6.1.4.1.14519.5.2.1.7009.9004.100241427395754063917290539621',\n",
        "# '1.3.6.1.4.1.14519.5.2.1.7009.9004.100266844261017577841946689119',\n",
        "# '1.3.6.1.4.1.14519.5.2.1.7009.9004.100554983367710060268444607770',\n",
        "# '1.3.6.1.4.1.14519.5.2.1.7009.9004.100609092457306482866656779396',\n",
        "# '1.3.6.1.4.1.14519.5.2.1.7009.9004.100766949446324115207263771273',\n",
        "# '1.3.6.1.4.1.14519.5.2.1.7009.9004.100807683971079396484581858934',\n",
        "# '1.3.6.1.4.1.14519.5.2.1.7009.9004.100898243941555041874482639283',\n",
        "# '1.3.6.1.4.1.14519.5.2.1.7009.9004.100962349324934756610763981593',\n",
        "# '1.3.6.1.4.1.14519.5.2.1.7009.9004.100993923831797845405183790593'\n",
        "\n",
        "\n",
        "\n",
        "\n",
        "# '1.3.6.1.4.1.14519.5.2.1.7009.9004.318602497855340168746421125221',\n",
        "'1.3.6.1.4.1.14519.5.2.1.7009.9004.946109466334058509440732472138',\n",
        "'1.2.840.113654.2.55.99651797089556982668213819691341139949'\n",
        "# '1.3.6.1.4.1.14519.5.2.1.7009.9004.232085097739286069987727730632',\n",
        "# '1.3.6.1.4.1.14519.5.2.1.7009.9004.171396052820297460506369313586',\n",
        "# '1.3.6.1.4.1.14519.5.2.1.7009.9004.157523143808189016007292783743',\n",
        "# '1.3.6.1.4.1.14519.5.2.1.7009.9004.120962159182977025862744100528',\n",
        "# '1.3.6.1.4.1.14519.5.2.1.7009.9004.233720172411521069206993854389',\n",
        "# '1.3.6.1.4.1.14519.5.2.1.7009.9004.173170853908044997397123665862',\n",
        "# '1.3.6.1.4.1.14519.5.2.1.7009.9004.188290278428073689858811092699',\n",
        "# '1.3.6.1.4.1.14519.5.2.1.7009.9004.142140685181040038525271327574',\n",
        "# '1.3.6.1.4.1.14519.5.2.1.7009.9004.919262012980081990607078665322',\n",
        "# '1.3.6.1.4.1.14519.5.2.1.7009.9004.287814520939797980646993158146'    \n",
        "\n",
        "    \n",
        "]"
      ]
    },
    {
      "cell_type": "code",
      "execution_count": 36,
      "metadata": {
        "id": "L5W5GJ6SSA3r"
      },
      "outputs": [],
      "source": [
        "\n"
      ]
    },
    {
      "cell_type": "code",
      "execution_count": 37,
      "metadata": {
        "id": "QFG0KcZ_QPyG"
      },
      "outputs": [],
      "source": [
        "def download_dicom_data(series_id):\n",
        "\n",
        "  \"\"\"\n",
        "  Download raw DICOM data and run dicomsort to standardise the input format.\n",
        "  \"\"\"\n",
        "  global cohort_df\n",
        "  gs_file_path = \"s5cmd_manifest.txt\"\n",
        "  #cohort_df = bq_client.query(selection_query).to_dataframe()\n",
        "  series_df=cohort_df[cohort_df['SeriesInstanceUID']==series_id]\n",
        "  series_df[\"s5cmdUrls\"].to_csv(gs_file_path, header = False, index = False)\n",
        "  #remove double quotes from the manifest file\n",
        "  !sed -i 's/\"//g' s5cmd_manifest.txt  \n",
        "\n",
        "  start_time = time.time()\n",
        "  print(\"Copying files from IDC buckets..\")\n",
        "\n",
        "  #!cat $gs_file_path | gsutil -q -m cp -Ir $download_path >> /dev/null\n",
        "  !s5cmd --no-sign-request --endpoint-url https://storage.googleapis.com run s5cmd_manifest.txt  >> /dev/null\n",
        "\n",
        "  elapsed = time.time() - start_time\n",
        "  print(\"Done in %g seconds.\"%elapsed)"
      ]
    },
    {
      "cell_type": "code",
      "source": [
        "import os\n",
        "import shutil\n",
        "import subprocess\n",
        "\n",
        "def convert_dicom_to_nifti(series_id):\n",
        "  try:\n",
        "    shutil.rmtree(f'dcm2niix/{series_id}')\n",
        "  except OSError:\n",
        "    pass\n",
        "  os.mkdir(f'dcm2niix/{series_id}')\n",
        "\n",
        "  !dcm2niix -z y -f %j_%p_%t_%s -b n -m y -o  /{curr_dir}/dcm2niix/{series_id}  /{curr_dir}/idc_data/\n",
        "  # try:\n",
        "  #   shutil.rmtree(f'plastimatch/{series_id}')\n",
        "  # except OSError:\n",
        "  #   pass\n",
        "  # os.mkdir(f'plastimatch/{series_id}')\n",
        "  # !plastimatch convert --input /{curr_dir}/idc_data/ --output-img /{curr_dir}/plastimatch/{series_id}/{series_id}.nii.gz\n",
        "\n",
        "\n",
        "  try:\n",
        "      shutil.rmtree('idc_data')\n",
        "  except OSError:\n",
        "      pass\n",
        "  os.mkdir('idc_data')"
      ],
      "metadata": {
        "id": "s0SPIZ5RTxDb"
      },
      "execution_count": 38,
      "outputs": []
    },
    {
      "cell_type": "code",
      "source": [
        "import os\n",
        "import zipfile\n",
        "from concurrent.futures import ThreadPoolExecutor\n",
        "from time import sleep\n",
        "from datetime import datetime\n",
        "import psutil\n",
        "import pandas as pd\n",
        "import matplotlib.pyplot as plt\n",
        "\n",
        "class MemoryMonitor:\n",
        "    def __init__(self):\n",
        "        self.keep_measuring = True\n",
        "\n",
        "    def measure_usage(self):\n",
        "        cpu_usage = []\n",
        "        ram_usage_mb=[]\n",
        "        time_stamps = []\n",
        "        start_time = time.time()\n",
        "        while self.keep_measuring:\n",
        "            cpu = psutil.cpu_percent()\n",
        "            ram = psutil.virtual_memory()\n",
        "            ram_total_mb = psutil.virtual_memory().total / 1024 / 1024\n",
        "            ram_mb = (ram.total - ram.available) / 1024 / 1024\n",
        "\n",
        "            cpu_usage.append(cpu)\n",
        "            ram_usage_mb.append(ram_mb)\n",
        "            time_stamps.append(time.time()- start_time)\n",
        "            sleep(1)\n",
        "\n",
        "        return cpu_usage, ram_usage_mb, time_stamps, ram_total_mb"
      ],
      "metadata": {
        "id": "fGX6gofuPhjf"
      },
      "execution_count": 39,
      "outputs": []
    },
    {
      "cell_type": "code",
      "source": [
        "def download_and_process_series(series_id):\n",
        "    log = pd.DataFrame({'SeriesInstanceUID': [series_id]})\n",
        "\n",
        "    start_time = time.time()\n",
        "    download_dicom_data( series_id)\n",
        "    download_time = time.time() - start_time\n",
        "\n",
        "    log['download_time'] = download_time\n",
        "\n",
        "    start_time = time.time()\n",
        "    convert_dicom_to_nifti(series_id)\n",
        "    convert_dicom_to_nifti_time = time.time() - start_time\n",
        "\n",
        "    log['NiftiConverter_time'] = convert_dicom_to_nifti_time\n",
        "\n",
        "    global runtime_stats\n",
        "    runtime_stats = pd.concat([runtime_stats, log], ignore_index=True, axis=0)\n",
        "\n"
      ],
      "metadata": {
        "id": "oKATbtgwPjX9"
      },
      "execution_count": 40,
      "outputs": []
    },
    {
      "cell_type": "code",
      "source": [
        "runtime_stats = pd.DataFrame(columns=['SeriesInstanceUID','download_time',\n",
        "                                      'NiftiConverter_time', 'cpu_usage','ram_usage_mb', 'ram_total_mb'\n",
        "                                      ])\n",
        "if __name__ == \"__main__\":\n",
        "    for series_id in SeriesInstanceUIDs:\n",
        "        with ThreadPoolExecutor() as executor:\n",
        "            monitor = MemoryMonitor()\n",
        "            mem_thread = executor.submit(monitor.measure_usage)\n",
        "            try:\n",
        "                proc_thread = executor.submit(download_and_process_series, series_id)\n",
        "                proc_thread.result()\n",
        "            finally:\n",
        "                monitor.keep_measuring = False\n",
        "                cpu_usage, ram_usage_mb, time_stamps, ram_total_mb = mem_thread.result()\n",
        "                \n",
        "                cpu_idx = runtime_stats.index[runtime_stats['SeriesInstanceUID'] == series_id][0]\n",
        "                runtime_stats.iloc[cpu_idx, runtime_stats.columns.get_loc('cpu_usage')] = [[cpu_usage]]\n",
        "\n",
        "                ram_usage_mb_idx = runtime_stats.index[runtime_stats['SeriesInstanceUID'] == series_id][0]\n",
        "                runtime_stats.iloc[ram_usage_mb_idx, runtime_stats.columns.get_loc('ram_usage_mb')] = [[ram_usage_mb]]\n",
        "                \n",
        "                ram_total_mb_idx = runtime_stats.index[runtime_stats['SeriesInstanceUID'] == series_id][0]\n",
        "                runtime_stats.iloc[ram_total_mb_idx, runtime_stats.columns.get_loc('ram_total_mb')] = [[ram_total_mb]]\n",
        "                \n",
        "                \n",
        "                #runtime_stats.at[runtime_stats['SeriesInstanceUID']==series_id, 'cpu_usage']=[[cpu_usage]]\n",
        "                #runtime_stats.at[runtime_stats['SeriesInstanceUID']==series_id, 'ram_usage_mb']=[[ram_usage_mb]]\n",
        "                #runtime_stats.at[runtime_stats['SeriesInstanceUID']==series_id, 'ram_total_mb']=[[ram_total_mb]]\n",
        "\n",
        "                plt.plot(time_stamps, cpu_usage)\n",
        "                plt.ylim(0, 100)\n",
        "                plt.xlabel('Time (s)')\n",
        "                plt.ylabel('CPU usage (%)')\n",
        "                plt.show()\n",
        "\n",
        "                plt.plot(time_stamps, ram_usage_mb)\n",
        "                plt.ylim(0, ram_total_mb)\n",
        "                plt.xlabel('Time (s)')\n",
        "                plt.ylabel('Memory usage (MB)')\n",
        "                plt.show()\n",
        "\n",
        "runtime_stats.to_csv('runtime.csv')\n",
        "subprocess.run([\"zip\", \"-j\", \"-r\", \"downloadDicomAndConvertUsageMetrics.zip\", os.path.join(curr_dir, \"runtime.csv\")])\n"
      ],
      "metadata": {
        "colab": {
          "base_uri": "https://localhost:8080/",
          "height": 1000
        },
        "id": "ZTtOJ7CtQYkX",
        "outputId": "52988335-d632-4f1f-9c3a-04ec18e050b0"
      },
      "execution_count": 41,
      "outputs": [
        {
          "output_type": "stream",
          "name": "stdout",
          "text": [
            "Copying files from IDC buckets..\n",
            "Done in 1.03547 seconds.\n",
            "Chris Rorden's dcm2niiX version v1.0.20181125  (JP2:OpenJPEG) GCC9.3.0 (64-bit Linux)\n",
            "Found 256 DICOM file(s)\n",
            "Dims 512 512 256 1 1\n",
            "Warning: Interslice distance varies in this volume (incompatible with NIfTI format).\n",
            " Distance from first slice:\n",
            "dx=[0 1.25 2.5 3.75 5 6.25 7.5 8.75 10 11.25 12.5 13.75 15 16.25 17.5 18.75 20 21.25 22.5 23.75 25 26.25 27.5 28.75 30 31.25 32.5 33.75 35 36.25 37.5 38.75 40 41.25 42.5 43.75 45 46.25 47.5 48.75 50 51.25 52.5 53.75 55 56.25 57.5 58.75 60 61.25 62.5 63.75 65 66.25 67.5 68.75 70 71.25 72.5 73.75 75 76.25 77.5 78.75 80 81.25 82.5 83.75 85 86.25 87.5 88.75 90 91.25 92.5 93.75 95 96.25 97.5 98.75 100 101.25 102.5 103.75 105 106.25 107.5 108.75 110 111.25 112.5 113.75 115 116.25 117.5 118.75 120 121.25 122.5 123.75 125 126.25 127.5 128.75 130 131.25 132.5 133.75 135 136.25 137.5 138.75 140 141.25 142.5 143.75 145 146.25 147.5 148.75 150 151.25 152.5 153.75 155 156.25 157.5 158.75 160 161.25 162.5 163.75 165 166.25 167.5 168.75 170 171.25 172.5 173.75 175 176.25 177.5 178.75 180 181.25 182.5 183.75 185 186.25 187.5 188.75 190 191.25 192.5 193.75 195 196.25 197.5 198.75 200 201.25 202.5 203.75 205 206.25 207.5 208.75 210 211.25 212.5 213.75 215 216.25 217.5 218.75 220 221.25 222.5 223.75 225 226.25 227.5 228.75 230 231.25 232.5 233.75 235 236.25 237.5 238.75 240 241.25 242.5 243.75 245 246.25 247.5 248.75 250 251.25 252.5 253.75 255 256.25 257.5 258.75 260 261.25 262.5 263.75 265 266.25 267.5 268.75 270 271.25 272.5 273.75 275 276.25 277.5 278.75 280 281.25 282.5 283.75 285 286.25 287.5 288.75 290 291.25 292.5 293.75 295 296.25 297.5 1.27499 2.52499 3.77499 5.02499 6.27499 7.52499 8.77499 10.025 11.275 12.525 13.775 15.025 16.275 17.525 18.775 20.025 21.275]\n",
            "Convert 256 DICOM as //content/dcm2niix/1.3.6.1.4.1.14519.5.2.1.7009.9004.946109466334058509440732472138/1.3.6.1.4.1.14519.5.2.1.7009.9004.94610946633405850944073247213_1_OPA_GE_HSQX_STANDARD_360_1.2_120_70_46.7_1.5_20000102000000_3 (512x512x256x1)\n",
            "compress: \"/usr/bin/pigz\" -n -f -6 \"//content/dcm2niix/1.3.6.1.4.1.14519.5.2.1.7009.9004.946109466334058509440732472138/1.3.6.1.4.1.14519.5.2.1.7009.9004.94610946633405850944073247213_1_OPA_GE_HSQX_STANDARD_360_1.2_120_70_46.7_1.5_20000102000000_3.nii\"\n",
            "compress: \"/usr/bin/pigz\" -n -f -6 \"//content/dcm2niix/1.3.6.1.4.1.14519.5.2.1.7009.9004.946109466334058509440732472138/1.3.6.1.4.1.14519.5.2.1.7009.9004.94610946633405850944073247213_1_OPA_GE_HSQX_STANDARD_360_1.2_120_70_46.7_1.5_20000102000000_3_Eq_1.nii\"\n",
            "Conversion required 16.056792 seconds (0.774840 for core code).\n"
          ]
        },
        {
          "output_type": "display_data",
          "data": {
            "text/plain": [
              "<Figure size 432x288 with 1 Axes>"
            ],
            "image/png": "[encoded data removed]"
          },
          "metadata": {
            "needs_background": "light"
          }
        },
        {
          "output_type": "display_data",
          "data": {
            "text/plain": [
              "<Figure size 432x288 with 1 Axes>"
            ],
            "image/png": "[encoded data removed]"
          },
          "metadata": {
            "needs_background": "light"
          }
        },
        {
          "output_type": "stream",
          "name": "stdout",
          "text": [
            "Copying files from IDC buckets..\n",
            "Done in 0.934896 seconds.\n",
            "Chris Rorden's dcm2niiX version v1.0.20181125  (JP2:OpenJPEG) GCC9.3.0 (64-bit Linux)\n",
            "Found 128 DICOM file(s)\n",
            "Dims 512 512 128 1 1\n",
            "Warning: Interslice distance varies in this volume (incompatible with NIfTI format).\n",
            " Distance from first slice:\n",
            "dx=[0 2.5 5 7.5 10 12.5 15 17.5 20 22.5 25 27.5 30 32.5 35 37.5 40 42.5 45 47.5 50 52.5 55 57.5 60 62.5 65 67.5 70 72.5 75 77.5 80 82.5 85 87.5 90 92.5 95 97.5 100 102.5 105 107.5 110 112.5 115 117.5 120 122.5 125 127.5 130 132.5 135 137.5 140 142.5 145 147.5 150 152.5 155 157.5 160 162.5 165 167.5 170 172.5 175 177.5 180 182.5 185 187.5 190 192.5 195 197.5 200 202.5 205 207.5 210 212.5 215 217.5 220 222.5 225 227.5 230 232.5 235 237.5 240 242.5 245 247.5 250 252.5 255 257.5 260 262.5 265 267.5 270 272.5 275 277.5 280 282.5 285 2.54001 5.04001 7.54001 10.04 12.54 15.04 17.54 20.04 22.54 25.04 27.54 30.04 32.54]\n",
            "Convert 128 DICOM as //content/dcm2niix/1.2.840.113654.2.55.99651797089556982668213819691341139949/1.2.840.113654.2.55.99651797089556982668213819691341139949_0_OPA_GE_LSQX_STANDARD_320_2.5_140_64_0.1_1.5_19990102000000_2 (512x512x128x1)\n",
            "compress: \"/usr/bin/pigz\" -n -f -6 \"//content/dcm2niix/1.2.840.113654.2.55.99651797089556982668213819691341139949/1.2.840.113654.2.55.99651797089556982668213819691341139949_0_OPA_GE_LSQX_STANDARD_320_2.5_140_64_0.1_1.5_19990102000000_2.nii\"\n",
            "compress: \"/usr/bin/pigz\" -n -f -6 \"//content/dcm2niix/1.2.840.113654.2.55.99651797089556982668213819691341139949/1.2.840.113654.2.55.99651797089556982668213819691341139949_0_OPA_GE_LSQX_STANDARD_320_2.5_140_64_0.1_1.5_19990102000000_2_Eq_1.nii\"\n",
            "Conversion required 7.913886 seconds (0.337589 for core code).\n"
          ]
        },
        {
          "output_type": "display_data",
          "data": {
            "text/plain": [
              "<Figure size 432x288 with 1 Axes>"
            ],
            "image/png": "[encoded data removed]"
          },
          "metadata": {
            "needs_background": "light"
          }
        },
        {
          "output_type": "display_data",
          "data": {
            "text/plain": [
              "<Figure size 432x288 with 1 Axes>"
            ],
            "image/png": "[encoded data removed]"
          },
          "metadata": {
            "needs_background": "light"
          }
        },
        {
          "output_type": "execute_result",
          "data": {
            "text/plain": [
              "CompletedProcess(args=['zip', '-j', '-r', 'downloadDicomAndConvertUsageMetrics.zip', '/content/runtime.csv'], returncode=0)"
            ]
          },
          "metadata": {},
          "execution_count": 41
        }
      ]
    },
    {
      "cell_type": "code",
      "source": [
        "runtime_stats"
      ],
      "metadata": {
        "colab": {
          "base_uri": "https://localhost:8080/",
          "height": 191
        },
        "id": "z9n17x4vhDQp",
        "outputId": "bcf90c08-934b-43b3-e73c-f66df5e352c3"
      },
      "execution_count": 42,
      "outputs": [
        {
          "output_type": "execute_result",
          "data": {
            "text/plain": [
              "                                   SeriesInstanceUID  download_time  \\\n",
              "0  1.3.6.1.4.1.14519.5.2.1.7009.9004.946109466334...       1.193093   \n",
              "1  1.2.840.113654.2.55.99651797089556982668213819...       1.063698   \n",
              "\n",
              "   NiftiConverter_time                                          cpu_usage  \\\n",
              "0            16.281241  [[[23.4, 92.0, 77.1, 100.0, 100.0, 100.0, 100....   \n",
              "1             8.027617  [[[97.4, 99.0, 99.5, 100.0, 100.0, 100.0, 100....   \n",
              "\n",
              "                                        ram_usage_mb    ram_total_mb  \n",
              "0  [[[966.53515625, 1053.0234375, 1126.5234375, 1...  [12985.546875]  \n",
              "1  [[[1195.4296875, 1220.08984375, 1314.7421875, ...  [12985.546875]  "
            ],
            "text/html": [
              "\n",
              "  <div id=\"df-1039b735-05ba-4f9e-8ef8-fc8c8dd83bd3\">\n",
              "    <div class=\"colab-df-container\">\n",
              "      <div>\n",
              "<style scoped>\n",
              "    .dataframe tbody tr th:only-of-type {\n",
              "        vertical-align: middle;\n",
              "    }\n",
              "\n",
              "    .dataframe tbody tr th {\n",
              "        vertical-align: top;\n",
              "    }\n",
              "\n",
              "    .dataframe thead th {\n",
              "        text-align: right;\n",
              "    }\n",
              "</style>\n",
              "<table border=\"1\" class=\"dataframe\">\n",
              "  <thead>\n",
              "    <tr style=\"text-align: right;\">\n",
              "      <th></th>\n",
              "      <th>SeriesInstanceUID</th>\n",
              "      <th>download_time</th>\n",
              "      <th>NiftiConverter_time</th>\n",
              "      <th>cpu_usage</th>\n",
              "      <th>ram_usage_mb</th>\n",
              "      <th>ram_total_mb</th>\n",
              "    </tr>\n",
              "  </thead>\n",
              "  <tbody>\n",
              "    <tr>\n",
              "      <th>0</th>\n",
              "      <td>1.3.6.1.4.1.14519.5.2.1.7009.9004.946109466334...</td>\n",
              "      <td>1.193093</td>\n",
              "      <td>16.281241</td>\n",
              "      <td>[[[23.4, 92.0, 77.1, 100.0, 100.0, 100.0, 100....</td>\n",
              "      <td>[[[966.53515625, 1053.0234375, 1126.5234375, 1...</td>\n",
              "      <td>[12985.546875]</td>\n",
              "    </tr>\n",
              "    <tr>\n",
              "      <th>1</th>\n",
              "      <td>1.2.840.113654.2.55.99651797089556982668213819...</td>\n",
              "      <td>1.063698</td>\n",
              "      <td>8.027617</td>\n",
              "      <td>[[[97.4, 99.0, 99.5, 100.0, 100.0, 100.0, 100....</td>\n",
              "      <td>[[[1195.4296875, 1220.08984375, 1314.7421875, ...</td>\n",
              "      <td>[12985.546875]</td>\n",
              "    </tr>\n",
              "  </tbody>\n",
              "</table>\n",
              "</div>\n",
              "      <button class=\"colab-df-convert\" onclick=\"convertToInteractive('df-1039b735-05ba-4f9e-8ef8-fc8c8dd83bd3')\"\n",
              "              title=\"Convert this dataframe to an interactive table.\"\n",
              "              style=\"display:none;\">\n",
              "        \n",
              "  <svg xmlns=\"http://www.w3.org/2000/svg\" height=\"24px\"viewBox=\"0 0 24 24\"\n",
              "       width=\"24px\">\n",
              "    <path d=\"M0 0h24v24H0V0z\" fill=\"none\"/>\n",
              "    <path d=\"M18.56 5.44l.94 2.06.94-2.06 2.06-.94-2.06-.94-.94-2.06-.94 2.06-2.06.94zm-11 1L8.5 8.5l.94-2.06 2.06-.94-2.06-.94L8.5 2.5l-.94 2.06-2.06.94zm10 10l.94 2.06.94-2.06 2.06-.94-2.06-.94-.94-2.06-.94 2.06-2.06.94z\"/><path d=\"M17.41 7.96l-1.37-1.37c-.4-.4-.92-.59-1.43-.59-.52 0-1.04.2-1.43.59L10.3 9.45l-7.72 7.72c-.78.78-.78 2.05 0 2.83L4 21.41c.39.39.9.59 1.41.59.51 0 1.02-.2 1.41-.59l7.78-7.78 2.81-2.81c.8-.78.8-2.07 0-2.86zM5.41 20L4 18.59l7.72-7.72 1.47 1.35L5.41 20z\"/>\n",
              "  </svg>\n",
              "      </button>\n",
              "      \n",
              "  <style>\n",
              "    .colab-df-container {\n",
              "      display:flex;\n",
              "      flex-wrap:wrap;\n",
              "      gap: 12px;\n",
              "    }\n",
              "\n",
              "    .colab-df-convert {\n",
              "      background-color: #E8F0FE;\n",
              "      border: none;\n",
              "      border-radius: 50%;\n",
              "      cursor: pointer;\n",
              "      display: none;\n",
              "      fill: #1967D2;\n",
              "      height: 32px;\n",
              "      padding: 0 0 0 0;\n",
              "      width: 32px;\n",
              "    }\n",
              "\n",
              "    .colab-df-convert:hover {\n",
              "      background-color: #E2EBFA;\n",
              "      box-shadow: 0px 1px 2px rgba(60, 64, 67, 0.3), 0px 1px 3px 1px rgba(60, 64, 67, 0.15);\n",
              "      fill: #174EA6;\n",
              "    }\n",
              "\n",
              "    [theme=dark] .colab-df-convert {\n",
              "      background-color: #3B4455;\n",
              "      fill: #D2E3FC;\n",
              "    }\n",
              "\n",
              "    [theme=dark] .colab-df-convert:hover {\n",
              "      background-color: #434B5C;\n",
              "      box-shadow: 0px 1px 3px 1px rgba(0, 0, 0, 0.15);\n",
              "      filter: drop-shadow(0px 1px 2px rgba(0, 0, 0, 0.3));\n",
              "      fill: #FFFFFF;\n",
              "    }\n",
              "  </style>\n",
              "\n",
              "      <script>\n",
              "        const buttonEl =\n",
              "          document.querySelector('#df-1039b735-05ba-4f9e-8ef8-fc8c8dd83bd3 button.colab-df-convert');\n",
              "        buttonEl.style.display =\n",
              "          google.colab.kernel.accessAllowed ? 'block' : 'none';\n",
              "\n",
              "        async function convertToInteractive(key) {\n",
              "          const element = document.querySelector('#df-1039b735-05ba-4f9e-8ef8-fc8c8dd83bd3');\n",
              "          const dataTable =\n",
              "            await google.colab.kernel.invokeFunction('convertToInteractive',\n",
              "                                                     [key], {});\n",
              "          if (!dataTable) return;\n",
              "\n",
              "          const docLinkHtml = 'Like what you see? Visit the ' +\n",
              "            '<a target=\"_blank\" href=https://colab.research.google.com/notebooks/data_table.ipynb>data table notebook</a>'\n",
              "            + ' to learn more about interactive tables.';\n",
              "          element.innerHTML = '';\n",
              "          dataTable['output_type'] = 'display_data';\n",
              "          await google.colab.output.renderOutput(dataTable, element);\n",
              "          const docLink = document.createElement('div');\n",
              "          docLink.innerHTML = docLinkHtml;\n",
              "          element.appendChild(docLink);\n",
              "        }\n",
              "      </script>\n",
              "    </div>\n",
              "  </div>\n",
              "  "
            ]
          },
          "metadata": {},
          "execution_count": 42
        }
      ]
    },
    {
      "cell_type": "code",
      "source": [
        "import os\n",
        "import csv\n",
        "\n",
        "def check_dcm2niix_errors(path):\n",
        "    with open('dcm2niix_errors.csv', 'w') as csvfile:\n",
        "        writer = csv.writer(csvfile)\n",
        "        for series_id in os.listdir(path):\n",
        "            series_id_path = os.path.join(path, series_id)\n",
        "            if os.path.isdir(series_id_path):\n",
        "                num_files = len([f for f in os.listdir(series_id_path) if os.path.isfile(os.path.join(series_id_path, f))])\n",
        "                if num_files > 1:\n",
        "                    print(f'Found one more than one nifti for the {series_id}')\n",
        "                    writer.writerow([series_id])\n",
        "                    shutil.rmtree(f'dcm2niix/{series_id}')\n"
      ],
      "metadata": {
        "id": "tba4tK6pvja9"
      },
      "execution_count": 43,
      "outputs": []
    },
    {
      "cell_type": "code",
      "source": [
        "check_dcm2niix_errors(f'/{curr_dir}/dcm2niix')"
      ],
      "metadata": {
        "colab": {
          "base_uri": "https://localhost:8080/"
        },
        "id": "wP7_k4msvl2E",
        "outputId": "b1bfbd17-1d67-4383-f100-f1ba6fe2f073"
      },
      "execution_count": 44,
      "outputs": [
        {
          "output_type": "stream",
          "name": "stdout",
          "text": [
            "Found one more than one nifti for the 1.3.6.1.4.1.14519.5.2.1.7009.9004.946109466334058509440732472138\n",
            "Found one more than one nifti for the 1.2.840.113654.2.55.99651797089556982668213819691341139949\n"
          ]
        }
      ]
    },
    {
      "cell_type": "code",
      "source": [
        "subprocess.run([\"zip\", \"-j\", \"-r\", \"downloadDicomAndConvertNiftiFiles.zip\", os.path.join(curr_dir, \"dcm2niix\")])\n",
        "#subprocess.run([\"zip\", \"-j\", \"-r\", \"downloadDicomAndConvertNiftiFiles.zip\", os.path.join(curr_dir, \"plastimatch\")])"
      ],
      "metadata": {
        "colab": {
          "base_uri": "https://localhost:8080/"
        },
        "id": "-q3J_d00v0gz",
        "outputId": "9eeeb7ca-1d66-4b31-a78c-1eb172760c79"
      },
      "execution_count": 46,
      "outputs": [
        {
          "output_type": "execute_result",
          "data": {
            "text/plain": [
              "CompletedProcess(args=['zip', '-j', '-r', 'downloadDicomAndConvertNiftiFiles.zip', '/content/dcm2niix'], returncode=12)"
            ]
          },
          "metadata": {},
          "execution_count": 46
        }
      ]
    }
  ],
  "metadata": {
    "colab": {
      "provenance": [],
      "mount_file_id": "1p-ZpkJeUN2lU-RppKUbNX0V_APgHME38",
      "authorship_tag": "ABX9TyMQFSu0rkBlFj1xxa+zBqXp",
      "include_colab_link": true
    },
    "kernelspec": {
      "display_name": "Python 3",
      "name": "python3"
    },
    "language_info": {
      "name": "python"
    }
  },
  "nbformat": 4,
  "nbformat_minor": 0
}