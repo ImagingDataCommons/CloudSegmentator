{
  "cells": [
    {
      "cell_type": "markdown",
      "metadata": {
        "id": "view-in-github",
        "colab_type": "text"
      },
      "source": [
        "<a href=\"https://colab.research.google.com/github/vkt1414/Cloud-Resources-Workflows/blob/main/Notebooks/Totalsegmentator/inferenceTotalSegmentatorNotebookTroubleshootingMLflag.ipynb\" target=\"_parent\"><img src=\"https://colab.research.google.com/assets/colab-badge.svg\" alt=\"Open In Colab\"/></a>"
      ]
    },
    {
      "cell_type": "markdown",
      "metadata": {
        "id": "_QhtMLIRPQsH"
      },
      "source": [
        "#**This Notebook does the second step in the split workflow on Terra**"
      ]
    },
    {
      "cell_type": "markdown",
      "metadata": {
        "id": "L6wX5zMpPYn8"
      },
      "source": [
        "The NIFTI files generated from first step are provided as input for Inference.\n",
        "\n",
        "\n",
        "Please cite:\n",
        "\n",
        "Jakob Wasserthal, Manfred Meyer, Hanns-Christian Breit, Joshy Cyriac, Shan Yang, & Martin Segeroth. (2022). TotalSegmentator: robust segmentation of 104 anatomical structures in CT images. https://doi.org/10.48550/arXiv.2208.05868\n",
        "\n",
        "Isensee, F., Jaeger, P.F., Kohl, S.A.A. et al. nnU-Net: a self-configuring method for deep learning-based biomedical image segmentation. Nat Methods 18, 203–211 (2021). https://doi.org/10.1038/s41592-020-01008-z"
      ]
    },
    {
      "cell_type": "markdown",
      "metadata": {
        "id": "_jcGevLmr3JW"
      },
      "source": [
        "###**Installing Packages**"
      ]
    },
    {
      "cell_type": "code",
      "execution_count": 4,
      "metadata": {
        "id": "p0BAKG7AOI9a"
      },
      "outputs": [],
      "source": [
        "%%capture\n",
        "#Installing lz4 for compression/decompression\n",
        "#xvfb required for previewing Totalsegmentator png images\n",
        "!apt-get install lz4 xvfb"
      ]
    },
    {
      "cell_type": "code",
      "execution_count": 5,
      "metadata": {
        "id": "R68Zs8VTrvKg"
      },
      "outputs": [],
      "source": [
        "%%capture\n",
        "#Installing Totalsegmentator for Inference\n",
        "#pyradiomics required for extracting radiomics features \n",
        "#nvidia-ml-py3 for capturing gpu utilization\n",
        "!pip install TotalSegmentator pyradiomics nvidia-ml-py3"
      ]
    },
    {
      "cell_type": "markdown",
      "metadata": {
        "id": "5nlRssXE5q5O"
      },
      "source": [
        "###**Importing Packages**"
      ]
    },
    {
      "cell_type": "code",
      "execution_count": 39,
      "metadata": {
        "colab": {
          "base_uri": "https://localhost:8080/"
        },
        "id": "tuihieSG5kjW",
        "outputId": "5606bf44-7994-419f-a7f7-8510bae7767f"
      },
      "outputs": [
        {
          "output_type": "stream",
          "name": "stdout",
          "text": [
            "Wed Apr 26 16:34:25 2023\n",
            "\n",
            "Current directory :/content\n",
            "Python version    : 3.9.16 (main, Dec  7 2022, 01:11:51) \n"
          ]
        }
      ],
      "source": [
        "import glob\n",
        "import os\n",
        "import sys\n",
        "import shutil\n",
        "from pathlib import Path\n",
        "import time\n",
        "import subprocess\n",
        "from concurrent.futures import ThreadPoolExecutor\n",
        "from time import sleep\n",
        "from datetime import datetime\n",
        "import psutil\n",
        "import pandas as pd\n",
        "import matplotlib.pyplot as plt\n",
        "import nvidia_smi\n",
        "\n",
        "\n",
        "curr_dir   = Path().absolute()\n",
        "\n",
        "print(time.asctime(time.localtime()))\n",
        "print(\"\\nCurrent directory :{}\".format( curr_dir))\n",
        "print(\"Python version    :\", sys.version.split('\\n')[0])"
      ]
    },
    {
      "cell_type": "markdown",
      "metadata": {
        "id": "8l5mWkLoRGVX"
      },
      "source": [
        "###**Parameters for Papermill**"
      ]
    },
    {
      "cell_type": "code",
      "execution_count": 40,
      "metadata": {
        "id": "JJ-g6Lw2RDUp",
        "tags": [
          "parameters"
        ]
      },
      "outputs": [],
      "source": [
        "converterType='dcm2niix'\n",
        "niftiFilePath=''"
      ]
    },
    {
      "cell_type": "markdown",
      "metadata": {
        "id": "AhkrtpRH5MK1"
      },
      "source": [
        "###**Local testing**"
      ]
    },
    {
      "cell_type": "code",
      "execution_count": 41,
      "metadata": {
        "colab": {
          "base_uri": "https://localhost:8080/"
        },
        "id": "JifIJvxZ41OC",
        "outputId": "0d6a0e8c-991c-4744-c800-b00ffaa9dfca"
      },
      "outputs": [
        {
          "output_type": "stream",
          "name": "stdout",
          "text": [
            "Looking in indexes: https://pypi.org/simple, https://us-python.pkg.dev/colab-wheels/public/simple/\n",
            "Requirement already satisfied: gdown in /usr/local/lib/python3.9/dist-packages (4.6.6)\n",
            "Requirement already satisfied: beautifulsoup4 in /usr/local/lib/python3.9/dist-packages (from gdown) (4.11.2)\n",
            "Requirement already satisfied: requests[socks] in /usr/local/lib/python3.9/dist-packages (from gdown) (2.27.1)\n",
            "Requirement already satisfied: six in /usr/local/lib/python3.9/dist-packages (from gdown) (1.16.0)\n",
            "Requirement already satisfied: filelock in /usr/local/lib/python3.9/dist-packages (from gdown) (3.11.0)\n",
            "Requirement already satisfied: tqdm in /usr/local/lib/python3.9/dist-packages (from gdown) (4.65.0)\n",
            "Requirement already satisfied: soupsieve>1.2 in /usr/local/lib/python3.9/dist-packages (from beautifulsoup4->gdown) (2.4.1)\n",
            "Requirement already satisfied: idna<4,>=2.5 in /usr/local/lib/python3.9/dist-packages (from requests[socks]->gdown) (3.4)\n",
            "Requirement already satisfied: certifi>=2017.4.17 in /usr/local/lib/python3.9/dist-packages (from requests[socks]->gdown) (2022.12.7)\n",
            "Requirement already satisfied: charset-normalizer~=2.0.0 in /usr/local/lib/python3.9/dist-packages (from requests[socks]->gdown) (2.0.12)\n",
            "Requirement already satisfied: urllib3<1.27,>=1.21.1 in /usr/local/lib/python3.9/dist-packages (from requests[socks]->gdown) (1.26.15)\n",
            "Requirement already satisfied: PySocks!=1.5.7,>=1.5.6 in /usr/local/lib/python3.9/dist-packages (from requests[socks]->gdown) (1.7.1)\n"
          ]
        }
      ],
      "source": [
        "!pip install gdown"
      ]
    },
    {
      "cell_type": "code",
      "execution_count": 42,
      "metadata": {
        "colab": {
          "base_uri": "https://localhost:8080/"
        },
        "id": "u3QXHGDp2htr",
        "outputId": "a9bca91b-f2b7-40c3-8f1f-0b8bc51bd87f"
      },
      "outputs": [
        {
          "output_type": "stream",
          "name": "stdout",
          "text": [
            "Downloading...\n",
            "From: https://drive.google.com/uc?id=1GdtvCeJk2qTARWOMCeNLz97ltF4plkDq\n",
            "To: /content/niftiFilesForTroubleshooting.tar.lz4\n",
            "100% 36.5M/36.5M [00:00<00:00, 206MB/s]\n"
          ]
        }
      ],
      "source": [
        "!gdown \"https://drive.google.com/uc?id=1GdtvCeJk2qTARWOMCeNLz97ltF4plkDq\" \n",
        "niftiFilePath= glob.glob(\"*.lz4\")[0]\n"
      ]
    },
    {
      "cell_type": "markdown",
      "metadata": {
        "id": "RrD7DBKTJIHT"
      },
      "source": [
        "###**Decompressing NIFTI files from first step**"
      ]
    },
    {
      "cell_type": "code",
      "execution_count": 43,
      "metadata": {
        "colab": {
          "base_uri": "https://localhost:8080/"
        },
        "id": "y_so3BoXMa10",
        "outputId": "b462f70a-9c5d-406c-aa4d-bad7fed68ea3"
      },
      "outputs": [
        {
          "output_type": "stream",
          "name": "stdout",
          "text": [
            "dcm2niix/1.2.840.113654.2.55.100875189782210690344207306235124901243/\n",
            "dcm2niix/1.2.840.113654.2.55.100875189782210690344207306235124901243/1.2.840.113654.2.55.100875189782210690344207306235124901243_0_OPA_GE_LSQX_STANDARD_360_2.5_120_na_na_na_19990102000000_2.nii.gz\n"
          ]
        }
      ],
      "source": [
        "!lz4 -d --rm {niftiFilePath} -c | tar  --strip-components=0  -xvf -"
      ]
    },
    {
      "cell_type": "markdown",
      "source": [
        "###**TotalSegmentator Troubleshooting --ml flag**"
      ],
      "metadata": {
        "id": "xy6y9ENIJBEF"
      }
    },
    {
      "cell_type": "code",
      "source": [
        "try:\n",
        "  shutil.rmtree('metadataWithMLflag')\n",
        "  shutil.rmtree('metadataWithOUTMLflag')\n",
        "  shutil.rmtree('segmentations')\n",
        "  shutil.rmtree('segmentationsWithMLflag')\n",
        "except OSError:\n",
        "  pass\n",
        "\n",
        "os.mkdir('metadataWithMLflag')\n",
        "os.mkdir('metadataWithOUTMLflag')\n",
        "os.mkdir('segmentationsWithMLflag')\n"
      ],
      "metadata": {
        "id": "ws7QSd4BSD4w"
      },
      "execution_count": 58,
      "outputs": []
    },
    {
      "cell_type": "markdown",
      "source": [
        "####**With ML Flag**"
      ],
      "metadata": {
        "id": "wB48j8rCRVKU"
      }
    },
    {
      "cell_type": "code",
      "source": [
        "#this command does not create 'segmentations' folder and \n",
        "#does not compress the output nifti file\n",
        "#create an empty file for radiomics features\n",
        "\n",
        "!TotalSegmentator -i /content/dcm2niix/1.2.840.113654.2.55.100875189782210690344207306235124901243/1.2.840.113654.2.55.100875189782210690344207306235124901243_0_OPA_GE_LSQX_STANDARD_360_2.5_120_na_na_na_19990102000000_2.nii.gz \\\n",
        "  -o segmentations --ml --fast --preview --radiomics\n",
        "\n",
        "!mv segmentations.nii segmentationsWithMLflag/\n",
        "!mv preview_total.png  statistics_radiomics.json metadataWithMLflag/"
      ],
      "metadata": {
        "id": "jPxxI3RXPG1g",
        "outputId": "e4008aed-b3ab-4d2a-db4b-f30780b6126d",
        "colab": {
          "base_uri": "https://localhost:8080/"
        }
      },
      "execution_count": 59,
      "outputs": [
        {
          "output_type": "stream",
          "name": "stdout",
          "text": [
            "\n",
            "If you use this tool please cite: https://doi.org/10.48550/arXiv.2208.05868\n",
            "\n",
            "Using 'fast' option: resampling to lower resolution (3mm)\n",
            "Resampling...\n",
            "  Resampled in 2.36s\n",
            "Predicting...\n",
            "  Predicted in 8.15s\n",
            "Generating preview...\n",
            "  Generated in 5.41s\n",
            "Resampling...\n",
            "Saving segmentations...\n",
            "  Saved in 0.44s\n",
            "Calculating radiomics...\n",
            "0it [00:00, ?it/s]\n",
            "  calculated in 0.10s\n"
          ]
        }
      ]
    },
    {
      "cell_type": "markdown",
      "source": [
        "####**WithOUT ML Flag**"
      ],
      "metadata": {
        "id": "nVYu6mI4Rncz"
      }
    },
    {
      "cell_type": "code",
      "source": [
        "#this command CREATES 'segmentations' folder and \n",
        "#compresses each body part's  output nifti file\n",
        "#calculates radiomics features correctly\n",
        "\n",
        "!TotalSegmentator -i /content/dcm2niix/1.2.840.113654.2.55.100875189782210690344207306235124901243/1.2.840.113654.2.55.100875189782210690344207306235124901243_0_OPA_GE_LSQX_STANDARD_360_2.5_120_na_na_na_19990102000000_2.nii.gz \\\n",
        "  -o segmentationsWithMLflag --fast --preview --radiomics\n",
        "\n",
        "\n",
        "!mv segmentationsWithMLflag/preview_total.png segmentationsWithMLflag/statistics_radiomics.json metadataWithOUTMLflag/"
      ],
      "metadata": {
        "colab": {
          "base_uri": "https://localhost:8080/"
        },
        "id": "SZv7qpibQWLY",
        "outputId": "3abbfe67-5524-4fb1-ba79-f74dcd19a0fa"
      },
      "execution_count": 60,
      "outputs": [
        {
          "output_type": "stream",
          "name": "stdout",
          "text": [
            "\n",
            "If you use this tool please cite: https://doi.org/10.48550/arXiv.2208.05868\n",
            "\n",
            "Using 'fast' option: resampling to lower resolution (3mm)\n",
            "Resampling...\n",
            "  Resampled in 2.29s\n",
            "Predicting...\n",
            "  Predicted in 9.01s\n",
            "Generating preview...\n",
            "  Generated in 5.38s\n",
            "Resampling...\n",
            "Saving segmentations...\n",
            "100% 104/104 [00:32<00:00,  3.18it/s]\n",
            "  Saved in 33.82s\n",
            "Calculating radiomics...\n",
            "  5% 5/104 [00:52<17:17, 10.48s/it]WARNING: Entire mask is 0 or 1. Setting all features to 0\n",
            " 11% 11/104 [01:45<15:12,  9.81s/it]WARNING: Entire mask is 0 or 1. Setting all features to 0\n",
            " 12% 12/104 [01:47<11:25,  7.45s/it]WARNING: Entire mask is 0 or 1. Setting all features to 0\n",
            " 12% 13/104 [01:49<08:50,  5.83s/it]WARNING: Entire mask is 0 or 1. Setting all features to 0\n",
            " 13% 14/104 [01:51<07:01,  4.69s/it]WARNING: Entire mask is 0 or 1. Setting all features to 0\n",
            " 14% 15/104 [01:53<05:57,  4.01s/it]WARNING: Entire mask is 0 or 1. Setting all features to 0\n",
            " 15% 16/104 [01:55<05:04,  3.46s/it]WARNING: Entire mask is 0 or 1. Setting all features to 0\n",
            " 16% 17/104 [01:57<04:25,  3.06s/it]WARNING: Entire mask is 0 or 1. Setting all features to 0\n",
            " 17% 18/104 [02:00<03:58,  2.77s/it]WARNING: Entire mask is 0 or 1. Setting all features to 0\n",
            " 18% 19/104 [02:02<03:38,  2.57s/it]WARNING: Entire mask is 0 or 1. Setting all features to 0\n",
            " 19% 20/104 [02:04<03:22,  2.42s/it]WARNING: Entire mask is 0 or 1. Setting all features to 0\n",
            " 25% 26/104 [02:57<11:25,  8.79s/it]WARNING: Entire mask is 0 or 1. Setting all features to 0\n",
            " 26% 27/104 [02:59<08:50,  6.89s/it]WARNING: Entire mask is 0 or 1. Setting all features to 0\n",
            " 29% 30/104 [03:22<09:39,  7.83s/it]WARNING: Entire mask is 0 or 1. Setting all features to 0\n",
            " 30% 31/104 [03:24<07:25,  6.11s/it]WARNING: Entire mask is 0 or 1. Setting all features to 0\n",
            " 31% 32/104 [03:26<06:00,  5.00s/it]WARNING: Entire mask is 0 or 1. Setting all features to 0\n",
            " 32% 33/104 [03:28<04:53,  4.13s/it]WARNING: Entire mask is 0 or 1. Setting all features to 0\n",
            " 69% 72/104 [10:00<05:30, 10.32s/it]WARNING: Entire mask is 0 or 1. Setting all features to 0\n",
            " 76% 79/104 [11:04<04:07,  9.91s/it]WARNING: Entire mask is 0 or 1. Setting all features to 0\n",
            " 77% 80/104 [11:06<03:03,  7.65s/it]WARNING: Entire mask is 0 or 1. Setting all features to 0\n",
            " 78% 81/104 [11:08<02:16,  5.93s/it]WARNING: Entire mask is 0 or 1. Setting all features to 0\n",
            " 79% 82/104 [11:11<01:45,  4.80s/it]WARNING: Entire mask is 0 or 1. Setting all features to 0\n",
            " 80% 83/104 [11:12<01:22,  3.94s/it]WARNING: Entire mask is 0 or 1. Setting all features to 0\n",
            " 81% 84/104 [11:14<01:06,  3.34s/it]WARNING: Entire mask is 0 or 1. Setting all features to 0\n",
            " 82% 85/104 [11:16<00:55,  2.92s/it]WARNING: Entire mask is 0 or 1. Setting all features to 0\n",
            " 86% 89/104 [11:49<01:54,  7.64s/it]WARNING: Entire mask is 0 or 1. Setting all features to 0\n",
            " 87% 90/104 [11:51<01:22,  5.92s/it]WARNING: Entire mask is 0 or 1. Setting all features to 0\n",
            " 88% 91/104 [11:53<01:01,  4.72s/it]WARNING: Entire mask is 0 or 1. Setting all features to 0\n",
            "100% 104/104 [13:56<00:00,  8.04s/it]\n",
            "  calculated in 836.41s\n"
          ]
        }
      ]
    }
  ],
  "metadata": {
    "accelerator": "GPU",
    "celltoolbar": "Tags",
    "colab": {
      "provenance": [],
      "include_colab_link": true
    },
    "gpuClass": "standard",
    "kernelspec": {
      "display_name": "Python 3 (ipykernel)",
      "language": "python",
      "name": "python3"
    },
    "language_info": {
      "codemirror_mode": {
        "name": "ipython",
        "version": 3
      },
      "file_extension": ".py",
      "mimetype": "text/x-python",
      "name": "python",
      "nbconvert_exporter": "python",
      "pygments_lexer": "ipython3",
      "version": "3.9.13"
    }
  },
  "nbformat": 4,
  "nbformat_minor": 0
}