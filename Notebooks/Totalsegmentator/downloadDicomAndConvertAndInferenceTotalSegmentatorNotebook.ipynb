{
  "cells": [
    {
      "cell_type": "markdown",
      "metadata": {
        "id": "6pTSqiyotWME"
      },
      "source": [
        "<a href=\"https://colab.research.google.com/github/vkt1414/Cloud-Resources-Workflows/blob/main/Notebooks/Totalsegmentator/downloadDicomAndConvertAndInferenceTotalSegmentatorNotebook.ipynb\" target=\"_parent\"><img src=\"https://colab.research.google.com/assets/colab-badge.svg\" alt=\"Open In Colab\"/></a>"
      ]
    },
    {
      "cell_type": "markdown",
      "metadata": {
        "id": "_QhtMLIRPQsH"
      },
      "source": [
        "#This Notebook does the first and second steps in the split workflow on Terra"
      ]
    },
    {
      "cell_type": "markdown",
      "metadata": {
        "id": "L6wX5zMpPYn8"
      },
      "source": [
        "DICOM files are downloaded and converted to NIFTI files. NIFTI files are provided as input for Inference.\n",
        "\n",
        "\n",
        "Please cite:\n",
        "\n",
        "Jakob Wasserthal, Manfred Meyer, Hanns-Christian Breit, Joshy Cyriac, Shan Yang, & Martin Segeroth. (2022). TotalSegmentator: robust segmentation of 104 anatomical structures in CT images. https://doi.org/10.48550/arXiv.2208.05868\n",
        "\n",
        "Isensee, F., Jaeger, P.F., Kohl, S.A.A. et al. nnU-Net: a self-configuring method for deep learning-based biomedical image segmentation. Nat Methods 18, 203–211 (2021). https://doi.org/10.1038/s41592-020-01008-z"
      ]
    },
    {
      "cell_type": "markdown",
      "metadata": {
        "id": "_jcGevLmr3JW"
      },
      "source": [
        "###Installing Packages"
      ]
    },
    {
      "cell_type": "code",
      "execution_count": null,
      "metadata": {
        "id": "p0BAKG7AOI9a"
      },
      "outputs": [],
      "source": [
        "# %%capture\n",
        "# #Installing lz4 for compression/decompression; dcm2niix and plastimatch for conversion; \n",
        "# #xvfb required for previewing Totalsegmentator png images\n",
        "# !apt-get install lz4 xvfb dcm2niix pigz plastimatch ffmpeg"
      ]
    },
    {
      "cell_type": "code",
      "execution_count": null,
      "metadata": {
        "id": "R68Zs8VTrvKg"
      },
      "outputs": [],
      "source": [
        "# %%capture\n",
        "# #Installing Totalsegmentator for Inference\n",
        "# #pyradiomics required for extracting radiomics features \n",
        "# #nvidia-ml-py3 for capturing gpu utilization\n",
        "# !pip install TotalSegmentator pyradiomics nvidia-ml-py3"
      ]
    },
    {
      "cell_type": "code",
      "execution_count": null,
      "metadata": {
        "id": "V_Ms6GwHHOr2"
      },
      "outputs": [],
      "source": [
        "# %%capture\n",
        "# #install s5cmd\n",
        "# !wget \"https://github.com/peak/s5cmd/releases/download/v2.0.0/s5cmd_2.0.0_Linux-64bit.tar.gz\"\n",
        "# !tar -xvzf \"s5cmd_2.0.0_Linux-64bit.tar.gz\"\n",
        "# !rm \"s5cmd_2.0.0_Linux-64bit.tar.gz\"\n",
        "# !mv s5cmd /usr/local/bin/s5cmd"
      ]
    },
    {
      "cell_type": "markdown",
      "metadata": {
        "id": "s2t6X63jKDSE"
      },
      "source": [
        "###Importing Packages"
      ]
    },
    {
      "cell_type": "code",
      "execution_count": null,
      "metadata": {
        "id": "16RKHQCnIM2V"
      },
      "outputs": [],
      "source": [
        "import os\n",
        "import sys\n",
        "import time\n",
        "import pandas as pd\n",
        "from pathlib import Path\n",
        "import shutil\n",
        "import glob\n",
        "from concurrent.futures import ThreadPoolExecutor\n",
        "from time import sleep\n",
        "from datetime import datetime\n",
        "import psutil\n",
        "import matplotlib.pyplot as plt\n",
        "import nvidia_smi\n",
        "import subprocess"
      ]
    },
    {
      "cell_type": "code",
      "execution_count": null,
      "metadata": {
        "colab": {
          "base_uri": "https://localhost:8080/"
        },
        "id": "0zkBscf3pxcO",
        "outputId": "670a9a3a-ae02-49e8-8f96-6d3d9e26e979"
      },
      "outputs": [
        {
          "output_type": "stream",
          "name": "stdout",
          "text": [
            "Thu May 04 14:43:57 2023\n",
            "\n",
            "Current directory :/content\n",
            "Python version    : 3.10.11 (main, Apr  5 2023, 14:15:10) [GCC 9.4.0]\n"
          ]
        }
      ],
      "source": [
        "curr_dir   = Path().absolute()\n",
        "\n",
        "os.environ['TZ'] = 'US/Eastern'\n",
        "time.tzset()\n",
        "current_time = time.strftime('%a %b %d %H:%M:%S %Y', time.localtime())\n",
        "print(current_time)\n",
        "print(\"\\nCurrent directory :{}\".format( curr_dir))\n",
        "print(\"Python version    :\", sys.version.split('\\n')[0])"
      ]
    },
    {
      "cell_type": "markdown",
      "metadata": {
        "id": "8l5mWkLoRGVX"
      },
      "source": [
        "###Parameters for papermill"
      ]
    },
    {
      "cell_type": "code",
      "execution_count": null,
      "metadata": {
        "id": "JJ-g6Lw2RDUp",
        "tags": [
          "parameters"
        ]
      },
      "outputs": [],
      "source": [
        "converterType='dcm2niix'\n",
        "csvFilePath=''"
      ]
    },
    {
      "cell_type": "markdown",
      "source": [
        "###**Local testing**"
      ],
      "metadata": {
        "id": "Dg6rEeM6tuQJ"
      }
    },
    {
      "cell_type": "code",
      "source": [
        "# !wget https://raw.githubusercontent.com/vkt1414/Cloud-Resources-Workflows/main/sampleManifests/batch_1.csv\n",
        "# csvFilePath =glob.glob('*.csv')[0]"
      ],
      "metadata": {
        "id": "DHaIwv0stya4"
      },
      "execution_count": null,
      "outputs": []
    },
    {
      "cell_type": "markdown",
      "metadata": {
        "id": "x51OIhiGINXe"
      },
      "source": [
        "###Reading CSV File containing s5cmd Urls"
      ]
    },
    {
      "cell_type": "code",
      "execution_count": null,
      "metadata": {
        "colab": {
          "base_uri": "https://localhost:8080/"
        },
        "id": "y_so3BoXMa10",
        "outputId": "30fe92cf-7883-49bc-815a-0b6075386018"
      },
      "outputs": [
        {
          "output_type": "stream",
          "name": "stdout",
          "text": [
            "read in 0.011936187744140625  seconds\n"
          ]
        }
      ],
      "source": [
        "#get the path of the zip file containing csv file in the current working directory3\n",
        "#In Terra, a zip file containing the csv file will be provided as input and will be localized\n",
        "#to the current working directory.\n",
        "\n",
        "\n",
        "#zip_file_path='/content/drive/MyDrive/result.zip'\n",
        "#!unzip $zip_file_path\n",
        "\n",
        "#csv_file_path= '/home/vamsi/Downloads/result.csv'\n",
        "#csvFilePath=csvFilePath.replace(\"gs://\", \"/cromwell_root/\")\n",
        "\n",
        "start_time = time.time()\n",
        "cohort_df=pd.read_csv(csvFilePath, delimiter=',', encoding='utf-8')\n",
        "#cohort_df= pd.read_csv('/content/drive/MyDrive/bquxjob_7f0d87d5_187056e0dd3.csv') #two nifti files example\n",
        "#cohort_df= pd.read_csv('/content/drive/MyDrive/idc/bq-results-20230315-160529-1678896367937.csv')\n",
        "read_time=time.time() -start_time\n",
        "print('read in '+str(read_time)+ '  seconds')"
      ]
    },
    {
      "cell_type": "code",
      "execution_count": null,
      "metadata": {
        "id": "UPjtDJS4JIdg"
      },
      "outputs": [],
      "source": [
        "SeriesInstanceUIDs= cohort_df[\"SeriesInstanceUID\"].values.tolist()\n",
        "#SeriesInstanceUIDs= cohort_df[\"SeriesInstanceUID\"].values.tolist()\n",
        "#SeriesInstanceUIDs=[ '1.3.6.1.4.1.14519.5.2.1.7009.9004.946109466334058509440732472138',\n",
        "# '1.2.840.113654.2.55.99651797089556982668213819691341139949'  \n",
        "# ]"
      ]
    },
    {
      "cell_type": "markdown",
      "metadata": {
        "id": "hGbSvle4RSpd"
      },
      "source": [
        "###Defining Functions"
      ]
    },
    {
      "cell_type": "code",
      "execution_count": null,
      "metadata": {
        "id": "zpuo1QtbJjvW"
      },
      "outputs": [],
      "source": [
        "#Creating Directories for conversion\n",
        "if converterType.lower()=='dcm2niix':\n",
        "  try:\n",
        "    shutil.rmtree('dcm2niix')\n",
        "  except OSError:\n",
        "    pass\n",
        "  os.mkdir('dcm2niix')\n",
        "else:\n",
        "  try:\n",
        "    shutil.rmtree('plastimatch')\n",
        "  except OSError:\n",
        "    pass\n",
        "  os.mkdir('plastimatch')"
      ]
    },
    {
      "cell_type": "code",
      "execution_count": null,
      "metadata": {
        "id": "sqeESHc7ntX8"
      },
      "outputs": [],
      "source": [
        "#create directory for TotalSegmentator Output files\n",
        "\n",
        "try:\n",
        "  shutil.rmtree('Inference')\n",
        "  shutil.rmtree('metadata')\n",
        "except OSError:\n",
        "  pass\n",
        "os.mkdir('Inference')\n",
        "os.mkdir('metadata')"
      ]
    },
    {
      "cell_type": "code",
      "execution_count": null,
      "metadata": {
        "id": "-1nH_ABkKoP2"
      },
      "outputs": [],
      "source": [
        "def download_dicom_data(series_id):\n",
        "\n",
        "  \"\"\"\n",
        "  Download raw DICOM data into \"idc_data\" folder.\n",
        "  \"\"\"\n",
        "  global cohort_df\n",
        "  gs_file_path = \"s5cmd_manifest.txt\"\n",
        "  #when bigquery is used the following line could be used\n",
        "  #cohort_df = bq_client.query(selection_query).to_dataframe()\n",
        "  series_df=cohort_df[cohort_df['SeriesInstanceUID']==series_id]\n",
        "  series_df[\"s5cmdUrls\"].to_csv(gs_file_path, header = False, index = False)\n",
        "  #remove double quotes from the manifest file\n",
        "  !sed -i 's/\"//g' s5cmd_manifest.txt  \n",
        "\n",
        "  start_time = time.time()\n",
        "  print(\"Copying files from IDC buckets..\")\n",
        "\n",
        "  #!cat \n",
        "\n",
        "  !s5cmd --no-sign-request --endpoint-url https://storage.googleapis.com run s5cmd_manifest.txt  >> /dev/null\n",
        "\n",
        "  elapsed = time.time() - start_time\n",
        "  print(\"Done in %g seconds.\"%elapsed)"
      ]
    },
    {
      "cell_type": "code",
      "execution_count": null,
      "metadata": {
        "id": "u2jkSpS2KvXU"
      },
      "outputs": [],
      "source": [
        "def convert_dicom_to_nifti(series_id):\n",
        "  \n",
        "  if converterType.lower()=='dcm2niix':\n",
        "    try:\n",
        "      shutil.rmtree(f'dcm2niix/{series_id}')\n",
        "    except OSError:\n",
        "      pass\n",
        "    os.mkdir(f'dcm2niix/{series_id}')\n",
        "\n",
        "    !dcm2niix -z y -f %j_%p_%t_%s -b n -m y -o  /{curr_dir}/dcm2niix/{series_id}  /{curr_dir}/idc_data/\n",
        "  else:\n",
        "    try:\n",
        "      shutil.rmtree(f'plastimatch/{series_id}')\n",
        "    except OSError:\n",
        "      pass\n",
        "    os.mkdir(f'plastimatch/{series_id}')\n",
        "    \"\"\"\n",
        "    Make sure to check the s5cmd urls for the destination directory and \n",
        "    plastimatch input directory must be changed accordingly\n",
        "    dcm2niix, however, checks upto depth 5 to find DICOM files\n",
        "\n",
        "    \"\"\"\n",
        "    !plastimatch convert --input /{curr_dir}/idc_data/{series_id} --output-img /{curr_dir}/plastimatch/{series_id}/{series_id}.nii.gz\n",
        "\n",
        "\n",
        "  try:\n",
        "      shutil.rmtree('idc_data')\n",
        "  except OSError:\n",
        "      pass\n",
        "  os.mkdir('idc_data')"
      ]
    },
    {
      "cell_type": "code",
      "execution_count": null,
      "metadata": {
        "id": "_v_X_7XsuWY9"
      },
      "outputs": [],
      "source": [
        "def check_dicom_conversion_errors(series_id_folder_path):\n",
        "    nifti_files = os.listdir(series_id_folder_path)\n",
        "    if len(nifti_files) > 1:\n",
        "        with open('error_file.txt', 'a') as f:\n",
        "            f.write(f\"Error: More than one file in {series_id_folder_path}\\n\")\n",
        "        return True\n",
        "    else:\n",
        "        return False"
      ]
    },
    {
      "cell_type": "code",
      "execution_count": null,
      "metadata": {
        "id": "kZYXfp-UtWMs"
      },
      "outputs": [],
      "source": [
        "def check_total_segmentator_errors(series_id):\n",
        "    try:\n",
        "        # Check if the output files from TotalSegmentator exist\n",
        "        assert os.path.exists(f\"{curr_dir}/Inference/{series_id}/segmentations.nii\")\n",
        "        # assert os.path.exists(f\"{curr_dir}/Inference/{series_id}/statistics_radiomics.json\")\n",
        "        # assert os.path.exists(f\"{curr_dir}/Inference/{series_id}/preview_total.png\")\n",
        "    except AssertionError:\n",
        "        # If any of the output files do not exist, log an error\n",
        "        with open('totalsegmentator_errors.txt', 'a') as f:\n",
        "            f.write(f\"Error: TotalSegmentator failed for series {series_id}\\n\")\n",
        "        return True\n",
        "    return False"
      ]
    },
    {
      "cell_type": "code",
      "execution_count": null,
      "metadata": {
        "id": "10_jVVTElNZ5"
      },
      "outputs": [],
      "source": [
        "def inferenceTotalSegmentator(series_id):\n",
        "\n",
        "      start_time = time.time()\n",
        "      download_dicom_data(series_id)\n",
        "      dicom_download_time = time.time() - start_time      \n",
        "\n",
        "      start_time = time.time()\n",
        "      convert_dicom_to_nifti(series_id)\n",
        "      dicom_conversion_time = time.time() - start_time     \n",
        "\n",
        "      try:\n",
        "        shutil.rmtree(f'Inference/{series_id}')\n",
        "        shutil.rmtree(f'metadata/{series_id}')\n",
        "        os.remove('segmentations.nii.gz')\n",
        "        os.remove('statistics_radiomics.json')\n",
        "        os.remove('preview_total.png')\n",
        "      except OSError:\n",
        "        pass\n",
        "      os.mkdir(f'Inference/{series_id}')\n",
        "\n",
        "      print(\"Processing series: \"+series_id)  \n",
        "\n",
        "\n",
        "      series_id_folder_path= os.path.join(curr_dir, converterType, series_id)\n",
        "      # Get the list of files in series_id_path\n",
        "      nifti_files = os.listdir(series_id_folder_path)\n",
        "      # Get the first (and only) file in the list\n",
        "      nifti_filename = nifti_files[0]\n",
        "      # Get the full path of the file\n",
        "      nifti_filename_path = os.path.join(series_id_folder_path, nifti_filename)\n",
        "      \n",
        "      if not check_dicom_conversion_errors(series_id_folder_path):\n",
        "\n",
        "        start_time = time.time()\n",
        "        #!TotalSegmentator -i {nifti_filename_path} -o segmentations --ml --fast --preview  --radiomics \n",
        "        result=subprocess.run(['TotalSegmentator', '-i', nifti_filename_path, '-o', 'segmentations', '--ml'],stdout=subprocess.PIPE, stderr=subprocess.PIPE,  universal_newlines=True)\n",
        "        print(result.stdout)\n",
        "        total_segmentator_time = time.time() - start_time\n",
        "\n",
        "        try:\n",
        "          subprocess.run([\"mv\", f\"{curr_dir}/segmentations.nii\", f\"{curr_dir}/Inference/{series_id}/\"], check=True)\n",
        "          print(\"Files moved successfully using the first command\")\n",
        "        except subprocess.CalledProcessError:\n",
        "          try:\n",
        "            subprocess.run([\"mv\", \"segmentations/segmentations.nii\", f\"{curr_dir}/Inference/{series_id}/\"], check=True)\n",
        "            print(\"Files moved successfully using the second command\")\n",
        "          except subprocess.CalledProcessError:\n",
        "                print(\"Error: Failed to move files using both commands\")\n",
        "\n",
        "        check_total_segmentator_errors(series_id)\n",
        "        \n",
        "        #!mv {curr_dir}/preview_total.png {curr_dir}/segmentations.nii {curr_dir}/statistics_radiomics.json {curr_dir}/Inference/{series_id}/\n",
        "        !mv {curr_dir}/Inference/{series_id}/segmentations.nii {curr_dir}/Inference/{series_id}/{series_id}.nii\n",
        "        # !mv {curr_dir}/Inference/{series_id}/statistics_radiomics.json {curr_dir}/Inference/{series_id}/{series_id}_statistics_radiomics.json      \n",
        "        # !mv {curr_dir}/Inference/{series_id}/preview_total.png {curr_dir}/Inference/{series_id}/{series_id}_preview_total.png\n",
        "\n",
        "        start_time = time.time()  \n",
        "        !lz4 --rm {curr_dir}/Inference/{series_id}/{series_id}.nii {curr_dir}/Inference/{series_id}/{series_id}.nii.lz4\n",
        "        #!tar cvf - -C {curr_dir}/Inference/{series_id} {series_id}_statistics_radiomics.json {series_id}_preview_total.png | lz4  > metadata/{series_id}_metadata.tar.lz4\n",
        "        archiving_time = time.time() - start_time\n",
        "\n",
        "      else: \n",
        "        total_segmentator_time=0\n",
        "        archiving_time=0\n",
        "\n",
        "      \n",
        "      log = pd.DataFrame({'SeriesInstanceUID': [series_id]}) \n",
        "\n",
        "      log['dicom_download_time']=dicom_download_time\n",
        "      log['dicom_conversion_time']=dicom_conversion_time            \n",
        "      log['total_segmentator_time']=total_segmentator_time\n",
        "      log['archiving_time'] = archiving_time\n",
        "\n",
        "      !rm -r {curr_dir}/{converterType}/{series_id}\n",
        "      global runtime_stats\n",
        "      runtime_stats = pd.concat([runtime_stats, log], ignore_index=True, axis=0)"
      ]
    },
    {
      "cell_type": "code",
      "execution_count": null,
      "metadata": {
        "id": "cGQ_URr1pQpj"
      },
      "outputs": [],
      "source": [
        "class MemoryMonitor:\n",
        "    def __init__(self):\n",
        "        self.keep_measuring = True\n",
        "        self.working_disk_path = self.get_working_disk_path()\n",
        "\n",
        "    def get_working_disk_path(self):\n",
        "        partitions = psutil.disk_partitions()\n",
        "        for partition in partitions:\n",
        "            if partition.mountpoint == '/':\n",
        "                return '/'\n",
        "            elif '/cromwell_root' in partition.mountpoint:\n",
        "                return '/cromwell_root'\n",
        "        return '/'  # Default to root directory if no specific path is found\n",
        "    def measure_usage(self):\n",
        "        cpu_usage = []\n",
        "        ram_usage_mb=[]\n",
        "        gpu_usage_mb=[]\n",
        "        disk_usage_all=[]\n",
        "        time_stamps = []\n",
        "        start_time = time.time()\n",
        "        while self.keep_measuring:\n",
        "            cpu = psutil.cpu_percent()\n",
        "            ram = psutil.virtual_memory()\n",
        "            disk_usage = psutil.disk_usage(self.working_disk_path)\n",
        "            disk_used = disk_usage.used / 1024 / 1024 / 1024\n",
        "            disk_total = disk_usage.total / 1024 / 1024 / 1024\n",
        "            ram_total_mb = psutil.virtual_memory().total / 1024 / 1024\n",
        "            ram_mb = (ram.total - ram.available) / 1024 / 1024\n",
        "\n",
        "            nvidia_smi.nvmlInit()\n",
        "            handle = nvidia_smi.nvmlDeviceGetHandleByIndex(0)\n",
        "            info = nvidia_smi.nvmlDeviceGetMemoryInfo(handle)\n",
        "            gpu_type = nvidia_smi.nvmlDeviceGetName(handle)\n",
        "            gpu_total_mb = info.total/1024/1024\n",
        "            gpu_mb = info.used/1024/1024\n",
        "            nvidia_smi.nvmlShutdown()\n",
        "\n",
        "            cpu_usage.append(cpu)\n",
        "            ram_usage_mb.append(ram_mb)\n",
        "            disk_usage_all.append(disk_used)\n",
        "            gpu_usage_mb.append(gpu_mb)\n",
        "            time_stamps.append(time.time()- start_time)\n",
        "            sleep(1)\n",
        "\n",
        "        return cpu_usage, ram_usage_mb, time_stamps, ram_total_mb, gpu_usage_mb, gpu_total_mb, gpu_type, disk_usage_all, disk_total"
      ]
    },
    {
      "cell_type": "markdown",
      "metadata": {
        "id": "b_L2B-sjRf_1"
      },
      "source": [
        "###Total Segmentator"
      ]
    },
    {
      "cell_type": "code",
      "execution_count": null,
      "metadata": {
        "colab": {
          "base_uri": "https://localhost:8080/",
          "height": 793
        },
        "id": "rZfAhcQopl59",
        "outputId": "649877c0-ddd2-4eaa-effe-a0c113547c9d"
      },
      "outputs": [
        {
          "output_type": "stream",
          "name": "stdout",
          "text": [
            "Copying files from IDC buckets..\n",
            "Done in 2.61175 seconds.\n",
            "Chris Rorden's dcm2niiX version v1.0.20181125  (JP2:OpenJPEG) GCC9.3.0 (64-bit Linux)\n",
            "Found 38 DICOM file(s)\n",
            "Dims 512 512 38 1 1\n",
            "Warning: Interslice distance varies in this volume (incompatible with NIfTI format).\n",
            " Distance from first slice:\n",
            "dx=[0 1.80005 3.59998 5.40002 7.19995 9 10.8 12.6 14.4 16.2 18 19.8 21.6 23.4 25.2 27 28.8 30.6 32.4 35.8757 37.5956 39.3225 41.0559 42.7946 44.5383 46.2864 48.0381 49.7934 51.5517 53.3129 55.0766 56.8424 58.6104 60.3803 62.1519 63.9252 65.6998 67.4758]\n",
            "Convert 38 DICOM as //content/dcm2niix/1.3.6.1.4.1.14519.5.2.1.7009.9004.172787163177205374234578117444/1.3.6.1.4.1.14519.5.2.1.7009.9004.17278716317720537423457811744_1_OPA_PH_MX8000_C_300_2_120_45_30_1.5_20000102000000_3892 (512x512x38x1)\n",
            "compress: \"/usr/bin/pigz\" -n -f -6 \"//content/dcm2niix/1.3.6.1.4.1.14519.5.2.1.7009.9004.172787163177205374234578117444/1.3.6.1.4.1.14519.5.2.1.7009.9004.17278716317720537423457811744_1_OPA_PH_MX8000_C_300_2_120_45_30_1.5_20000102000000_3892.nii\"\n",
            "compress: \"/usr/bin/pigz\" -n -f -6 \"//content/dcm2niix/1.3.6.1.4.1.14519.5.2.1.7009.9004.172787163177205374234578117444/1.3.6.1.4.1.14519.5.2.1.7009.9004.17278716317720537423457811744_1_OPA_PH_MX8000_C_300_2_120_45_30_1.5_20000102000000_3892_Eq_1.nii\"\n",
            "Conversion required 1.885383 seconds (0.144009 for core code).\n",
            "Processing series: 1.3.6.1.4.1.14519.5.2.1.7009.9004.172787163177205374234578117444\n"
          ]
        },
        {
          "output_type": "display_data",
          "data": {
            "text/plain": [
              "<Figure size 800x600 with 4 Axes>"
            ],
            "image/png": "[encoded data removed]"
          },
          "metadata": {}
        }
      ],
      "source": [
        "runtime_stats = pd.DataFrame(columns=['SeriesInstanceUID','total_segmentator_time','dicom_download_time','dicom_conversion_time',\n",
        "                                      'archiving_time', 'cpu_usage','ram_usage_mb', 'ram_total_mb', \n",
        "                                      'gpu_usage_mb', 'gpu_total_mb', 'gpu_type', 'disk_usage_all', 'disk_total'\n",
        "                                      ])\n",
        "if __name__ == \"__main__\":\n",
        "    for series_id in SeriesInstanceUIDs:\n",
        "    #for series_id in os.listdir(f'{curr_dir}/{converterType}'):\n",
        "        with ThreadPoolExecutor() as executor:\n",
        "            monitor = MemoryMonitor()\n",
        "            mem_thread = executor.submit(monitor.measure_usage)\n",
        "            try:\n",
        "                proc_thread = executor.submit(inferenceTotalSegmentator, series_id)\n",
        "                proc_thread.result()\n",
        "            finally:\n",
        "                monitor.keep_measuring = False\n",
        "                cpu_usage, ram_usage_mb, time_stamps, ram_total_mb, gpu_usage_mb, gpu_total_mb, gpu_type, disk_usage_all, disk_total= mem_thread.result()\n",
        "                \n",
        "                cpu_idx = runtime_stats.index[runtime_stats['SeriesInstanceUID'] == series_id][0]\n",
        "                runtime_stats.iloc[cpu_idx, runtime_stats.columns.get_loc('cpu_usage')] = [[cpu_usage]]\n",
        "\n",
        "                ram_usage_mb_idx = runtime_stats.index[runtime_stats['SeriesInstanceUID'] == series_id][0]\n",
        "                runtime_stats.iloc[ram_usage_mb_idx, runtime_stats.columns.get_loc('ram_usage_mb')] = [[ram_usage_mb]]\n",
        "                \n",
        "                ram_total_mb_idx = runtime_stats.index[runtime_stats['SeriesInstanceUID'] == series_id][0]\n",
        "                runtime_stats.iloc[ram_total_mb_idx, runtime_stats.columns.get_loc('ram_total_mb')] = [[ram_total_mb]]\n",
        "\n",
        "                gpu_total_mb_idx = runtime_stats.index[runtime_stats['SeriesInstanceUID'] == series_id][0]\n",
        "                runtime_stats.iloc[gpu_total_mb_idx, runtime_stats.columns.get_loc('gpu_total_mb')] = [[gpu_total_mb]]\n",
        "\n",
        "                gpu_usage_mb_idx = runtime_stats.index[runtime_stats['SeriesInstanceUID'] == series_id][0]\n",
        "                runtime_stats.iloc[gpu_usage_mb_idx, runtime_stats.columns.get_loc('gpu_usage_mb')] = [[gpu_usage_mb]]\n",
        "\n",
        "                disk_usage_gb_idx = runtime_stats.index[runtime_stats['SeriesInstanceUID'] == series_id][0]\n",
        "                runtime_stats.iloc[disk_usage_gb_idx, runtime_stats.columns.get_loc('disk_usage_all')] = [[disk_usage_all]]\n",
        "\n",
        "                runtime_stats['gpu_type']=gpu_type\n",
        "                runtime_stats['disk_total']=disk_total    \n",
        "\n",
        "                fig, ((ax1, ax2), (ax3, ax4)) = plt.subplots(2,2, figsize=(8, 6)) \n",
        "\n",
        "                ax1.plot(time_stamps, cpu_usage)\n",
        "                ax1.set_ylim(0, 100)\n",
        "                ax1.set_xlabel('Time (s)')\n",
        "                ax1.set_ylabel('CPU usage (%)')\n",
        "\n",
        "                ax2.plot(time_stamps, ram_usage_mb)\n",
        "                ax2.set_ylim(0, ram_total_mb)\n",
        "                ax2.set_xlabel('Time (s)')\n",
        "                ax2.set_ylabel('Memory usage (MB)')\n",
        "\n",
        "                ax3.plot(time_stamps, gpu_usage_mb)\n",
        "                ax3.set_ylim(0, gpu_total_mb)\n",
        "                ax3.set_xlabel('Time (s)')\n",
        "                ax3.set_ylabel('GPU Memory usage (MB)')\n",
        "\n",
        "                ax4.plot(time_stamps, disk_usage_all)\n",
        "                ax4.set_ylim(0, disk_total)\n",
        "                ax4.set_xlabel('Time (s)')\n",
        "                ax4.set_ylabel('Disk usage (GB)')\n",
        "                plt.show()"
      ]
    },
    {
      "cell_type": "markdown",
      "metadata": {
        "id": "KzCG2YATRtVH"
      },
      "source": [
        "###Compressing Output Files"
      ]
    },
    {
      "cell_type": "code",
      "execution_count": null,
      "metadata": {
        "id": "bxuuD6yqdmzF",
        "outputId": "02d2f7fc-7368-4aee-cce2-2a6a5f5c39ea",
        "colab": {
          "base_uri": "https://localhost:8080/"
        }
      },
      "outputs": [
        {
          "output_type": "stream",
          "name": "stdout",
          "text": [
            "Inference/\n",
            "Inference/1.3.6.1.4.1.14519.5.2.1.7009.9004.172787163177205374234578117444/\n"
          ]
        }
      ],
      "source": [
        "start_time = time.time()\n",
        "try:\n",
        "  os.remove('inferenceNiftiFiles.tar.lz4')\n",
        "  os.remove('metadata.tar.lz4')\n",
        "except OSError:\n",
        "  pass\n",
        "!tar cvf - -C {curr_dir} Inference | lz4 > inferenceNiftiFiles.tar.lz4\n",
        "#!tar cvf - -C {curr_dir} metadata | lz4 > inferenceMetaData.tar.lz4\n",
        "output_file_archiving_time = time.time() - start_time\n"
      ]
    },
    {
      "cell_type": "markdown",
      "metadata": {
        "id": "n4pMpClKRzEe"
      },
      "source": [
        "###Utilization Metrics"
      ]
    },
    {
      "cell_type": "code",
      "execution_count": null,
      "metadata": {
        "id": "Lc7Hep0lkJWd",
        "outputId": "7900acc3-8216-45c5-b043-5430d2a1986e",
        "colab": {
          "base_uri": "https://localhost:8080/",
          "height": 232
        }
      },
      "outputs": [
        {
          "output_type": "stream",
          "name": "stdout",
          "text": [
            "\r                                                                               \rCompressed 631 bytes into 525 bytes ==> 83.20%\n"
          ]
        },
        {
          "output_type": "execute_result",
          "data": {
            "text/plain": [
              "                                   SeriesInstanceUID total_segmentator_time  \\\n",
              "0  1.3.6.1.4.1.14519.5.2.1.7009.9004.172787163177...                      0   \n",
              "\n",
              "   dicom_download_time  dicom_conversion_time archiving_time  \\\n",
              "0               2.7226               1.925411              0   \n",
              "\n",
              "                           cpu_usage  \\\n",
              "0  [[[28.5, 16.3, 9.5, 49.0, 96.0]]]   \n",
              "\n",
              "                                        ram_usage_mb     ram_total_mb  \\\n",
              "0  [[[993.859375, 1016.48828125, 1020.03125, 1035...  [12985.5390625]   \n",
              "\n",
              "                                        gpu_usage_mb gpu_total_mb  \\\n",
              "0  [[[258.3125, 258.3125, 258.3125, 258.3125, 258...    [15360.0]   \n",
              "\n",
              "      gpu_type                                     disk_usage_all  disk_total  \\\n",
              "0  b'Tesla T4'  [[[24.409114837646484, 24.409873962402344, 24....   78.189842   \n",
              "\n",
              "   output_file_archiving_time  \n",
              "0                    0.107287  "
            ],
            "text/html": [
              "\n",
              "  <div id=\"df-b7152d22-5341-4bd2-ad73-90d91fb249d2\">\n",
              "    <div class=\"colab-df-container\">\n",
              "      <div>\n",
              "<style scoped>\n",
              "    .dataframe tbody tr th:only-of-type {\n",
              "        vertical-align: middle;\n",
              "    }\n",
              "\n",
              "    .dataframe tbody tr th {\n",
              "        vertical-align: top;\n",
              "    }\n",
              "\n",
              "    .dataframe thead th {\n",
              "        text-align: right;\n",
              "    }\n",
              "</style>\n",
              "<table border=\"1\" class=\"dataframe\">\n",
              "  <thead>\n",
              "    <tr style=\"text-align: right;\">\n",
              "      <th></th>\n",
              "      <th>SeriesInstanceUID</th>\n",
              "      <th>total_segmentator_time</th>\n",
              "      <th>dicom_download_time</th>\n",
              "      <th>dicom_conversion_time</th>\n",
              "      <th>archiving_time</th>\n",
              "      <th>cpu_usage</th>\n",
              "      <th>ram_usage_mb</th>\n",
              "      <th>ram_total_mb</th>\n",
              "      <th>gpu_usage_mb</th>\n",
              "      <th>gpu_total_mb</th>\n",
              "      <th>gpu_type</th>\n",
              "      <th>disk_usage_all</th>\n",
              "      <th>disk_total</th>\n",
              "      <th>output_file_archiving_time</th>\n",
              "    </tr>\n",
              "  </thead>\n",
              "  <tbody>\n",
              "    <tr>\n",
              "      <th>0</th>\n",
              "      <td>1.3.6.1.4.1.14519.5.2.1.7009.9004.172787163177...</td>\n",
              "      <td>0</td>\n",
              "      <td>2.7226</td>\n",
              "      <td>1.925411</td>\n",
              "      <td>0</td>\n",
              "      <td>[[[28.5, 16.3, 9.5, 49.0, 96.0]]]</td>\n",
              "      <td>[[[993.859375, 1016.48828125, 1020.03125, 1035...</td>\n",
              "      <td>[12985.5390625]</td>\n",
              "      <td>[[[258.3125, 258.3125, 258.3125, 258.3125, 258...</td>\n",
              "      <td>[15360.0]</td>\n",
              "      <td>b'Tesla T4'</td>\n",
              "      <td>[[[24.409114837646484, 24.409873962402344, 24....</td>\n",
              "      <td>78.189842</td>\n",
              "      <td>0.107287</td>\n",
              "    </tr>\n",
              "  </tbody>\n",
              "</table>\n",
              "</div>\n",
              "      <button class=\"colab-df-convert\" onclick=\"convertToInteractive('df-b7152d22-5341-4bd2-ad73-90d91fb249d2')\"\n",
              "              title=\"Convert this dataframe to an interactive table.\"\n",
              "              style=\"display:none;\">\n",
              "        \n",
              "  <svg xmlns=\"http://www.w3.org/2000/svg\" height=\"24px\"viewBox=\"0 0 24 24\"\n",
              "       width=\"24px\">\n",
              "    <path d=\"M0 0h24v24H0V0z\" fill=\"none\"/>\n",
              "    <path d=\"M18.56 5.44l.94 2.06.94-2.06 2.06-.94-2.06-.94-.94-2.06-.94 2.06-2.06.94zm-11 1L8.5 8.5l.94-2.06 2.06-.94-2.06-.94L8.5 2.5l-.94 2.06-2.06.94zm10 10l.94 2.06.94-2.06 2.06-.94-2.06-.94-.94-2.06-.94 2.06-2.06.94z\"/><path d=\"M17.41 7.96l-1.37-1.37c-.4-.4-.92-.59-1.43-.59-.52 0-1.04.2-1.43.59L10.3 9.45l-7.72 7.72c-.78.78-.78 2.05 0 2.83L4 21.41c.39.39.9.59 1.41.59.51 0 1.02-.2 1.41-.59l7.78-7.78 2.81-2.81c.8-.78.8-2.07 0-2.86zM5.41 20L4 18.59l7.72-7.72 1.47 1.35L5.41 20z\"/>\n",
              "  </svg>\n",
              "      </button>\n",
              "      \n",
              "  <style>\n",
              "    .colab-df-container {\n",
              "      display:flex;\n",
              "      flex-wrap:wrap;\n",
              "      gap: 12px;\n",
              "    }\n",
              "\n",
              "    .colab-df-convert {\n",
              "      background-color: #E8F0FE;\n",
              "      border: none;\n",
              "      border-radius: 50%;\n",
              "      cursor: pointer;\n",
              "      display: none;\n",
              "      fill: #1967D2;\n",
              "      height: 32px;\n",
              "      padding: 0 0 0 0;\n",
              "      width: 32px;\n",
              "    }\n",
              "\n",
              "    .colab-df-convert:hover {\n",
              "      background-color: #E2EBFA;\n",
              "      box-shadow: 0px 1px 2px rgba(60, 64, 67, 0.3), 0px 1px 3px 1px rgba(60, 64, 67, 0.15);\n",
              "      fill: #174EA6;\n",
              "    }\n",
              "\n",
              "    [theme=dark] .colab-df-convert {\n",
              "      background-color: #3B4455;\n",
              "      fill: #D2E3FC;\n",
              "    }\n",
              "\n",
              "    [theme=dark] .colab-df-convert:hover {\n",
              "      background-color: #434B5C;\n",
              "      box-shadow: 0px 1px 3px 1px rgba(0, 0, 0, 0.15);\n",
              "      filter: drop-shadow(0px 1px 2px rgba(0, 0, 0, 0.3));\n",
              "      fill: #FFFFFF;\n",
              "    }\n",
              "  </style>\n",
              "\n",
              "      <script>\n",
              "        const buttonEl =\n",
              "          document.querySelector('#df-b7152d22-5341-4bd2-ad73-90d91fb249d2 button.colab-df-convert');\n",
              "        buttonEl.style.display =\n",
              "          google.colab.kernel.accessAllowed ? 'block' : 'none';\n",
              "\n",
              "        async function convertToInteractive(key) {\n",
              "          const element = document.querySelector('#df-b7152d22-5341-4bd2-ad73-90d91fb249d2');\n",
              "          const dataTable =\n",
              "            await google.colab.kernel.invokeFunction('convertToInteractive',\n",
              "                                                     [key], {});\n",
              "          if (!dataTable) return;\n",
              "\n",
              "          const docLinkHtml = 'Like what you see? Visit the ' +\n",
              "            '<a target=\"_blank\" href=https://colab.research.google.com/notebooks/data_table.ipynb>data table notebook</a>'\n",
              "            + ' to learn more about interactive tables.';\n",
              "          element.innerHTML = '';\n",
              "          dataTable['output_type'] = 'display_data';\n",
              "          await google.colab.output.renderOutput(dataTable, element);\n",
              "          const docLink = document.createElement('div');\n",
              "          docLink.innerHTML = docLinkHtml;\n",
              "          element.appendChild(docLink);\n",
              "        }\n",
              "      </script>\n",
              "    </div>\n",
              "  </div>\n",
              "  "
            ]
          },
          "metadata": {},
          "execution_count": 20
        }
      ],
      "source": [
        "runtime_stats.to_csv('runtime.csv')\n",
        "runtime_stats['output_file_archiving_time']=output_file_archiving_time\n",
        "try:\n",
        "  os.remove('inferenceUsageMetrics.lz4')\n",
        "except OSError:\n",
        "  pass\n",
        "!lz4 {curr_dir}/runtime.csv inferenceUsageMetrics.lz4\n",
        "runtime_stats"
      ]
    }
  ],
  "metadata": {
    "accelerator": "GPU",
    "celltoolbar": "Tags",
    "colab": {
      "provenance": []
    },
    "gpuClass": "standard",
    "kernelspec": {
      "display_name": "Python 3 (ipykernel)",
      "language": "python",
      "name": "python3"
    },
    "language_info": {
      "codemirror_mode": {
        "name": "ipython",
        "version": 3
      },
      "file_extension": ".py",
      "mimetype": "text/x-python",
      "name": "python",
      "nbconvert_exporter": "python",
      "pygments_lexer": "ipython3",
      "version": "3.9.13"
    }
  },
  "nbformat": 4,
  "nbformat_minor": 0
}