{
  "cells": [
    {
      "cell_type": "markdown",
      "metadata": {
        "colab_type": "text",
        "id": "view-in-github"
      },
      "source": [
        "<a href=\"https://colab.research.google.com/github/ImagingDataCommons/Cloud-Resources-Workflows/blob/notebooks2/Notebooks/Totalsegmentator/downloadDicomAndConvertAndInferenceTotalSegmentatorNotebook.ipynb\" target=\"_parent\"><img src=\"https://colab.research.google.com/assets/colab-badge.svg\" alt=\"Open In Colab\"/></a>"
      ]
    },
    {
      "cell_type": "markdown",
      "metadata": {
        "id": "_QhtMLIRPQsH"
      },
      "source": [
        "#**This Notebook can download CT data from Imaging Data Commons and convert to NIfTI with dcm2niix, perform Inference using TotalSegmentator(v1.5.6) and produces multilabel Segmentation Maps NIfTI file**"
      ]
    },
    {
      "cell_type": "markdown",
      "metadata": {
        "id": "7vZY9hXWDEMT"
      },
      "source": [
        "<img src=\"https://raw.githubusercontent.com/ImagingDataCommons/Cloud-Resources-Workflows/notebooks2/images/download_convert_inference_totalseg.png\">"
      ]
    },
    {
      "cell_type": "markdown",
      "metadata": {
        "id": "L6wX5zMpPYn8"
      },
      "source": [
        "DICOM files are downloaded from IDC and converted to NIFTI files with dcm2niix. Whenever there are multiple NIFTI files generated for a series, such series are removed from final output. A CSV file is created with a list of such series. Inference is then performed using TotalSegmentator (v1.5.6) resulting in multilabeled Segmentation Map in NIfTI format, compressed by lz4\n",
        "\n",
        "\n",
        "Please cite:\n",
        "\n",
        "Jakob Wasserthal, Manfred Meyer, Hanns-Christian Breit, Joshy Cyriac, Shan Yang, & Martin Segeroth. (2022). TotalSegmentator: robust segmentation of 104 anatomical structures in CT images. https://doi.org/10.48550/arXiv.2208.05868\n",
        "\n",
        "Isensee, F., Jaeger, P.F., Kohl, S.A.A. et al. nnU-Net: a self-configuring method for deep learning-based biomedical image segmentation. Nat Methods 18, 203–211 (2021). https://doi.org/10.1038/s41592-020-01008-z\n",
        "\n",
        "Li X, Morgan PS, Ashburner J, Smith J, Rorden C. (2016) The first step for neuroimaging data analysis: DICOM to NIfTI conversion. J Neurosci Methods. 264:47-56.\n",
        "\n",
        "Fedorov A, Longabaugh WJR, Pot D, Clunie DA, Pieper SD, Gibbs DL, Bridge C, Herrmann MD, Homeyer A, Lewis R, Aerts HJWL, Krishnaswamy D, Thiriveedhi VK, Ciausu C, Schacherer DP, Bontempi D, Pihl T, Wagner U, Farahani K, Kim E, Kikinis R. National Cancer Institute Imaging Data Commons: Toward Transparency, Reproducibility, and Scalability in Imaging Artificial Intelligence. Radiographics. 2023 Dec;43(12):e230180. doi: 10.1148/rg.230180. PMID: 37999984; PMCID: PMC10716669."
      ]
    },
    {
      "cell_type": "markdown",
      "metadata": {
        "id": "FU_rtptJDEMT"
      },
      "source": [
        "###**Ways to utilize this notebook**\n",
        "\n",
        "\n",
        "*   **Colab**\n",
        "*   **DockerContainer/Terra/SB-CGC**\n",
        "\n",
        "\n",
        "####**Colab**\n",
        "*  This notebook was initally developed and tested on Colab, and a working version is saved on github\n",
        "*  To run this notebook with Colab, Click 'Open In Colab' icon on top left \n",
        "* Uncomment all the cells under \"Installing Packages\"\n",
        "* Provide the path to csv manifest containing SeriesInstanceUID and s5cmd download urls (specific to gcp buckets) under \"Parameters for Papermill\"\n",
        "* A sample manifest is provided for convenience can be downloaded by uncommenting and running the cells in \"For local testing\"\n",
        "* The CSV manifest expects a SeriesInstanceUID and s5cmd url (which contains the destination directory, here it's set to 'idc_data') to download the entire series. The manifest may contain any other metadata if needed.\n",
        "\n",
        "<img src=\"https://raw.githubusercontent.com/ImagingDataCommons/Cloud-Resources-Workflows/notebooks2/images/download_convert_inference_totalseg_manifest.png\">\n",
        "\n",
        "* Run each cell to install the packages and to download the data from IDC, convert to NIfTI saved in lz4 compressed format\n",
        "\n",
        "####**Docker**\n",
        "* This notebook is saved by default in a way that's amenable to be used on Terra/SB-CGC platforms using Docker\n",
        "* Running this notebook in a docker container ensures reproduciblity, as we lock the run environment beginning from the base docker image to pip packages in the docker image\n",
        "\n",
        "* Docker images can be found @ https://hub.docker.com/repository/docker/imagingdatacommons/download_convert_inference_totalseg/tags\n",
        "* The link to dockerfile along with git commit hash used for building the docker image can be found in one of the layers called 'LABEL'\n",
        "\n",
        "<img src=\"https://raw.githubusercontent.com/ImagingDataCommons/Cloud-Resources-Workflows/notebooks2/images/download_convert_inference_totalseg_docker.png\">\n",
        "\n",
        "* We use a python package called Papermill, that can run the notebook with out having to convert it to python script. This allows us maintain one copy of code instead of two.\n",
        "* To use papermill, download this notebook and tag the cell under 'Parameters for Papermill\" as parameters using jupyternotebook or jupyterlab as instructed @ https://papermill.readthedocs.io/en/latest/usage-parameterize.html#designate-parameters-for-a-cell\n",
        "* A sample papermill command is\n",
        "<pre>\n",
        "papermill -p csvFilePath path_to_csv_manifest.csv downloadDicomAndConvertAndInferenceTotalSegmentatorNotebook.ipynb outputdownloadDicomAndConvertAndInferenceTotalSegmentatorNotebook.ipynb\n",
        "</pre>\n",
        "\n",
        "\n"
      ]
    },
    {
      "cell_type": "markdown",
      "metadata": {
        "id": "_jcGevLmr3JW"
      },
      "source": [
        "###Installing Packages"
      ]
    },
    {
      "cell_type": "code",
      "execution_count": null,
      "metadata": {
        "colab": {
          "base_uri": "https://localhost:8080/"
        },
        "id": "p0BAKG7AOI9a",
        "outputId": "c6e7f246-b4c4-4532-9ac6-435af5afd02c"
      },
      "outputs": [],
      "source": [
        "# !sudo apt-get update && apt-get install -y --no-install-recommends \\\n",
        "#     build-essential\\\n",
        "#     dcm2niix\\\n",
        "#     ffmpeg\\\n",
        "#     lz4\\\n",
        "#     pigz\\\n",
        "#     #plastimatch=1.8.0+dfsg.1-2build1\\\n",
        "#     python3-dev\\\n",
        "#     python3-pip\\\n",
        "#     unzip\\\n",
        "#     wget\\\n",
        "#     xvfb\\\n",
        "#     zip\\\n",
        "#     && rm -rf /var/lib/apt/lists/*"
      ]
    },
    {
      "cell_type": "code",
      "execution_count": null,
      "metadata": {
        "colab": {
          "base_uri": "https://localhost:8080/"
        },
        "id": "R68Zs8VTrvKg",
        "outputId": "f467fe43-f969-442b-8891-70758360dbb5"
      },
      "outputs": [],
      "source": [
        "# # %%capture\n",
        "# !sudo pip install --no-cache-dir\\\n",
        "#     ipykernel==6.22.0\\\n",
        "#     ipython==8.12.0\\\n",
        "#     ipywidgets==8.0.6\\\n",
        "#     jupyter==1.0.0\\\n",
        "#     nvidia-ml-py3==7.352.0\\\n",
        "#     papermill==2.4.0 \\\n",
        "#     requests==2.27.1\\\n",
        "#     TotalSegmentator==1.5.6"
      ]
    },
    {
      "cell_type": "code",
      "execution_count": null,
      "metadata": {
        "colab": {
          "base_uri": "https://localhost:8080/"
        },
        "id": "26pJX1K1UnBy",
        "outputId": "840f18d7-42bc-4b86-d115-729ab74cce43"
      },
      "outputs": [],
      "source": [
        "# !wget \"https://github.com/rordenlab/dcm2niix/releases/download/v1.0.20230411/dcm2niix_lnx.zip\" \\\n",
        "#   && unzip \"dcm2niix_lnx.zip\" \\\n",
        "#   && rm \"dcm2niix_lnx.zip\" \\\n",
        "#   && mv dcm2niix /usr/local/bin/dcm2niix"
      ]
    },
    {
      "cell_type": "code",
      "execution_count": null,
      "metadata": {
        "id": "V_Ms6GwHHOr2"
      },
      "outputs": [],
      "source": [
        "# %%capture\n",
        "# #install s5cmd\n",
        "# !wget \"https://github.com/peak/s5cmd/releases/download/v2.2.2/s5cmd_2.2.2_Linux-64bit.tar.gz\"\n",
        "# !tar -xvzf \"s5cmd_2.2.2_Linux-64bit.tar.gz\"\n",
        "# !rm \"s5cmd_2.2.2_Linux-64bit.tar.gz\"\n",
        "# !mv s5cmd /usr/local/bin/s5cmd"
      ]
    },
    {
      "cell_type": "markdown",
      "metadata": {
        "id": "s2t6X63jKDSE"
      },
      "source": [
        "###Importing Packages"
      ]
    },
    {
      "cell_type": "code",
      "execution_count": null,
      "metadata": {
        "id": "16RKHQCnIM2V"
      },
      "outputs": [],
      "source": [
        "import os\n",
        "import sys\n",
        "import time\n",
        "import pandas as pd\n",
        "from pathlib import Path\n",
        "import shutil\n",
        "import glob\n",
        "from concurrent.futures import ThreadPoolExecutor\n",
        "from time import sleep\n",
        "from datetime import datetime\n",
        "import psutil\n",
        "import matplotlib.pyplot as plt\n",
        "import nvidia_smi\n",
        "import subprocess"
      ]
    },
    {
      "cell_type": "code",
      "execution_count": null,
      "metadata": {
        "colab": {
          "base_uri": "https://localhost:8080/"
        },
        "id": "0zkBscf3pxcO",
        "outputId": "8f31e0df-b583-4ce8-e13b-d2886484f584"
      },
      "outputs": [],
      "source": [
        "curr_dir   = Path().absolute()\n",
        "\n",
        "os.environ['TZ'] = 'US/Eastern'\n",
        "time.tzset()\n",
        "current_time = time.strftime('%a %b %d %H:%M:%S %Y', time.localtime())\n",
        "print(current_time)\n",
        "print(\"\\nCurrent directory :{}\".format( curr_dir))\n",
        "print(\"Python version    :\", sys.version.split('\\n')[0])"
      ]
    },
    {
      "cell_type": "markdown",
      "metadata": {
        "id": "8l5mWkLoRGVX"
      },
      "source": [
        "###Parameters for papermill"
      ]
    },
    {
      "cell_type": "code",
      "execution_count": null,
      "metadata": {
        "id": "JJ-g6Lw2RDUp",
        "tags": [
          "parameters"
        ]
      },
      "outputs": [],
      "source": [
        "csvFilePath=''"
      ]
    },
    {
      "cell_type": "markdown",
      "metadata": {
        "id": "Dg6rEeM6tuQJ"
      },
      "source": [
        "###**Local testing**"
      ]
    },
    {
      "cell_type": "code",
      "execution_count": null,
      "metadata": {
        "colab": {
          "base_uri": "https://localhost:8080/"
        },
        "id": "DHaIwv0stya4",
        "outputId": "e0409aad-4b9d-4bfe-b73e-9cafbecf0273"
      },
      "outputs": [],
      "source": [
        "# !wget https://raw.githubusercontent.com/ImagingDataCommons/Cloud-Resources-Workflows/notebooks/sampleManifests/batch_1.csv\n",
        "# csvFilePath =glob.glob('*.csv')[0]\n"
      ]
    },
    {
      "cell_type": "markdown",
      "metadata": {
        "id": "x51OIhiGINXe"
      },
      "source": [
        "###Reading CSV File containing s5cmd Urls"
      ]
    },
    {
      "cell_type": "code",
      "execution_count": null,
      "metadata": {
        "colab": {
          "base_uri": "https://localhost:8080/"
        },
        "id": "y_so3BoXMa10",
        "outputId": "a3a9e477-2a0f-4eb1-d227-5e1d54ea38fe"
      },
      "outputs": [],
      "source": [
        "#get the path of the zip file containing csv file in the current working directory\n",
        "#In Terra, a zip file containing the csv file will be provided as input and will be localized\n",
        "#to the current working directory.\n",
        "\n",
        "start_time = time.time()\n",
        "cohort_df=pd.read_csv(csvFilePath, delimiter=',', encoding='utf-8')\n",
        "\n",
        "read_time=time.time() -start_time\n",
        "print('read in '+str(read_time)+ '  seconds')"
      ]
    },
    {
      "cell_type": "code",
      "execution_count": null,
      "metadata": {
        "colab": {
          "base_uri": "https://localhost:8080/"
        },
        "id": "UPjtDJS4JIdg",
        "outputId": "ae526985-9c8b-4d9d-9afb-a200155a0c4b"
      },
      "outputs": [],
      "source": [
        "SeriesInstanceUIDs= cohort_df[\"SeriesInstanceUID\"].values.tolist()\n",
        "SeriesInstanceUIDs"
      ]
    },
    {
      "cell_type": "markdown",
      "metadata": {
        "id": "hGbSvle4RSpd"
      },
      "source": [
        "###Defining Functions"
      ]
    },
    {
      "cell_type": "code",
      "execution_count": null,
      "metadata": {
        "id": "sqeESHc7ntX8"
      },
      "outputs": [],
      "source": [
        "#create directory for TotalSegmentator Output files\n",
        "try:\n",
        "  shutil.rmtree('dcm2niix')\n",
        "  shutil.rmtree('Inference')\n",
        "\n",
        "except OSError:\n",
        "  pass\n",
        "os.mkdir('dcm2niix')\n",
        "os.mkdir('Inference')"
      ]
    },
    {
      "cell_type": "code",
      "execution_count": null,
      "metadata": {
        "id": "-1nH_ABkKoP2"
      },
      "outputs": [],
      "source": [
        "def download_dicom_data(series_id: str) -> None:\n",
        "    \"\"\"\n",
        "    Downloads raw DICOM data\n",
        "\n",
        "    Args:\n",
        "    series_id: The DICOM Tag SeriesInstanceUID of the DICOM series to be converted.\n",
        "    \"\"\"\n",
        "\n",
        "    # Attempt to remove the directory for the series if it exists\n",
        "    try:\n",
        "        shutil.rmtree(f\"{curr_dir}/idc_data/\")\n",
        "    except OSError:\n",
        "        pass\n",
        "\n",
        "    # Access the global dataframe variable\n",
        "    global cohort_df\n",
        "\n",
        "    # Get the series data from the dataframe\n",
        "    aws_file_path = \"s5cmd_manifest.txt\"\n",
        "    series_df = cohort_df[cohort_df[\"SeriesInstanceUID\"] == series_id]\n",
        "\n",
        "    # Write the URLs to a file\n",
        "    series_df[\"s5cmdUrls\"].to_csv(aws_file_path, header=False, index=False)\n",
        "\n",
        "    # Remove double quotes from the manifest file\n",
        "    !sed -i 's/\"//g' s5cmd_manifest.txt\n",
        "\n",
        "    # Start a timer for the download\n",
        "    start_time = time.time()\n",
        "    print(\"Copying files from IDC buckets..\")\n",
        "\n",
        "    # Download the files and suppress output\n",
        "    !s5cmd --no-sign-request --endpoint-url https://s3.amazonaws.com run s5cmd_manifest.txt >> /dev/null\n",
        "\n",
        "    # Calculate and print elapsed time\n",
        "    elapsed = time.time() - start_time\n",
        "    print(\"Done in %g seconds.\" % elapsed)\n"
      ]
    },
    {
      "cell_type": "code",
      "execution_count": null,
      "metadata": {
        "id": "u2jkSpS2KvXU"
      },
      "outputs": [],
      "source": [
        "def convert_dicom_to_nifti(series_id: str) -> None:\n",
        "    \"\"\"\n",
        "    Converts a DICOM series to a NIfTI file.\n",
        "\n",
        "    Args:\n",
        "      series_id: The DICOM Tag SeriesInstanceUID of the DICOM series to be converted.\n",
        "    \"\"\"\n",
        "\n",
        "    # Attempt to remove the directory for the series if it exists\n",
        "    try:\n",
        "        shutil.rmtree(f\"dcm2niix/{series_id}\")\n",
        "    except OSError:\n",
        "        pass\n",
        "\n",
        "    # Create a new directory for the series\n",
        "    os.mkdir(f\"dcm2niix/{series_id}\")\n",
        "\n",
        "    print(\"\\n Converting DICOM files to NIfTI \\n\")\n",
        "\n",
        "    # Run the appropriate converter command and capture the output\n",
        "\n",
        "    result = subprocess.run(\n",
        "        f\"dcm2niix -z y -f %j_%p_%t_%s -b n -m y -o {curr_dir}/dcm2niix/{series_id} {curr_dir}/idc_data/\",\n",
        "        shell=True,\n",
        "        capture_output=True,\n",
        "        text=True,\n",
        "    )\n",
        "    print(result.stdout)\n",
        "    print(\"\\n Conversion successful\")\n"
      ]
    },
    {
      "cell_type": "code",
      "execution_count": null,
      "metadata": {
        "id": "CWU6l2i-V2Q7"
      },
      "outputs": [],
      "source": [
        "def check_dicom_conversion_errors(series_id_folder_path):\n",
        "    \"\"\"\n",
        "    This function checks if the conversion from DICOM to NIfTI format was successful.\n",
        "    It does this by checking the number of files in the specified folder.\n",
        "    The conversion is considered successful if there is exactly one file in the folder.\n",
        "\n",
        "    Args:\n",
        "    series_id_folder_path (str): The path of the folder containing the converted NIfTI files.\n",
        "\n",
        "    Returns:\n",
        "    bool: True if there was an error in the conversion\n",
        "    (i.e., no files or more than one file in the folder), False otherwise.\n",
        "    \"\"\"\n",
        "\n",
        "    # Get a list of all files in the specified folder\n",
        "    nifti_files = os.listdir(series_id_folder_path)\n",
        "\n",
        "    # Check if the folder is empty\n",
        "    if len(nifti_files) == 0:\n",
        "        # If the folder is empty, log an error message in 'error_file.txt'\n",
        "        # This indicates that no file was created during the conversion, which means an error occurred\n",
        "        with open('error_file.txt', 'a') as f:\n",
        "            f.write(f\"Error: No files in {series_id_folder_path}\\n\")\n",
        "        # Return True to indicate an error\n",
        "        return True\n",
        "\n",
        "    # Check if the folder contains more than one file\n",
        "    elif len(nifti_files) > 1:\n",
        "        # If the folder contains more than one file, log an error message in 'error_file.txt'\n",
        "        # This indicates that more than one file was created during the conversion, which should not happen and thus means an error occurred\n",
        "        with open('error_file.txt', 'a') as f:\n",
        "            f.write(f\"Error: More than one file in {series_id_folder_path}\\n\")\n",
        "        # Return True to indicate an error\n",
        "        return True\n",
        "\n",
        "    # If there is exactly one file in the folder, no error occurred during the conversion\n",
        "    else:\n",
        "        return False\n"
      ]
    },
    {
      "cell_type": "code",
      "execution_count": null,
      "metadata": {
        "id": "kZYXfp-UtWMs"
      },
      "outputs": [],
      "source": [
        "def check_total_segmentator_errors(series_id: str):\n",
        "  \"\"\"\n",
        "  This function checks if the output files from TotalSegmentator exist.\n",
        "\n",
        "  Args:\n",
        "  series_id (str): The DICOM Tag SeriesInstanceUID of the DICOM series to be checked.\n",
        "\n",
        "  Returns:\n",
        "  bool: True if any of the output files do not exist, False otherwise.\n",
        "  \"\"\"\n",
        "\n",
        "  # Define the output files from TotalSegmentator\n",
        "  output_files = [f\"{curr_dir}/Inference/{series_id}/segmentations.nii\"]\n",
        "\n",
        "  # Check if all output files exist\n",
        "  if not all(os.path.exists(file) for file in output_files):\n",
        "      # If any of the output files do not exist, log an error\n",
        "      with open('totalsegmentator_errors.txt', 'a') as f:\n",
        "          f.write(f\"Error: TotalSegmentator failed for series {series_id}\\n\")\n",
        "      return True\n",
        "\n",
        "  return False\n"
      ]
    },
    {
      "cell_type": "code",
      "execution_count": null,
      "metadata": {
        "id": "10_jVVTElNZ5"
      },
      "outputs": [],
      "source": [
        "def inferenceTotalSegmentator(series_id: str) -> None:\n",
        "    \"\"\"\n",
        "    This function calls download_dicom_data and then performs inference using TotalSegmentator on a given series.\n",
        "\n",
        "    Args:\n",
        "    series_id (str): The DICOM Tag SeriesInstanceUID of the DICOM series to be processed.\n",
        "    \"\"\"\n",
        "\n",
        "    start_time = time.time()\n",
        "    download_dicom_data(series_id)\n",
        "    dicom_download_time = time.time() - start_time\n",
        "\n",
        "    start_time = time.time()\n",
        "    convert_dicom_to_nifti(series_id)\n",
        "    dicom_conversion_time = time.time() - start_time\n",
        "\n",
        "\n",
        "    # Remove existing directories and files if they exist\n",
        "    shutil.rmtree(f'Inference/{series_id}', ignore_errors=True)\n",
        "    shutil.rmtree(f'metadata/{series_id}', ignore_errors=True)\n",
        "    for file in ['segmentations.nii.gz']:\n",
        "        try:\n",
        "            os.remove(file)\n",
        "        except OSError:\n",
        "            pass\n",
        "\n",
        "    # Create a new directory for the series\n",
        "    os.makedirs(f'Inference/{series_id}', exist_ok=True)\n",
        "\n",
        "    print(\"Processing series: \"+series_id)\n",
        "    series_id_folder_path= os.path.join(curr_dir, 'dcm2niix', series_id)\n",
        "\n",
        "    if not check_dicom_conversion_errors(series_id_folder_path):\n",
        "      # Get the list of files in series_id_path\n",
        "      nifti_files = os.listdir(series_id_folder_path)\n",
        "      # Get the first (and only) file in the list\n",
        "      nifti_filename = nifti_files[0]\n",
        "      # Get the full path of the file\n",
        "      nifti_filename_path = os.path.join(series_id_folder_path, nifti_filename)\n",
        "\n",
        "      start_time = time.time()\n",
        "      result=subprocess.run(['TotalSegmentator', '-i', nifti_filename_path, '-o', 'segmentations', '--ml'],stdout=subprocess.PIPE, stderr=subprocess.PIPE,  universal_newlines=True)\n",
        "      print(result.stdout)\n",
        "      total_segmentator_time = time.time() - start_time\n",
        "\n",
        "      try:\n",
        "        subprocess.run([\"mv\", f\"{curr_dir}/segmentations.nii\", f\"{curr_dir}/Inference/{series_id}/\"], check=True)\n",
        "        print(\"Files moved successfully using the first command\")\n",
        "      except subprocess.CalledProcessError:\n",
        "        try:\n",
        "          subprocess.run([\"mv\", \"segmentations/segmentations.nii\", f\"{curr_dir}/Inference/{series_id}/\"], check=True)\n",
        "          print(\"Files moved successfully using the second command\")\n",
        "        except subprocess.CalledProcessError:\n",
        "              print(\"Error: Failed to move files using both commands\")\n",
        "\n",
        "      check_total_segmentator_errors(series_id)\n",
        "\n",
        "      shutil.move(f\"{curr_dir}/Inference/{series_id}/segmentations.nii\", f\"{curr_dir}/Inference/{series_id}/{series_id}.nii\")\n",
        "\n",
        "      start_time = time.time()\n",
        "      subprocess.run([\"lz4\", \"--rm\", f\"{curr_dir}/Inference/{series_id}/{series_id}.nii\", f\"{curr_dir}/Inference/{series_id}/{series_id}.nii.lz4\"], check=True)\n",
        "\n",
        "      archiving_time = time.time() - start_time\n",
        "\n",
        "    else:\n",
        "      total_segmentator_time=0\n",
        "      archiving_time=0\n",
        "\n",
        "\n",
        "    log = pd.DataFrame({'SeriesInstanceUID': [series_id]})\n",
        "\n",
        "    log['dicom_download_time']=dicom_download_time\n",
        "    log['dicom_conversion_time']=dicom_conversion_time\n",
        "    log['total_segmentator_time']=total_segmentator_time\n",
        "    log['archiving_time'] = archiving_time\n",
        "\n",
        "    shutil.rmtree(f\"{curr_dir}/dcm2niix/{series_id}\", ignore_errors=True)\n",
        "    global runtime_stats\n",
        "    runtime_stats = pd.concat([runtime_stats, log], ignore_index=True, axis=0)"
      ]
    },
    {
      "cell_type": "code",
      "execution_count": null,
      "metadata": {
        "id": "cGQ_URr1pQpj"
      },
      "outputs": [],
      "source": [
        "class MemoryMonitor:\n",
        "    def __init__(self):\n",
        "        self.keep_measuring = True\n",
        "        self.working_disk_path = self.get_working_disk_path()\n",
        "\n",
        "    def get_working_disk_path(self):\n",
        "        partitions = psutil.disk_partitions()\n",
        "        for partition in partitions:\n",
        "            if partition.mountpoint == '/':\n",
        "                return '/'\n",
        "            elif '/cromwell_root' in partition.mountpoint:\n",
        "                return '/cromwell_root'\n",
        "        return '/'  # Default to root directory if no specific path is found\n",
        "    def measure_usage(self):\n",
        "        cpu_usage = []\n",
        "        ram_usage_mb=[]\n",
        "        gpu_usage_mb=[]\n",
        "        disk_usage_all=[]\n",
        "        time_stamps = []\n",
        "        start_time = time.time()\n",
        "        while self.keep_measuring:\n",
        "            cpu = psutil.cpu_percent()\n",
        "            ram = psutil.virtual_memory()\n",
        "            disk_usage = psutil.disk_usage(self.working_disk_path)\n",
        "            disk_used = disk_usage.used / 1024 / 1024 / 1024\n",
        "            disk_total = disk_usage.total / 1024 / 1024 / 1024\n",
        "            ram_total_mb = psutil.virtual_memory().total / 1024 / 1024\n",
        "            ram_mb = (ram.total - ram.available) / 1024 / 1024\n",
        "\n",
        "            nvidia_smi.nvmlInit()\n",
        "            handle = nvidia_smi.nvmlDeviceGetHandleByIndex(0)\n",
        "            info = nvidia_smi.nvmlDeviceGetMemoryInfo(handle)\n",
        "            gpu_type = nvidia_smi.nvmlDeviceGetName(handle)\n",
        "            gpu_total_mb = info.total/1024/1024\n",
        "            gpu_mb = info.used/1024/1024\n",
        "            nvidia_smi.nvmlShutdown()\n",
        "\n",
        "            cpu_usage.append(cpu)\n",
        "            ram_usage_mb.append(ram_mb)\n",
        "            disk_usage_all.append(disk_used)\n",
        "            gpu_usage_mb.append(gpu_mb)\n",
        "            time_stamps.append(time.time()- start_time)\n",
        "            sleep(1)\n",
        "\n",
        "        return cpu_usage, ram_usage_mb, time_stamps, ram_total_mb, gpu_usage_mb, gpu_total_mb, gpu_type, disk_usage_all, disk_total"
      ]
    },
    {
      "cell_type": "markdown",
      "metadata": {
        "id": "b_L2B-sjRf_1"
      },
      "source": [
        "###Total Segmentator"
      ]
    },
    {
      "cell_type": "code",
      "execution_count": null,
      "metadata": {
        "colab": {
          "base_uri": "https://localhost:8080/",
          "height": 1000
        },
        "id": "rZfAhcQopl59",
        "outputId": "fcdd7765-efbb-4dcb-c4e9-b073f3bce7b2"
      },
      "outputs": [],
      "source": [
        "runtime_stats = pd.DataFrame(columns=['SeriesInstanceUID','total_segmentator_time','dicom_download_time','dicom_conversion_time',\n",
        "                                      'archiving_time', 'cpu_usage','ram_usage_mb', 'ram_total_mb',\n",
        "                                      'gpu_usage_mb', 'gpu_total_mb', 'gpu_type', 'disk_usage_all', 'disk_total'\n",
        "                                      ])\n",
        "if __name__ == \"__main__\":\n",
        "    for series_id in SeriesInstanceUIDs:\n",
        "    #for series_id in os.listdir(f'{curr_dir}/{converterType}'):\n",
        "        with ThreadPoolExecutor() as executor:\n",
        "            monitor = MemoryMonitor()\n",
        "            mem_thread = executor.submit(monitor.measure_usage)\n",
        "            try:\n",
        "                proc_thread = executor.submit(inferenceTotalSegmentator, series_id)\n",
        "                proc_thread.result()\n",
        "            finally:\n",
        "                monitor.keep_measuring = False\n",
        "                cpu_usage, ram_usage_mb, time_stamps, ram_total_mb, gpu_usage_mb, gpu_total_mb, gpu_type, disk_usage_all, disk_total= mem_thread.result()\n",
        "\n",
        "                cpu_idx = runtime_stats.index[runtime_stats['SeriesInstanceUID'] == series_id][0]\n",
        "                runtime_stats.iloc[cpu_idx, runtime_stats.columns.get_loc('cpu_usage')] = [[cpu_usage]]\n",
        "\n",
        "                ram_usage_mb_idx = runtime_stats.index[runtime_stats['SeriesInstanceUID'] == series_id][0]\n",
        "                runtime_stats.iloc[ram_usage_mb_idx, runtime_stats.columns.get_loc('ram_usage_mb')] = [[ram_usage_mb]]\n",
        "\n",
        "                ram_total_mb_idx = runtime_stats.index[runtime_stats['SeriesInstanceUID'] == series_id][0]\n",
        "                runtime_stats.iloc[ram_total_mb_idx, runtime_stats.columns.get_loc('ram_total_mb')] = [[ram_total_mb]]\n",
        "\n",
        "                gpu_total_mb_idx = runtime_stats.index[runtime_stats['SeriesInstanceUID'] == series_id][0]\n",
        "                runtime_stats.iloc[gpu_total_mb_idx, runtime_stats.columns.get_loc('gpu_total_mb')] = [[gpu_total_mb]]\n",
        "\n",
        "                gpu_usage_mb_idx = runtime_stats.index[runtime_stats['SeriesInstanceUID'] == series_id][0]\n",
        "                runtime_stats.iloc[gpu_usage_mb_idx, runtime_stats.columns.get_loc('gpu_usage_mb')] = [[gpu_usage_mb]]\n",
        "\n",
        "                disk_usage_gb_idx = runtime_stats.index[runtime_stats['SeriesInstanceUID'] == series_id][0]\n",
        "                runtime_stats.iloc[disk_usage_gb_idx, runtime_stats.columns.get_loc('disk_usage_all')] = [[disk_usage_all]]\n",
        "\n",
        "                runtime_stats['gpu_type']=gpu_type\n",
        "                runtime_stats['disk_total']=disk_total\n",
        "\n",
        "                fig, ((ax1, ax2), (ax3, ax4)) = plt.subplots(2,2, figsize=(8, 6))\n",
        "\n",
        "                ax1.plot(time_stamps, cpu_usage)\n",
        "                ax1.set_ylim(0, 100)\n",
        "                ax1.set_xlabel('Time (s)')\n",
        "                ax1.set_ylabel('CPU usage (%)')\n",
        "\n",
        "                ax2.plot(time_stamps, ram_usage_mb)\n",
        "                ax2.set_ylim(0, ram_total_mb)\n",
        "                ax2.set_xlabel('Time (s)')\n",
        "                ax2.set_ylabel('Memory usage (MB)')\n",
        "\n",
        "                ax3.plot(time_stamps, gpu_usage_mb)\n",
        "                ax3.set_ylim(0, gpu_total_mb)\n",
        "                ax3.set_xlabel('Time (s)')\n",
        "                ax3.set_ylabel('GPU Memory usage (MB)')\n",
        "\n",
        "                ax4.plot(time_stamps, disk_usage_all)\n",
        "                ax4.set_ylim(0, disk_total)\n",
        "                ax4.set_xlabel('Time (s)')\n",
        "                ax4.set_ylabel('Disk usage (GB)')\n",
        "                plt.show()"
      ]
    },
    {
      "cell_type": "markdown",
      "metadata": {
        "id": "KzCG2YATRtVH"
      },
      "source": [
        "###Compressing Output Files"
      ]
    },
    {
      "cell_type": "code",
      "execution_count": null,
      "metadata": {
        "id": "bxuuD6yqdmzF"
      },
      "outputs": [],
      "source": [
        "start_time = time.time()\n",
        "try:\n",
        "  os.remove('inferenceNiftiFiles.tar.lz4')\n",
        "  os.remove('metadata.tar.lz4')\n",
        "except OSError:\n",
        "  pass\n",
        "!tar cvf - -C {curr_dir} Inference | lz4 > inferenceNiftiFiles.tar.lz4\n",
        "#!tar cvf - -C {curr_dir} metadata | lz4 > inferenceMetaData.tar.lz4\n",
        "output_file_archiving_time = time.time() - start_time\n"
      ]
    },
    {
      "cell_type": "markdown",
      "metadata": {
        "id": "n4pMpClKRzEe"
      },
      "source": [
        "###Utilization Metrics"
      ]
    },
    {
      "cell_type": "code",
      "execution_count": null,
      "metadata": {
        "id": "Lc7Hep0lkJWd"
      },
      "outputs": [],
      "source": [
        "runtime_stats.to_csv('runtime.csv')\n",
        "runtime_stats['output_file_archiving_time']=output_file_archiving_time\n",
        "try:\n",
        "  os.remove('inferenceUsageMetrics.lz4')\n",
        "except OSError:\n",
        "  pass\n",
        "!lz4 {curr_dir}/runtime.csv inferenceUsageMetrics.lz4\n",
        "runtime_stats"
      ]
    }
  ],
  "metadata": {
    "accelerator": "GPU",
    "celltoolbar": "Tags",
    "colab": {
      "include_colab_link": true,
      "provenance": [],
      "toc_visible": true
    },
    "gpuClass": "standard",
    "kernelspec": {
      "display_name": "Python 3 (ipykernel)",
      "language": "python",
      "name": "python3"
    },
    "language_info": {
      "codemirror_mode": {
        "name": "ipython",
        "version": 3
      },
      "file_extension": ".py",
      "mimetype": "text/x-python",
      "name": "python",
      "nbconvert_exporter": "python",
      "pygments_lexer": "ipython3",
      "version": "3.10.12"
    }
  },
  "nbformat": 4,
  "nbformat_minor": 0
}
