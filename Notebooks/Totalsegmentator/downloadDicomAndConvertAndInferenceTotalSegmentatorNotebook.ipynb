{
  "nbformat": 4,
  "nbformat_minor": 0,
  "metadata": {
    "colab": {
      "provenance": [],
      "mount_file_id": "1_zLOD6XL7sRllQbwMHy6PXvj37JZFPPw",
      "authorship_tag": "ABX9TyMkourte/QzK1aG4R/agHRO",
      "include_colab_link": true
    },
    "kernelspec": {
      "name": "python3",
      "display_name": "Python 3"
    },
    "language_info": {
      "name": "python"
    },
    "accelerator": "GPU",
    "gpuClass": "standard"
  },
  "cells": [
    {
      "cell_type": "markdown",
      "metadata": {
        "id": "view-in-github",
        "colab_type": "text"
      },
      "source": [
        "<a href=\"https://colab.research.google.com/github/vkt1414/Cloud-Resources-Workflows/blob/main/Notebooks/Totalsegmentator/downloadDicomAndConvertAndInferenceTotalSegmentatorNotebook.ipynb\" target=\"_parent\"><img src=\"https://colab.research.google.com/assets/colab-badge.svg\" alt=\"Open In Colab\"/></a>"
      ]
    },
    {
      "cell_type": "markdown",
      "source": [
        "#This Notebook does the first and second steps in the split workflow on Terra"
      ],
      "metadata": {
        "id": "_QhtMLIRPQsH"
      }
    },
    {
      "cell_type": "markdown",
      "source": [
        "DICOM files are downloaded and converted to NIFTI files. NIFTI files are provided as input for Inference.\n",
        "\n",
        "\n",
        "Please cite:\n",
        "\n",
        "Jakob Wasserthal, Manfred Meyer, Hanns-Christian Breit, Joshy Cyriac, Shan Yang, & Martin Segeroth. (2022). TotalSegmentator: robust segmentation of 104 anatomical structures in CT images. https://doi.org/10.48550/arXiv.2208.05868\n",
        "\n",
        "Isensee, F., Jaeger, P.F., Kohl, S.A.A. et al. nnU-Net: a self-configuring method for deep learning-based biomedical image segmentation. Nat Methods 18, 203–211 (2021). https://doi.org/10.1038/s41592-020-01008-z"
      ],
      "metadata": {
        "id": "L6wX5zMpPYn8"
      }
    },
    {
      "cell_type": "markdown",
      "source": [
        "###Installing Packages"
      ],
      "metadata": {
        "id": "_jcGevLmr3JW"
      }
    },
    {
      "cell_type": "code",
      "source": [
        "%%capture\n",
        "#Installing lz4 for compression/decompression; dcm2niix and plastimatch for conversion; \n",
        "#xvfb required for previewing Totalsegmentator png images\n",
        "!apt-get install lz4 xvfb dcm2niix pigz plastimatch ffmpeg"
      ],
      "metadata": {
        "id": "p0BAKG7AOI9a"
      },
      "execution_count": 62,
      "outputs": []
    },
    {
      "cell_type": "code",
      "source": [
        "%%capture\n",
        "#Installing Totalsegmentator for Inference\n",
        "#pyradiomics required for extracting radiomics features \n",
        "#nvidia-ml-py3 for capturing gpu utilization\n",
        "!pip install TotalSegmentator pyradiomics nvidia-ml-py3"
      ],
      "metadata": {
        "id": "R68Zs8VTrvKg"
      },
      "execution_count": 63,
      "outputs": []
    },
    {
      "cell_type": "code",
      "source": [
        "%%capture\n",
        "#install s5cmd\n",
        "!wget \"https://github.com/peak/s5cmd/releases/download/v2.0.0/s5cmd_2.0.0_Linux-64bit.tar.gz\"\n",
        "!tar -xvzf \"s5cmd_2.0.0_Linux-64bit.tar.gz\"\n",
        "!rm \"s5cmd_2.0.0_Linux-64bit.tar.gz\"\n",
        "!mv s5cmd /usr/local/bin/s5cmd"
      ],
      "metadata": {
        "id": "V_Ms6GwHHOr2"
      },
      "execution_count": 64,
      "outputs": []
    },
    {
      "cell_type": "markdown",
      "source": [
        "###Importing Packages"
      ],
      "metadata": {
        "id": "s2t6X63jKDSE"
      }
    },
    {
      "cell_type": "code",
      "source": [
        "import os\n",
        "import sys\n",
        "import time\n",
        "import pandas as pd\n",
        "from pathlib import Path\n",
        "import shutil\n",
        "import glob\n",
        "from concurrent.futures import ThreadPoolExecutor\n",
        "from time import sleep\n",
        "from datetime import datetime\n",
        "import psutil\n",
        "import matplotlib.pyplot as plt\n",
        "import nvidia_smi\n"
      ],
      "metadata": {
        "id": "16RKHQCnIM2V"
      },
      "execution_count": 65,
      "outputs": []
    },
    {
      "cell_type": "code",
      "source": [
        "curr_dir   = Path().absolute()\n",
        "\n",
        "os.environ['TZ'] = 'US/Eastern'\n",
        "time.tzset()\n",
        "current_time = time.strftime('%a %b %d %H:%M:%S %Y', time.localtime())\n",
        "print(current_time)\n",
        "print(\"\\nCurrent directory :{}\".format( curr_dir))\n",
        "print(\"Python version    :\", sys.version.split('\\n')[0])"
      ],
      "metadata": {
        "id": "0zkBscf3pxcO",
        "colab": {
          "base_uri": "https://localhost:8080/"
        },
        "outputId": "7b39d634-acab-4a52-ed36-2ca3862ecd79"
      },
      "execution_count": 66,
      "outputs": [
        {
          "output_type": "stream",
          "name": "stdout",
          "text": [
            "Wed Mar 29 16:10:35 2023\n",
            "\n",
            "Current directory :/content\n",
            "Python version    : 3.9.16 (main, Dec  7 2022, 01:11:51) \n"
          ]
        }
      ]
    },
    {
      "cell_type": "markdown",
      "source": [
        "###Parameters for papermill"
      ],
      "metadata": {
        "id": "8l5mWkLoRGVX"
      }
    },
    {
      "cell_type": "code",
      "source": [
        "converterType='plastimatch'\n",
        "csvFilePath=''"
      ],
      "metadata": {
        "id": "JJ-g6Lw2RDUp"
      },
      "execution_count": 67,
      "outputs": []
    },
    {
      "cell_type": "markdown",
      "source": [
        "###Reading CSV File containing s5cmd Urls"
      ],
      "metadata": {
        "id": "x51OIhiGINXe"
      }
    },
    {
      "cell_type": "code",
      "execution_count": 68,
      "metadata": {
        "id": "y_so3BoXMa10",
        "colab": {
          "base_uri": "https://localhost:8080/"
        },
        "outputId": "7e2e297d-6ee8-4200-b57d-2fb687157ee7"
      },
      "outputs": [
        {
          "output_type": "stream",
          "name": "stdout",
          "text": [
            "read in 0.14239287376403809  seconds\n"
          ]
        }
      ],
      "source": [
        "#get the path of the zip file containing csv file in the current working directory3\n",
        "#In Terra, a zip file containing the csv file will be provided as input and will be localized\n",
        "#to the current working directory.\n",
        "\n",
        "\n",
        "#zip_file_path='/content/drive/MyDrive/result.zip'\n",
        "#!unzip $zip_file_path\n",
        "\n",
        "#csv_file_path= '/home/vamsi/Downloads/result.csv'\n",
        "#csvFilePath=csvFilePath.replace(\"gs://\", \"/cromwell_root/\")\n",
        "\n",
        "start_time = time.time()\n",
        "#cohort_df=pd.read_csv(csvFilePath, delimiter=',', encoding='utf-8')\n",
        "#cohort_df= pd.read_csv('/content/drive/MyDrive/bquxjob_7f0d87d5_187056e0dd3.csv') #two nifti files example\n",
        "cohort_df= pd.read_csv('/content/drive/MyDrive/bq-results-20230315-160529-1678896367937/bq-results-20230315-160529-1678896367937.csv')\n",
        "read_time=time.time() -start_time\n",
        "print('read in '+str(read_time)+ '  seconds')"
      ]
    },
    {
      "cell_type": "code",
      "source": [
        "#SeriesInstanceUIDs= cohort_df[\"SeriesInstanceUID\"].sample(n=10).values.tolist()\n",
        "SeriesInstanceUIDs= cohort_df[\"SeriesInstanceUID\"].values.tolist()\n",
        "SeriesInstanceUIDs=['1.2.840.113654.2.55.72420305212301150589756897436401866830', \n",
        "'1.3.6.1.4.1.14519.5.2.1.7009.9004.109620552633930603385390073216'\n",
        "]"
      ],
      "metadata": {
        "id": "UPjtDJS4JIdg"
      },
      "execution_count": 69,
      "outputs": []
    },
    {
      "cell_type": "markdown",
      "source": [
        "###Defining Functions"
      ],
      "metadata": {
        "id": "hGbSvle4RSpd"
      }
    },
    {
      "cell_type": "code",
      "source": [
        "#Creating Directories for conversion\n",
        "if converterType.lower()=='dcm2niix':\n",
        "  try:\n",
        "    shutil.rmtree('dcm2niix')\n",
        "  except OSError:\n",
        "    pass\n",
        "  os.mkdir('dcm2niix')\n",
        "else:\n",
        "  try:\n",
        "    shutil.rmtree('plastimatch')\n",
        "  except OSError:\n",
        "    pass\n",
        "  os.mkdir('plastimatch')"
      ],
      "metadata": {
        "id": "zpuo1QtbJjvW"
      },
      "execution_count": 70,
      "outputs": []
    },
    {
      "cell_type": "code",
      "source": [
        "#create directory for TotalSegmentator Output files\n",
        "try:\n",
        "  shutil.rmtree('Inference')\n",
        "except OSError:\n",
        "  pass\n",
        "os.mkdir('Inference')"
      ],
      "metadata": {
        "id": "sqeESHc7ntX8"
      },
      "execution_count": 71,
      "outputs": []
    },
    {
      "cell_type": "code",
      "source": [
        "def download_dicom_data(series_id):\n",
        "\n",
        "  \"\"\"\n",
        "  Download raw DICOM data into \"idc_data\" folder.\n",
        "  \"\"\"\n",
        "  global cohort_df\n",
        "  gs_file_path = \"s5cmd_manifest.txt\"\n",
        "  #when bigquery is used the following line could be used\n",
        "  #cohort_df = bq_client.query(selection_query).to_dataframe()\n",
        "  series_df=cohort_df[cohort_df['SeriesInstanceUID']==series_id]\n",
        "  series_df[\"s5cmdUrls\"].to_csv(gs_file_path, header = False, index = False)\n",
        "  #remove double quotes from the manifest file\n",
        "  !sed -i 's/\"//g' s5cmd_manifest.txt  \n",
        "\n",
        "  start_time = time.time()\n",
        "  print(\"Copying files from IDC buckets..\")\n",
        "\n",
        "  #!cat \n",
        "\n",
        "  !s5cmd --no-sign-request --endpoint-url https://storage.googleapis.com run s5cmd_manifest.txt  >> /dev/null\n",
        "\n",
        "  elapsed = time.time() - start_time\n",
        "  print(\"Done in %g seconds.\"%elapsed)"
      ],
      "metadata": {
        "id": "-1nH_ABkKoP2"
      },
      "execution_count": 72,
      "outputs": []
    },
    {
      "cell_type": "code",
      "source": [
        "def convert_dicom_to_nifti(series_id):\n",
        "  \n",
        "  if converterType.lower()=='dcm2niix':\n",
        "    try:\n",
        "      shutil.rmtree(f'dcm2niix/{series_id}')\n",
        "    except OSError:\n",
        "      pass\n",
        "    os.mkdir(f'dcm2niix/{series_id}')\n",
        "\n",
        "    !dcm2niix -z y -f %j_%p_%t_%s -b n -m y -o  /{curr_dir}/dcm2niix/{series_id}  /{curr_dir}/idc_data/\n",
        "  else:\n",
        "    try:\n",
        "      shutil.rmtree(f'plastimatch/{series_id}')\n",
        "    except OSError:\n",
        "      pass\n",
        "    os.mkdir(f'plastimatch/{series_id}')\n",
        "    \"\"\"\n",
        "    Make sure to check the s5cmd urls for the destination directory and \n",
        "    plastimatch input directory must be changed accordingly\n",
        "    dcm2niix, however, checks upto depth 5 to find DICOM files\n",
        "\n",
        "    \"\"\"\n",
        "    !plastimatch convert --input /{curr_dir}/idc_data/{series_id} --output-img /{curr_dir}/plastimatch/{series_id}/{series_id}.nii.gz\n",
        "\n",
        "\n",
        "  try:\n",
        "      shutil.rmtree('idc_data')\n",
        "  except OSError:\n",
        "      pass\n",
        "  os.mkdir('idc_data')"
      ],
      "metadata": {
        "id": "u2jkSpS2KvXU"
      },
      "execution_count": 73,
      "outputs": []
    },
    {
      "cell_type": "code",
      "source": [
        "def check_dicom_conversion_errors(series_id_folder_path):\n",
        "    nifti_files = os.listdir(series_id_folder_path)\n",
        "    if len(nifti_files) > 1:\n",
        "        with open('error_file.txt', 'a') as f:\n",
        "            f.write(f\"Error: More than one file in {series_id_folder_path}\\n\")\n",
        "        return True\n",
        "    else:\n",
        "        return False"
      ],
      "metadata": {
        "id": "_v_X_7XsuWY9"
      },
      "execution_count": 74,
      "outputs": []
    },
    {
      "cell_type": "code",
      "source": [
        "def inferenceTotalSegmentator(series_id):\n",
        "\n",
        "      start_time = time.time()\n",
        "      download_dicom_data(series_id)\n",
        "      dicom_download_time = time.time() - start_time      \n",
        "\n",
        "      start_time = time.time()\n",
        "      convert_dicom_to_nifti(series_id)\n",
        "      dicom_conversion_time = time.time() - start_time     \n",
        "\n",
        "\n",
        "      try:\n",
        "        shutil.rmtree(f'Inference/{series_id}')\n",
        "      except OSError:\n",
        "        pass\n",
        "      os.mkdir(f'Inference/{series_id}')\n",
        "\n",
        "      print(\"Processing series: \"+series_id)  \n",
        "\n",
        "\n",
        "      series_id_folder_path= os.path.join(curr_dir, converterType, series_id)\n",
        "      # Get the list of files in series_id_path\n",
        "      nifti_files = os.listdir(series_id_folder_path)\n",
        "      # Get the first (and only) file in the list\n",
        "      nifti_filename = nifti_files[0]\n",
        "      # Get the full path of the file\n",
        "      nifti_filename_path = os.path.join(series_id_folder_path, nifti_filename)\n",
        "      \n",
        "      if not check_dicom_conversion_errors(series_id_folder_path):\n",
        "\n",
        "        start_time = time.time()\n",
        "        !TotalSegmentator -i {nifti_filename_path} -o {curr_dir}/Inference/{series_id}/{series_id}.nii.gz --ml --fast --preview  --radiomics \n",
        "        total_segmentator_time = time.time() - start_time\n",
        "\n",
        "        start_time = time.time()     \n",
        "        !lz4 {curr_dir}/Inference/{series_id}/{series_id}.nii.gz  {curr_dir}/Inference/{series_id}/{series_id}.nii.gz.lz4\n",
        "        archiving_time = time.time() - start_time\n",
        "      else: \n",
        "        total_segmentator_time=0\n",
        "        archiving_time=0\n",
        "\n",
        "      \n",
        "      log = pd.DataFrame({'SeriesInstanceUID': [series_id]}) \n",
        "\n",
        "      log['dicom_download_time']=dicom_download_time\n",
        "      log['dicom_conversion_time']=dicom_conversion_time            \n",
        "      log['total_segmentator_time']=total_segmentator_time\n",
        "      log['archiving_time'] = archiving_time\n",
        "\n",
        "\n",
        "      !rm -r {curr_dir}/Inference/{series_id}/{series_id}.nii.gz \n",
        "      !rm -r {curr_dir}/{converterType}/{series_id}\n",
        "      global runtime_stats\n",
        "      runtime_stats = pd.concat([runtime_stats, log], ignore_index=True, axis=0)"
      ],
      "metadata": {
        "id": "10_jVVTElNZ5"
      },
      "execution_count": 75,
      "outputs": []
    },
    {
      "cell_type": "code",
      "source": [
        "class MemoryMonitor:\n",
        "    def __init__(self):\n",
        "        self.keep_measuring = True\n",
        "\n",
        "    def measure_usage(self):\n",
        "        cpu_usage = []\n",
        "        ram_usage_mb=[]\n",
        "        gpu_usage_mb=[]\n",
        "        disk_usage_all=[]\n",
        "        time_stamps = []\n",
        "        start_time = time.time()\n",
        "        while self.keep_measuring:\n",
        "            cpu = psutil.cpu_percent()\n",
        "            ram = psutil.virtual_memory()\n",
        "            disk_used= psutil.disk_usage('/').used/1024/1024/1024\n",
        "            disk_total= psutil.disk_usage('/').total/1024/1024/1024\n",
        "            ram_total_mb = psutil.virtual_memory().total / 1024 / 1024\n",
        "            ram_mb = (ram.total - ram.available) / 1024 / 1024\n",
        "\n",
        "            nvidia_smi.nvmlInit()\n",
        "            handle = nvidia_smi.nvmlDeviceGetHandleByIndex(0)\n",
        "            info = nvidia_smi.nvmlDeviceGetMemoryInfo(handle)\n",
        "            gpu_type = nvidia_smi.nvmlDeviceGetName(handle)\n",
        "            gpu_total_mb = info.total/1024/1024\n",
        "            gpu_mb = info.used/1024/1024\n",
        "            nvidia_smi.nvmlShutdown()\n",
        "\n",
        "            cpu_usage.append(cpu)\n",
        "            ram_usage_mb.append(ram_mb)\n",
        "            disk_usage_all.append(disk_used)\n",
        "            gpu_usage_mb.append(gpu_mb)\n",
        "            time_stamps.append(time.time()- start_time)\n",
        "            sleep(1)\n",
        "\n",
        "        return cpu_usage, ram_usage_mb, time_stamps, ram_total_mb, gpu_usage_mb, gpu_total_mb, gpu_type, disk_usage_all, disk_total"
      ],
      "metadata": {
        "id": "cGQ_URr1pQpj"
      },
      "execution_count": 76,
      "outputs": []
    },
    {
      "cell_type": "markdown",
      "source": [
        "###Total Segmentator"
      ],
      "metadata": {
        "id": "b_L2B-sjRf_1"
      }
    },
    {
      "cell_type": "code",
      "source": [
        "runtime_stats = pd.DataFrame(columns=['SeriesInstanceUID','total_segmentator_time','dicom_download_time','dicom_conversion_time',\n",
        "                                      'archiving_time', 'cpu_usage','ram_usage_mb', 'ram_total_mb', \n",
        "                                      'gpu_usage_mb', 'gpu_total_mb', 'gpu_type', 'disk_usage_all', 'disk_total'\n",
        "                                      ])\n",
        "if __name__ == \"__main__\":\n",
        "    for series_id in SeriesInstanceUIDs:\n",
        "    #for series_id in os.listdir(f'{curr_dir}/{converterType}'):\n",
        "        with ThreadPoolExecutor() as executor:\n",
        "            monitor = MemoryMonitor()\n",
        "            mem_thread = executor.submit(monitor.measure_usage)\n",
        "            try:\n",
        "                proc_thread = executor.submit(inferenceTotalSegmentator, series_id)\n",
        "                proc_thread.result()\n",
        "            finally:\n",
        "                monitor.keep_measuring = False\n",
        "                cpu_usage, ram_usage_mb, time_stamps, ram_total_mb, gpu_usage_mb, gpu_total_mb, gpu_type, disk_usage_all, disk_total= mem_thread.result()\n",
        "                \n",
        "                cpu_idx = runtime_stats.index[runtime_stats['SeriesInstanceUID'] == series_id][0]\n",
        "                runtime_stats.iloc[cpu_idx, runtime_stats.columns.get_loc('cpu_usage')] = [[cpu_usage]]\n",
        "\n",
        "                ram_usage_mb_idx = runtime_stats.index[runtime_stats['SeriesInstanceUID'] == series_id][0]\n",
        "                runtime_stats.iloc[ram_usage_mb_idx, runtime_stats.columns.get_loc('ram_usage_mb')] = [[ram_usage_mb]]\n",
        "                \n",
        "                ram_total_mb_idx = runtime_stats.index[runtime_stats['SeriesInstanceUID'] == series_id][0]\n",
        "                runtime_stats.iloc[ram_total_mb_idx, runtime_stats.columns.get_loc('ram_total_mb')] = [[ram_total_mb]]\n",
        "\n",
        "                gpu_total_mb_idx = runtime_stats.index[runtime_stats['SeriesInstanceUID'] == series_id][0]\n",
        "                runtime_stats.iloc[gpu_total_mb_idx, runtime_stats.columns.get_loc('gpu_total_mb')] = [[gpu_total_mb]]\n",
        "\n",
        "                gpu_usage_mb_idx = runtime_stats.index[runtime_stats['SeriesInstanceUID'] == series_id][0]\n",
        "                runtime_stats.iloc[gpu_usage_mb_idx, runtime_stats.columns.get_loc('gpu_usage_mb')] = [[gpu_usage_mb]]\n",
        "\n",
        "                disk_usage_gb_idx = runtime_stats.index[runtime_stats['SeriesInstanceUID'] == series_id][0]\n",
        "                runtime_stats.iloc[disk_usage_gb_idx, runtime_stats.columns.get_loc('disk_usage_all')] = [[disk_usage_all]]\n",
        "\n",
        "                runtime_stats['gpu_type']=gpu_type\n",
        "                runtime_stats['disk_total']=disk_total    \n",
        "\n",
        "                fig, ((ax1, ax2), (ax3, ax4)) = plt.subplots(2,2, figsize=(8, 6)) \n",
        "\n",
        "                ax1.plot(time_stamps, cpu_usage)\n",
        "                ax1.set_ylim(0, 100)\n",
        "                ax1.set_xlabel('Time (s)')\n",
        "                ax1.set_ylabel('CPU usage (%)')\n",
        "\n",
        "                ax2.plot(time_stamps, ram_usage_mb)\n",
        "                ax2.set_ylim(0, ram_total_mb)\n",
        "                ax2.set_xlabel('Time (s)')\n",
        "                ax2.set_ylabel('Memory usage (MB)')\n",
        "\n",
        "                ax3.plot(time_stamps, gpu_usage_mb)\n",
        "                ax3.set_ylim(0, gpu_total_mb)\n",
        "                ax3.set_xlabel('Time (s)')\n",
        "                ax3.set_ylabel('GPU Memory usage (MB)')\n",
        "\n",
        "                ax4.plot(time_stamps, disk_usage_all)\n",
        "                ax4.set_ylim(0, disk_total)\n",
        "                ax4.set_xlabel('Time (s)')\n",
        "                ax4.set_ylabel('Disk usage (GB)')\n",
        "                plt.show()"
      ],
      "metadata": {
        "colab": {
          "base_uri": "https://localhost:8080/",
          "height": 1000
        },
        "id": "rZfAhcQopl59",
        "outputId": "030db2d4-4156-4040-ce7e-9390cfad0b62"
      },
      "execution_count": 77,
      "outputs": [
        {
          "output_type": "stream",
          "name": "stdout",
          "text": [
            "Copying files from IDC buckets..\n",
            "Done in 0.421237 seconds.\n",
            "Setting PIH from RDD\n",
            "PIH is:\n",
            "Origin = -152.3672 -339.3672 -362.7500\n",
            "Size = 256 256 51\n",
            "Spacing = 1.2656 1.2656 6.2539\n",
            "Direction = 1.0000 0.0000 0.0000 0.0000 1.0000 0.0000 0.0000 0.0000 1.0000\n",
            "Rt_study_warp: Saving m_img (//content/plastimatch/1.2.840.113654.2.55.72420305212301150589756897436401866830/1.2.840.113654.2.55.72420305212301150589756897436401866830.nii.gz)\n",
            "Trying to write image to //content/plastimatch/1.2.840.113654.2.55.72420305212301150589756897436401866830/1.2.840.113654.2.55.72420305212301150589756897436401866830.nii.gz\n",
            "Rt_study_warp: warp and save ss.\n",
            "Finished!\n",
            "Processing series: 1.2.840.113654.2.55.72420305212301150589756897436401866830\n",
            "\n",
            "If you use this tool please cite: https://doi.org/10.48550/arXiv.2208.05868\n",
            "\n",
            "Using 'fast' option: resampling to lower resolution (3mm)\n",
            "Resampling...\n",
            "  Resampled in 1.33s\n",
            "Predicting...\n",
            "  Predicted in 10.26s\n",
            "Generating preview...\n",
            "  Generated in 3.83s\n",
            "Resampling...\n",
            "Saving segmentations...\n",
            "  Saved in 0.04s\n",
            "Calculating radiomics...\n",
            "0it [00:00, ?it/s]\n",
            "  calculated in 0.08s\n",
            "Compressed 97339 bytes into 89425 bytes ==> 91.87%\n"
          ]
        },
        {
          "output_type": "display_data",
          "data": {
            "text/plain": [
              "<Figure size 800x600 with 4 Axes>"
            ],
            "image/png": "[encoded data removed]"
          },
          "metadata": {}
        },
        {
          "output_type": "stream",
          "name": "stdout",
          "text": [
            "Copying files from IDC buckets..\n",
            "Done in 1.55882 seconds.\n",
            "Setting PIH from RDD\n",
            "PIH is:\n",
            "Origin = -157.3000 -150.0000 -365.6950\n",
            "Size = 512 512 425\n",
            "Spacing = 0.5859 0.5859 0.7250\n",
            "Direction = 1.0000 0.0000 0.0000 0.0000 1.0000 0.0000 0.0000 0.0000 1.0000\n",
            "Rt_study_warp: Saving m_img (//content/plastimatch/1.3.6.1.4.1.14519.5.2.1.7009.9004.109620552633930603385390073216/1.3.6.1.4.1.14519.5.2.1.7009.9004.109620552633930603385390073216.nii.gz)\n",
            "Trying to write image to //content/plastimatch/1.3.6.1.4.1.14519.5.2.1.7009.9004.109620552633930603385390073216/1.3.6.1.4.1.14519.5.2.1.7009.9004.109620552633930603385390073216.nii.gz\n",
            "Rt_study_warp: warp and save ss.\n",
            "Finished!\n",
            "Processing series: 1.3.6.1.4.1.14519.5.2.1.7009.9004.109620552633930603385390073216\n",
            "\n",
            "If you use this tool please cite: https://doi.org/10.48550/arXiv.2208.05868\n",
            "\n",
            "Using 'fast' option: resampling to lower resolution (3mm)\n",
            "Resampling...\n",
            "  Resampled in 6.61s\n",
            "Predicting...\n",
            "  Predicted in 8.35s\n",
            "Generating preview...\n",
            "  Generated in 3.90s\n",
            "Resampling...\n",
            "Saving segmentations...\n",
            "  Saved in 1.67s\n",
            "Calculating radiomics...\n",
            "0it [00:00, ?it/s]\n",
            "  calculated in 0.08s\n",
            "Compressed 2195117 bytes into 1618291 bytes ==> 73.72%\n"
          ]
        },
        {
          "output_type": "display_data",
          "data": {
            "text/plain": [
              "<Figure size 800x600 with 4 Axes>"
            ],
            "image/png": "[encoded data removed]"
          },
          "metadata": {}
        }
      ]
    },
    {
      "cell_type": "markdown",
      "source": [
        "###Compressing Output Files"
      ],
      "metadata": {
        "id": "KzCG2YATRtVH"
      }
    },
    {
      "cell_type": "code",
      "source": [
        "start_time = time.time()\n",
        "try:\n",
        "  os.remove('inferenceNiftiFiles.tar.lz4')\n",
        "except OSError:\n",
        "  pass\n",
        "!tar cvf - Inference | lz4 > inferenceNiftiFiles.tar.lz4\n",
        "output_file_archiving_time = time.time() - start_time\n"
      ],
      "metadata": {
        "colab": {
          "base_uri": "https://localhost:8080/"
        },
        "id": "bxuuD6yqdmzF",
        "outputId": "d2c6ff7d-095d-4e40-f9e5-ec7bbd3d5864"
      },
      "execution_count": 78,
      "outputs": [
        {
          "output_type": "stream",
          "name": "stdout",
          "text": [
            "Inference/\n",
            "Inference/1.2.840.113654.2.55.72420305212301150589756897436401866830/\n",
            "Inference/1.2.840.113654.2.55.72420305212301150589756897436401866830/1.2.840.113654.2.55.72420305212301150589756897436401866830.nii.gz.lz4\n",
            "Inference/1.2.840.113654.2.55.72420305212301150589756897436401866830/statistics_radiomics.json\n",
            "Inference/1.2.840.113654.2.55.72420305212301150589756897436401866830/preview_total.png\n",
            "Inference/1.3.6.1.4.1.14519.5.2.1.7009.9004.109620552633930603385390073216/\n",
            "Inference/1.3.6.1.4.1.14519.5.2.1.7009.9004.109620552633930603385390073216/1.3.6.1.4.1.14519.5.2.1.7009.9004.109620552633930603385390073216.nii.gz.lz4\n",
            "Inference/1.3.6.1.4.1.14519.5.2.1.7009.9004.109620552633930603385390073216/statistics_radiomics.json\n",
            "Inference/1.3.6.1.4.1.14519.5.2.1.7009.9004.109620552633930603385390073216/preview_total.png\n"
          ]
        }
      ]
    },
    {
      "cell_type": "markdown",
      "source": [
        "###Utilization Metrics"
      ],
      "metadata": {
        "id": "n4pMpClKRzEe"
      }
    },
    {
      "cell_type": "code",
      "source": [
        "runtime_stats.to_csv('runtime.csv')\n",
        "runtime_stats['output_file_archiving_time']=output_file_archiving_time\n",
        "try:\n",
        "  os.remove('inferenceUsageMetrics.lz4')\n",
        "except OSError:\n",
        "  pass\n",
        "!lz4 {curr_dir}/runtime.csv inferenceUsageMetrics.lz4\n",
        "runtime_stats"
      ],
      "metadata": {
        "colab": {
          "base_uri": "https://localhost:8080/",
          "height": 350
        },
        "id": "Lc7Hep0lkJWd",
        "outputId": "4cc525c4-2d12-438a-c5e2-1866f78c1071"
      },
      "execution_count": 79,
      "outputs": [
        {
          "output_type": "stream",
          "name": "stdout",
          "text": [
            "\r                                                                               \rCompressed 6305 bytes into 3036 bytes ==> 48.15%\n"
          ]
        },
        {
          "output_type": "execute_result",
          "data": {
            "text/plain": [
              "                                   SeriesInstanceUID  total_segmentator_time  \\\n",
              "0  1.2.840.113654.2.55.72420305212301150589756897...               24.028547   \n",
              "1  1.3.6.1.4.1.14519.5.2.1.7009.9004.109620552633...               31.442002   \n",
              "\n",
              "   dicom_download_time  dicom_conversion_time  archiving_time  \\\n",
              "0             0.543084               3.555178        0.116819   \n",
              "1             1.684333              51.159106        0.117589   \n",
              "\n",
              "                                           cpu_usage  \\\n",
              "0  [[[17.5, 44.1, 77.7, 100.0, 99.5, 100.0, 100.0...   \n",
              "1  [[[22.9, 89.3, 96.6, 100.0, 100.0, 100.0, 55.4...   \n",
              "\n",
              "                                        ram_usage_mb    ram_total_mb  \\\n",
              "0  [[[1126.0625, 1135.67578125, 1180.88671875, 11...  [12985.546875]   \n",
              "1  [[[1366.98828125, 1449.4296875, 1440.71875, 18...  [12985.546875]   \n",
              "\n",
              "                                        gpu_usage_mb gpu_total_mb  \\\n",
              "0  [[[258.3125, 258.3125, 258.3125, 258.3125, 258...    [15360.0]   \n",
              "1  [[[258.3125, 258.3125, 258.3125, 258.3125, 258...    [15360.0]   \n",
              "\n",
              "      gpu_type                                     disk_usage_all  disk_total  \\\n",
              "0  b'Tesla T4'  [[[26.811386108398438, 26.817821502685547, 26....   78.189842   \n",
              "1  b'Tesla T4'  [[[26.811710357666016, 26.93346405029297, 27.0...   78.189842   \n",
              "\n",
              "   output_file_archiving_time  \n",
              "0                    0.120856  \n",
              "1                    0.120856  "
            ],
            "text/html": [
              "\n",
              "  <div id=\"df-eab7f8c4-3af3-42fb-beec-02bd812010de\">\n",
              "    <div class=\"colab-df-container\">\n",
              "      <div>\n",
              "<style scoped>\n",
              "    .dataframe tbody tr th:only-of-type {\n",
              "        vertical-align: middle;\n",
              "    }\n",
              "\n",
              "    .dataframe tbody tr th {\n",
              "        vertical-align: top;\n",
              "    }\n",
              "\n",
              "    .dataframe thead th {\n",
              "        text-align: right;\n",
              "    }\n",
              "</style>\n",
              "<table border=\"1\" class=\"dataframe\">\n",
              "  <thead>\n",
              "    <tr style=\"text-align: right;\">\n",
              "      <th></th>\n",
              "      <th>SeriesInstanceUID</th>\n",
              "      <th>total_segmentator_time</th>\n",
              "      <th>dicom_download_time</th>\n",
              "      <th>dicom_conversion_time</th>\n",
              "      <th>archiving_time</th>\n",
              "      <th>cpu_usage</th>\n",
              "      <th>ram_usage_mb</th>\n",
              "      <th>ram_total_mb</th>\n",
              "      <th>gpu_usage_mb</th>\n",
              "      <th>gpu_total_mb</th>\n",
              "      <th>gpu_type</th>\n",
              "      <th>disk_usage_all</th>\n",
              "      <th>disk_total</th>\n",
              "      <th>output_file_archiving_time</th>\n",
              "    </tr>\n",
              "  </thead>\n",
              "  <tbody>\n",
              "    <tr>\n",
              "      <th>0</th>\n",
              "      <td>1.2.840.113654.2.55.72420305212301150589756897...</td>\n",
              "      <td>24.028547</td>\n",
              "      <td>0.543084</td>\n",
              "      <td>3.555178</td>\n",
              "      <td>0.116819</td>\n",
              "      <td>[[[17.5, 44.1, 77.7, 100.0, 99.5, 100.0, 100.0...</td>\n",
              "      <td>[[[1126.0625, 1135.67578125, 1180.88671875, 11...</td>\n",
              "      <td>[12985.546875]</td>\n",
              "      <td>[[[258.3125, 258.3125, 258.3125, 258.3125, 258...</td>\n",
              "      <td>[15360.0]</td>\n",
              "      <td>b'Tesla T4'</td>\n",
              "      <td>[[[26.811386108398438, 26.817821502685547, 26....</td>\n",
              "      <td>78.189842</td>\n",
              "      <td>0.120856</td>\n",
              "    </tr>\n",
              "    <tr>\n",
              "      <th>1</th>\n",
              "      <td>1.3.6.1.4.1.14519.5.2.1.7009.9004.109620552633...</td>\n",
              "      <td>31.442002</td>\n",
              "      <td>1.684333</td>\n",
              "      <td>51.159106</td>\n",
              "      <td>0.117589</td>\n",
              "      <td>[[[22.9, 89.3, 96.6, 100.0, 100.0, 100.0, 55.4...</td>\n",
              "      <td>[[[1366.98828125, 1449.4296875, 1440.71875, 18...</td>\n",
              "      <td>[12985.546875]</td>\n",
              "      <td>[[[258.3125, 258.3125, 258.3125, 258.3125, 258...</td>\n",
              "      <td>[15360.0]</td>\n",
              "      <td>b'Tesla T4'</td>\n",
              "      <td>[[[26.811710357666016, 26.93346405029297, 27.0...</td>\n",
              "      <td>78.189842</td>\n",
              "      <td>0.120856</td>\n",
              "    </tr>\n",
              "  </tbody>\n",
              "</table>\n",
              "</div>\n",
              "      <button class=\"colab-df-convert\" onclick=\"convertToInteractive('df-eab7f8c4-3af3-42fb-beec-02bd812010de')\"\n",
              "              title=\"Convert this dataframe to an interactive table.\"\n",
              "              style=\"display:none;\">\n",
              "        \n",
              "  <svg xmlns=\"http://www.w3.org/2000/svg\" height=\"24px\"viewBox=\"0 0 24 24\"\n",
              "       width=\"24px\">\n",
              "    <path d=\"M0 0h24v24H0V0z\" fill=\"none\"/>\n",
              "    <path d=\"M18.56 5.44l.94 2.06.94-2.06 2.06-.94-2.06-.94-.94-2.06-.94 2.06-2.06.94zm-11 1L8.5 8.5l.94-2.06 2.06-.94-2.06-.94L8.5 2.5l-.94 2.06-2.06.94zm10 10l.94 2.06.94-2.06 2.06-.94-2.06-.94-.94-2.06-.94 2.06-2.06.94z\"/><path d=\"M17.41 7.96l-1.37-1.37c-.4-.4-.92-.59-1.43-.59-.52 0-1.04.2-1.43.59L10.3 9.45l-7.72 7.72c-.78.78-.78 2.05 0 2.83L4 21.41c.39.39.9.59 1.41.59.51 0 1.02-.2 1.41-.59l7.78-7.78 2.81-2.81c.8-.78.8-2.07 0-2.86zM5.41 20L4 18.59l7.72-7.72 1.47 1.35L5.41 20z\"/>\n",
              "  </svg>\n",
              "      </button>\n",
              "      \n",
              "  <style>\n",
              "    .colab-df-container {\n",
              "      display:flex;\n",
              "      flex-wrap:wrap;\n",
              "      gap: 12px;\n",
              "    }\n",
              "\n",
              "    .colab-df-convert {\n",
              "      background-color: #E8F0FE;\n",
              "      border: none;\n",
              "      border-radius: 50%;\n",
              "      cursor: pointer;\n",
              "      display: none;\n",
              "      fill: #1967D2;\n",
              "      height: 32px;\n",
              "      padding: 0 0 0 0;\n",
              "      width: 32px;\n",
              "    }\n",
              "\n",
              "    .colab-df-convert:hover {\n",
              "      background-color: #E2EBFA;\n",
              "      box-shadow: 0px 1px 2px rgba(60, 64, 67, 0.3), 0px 1px 3px 1px rgba(60, 64, 67, 0.15);\n",
              "      fill: #174EA6;\n",
              "    }\n",
              "\n",
              "    [theme=dark] .colab-df-convert {\n",
              "      background-color: #3B4455;\n",
              "      fill: #D2E3FC;\n",
              "    }\n",
              "\n",
              "    [theme=dark] .colab-df-convert:hover {\n",
              "      background-color: #434B5C;\n",
              "      box-shadow: 0px 1px 3px 1px rgba(0, 0, 0, 0.15);\n",
              "      filter: drop-shadow(0px 1px 2px rgba(0, 0, 0, 0.3));\n",
              "      fill: #FFFFFF;\n",
              "    }\n",
              "  </style>\n",
              "\n",
              "      <script>\n",
              "        const buttonEl =\n",
              "          document.querySelector('#df-eab7f8c4-3af3-42fb-beec-02bd812010de button.colab-df-convert');\n",
              "        buttonEl.style.display =\n",
              "          google.colab.kernel.accessAllowed ? 'block' : 'none';\n",
              "\n",
              "        async function convertToInteractive(key) {\n",
              "          const element = document.querySelector('#df-eab7f8c4-3af3-42fb-beec-02bd812010de');\n",
              "          const dataTable =\n",
              "            await google.colab.kernel.invokeFunction('convertToInteractive',\n",
              "                                                     [key], {});\n",
              "          if (!dataTable) return;\n",
              "\n",
              "          const docLinkHtml = 'Like what you see? Visit the ' +\n",
              "            '<a target=\"_blank\" href=https://colab.research.google.com/notebooks/data_table.ipynb>data table notebook</a>'\n",
              "            + ' to learn more about interactive tables.';\n",
              "          element.innerHTML = '';\n",
              "          dataTable['output_type'] = 'display_data';\n",
              "          await google.colab.output.renderOutput(dataTable, element);\n",
              "          const docLink = document.createElement('div');\n",
              "          docLink.innerHTML = docLinkHtml;\n",
              "          element.appendChild(docLink);\n",
              "        }\n",
              "      </script>\n",
              "    </div>\n",
              "  </div>\n",
              "  "
            ]
          },
          "metadata": {},
          "execution_count": 79
        }
      ]
    }
  ]
}