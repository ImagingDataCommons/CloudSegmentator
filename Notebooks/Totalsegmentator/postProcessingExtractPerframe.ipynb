{
  "cells": [
    {
      "cell_type": "markdown",
      "metadata": {
        "colab_type": "text",
        "id": "view-in-github"
      },
      "source": [
        "<a href=\"https://colab.research.google.com/github/ImagingDataCommons/Cloud-Resources-Workflows/blob/notebooks2/Notebooks/Totalsegmentator/postProcessingExtractPerframe.ipynb\" target=\"_parent\"><img src=\"https://colab.research.google.com/assets/colab-badge.svg\" alt=\"Open In Colab\"/></a>"
      ]
    },
    {
      "cell_type": "markdown",
      "id": "kdOyoySwehlv",
      "metadata": {
        "id": "kdOyoySwehlv"
      },
      "source": [
        "##**This notebook extracts the DICOM attribute PerFrameFunctionalGroupsSequence from DICOM SEG Objects. It takes destinations of the SEG files, downloads them, decompress, and extract the DICOM attribute and flattens it**"
      ]
    },
    {
      "cell_type": "markdown",
      "id": "OWJEBSRsjqa6",
      "metadata": {
        "id": "OWJEBSRsjqa6"
      },
      "source": [
        "###**Note: Since we cannot create service accounts on Terra GCP project, files are first copied (only possible using the credentials when logged in interactively with gcloud auth login) from Terra's bucket to another bucket in a project where we can create service accounts.**"
      ]
    },
    {
      "cell_type": "markdown",
      "id": "-LdyuHrrPigD",
      "metadata": {
        "id": "-LdyuHrrPigD"
      },
      "source": [
        "###**Installing Packages**"
      ]
    },
    {
      "cell_type": "code",
      "execution_count": null,
      "id": "B5KuCCFhOgpA",
      "metadata": {
        "id": "B5KuCCFhOgpA"
      },
      "outputs": [],
      "source": [
        "# %%capture\n",
        "# !sudo apt-get update \\\n",
        "#   && apt-get install -y --no-install-recommends \\\n",
        "#   lz4"
      ]
    },
    {
      "cell_type": "code",
      "execution_count": null,
      "id": "B0TrOX90OhV_",
      "metadata": {
        "id": "B0TrOX90OhV_"
      },
      "outputs": [],
      "source": [
        "# %%capture\n",
        "# !pip install pydicom \\\n",
        "#    google-cloud-bigquery \\\n",
        "#    pyarrow \\\n",
        "#    db_dtypes"
      ]
    },
    {
      "cell_type": "markdown",
      "id": "73LFRISZPn6Q",
      "metadata": {
        "id": "73LFRISZPn6Q"
      },
      "source": [
        "###**Importing Packages**"
      ]
    },
    {
      "cell_type": "code",
      "execution_count": null,
      "id": "db4585bb-9bfb-4de3-882a-c7454c7ec3af",
      "metadata": {
        "id": "db4585bb-9bfb-4de3-882a-c7454c7ec3af"
      },
      "outputs": [],
      "source": [
        "import os\n",
        "import shutil\n",
        "import pandas as pd\n",
        "import pydicom\n",
        "import traceback\n",
        "import logging\n",
        "from tqdm import tqdm\n",
        "import subprocess\n",
        "import pydicom\n",
        "from tqdm import tqdm"
      ]
    },
    {
      "cell_type": "markdown",
      "id": "Clrt8j70Pb5a",
      "metadata": {
        "id": "Clrt8j70Pb5a"
      },
      "source": [
        "###**Parameters for papermill**"
      ]
    },
    {
      "cell_type": "code",
      "execution_count": null,
      "id": "G0ttC6_KPhQ6",
      "metadata": {
        "id": "G0ttC6_KPhQ6",
        "tags": [
          "parameters"
        ]
      },
      "outputs": [],
      "source": [
        "segFilesCsv=''\n",
        "jsonServiceAccountFile=''"
      ]
    },
    {
      "cell_type": "markdown",
      "id": "nbzivnkRnb_B",
      "metadata": {
        "id": "nbzivnkRnb_B"
      },
      "source": [
        "###**Local Testing**                                                 \n",
        "While testing locally uncomment the below cell but comment out all cells after that"
      ]
    },
    {
      "cell_type": "code",
      "execution_count": null,
      "id": "surBU_pLnf4u",
      "metadata": {
        "colab": {
          "base_uri": "https://localhost:8080/"
        },
        "id": "surBU_pLnf4u",
        "outputId": "a5197c4b-78b4-4d9c-c6cf-4281bfddd549"
      },
      "outputs": [],
      "source": [
        "# !wget -q https://github.com/ImagingDataCommons/Cloud-Resources-Workflows/raw/notebooks/sampleManifests/dicomsegAndRadiomicsSR_DICOMsegFiles.tar.lz4\n",
        "# combined_data = []\n",
        "# try:\n",
        "#         try:\n",
        "#             shutil.rmtree('itkimage2segimage')\n",
        "#             shutil.rmtree('decompressedSegmentationsDICOM')\n",
        "#         except OSError:\n",
        "#             pass\n",
        "\n",
        "#         os.mkdir('decompressedSegmentationsDICOM')\n",
        "#         # Download and process the data\n",
        "#         try:\n",
        "#             # Download and decompress data\n",
        "#             #!gsutil cp {url} . > /dev/null 2>&1\n",
        "#             !lz4 -d --rm dicomsegAndRadiomicsSR_DICOMsegFiles.tar.lz4 -c | tar --strip-components=1 -xvf - > /dev/null 2>&1\n",
        "#             !find ./itkimage2segimage -name '*.dcm.lz4' -exec mv -t decompressedSegmentationsDICOM {} + > /dev/null 2>&1\n",
        "#             !lz4 -d -m --rm \"decompressedSegmentationsDICOM\"/*.lz4 > /dev/null 2>&1\n",
        "#             print('files successfully decompressed')\n",
        "#         except Exception as download_error:\n",
        "#             logging.error('Error during download and decompression: %s', str(download_error))\n",
        "#             #continue  # Skip this URL and continue to the next\n",
        "\n",
        "#         # Find all series IDs and add them to the combined_data list\n",
        "#         series_ids = [filename.split('_')[0] for filename in os.listdir('decompressedSegmentationsDICOM')]\n",
        "\n",
        "#         for series_id in series_ids:\n",
        "#             pffgs = pydicom.dcmread(f'decompressedSegmentationsDICOM/{series_id}', specific_tags=[\"ReferencedSeriesSequence\",\"PerFrameFunctionalGroupsSequence\"], stop_before_pixels=True)\n",
        "#             referencedSeriesInstanceUID = pffgs.ReferencedSeriesSequence[0].SeriesInstanceUID\n",
        "#             data = []\n",
        "\n",
        "#             # Extract data from Per-frame Functional Groups Sequence\n",
        "#             if \"PerFrameFunctionalGroupsSequence\" in pffgs:\n",
        "#                 for item in pffgs.PerFrameFunctionalGroupsSequence:\n",
        "#                     frame_data = {\n",
        "#                         'ReferencedSeriesSequence_SeriesInstanceUID': referencedSeriesInstanceUID,\n",
        "#                         'FrameContentSequence_DimensionIndexValues': [str(s) for s in list(item.FrameContentSequence[0].DimensionIndexValues)],\n",
        "#                         'PlanePositionSequence_ImagePositionPatient': [str(s) for s in list(item.PlanePositionSequence[0].ImagePositionPatient)],\n",
        "#                         'SegmentIdentificationSequence_ReferencedSegmentNumber': item.SegmentIdentificationSequence[0].ReferencedSegmentNumber\n",
        "#                     }\n",
        "\n",
        "#                     # Extract attributes from Derivation Image Sequence\n",
        "#                     derivation_image_sequence = item.DerivationImageSequence\n",
        "#                     if derivation_image_sequence:\n",
        "#                         source_image_sequence = derivation_image_sequence[0].SourceImageSequence\n",
        "#                         if source_image_sequence:\n",
        "#                             frame_data['DerivationImageSequence_SourceImageSequence_ReferencedSOPClassUID'] = source_image_sequence[0].ReferencedSOPClassUID\n",
        "#                             frame_data['DerivationImageSequence_SourceImageSequence_ReferencedSOPInstanceUID'] = source_image_sequence[0].ReferencedSOPInstanceUID\n",
        "#                             purpose_of_reference_code_sequence = source_image_sequence[0].PurposeOfReferenceCodeSequence\n",
        "#                             if purpose_of_reference_code_sequence:\n",
        "#                                 frame_data['DerivationImageSequence_SourceImageSequence_PurposeOfReferenceCodeSequence_CodeValue'] = purpose_of_reference_code_sequence[0].CodeValue\n",
        "#                                 frame_data['DerivationImageSequence_SourceImageSequence_PurposeOfReferenceCodeSequence_CodingSchemeDesignator'] = purpose_of_reference_code_sequence[0].CodingSchemeDesignator\n",
        "#                                 frame_data['DerivationImageSequence_SourceImageSequence_PurposeOfReferenceCodeSequence_CodeMeaning'] = purpose_of_reference_code_sequence[0].CodeMeaning\n",
        "\n",
        "#                     # Extract attributes from Derivation Code Sequence\n",
        "#                     derivation_code_sequence = derivation_image_sequence[0].DerivationCodeSequence\n",
        "#                     if derivation_code_sequence:\n",
        "#                         frame_data['DerivationImageSequence_DerivationCodeSequence_CodeValue'] = derivation_code_sequence[0].CodeValue\n",
        "#                         frame_data['DerivationImageSequence_DerivationCodeSequence_CodingSchemeDesignator'] = derivation_code_sequence[0].CodingSchemeDesignator\n",
        "#                         frame_data['DerivationImageSequence_DerivationCodeSequence_CodeMeaning'] = derivation_code_sequence[0].CodeMeaning\n",
        "\n",
        "#                     data.append(frame_data)\n",
        "\n",
        "#             # Add data from this series to the combined_data list\n",
        "#             combined_data.extend(data)\n",
        "\n",
        "# except Exception as e:\n",
        "#     logging.error('An error occurred: %s', str(e))\n",
        "\n",
        "# finally:\n",
        "#     # Create a DataFrame from the combined_data list\n",
        "#     df = pd.DataFrame(combined_data)\n",
        "\n",
        "#     # Generate a single CSV file for all the data\n",
        "#     csv_filename = 'perFrameFunctionalGroupSequence.csv'\n",
        "#     df.to_csv(csv_filename, index=False)\n",
        "#     !lz4 --rm 'perFrameFunctionalGroupSequence.csv' 'perFrameFunctionalGroupSequence.csv.lz4'\n",
        "\n",
        "#     logging.info('Processing complete.')"
      ]
    },
    {
      "cell_type": "markdown",
      "id": "vecx0peulm-I",
      "metadata": {
        "id": "vecx0peulm-I"
      },
      "source": [
        "###**Authenticate with service account so we can download files from a non Terra bucket**"
      ]
    },
    {
      "cell_type": "code",
      "execution_count": null,
      "id": "KaMp4d_POUR7",
      "metadata": {
        "id": "KaMp4d_POUR7"
      },
      "outputs": [],
      "source": [
        "!gcloud auth activate-service-account --key-file={jsonServiceAccountFile}"
      ]
    },
    {
      "cell_type": "code",
      "execution_count": null,
      "id": "Kgt7OeFzP1BX",
      "metadata": {
        "id": "Kgt7OeFzP1BX"
      },
      "outputs": [],
      "source": [
        "data= pd.read_csv(segFilesCsv)\n",
        "data"
      ]
    },
    {
      "cell_type": "markdown",
      "id": "aAdNsOPal8Cv",
      "metadata": {
        "id": "aAdNsOPal8Cv"
      },
      "source": [
        "###**Extract PerFrameFunctionalGroupsSequence**"
      ]
    },
    {
      "cell_type": "code",
      "execution_count": null,
      "id": "44f4509f-6ea7-453a-8f55-e056c3eb817e",
      "metadata": {
        "id": "44f4509f-6ea7-453a-8f55-e056c3eb817e"
      },
      "outputs": [],
      "source": [
        "# Initialize logging\n",
        "logging.basicConfig(filename=\"console_output.txt\", level=logging.INFO)\n",
        "\n",
        "# Create an output directory to store CSV\n",
        "output_dir = 'output'\n",
        "os.makedirs(output_dir, exist_ok=True)\n",
        "\n",
        "seg_download_urls = data['new_destination'].to_list()"
      ]
    },
    {
      "cell_type": "code",
      "execution_count": null,
      "id": "fFg4Vpa_gwuv",
      "metadata": {
        "id": "fFg4Vpa_gwuv"
      },
      "outputs": [],
      "source": [
        "# Initialize an empty list to store data from all URLs\n",
        "combined_data = []\n",
        "\n",
        "try:\n",
        "    for url in tqdm(seg_download_urls):\n",
        "        logging.info('Processing URL: %s', url)\n",
        "\n",
        "        # Clean up previous data if necessary\n",
        "        try:\n",
        "            shutil.rmtree('itkimage2segimage')\n",
        "            shutil.rmtree('decompressedSegmentationsDICOM')\n",
        "        except OSError:\n",
        "            pass\n",
        "\n",
        "        os.mkdir('decompressedSegmentationsDICOM')\n",
        "        # Download and process the data\n",
        "        try:\n",
        "            # Download and decompress data\n",
        "            !gsutil cp {url} . > /dev/null 2>&1\n",
        "            !lz4 -d --rm dicomsegAndRadiomicsSR_DICOMsegFiles.tar.lz4 -c | tar --strip-components=1 -xvf - > /dev/null 2>&1\n",
        "            !find ./itkimage2segimage -name '*.dcm.lz4' -exec mv -t decompressedSegmentationsDICOM {} + > /dev/null 2>&1\n",
        "            !lz4 -d -m --rm \"decompressedSegmentationsDICOM\"/*.lz4 > /dev/null 2>&1\n",
        "            print('files successfully decompressed')\n",
        "        except Exception as download_error:\n",
        "            logging.error('Error during download and decompression: %s', str(download_error))\n",
        "            continue  # Skip this URL and continue to the next\n",
        "\n",
        "        # Find all series IDs and add them to the combined_data list\n",
        "        series_ids = [filename.split('_')[0] for filename in os.listdir('decompressedSegmentationsDICOM')]\n",
        "\n",
        "        for series_id in series_ids:\n",
        "            pffgs = pydicom.dcmread(f'decompressedSegmentationsDICOM/{series_id}', specific_tags=[\"ReferencedSeriesSequence\",\"PerFrameFunctionalGroupsSequence\"], stop_before_pixels=True)\n",
        "            referencedSeriesInstanceUID = pffgs.ReferencedSeriesSequence[0].SeriesInstanceUID\n",
        "            data = []\n",
        "\n",
        "            # Extract data from Per-frame Functional Groups Sequence\n",
        "            if \"PerFrameFunctionalGroupsSequence\" in pffgs:\n",
        "                for item in pffgs.PerFrameFunctionalGroupsSequence:\n",
        "                    frame_data = {\n",
        "                        'ReferencedSeriesSequence_SeriesInstanceUID': referencedSeriesInstanceUID,\n",
        "                        'FrameContentSequence_DimensionIndexValues': [str(s) for s in list(item.FrameContentSequence[0].DimensionIndexValues)],\n",
        "                        'PlanePositionSequence_ImagePositionPatient': [str(s) for s in list(item.PlanePositionSequence[0].ImagePositionPatient)],\n",
        "                        'SegmentIdentificationSequence_ReferencedSegmentNumber': item.SegmentIdentificationSequence[0].ReferencedSegmentNumber\n",
        "                    }\n",
        "\n",
        "                    # Extract attributes from Derivation Image Sequence\n",
        "                    derivation_image_sequence = item.DerivationImageSequence\n",
        "                    if derivation_image_sequence:\n",
        "                        source_image_sequence = derivation_image_sequence[0].SourceImageSequence\n",
        "                        if source_image_sequence:\n",
        "                            frame_data['DerivationImageSequence_SourceImageSequence_ReferencedSOPClassUID'] = source_image_sequence[0].ReferencedSOPClassUID\n",
        "                            frame_data['DerivationImageSequence_SourceImageSequence_ReferencedSOPInstanceUID'] = source_image_sequence[0].ReferencedSOPInstanceUID\n",
        "                            purpose_of_reference_code_sequence = source_image_sequence[0].PurposeOfReferenceCodeSequence\n",
        "                            if purpose_of_reference_code_sequence:\n",
        "                                frame_data['DerivationImageSequence_SourceImageSequence_PurposeOfReferenceCodeSequence_CodeValue'] = purpose_of_reference_code_sequence[0].CodeValue\n",
        "                                frame_data['DerivationImageSequence_SourceImageSequence_PurposeOfReferenceCodeSequence_CodingSchemeDesignator'] = purpose_of_reference_code_sequence[0].CodingSchemeDesignator\n",
        "                                frame_data['DerivationImageSequence_SourceImageSequence_PurposeOfReferenceCodeSequence_CodeMeaning'] = purpose_of_reference_code_sequence[0].CodeMeaning\n",
        "\n",
        "                    # Extract attributes from Derivation Code Sequence\n",
        "                    derivation_code_sequence = derivation_image_sequence[0].DerivationCodeSequence\n",
        "                    if derivation_code_sequence:\n",
        "                        frame_data['DerivationImageSequence_DerivationCodeSequence_CodeValue'] = derivation_code_sequence[0].CodeValue\n",
        "                        frame_data['DerivationImageSequence_DerivationCodeSequence_CodingSchemeDesignator'] = derivation_code_sequence[0].CodingSchemeDesignator\n",
        "                        frame_data['DerivationImageSequence_DerivationCodeSequence_CodeMeaning'] = derivation_code_sequence[0].CodeMeaning\n",
        "\n",
        "                    data.append(frame_data)\n",
        "\n",
        "            # Add data from this series to the combined_data list\n",
        "            combined_data.extend(data)\n",
        "\n",
        "except Exception as e:\n",
        "    logging.error('An error occurred: %s', str(e))\n",
        "\n",
        "finally:\n",
        "    # Create a DataFrame from the combined_data list\n",
        "    df = pd.DataFrame(combined_data)\n",
        "\n",
        "    # Generate a single CSV file for all the data\n",
        "    csv_filename = 'perFrameFunctionalGroupSequence.csv'\n",
        "    df.to_csv(csv_filename, index=False)\n",
        "    !lz4 --rm 'perFrameFunctionalGroupSequence.csv' 'perFrameFunctionalGroupSequence.csv.lz4'\n",
        "\n",
        "    logging.info('Processing complete.')\n"
      ]
    }
  ],
  "metadata": {
    "celltoolbar": "Tags",
    "colab": {
      "include_colab_link": true,
      "provenance": []
    },
    "kernelspec": {
      "display_name": "Python 3 (ipykernel)",
      "language": "python",
      "name": "python3"
    },
    "language_info": {
      "codemirror_mode": {
        "name": "ipython",
        "version": 3
      },
      "file_extension": ".py",
      "mimetype": "text/x-python",
      "name": "python",
      "nbconvert_exporter": "python",
      "pygments_lexer": "ipython3",
      "version": "3.9.13"
    }
  },
  "nbformat": 4,
  "nbformat_minor": 5
}
