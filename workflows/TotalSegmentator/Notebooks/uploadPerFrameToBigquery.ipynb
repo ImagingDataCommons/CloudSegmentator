{
  "cells": [
    {
      "cell_type": "markdown",
      "metadata": {},
      "source": [
        "<a href=\"https://colab.research.google.com/github/ImagingDataCommons/CloudSegmentator/blob/v1.3.1/workflows/TotalSegmentator/Notebooks/uploadPerFrameToBigquery.ipynb\" target=\"_parent\"><img src=\"https://colab.research.google.com/assets/colab-badge.svg\" alt=\"Open In Colab\"/></a>"
      ]
    },
    {
      "cell_type": "markdown",
      "metadata": {
        "id": "1ViG4TuwcEIV"
      },
      "source": [
        "## **This Notebook decompresses the csv.lz4 files containing flattened perframefunctionalgroupssequence attribute and pushes the data to biqquery table**"
      ]
    },
    {
      "cell_type": "markdown",
      "metadata": {
        "id": "DKUDHW9ycelj"
      },
      "source": [
        "### **Installing Packages**"
      ]
    },
    {
      "cell_type": "code",
      "execution_count": null,
      "metadata": {
        "id": "laT39NA4kS3t"
      },
      "outputs": [],
      "source": [
        "%%capture\n",
        "!apt-get install lz4"
      ]
    },
    {
      "cell_type": "markdown",
      "metadata": {
        "id": "b-phJIbhkTOe"
      },
      "source": [
        "### **Importing Packages**"
      ]
    },
    {
      "cell_type": "code",
      "execution_count": null,
      "metadata": {
        "id": "iHFnDNE2bYdf"
      },
      "outputs": [],
      "source": [
        "from google.colab import auth\n",
        "from google.cloud import bigquery\n",
        "import ast\n",
        "import pandas as pd\n",
        "auth.authenticate_user()"
      ]
    },
    {
      "cell_type": "code",
      "execution_count": null,
      "metadata": {
        "id": "7fjoeOL5f6DF"
      },
      "outputs": [],
      "source": [
        "project_id='my project'\n",
        "client = bigquery.Client(project=project_id)"
      ]
    },
    {
      "cell_type": "markdown",
      "metadata": {
        "id": "v4nHyE_qfMKF"
      },
      "source": [
        "### **Read the Terra data table with links to output generated from the [perframefunctionalgroupsequence workflow](https://dockstore.org/workflows/github.com/ImagingDataCommons/CloudSegmentator/perFrameFunctionalGroupSequenceExtractionOnTerra:main)**"
      ]
    },
    {
      "cell_type": "code",
      "execution_count": null,
      "metadata": {
        "id": "lAx35lYuf02s"
      },
      "outputs": [],
      "source": [
        "pffgs_terra_data_table=pd.read_table('path to tsv file with output links')\n",
        "pffgs_terra_data_table"
      ]
    },
    {
      "cell_type": "markdown",
      "metadata": {
        "id": "D200phMaeCi8"
      },
      "source": [
        "### **Decompress the csv.lz4, Read csv and load data to bigquery**"
      ]
    },
    {
      "cell_type": "code",
      "execution_count": null,
      "metadata": {
        "id": "hcYZf1Y_h8ut"
      },
      "outputs": [],
      "source": [
        "csv_files= pffgs_terra_data_table.csvFile_PerFrameFunctionalGroupsSequence.to_list()\n",
        "csv_files"
      ]
    },
    {
      "cell_type": "markdown",
      "metadata": {
        "id": "6dJKZV40i82t"
      },
      "source": [
        "### **Choose a bigquery table**"
      ]
    },
    {
      "cell_type": "code",
      "execution_count": null,
      "metadata": {
        "id": "zgTDbu5Ri8gO"
      },
      "outputs": [],
      "source": [
        "bq_table_name=\"project.dataset.table\""
      ]
    },
    {
      "cell_type": "code",
      "execution_count": null,
      "metadata": {
        "id": "ATfKSH6RlTzW"
      },
      "outputs": [],
      "source": [
        "perframe_job_config = bigquery.LoadJobConfig(schema=[\n",
        "    bigquery.SchemaField(\"FrameContentSequence_DimensionIndexValues\", bigquery.enums.SqlTypeNames.INT64, mode=\"REPEATED\"),\n",
        "    bigquery.SchemaField(\"PlanePositionSequence_ImagePositionPatient\", bigquery.enums.SqlTypeNames.FLOAT64, mode=\"REPEATED\")\n",
        "])\n"
      ]
    },
    {
      "cell_type": "code",
      "execution_count": null,
      "metadata": {
        "id": "LeuOrqUHiGZM"
      },
      "outputs": [],
      "source": [
        "for csv_file in csv_files:\n",
        "  !rm perFrameFunctionalGroupSequence.csv\n",
        "  !gsutil cp $csv_file .\n",
        "  !lz4 -d --rm perFrameFunctionalGroupSequence.csv.lz4\n",
        "  perframe_df= pd.read_csv('perFrameFunctionalGroupSequence.csv')\n",
        "  # Convert string representation of a list to a list\n",
        "  perframe_df['FrameContentSequence_DimensionIndexValues'] = perframe_df['FrameContentSequence_DimensionIndexValues'].apply(ast.literal_eval)\n",
        "\n",
        "  # Now convert the list of strings to a list of integers\n",
        "  perframe_df['FrameContentSequence_DimensionIndexValues'] = perframe_df['FrameContentSequence_DimensionIndexValues'].apply(lambda x: [int(i) for i in x])\n",
        "\n",
        "  # Do the same for PlanePositionSequence_ImagePositionPatient\n",
        "  perframe_df['PlanePositionSequence_ImagePositionPatient'] = perframe_df['PlanePositionSequence_ImagePositionPatient'].apply(ast.literal_eval)\n",
        "  perframe_df['PlanePositionSequence_ImagePositionPatient'] = perframe_df['PlanePositionSequence_ImagePositionPatient'].apply(lambda x: [float(i) for i in x])\n",
        "\n",
        "  # Now load the dataframe into BigQuery\n",
        "  client.load_table_from_dataframe(perframe_df, bq_table_name, job_config=perframe_job_config)\n",
        "\n"
      ]
    }
  ],
  "metadata": {
    "colab": {
      "provenance": []
    },
    "kernelspec": {
      "display_name": "Python 3",
      "name": "python3"
    },
    "language_info": {
      "name": "python"
    }
  },
  "nbformat": 4,
  "nbformat_minor": 0
}
