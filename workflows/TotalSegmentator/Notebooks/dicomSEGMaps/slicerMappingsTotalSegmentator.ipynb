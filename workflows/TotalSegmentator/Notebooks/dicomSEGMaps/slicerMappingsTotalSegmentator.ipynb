{
  "cells": [
    {
      "cell_type": "markdown",
      "metadata": {
        "id": "LATi5kf7DkID"
      },
      "source": [
        "<a href=\"https://colab.research.google.com/github/ImagingDataCommons/CloudSegmentator/blob/v1.1.0/workflows/TotalSegmentator/Notebooks/dicomSEGMaps/slicerMappingsTotalSegmentator.ipynb\" target=\"_parent\"><img src=\"https://colab.research.google.com/assets/colab-badge.svg\" alt=\"Open In Colab\"/></a>"
      ]
    },
    {
      "cell_type": "markdown",
      "metadata": {
        "id": "QOFIdBeo0oHP"
      },
      "source": [
        "This notebook generates the config map used for creating DICOM SEG files for segmentations created by TotalSegmentator\n",
        "- The snomed codes for label and label maps are downloaded from official TotalSegmentator repo"
      ]
    },
    {
      "cell_type": "markdown",
      "metadata": {
        "id": "ubqTDx3-3I0x"
      },
      "source": [
        "###**Importing Packages**"
      ]
    },
    {
      "cell_type": "code",
      "execution_count": null,
      "metadata": {
        "id": "pQejBQ04RsAs"
      },
      "outputs": [],
      "source": [
        "import pandas as pd\n",
        "import json\n",
        "import yaml\n",
        "import os\n",
        "import sys\n",
        "from pathlib import Path\n",
        "import time\n",
        "import numpy as np\n",
        "import ast\n",
        "from natsort import natsorted"
      ]
    },
    {
      "cell_type": "markdown",
      "metadata": {
        "id": "jJ3mWjCy3Qkq"
      },
      "source": [
        "###**Runtime Environment**"
      ]
    },
    {
      "cell_type": "code",
      "execution_count": null,
      "metadata": {
        "colab": {
          "base_uri": "https://localhost:8080/"
        },
        "id": "Y_A5p88zR3WV",
        "outputId": "867e3579-fa1c-4287-83f8-8ef56d9ab06a"
      },
      "outputs": [],
      "source": [
        "curr_dir   = Path().absolute()\n",
        "os.environ['TZ'] = 'US/Eastern'\n",
        "time.tzset()\n",
        "current_time = time.strftime('%a %b %d %H:%M:%S %Y', time.localtime())\n",
        "print(current_time)\n",
        "print(\"\\nCurrent directory :{}\".format( curr_dir))\n",
        "print(\"Python version    :\", sys.version.split('\\n')[0])"
      ]
    },
    {
      "cell_type": "markdown",
      "metadata": {
        "id": "9csIzy2W4psO"
      },
      "source": [
        "- map_to_binary.py contains the mapping of labels and body parts\n",
        "- totalsegmentator_snomed_mapping_with_partial_colors has snomed codes and colors"
      ]
    },
    {
      "cell_type": "code",
      "execution_count": null,
      "metadata": {
        "id": "9JQ3k9K05jm-"
      },
      "outputs": [],
      "source": [
        "try:\n",
        "  os.remove(f'{curr_dir}/map_to_binary.py')\n",
        "except OSError:\n",
        "  pass\n",
        "!wget -q  https://raw.githubusercontent.com/wasserth/TotalSegmentator/v2.0.5/totalsegmentator/map_to_binary.py\n",
        "!wget -q  https://raw.githubusercontent.com/ImagingDataCommons/CloudSegmentator/v1.1.0/workflows/TotalSegmentator/resources/totalsegmentator_snomed_mapping_with_partial_colors.csv\n",
        "import map_to_binary"
      ]
    },
    {
      "cell_type": "code",
      "execution_count": null,
      "metadata": {
        "colab": {
          "base_uri": "https://localhost:8080/",
          "height": 669
        },
        "id": "RkQgPZ_BPzO1",
        "outputId": "4d90298d-fb7b-4f45-fb15-a34b641ea5fa"
      },
      "outputs": [],
      "source": [
        "import ast\n",
        "import pandas as pd\n",
        "\n",
        "# Load label ID and body part data\n",
        "label_body_map = map_to_binary.class_map[\"total_v1\"]\n",
        "label_body_df = pd.DataFrame(\n",
        "    list(label_body_map.items()), columns=[\"labelID\", \"Structure\"]\n",
        ")\n",
        "\n",
        "# Function to convert string to list\n",
        "def str_to_list(s):\n",
        "    if isinstance(s, list):\n",
        "        return s\n",
        "    elif pd.isnull(s):\n",
        "        return s\n",
        "    try:\n",
        "        return ast.literal_eval(s)\n",
        "    except ValueError:\n",
        "        return [int(i) for i in s.split(\",\")]\n",
        "\n",
        "\n",
        "# Load mapping data\n",
        "snomed_mapping_df = pd.read_csv(\n",
        "    \"totalsegmentator_snomed_mapping_with_partial_colors.csv\",\n",
        "    encoding=\"utf-8\",\n",
        "    dtype=\"str\",\n",
        ")\n",
        "\n",
        "# Merge dataframes\n",
        "merged_df = pd.merge(label_body_df, snomed_mapping_df, how=\"left\", on=\"Structure\")\n",
        "\n",
        "# Assign RGB value to labelID 93\n",
        "#merged_df.loc[\n",
        "#    merged_df[\"labelID\"] == \"93\", \"recommendedDisplayRGBValue\"\n",
        "#] = \"[255, 182, 193]\"\n",
        "\n",
        "# Convert 'recommendedDisplayRGBValue' from string to list\n",
        "merged_df[\"recommendedDisplayRGBValue\"] = merged_df[\"recommendedDisplayRGBValue\"].apply(\n",
        "    str_to_list\n",
        ")\n",
        "\n",
        "# Prepare final dataframe\n",
        "final_df = merged_df.drop(columns=merged_df.filter(regex=\"Anatomic\").columns)\n",
        "final_df[\"labelID\"] = final_df[\"labelID\"].astype(int)\n",
        "final_df[\"SegmentLabel\"] = final_df.apply(\n",
        "    lambda row: row[\"SegmentedPropertyTypeModifierCodeSequence.CodeMeaning\"]\n",
        "    + \" \"\n",
        "    + row[\"SegmentedPropertyTypeCodeSequence.CodeMeaning\"]\n",
        "    if pd.notnull(row[\"SegmentedPropertyTypeModifierCodeSequence.CodeMeaning\"])\n",
        "    else row[\"SegmentedPropertyTypeCodeSequence.CodeMeaning\"],\n",
        "    axis=1,\n",
        ")\n",
        "final_df[\"SegmentDescription\"] = (\n",
        "    \"TotalSegmentator \"\n",
        "    + final_df[\"labelID\"].astype(str)\n",
        "    + \" : \"\n",
        "    + final_df[\"Structure\"]\n",
        ")\n",
        "final_df = final_df.drop(columns=[\"Structure\"])\n",
        "final_df[\"SegmentAlgorithmName\"] = \"TotalSegmentator v1.5.6\"\n",
        "final_df[\"SegmentAlgorithmType\"] = \"AUTOMATIC\"\n",
        "final_df.fillna(\"\", inplace=True)\n",
        "\n",
        "final_df\n"
      ]
    },
    {
      "cell_type": "code",
      "execution_count": null,
      "metadata": {
        "id": "M2p22YGp0Bfh"
      },
      "outputs": [],
      "source": [
        "merged_df_json = json.loads(final_df.to_json(orient='records'))\n",
        "\n",
        "for segment in merged_df_json:\n",
        "    segment['SegmentedPropertyCategoryCodeSequence'] = {\n",
        "        'CodingSchemeDesignator': segment.pop('SegmentedPropertyCategoryCodeSequence.CodingSchemeDesignator'),\n",
        "        'CodeValue': segment.pop('SegmentedPropertyCategoryCodeSequence.CodeValue'),\n",
        "        'CodeMeaning': segment.pop('SegmentedPropertyCategoryCodeSequence.CodeMeaning')\n",
        "    }\n",
        "    segment['SegmentedPropertyTypeCodeSequence'] = {\n",
        "        'CodingSchemeDesignator': segment.pop('SegmentedPropertyTypeCodeSequence.CodingSchemeDesignator'),\n",
        "        'CodeValue': segment.pop('SegmentedPropertyTypeCodeSequence.CodeValue'),\n",
        "        'CodeMeaning': segment.pop('SegmentedPropertyTypeCodeSequence.CodeMeaning')\n",
        "    }\n",
        "    if ('SegmentedPropertyTypeModifierCodeSequence.CodingSchemeDesignator' in segment and\n",
        "        (segment['SegmentedPropertyTypeModifierCodeSequence.CodingSchemeDesignator'].strip() or\n",
        "         segment['SegmentedPropertyTypeModifierCodeSequence.CodeValue'].strip() or\n",
        "         segment['SegmentedPropertyTypeModifierCodeSequence.CodeMeaning'].strip())):\n",
        "        segment['SegmentedPropertyTypeModifierCodeSequence'] = {\n",
        "            'CodingSchemeDesignator': segment.pop('SegmentedPropertyTypeModifierCodeSequence.CodingSchemeDesignator'),\n",
        "            'CodeValue': segment.pop('SegmentedPropertyTypeModifierCodeSequence.CodeValue'),\n",
        "            'CodeMeaning': segment.pop('SegmentedPropertyTypeModifierCodeSequence.CodeMeaning')\n",
        "        }\n",
        "    else:\n",
        "        for key in ['SegmentedPropertyTypeModifierCodeSequence.CodingSchemeDesignator',\n",
        "                    'SegmentedPropertyTypeModifierCodeSequence.CodeValue',\n",
        "                    'SegmentedPropertyTypeModifierCodeSequence.CodeMeaning']:\n",
        "            if key in segment:\n",
        "                del segment[key]\n",
        "final_json = {\n",
        "    \"BodyPartExamined\": \"CHEST\",\n",
        "    \"ClinicalTrialCoordinatingCenterName\": \"dcmqi\",\n",
        "    \"ClinicalTrialSeriesID\": \"0\",\n",
        "    \"ClinicalTrialTimePointID\": \"1\",\n",
        "    \"ContentCreatorName\": \"IDC\",\n",
        "    \"ContentDescription\": \"Image segmentation\",\n",
        "    \"ContentLabel\": \"SEGMENTATION\",\n",
        "    \"InstanceNumber\": \"1\",\n",
        "    \"SeriesDescription\": \"TotalSegmentator Segmentation\",\n",
        "    \"SeriesNumber\": \"42\",\n",
        "    \"segmentAttributes\": [merged_df_json]\n",
        "}\n",
        "with open('dicomseg_metadata_whole_slicerAsRef.json', 'w') as file:\n",
        "    json.dump(final_json, file, indent=4)"
      ]
    },
    {
      "cell_type": "code",
      "execution_count": null,
      "metadata": {
        "id": "MQiMeP_o2bIn"
      },
      "outputs": [],
      "source": [
        "import yaml\n",
        "with open('dicomseg_metadata_whole_slicerAsRef.yaml', 'w') as file:\n",
        "    yaml.dump(final_json, file)"
      ]
    }
  ],
  "metadata": {
    "colab": {
      "provenance": []
    },
    "kernelspec": {
      "display_name": "Python 3",
      "name": "python3"
    },
    "language_info": {
      "name": "python"
    }
  },
  "nbformat": 4,
  "nbformat_minor": 0
}
