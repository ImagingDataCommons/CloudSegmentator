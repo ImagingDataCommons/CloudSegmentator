{
  "cells": [
    {
      "cell_type": "markdown",
      "metadata": {
        "colab_type": "text",
        "id": "view-in-github"
      },
      "source": [
        "<a href=\"https://colab.research.google.com/github/ImagingDataCommons/CloudSegmentator/blob/main/workflows/TotalSegmentator/Notebooks/postProcessingExtractPerframe.ipynb\" target=\"_parent\"><img src=\"https://colab.research.google.com/assets/colab-badge.svg\" alt=\"Open In Colab\"/></a>"
      ]
    },
    {
      "cell_type": "markdown",
      "id": "kdOyoySwehlv",
      "metadata": {
        "id": "kdOyoySwehlv"
      },
      "source": [
        "## **This notebook extracts the DICOM attribute PerFrameFunctionalGroupsSequence from DICOM SEG Objects. It takes the SEG files as input, decompresses them, extract the DICOM attribute and flattens the attribute**"
      ]
    },
    {
      "cell_type": "markdown",
      "id": "-LdyuHrrPigD",
      "metadata": {
        "id": "-LdyuHrrPigD"
      },
      "source": [
        "### **Installing Packages**"
      ]
    },
    {
      "cell_type": "code",
      "execution_count": null,
      "id": "B5KuCCFhOgpA",
      "metadata": {
        "id": "B5KuCCFhOgpA"
      },
      "outputs": [],
      "source": [
        "%%capture\n",
        "import sys\n",
        "if 'google.colab' in sys.modules:\n",
        "    !sudo apt-get update \\\n",
        "    && apt-get install -y --no-install-recommends \\\n",
        "    lz4"
      ]
    },
    {
      "cell_type": "code",
      "execution_count": null,
      "id": "B0TrOX90OhV_",
      "metadata": {
        "id": "B0TrOX90OhV_"
      },
      "outputs": [],
      "source": [
        "%%capture\n",
        "if 'google.colab' in sys.modules:\n",
        "   !pip install pydicom \\\n",
        "      google-cloud-bigquery \\\n",
        "      pyarrow \\\n",
        "      db_dtypes"
      ]
    },
    {
      "cell_type": "markdown",
      "id": "73LFRISZPn6Q",
      "metadata": {
        "id": "73LFRISZPn6Q"
      },
      "source": [
        "### **Importing Packages**"
      ]
    },
    {
      "cell_type": "code",
      "execution_count": null,
      "id": "db4585bb-9bfb-4de3-882a-c7454c7ec3af",
      "metadata": {
        "id": "db4585bb-9bfb-4de3-882a-c7454c7ec3af"
      },
      "outputs": [],
      "source": [
        "import logging\n",
        "import os\n",
        "import pandas as pd\n",
        "import pydicom\n",
        "import shutil\n",
        "import subprocess\n",
        "import sys\n",
        "from tqdm import tqdm\n",
        "import traceback\n"
      ]
    },
    {
      "cell_type": "markdown",
      "id": "Clrt8j70Pb5a",
      "metadata": {
        "id": "Clrt8j70Pb5a"
      },
      "source": [
        "### **Parameters for papermill**"
      ]
    },
    {
      "cell_type": "code",
      "execution_count": null,
      "id": "4527d881",
      "metadata": {
        "id": "4527d881",
        "tags": [
          "parameters"
        ]
      },
      "outputs": [],
      "source": [
        "if 'google.colab' in sys.modules:\n",
        "    !wget -q https://github.com/ImagingDataCommons/CloudSegmentator/releases/download/v1.0.0/dicomsegAndRadiomicsSR_DICOMsegFiles.tar.lz4\n",
        "    segFiles=[\"dicomsegAndRadiomicsSR_DICOMsegFiles.tar.lz4\"]\n"
      ]
    },
    {
      "cell_type": "markdown",
      "id": "efd80612",
      "metadata": {},
      "source": [
        "### **This is the cell used on cloud, as the file paths are passed to the notebook as a string**"
      ]
    },
    {
      "cell_type": "code",
      "execution_count": null,
      "id": "557de167",
      "metadata": {
        "id": "557de167"
      },
      "outputs": [],
      "source": [
        "if not 'google.colab' in sys.modules:\n",
        "    segFiles=segFiles.split(',')"
      ]
    },
    {
      "cell_type": "markdown",
      "id": "863246a0",
      "metadata": {
        "id": "863246a0"
      },
      "source": [
        "### **Logging**"
      ]
    },
    {
      "cell_type": "code",
      "execution_count": null,
      "id": "a5ef4958",
      "metadata": {
        "id": "a5ef4958"
      },
      "outputs": [],
      "source": [
        "# Initialize logging\n",
        "logging.basicConfig(filename=\"console_output.txt\", level=logging.INFO)\n",
        "\n",
        "# Create an output directory to store CSV\n",
        "output_dir = 'output'\n",
        "os.makedirs(output_dir, exist_ok=True)"
      ]
    },
    {
      "cell_type": "markdown",
      "id": "nbzivnkRnb_B",
      "metadata": {
        "id": "nbzivnkRnb_B"
      },
      "source": [
        "### **Extract PerFrameFunctionalGroupsSequence**"
      ]
    },
    {
      "cell_type": "code",
      "execution_count": null,
      "id": "surBU_pLnf4u",
      "metadata": {
        "id": "surBU_pLnf4u"
      },
      "outputs": [],
      "source": [
        "combined_data = []\n",
        "try:\n",
        "    for segFileBatch in tqdm(segFiles):\n",
        "        logging.info(\"Processing URL: %s\", segFileBatch)\n",
        "\n",
        "        try:\n",
        "            shutil.rmtree(\"itkimage2segimage\")\n",
        "            shutil.rmtree(\"decompressedSegmentationsDICOM\")\n",
        "        except OSError:\n",
        "            pass\n",
        "\n",
        "        os.mkdir(\"decompressedSegmentationsDICOM\")\n",
        "        try:\n",
        "            !lz4 -d --rm $segFileBatch -c | tar --strip-components=0 -xvf -\n",
        "            !find ./itkimage2segimage -name '*.dcm.lz4' -exec mv -t decompressedSegmentationsDICOM {} +\n",
        "            !lz4 -d -m --rm \"decompressedSegmentationsDICOM\"/*.lz4\n",
        "            print(\"files successfully decompressed\")\n",
        "        except Exception as download_error:\n",
        "            logging.error(\n",
        "                \"Error during download and decompression: %s\", str(download_error)\n",
        "            )\n",
        "\n",
        "        # Find all series IDs and add them to the combined_data list\n",
        "        series_ids = [\n",
        "            filename.split(\"_\")[0]\n",
        "            for filename in os.listdir(\"decompressedSegmentationsDICOM\")\n",
        "        ]\n",
        "        print(series_ids)\n",
        "        for series_id in series_ids:\n",
        "            pffgs = pydicom.dcmread(\n",
        "                f\"decompressedSegmentationsDICOM/{series_id}\",\n",
        "                specific_tags=[\n",
        "                    \"SeriesInstanceUID\",\n",
        "                    \"ReferencedSeriesSequence\",\n",
        "                    \"PerFrameFunctionalGroupsSequence\",\n",
        "                ],\n",
        "                stop_before_pixels=True,\n",
        "            )\n",
        "            referencedSeriesInstanceUID = pffgs.ReferencedSeriesSequence[\n",
        "                0\n",
        "            ].SeriesInstanceUID\n",
        "            SeriesInstanceUID=pffgs.SeriesInstanceUID\n",
        "            data = []\n",
        "\n",
        "            # Extract data from Per-frame Functional Groups Sequence\n",
        "            if \"PerFrameFunctionalGroupsSequence\" in pffgs:\n",
        "                for item in pffgs.PerFrameFunctionalGroupsSequence:\n",
        "                    frame_data = {\n",
        "                        \"SEG_SeriesInstanceUID\": SeriesInstanceUID,\n",
        "                        \"ReferencedSeriesSequence_SeriesInstanceUID\": referencedSeriesInstanceUID,\n",
        "                        \"FrameContentSequence_DimensionIndexValues\": [\n",
        "                            str(s)\n",
        "                            for s in list(\n",
        "                                item.FrameContentSequence[0].DimensionIndexValues\n",
        "                            )\n",
        "                        ],\n",
        "                        \"PlanePositionSequence_ImagePositionPatient\": [\n",
        "                            str(s)\n",
        "                            for s in list(\n",
        "                                item.PlanePositionSequence[0].ImagePositionPatient\n",
        "                            )\n",
        "                        ],\n",
        "                        \"SegmentIdentificationSequence_ReferencedSegmentNumber\": item.SegmentIdentificationSequence[\n",
        "                            0\n",
        "                        ].ReferencedSegmentNumber,\n",
        "                    }\n",
        "\n",
        "                    # Extract attributes from Derivation Image Sequence\n",
        "                    derivation_image_sequence = item.DerivationImageSequence\n",
        "                    if derivation_image_sequence:\n",
        "                        source_image_sequence = derivation_image_sequence[\n",
        "                            0\n",
        "                        ].SourceImageSequence\n",
        "                        if source_image_sequence:\n",
        "                            frame_data[\n",
        "                                \"DerivationImageSequence_SourceImageSequence_ReferencedSOPClassUID\"\n",
        "                            ] = source_image_sequence[0].ReferencedSOPClassUID\n",
        "                            frame_data[\n",
        "                                \"DerivationImageSequence_SourceImageSequence_ReferencedSOPInstanceUID\"\n",
        "                            ] = source_image_sequence[0].ReferencedSOPInstanceUID\n",
        "                            purpose_of_reference_code_sequence = source_image_sequence[\n",
        "                                0\n",
        "                            ].PurposeOfReferenceCodeSequence\n",
        "                            if purpose_of_reference_code_sequence:\n",
        "                                frame_data[\n",
        "                                    \"DerivationImageSequence_SourceImageSequence_PurposeOfReferenceCodeSequence_CodeValue\"\n",
        "                                ] = purpose_of_reference_code_sequence[0].CodeValue\n",
        "                                frame_data[\n",
        "                                    \"DerivationImageSequence_SourceImageSequence_PurposeOfReferenceCodeSequence_CodingSchemeDesignator\"\n",
        "                                ] = purpose_of_reference_code_sequence[\n",
        "                                    0\n",
        "                                ].CodingSchemeDesignator\n",
        "                                frame_data[\n",
        "                                    \"DerivationImageSequence_SourceImageSequence_PurposeOfReferenceCodeSequence_CodeMeaning\"\n",
        "                                ] = purpose_of_reference_code_sequence[0].CodeMeaning\n",
        "\n",
        "                    # Extract attributes from Derivation Code Sequence\n",
        "                    derivation_code_sequence = derivation_image_sequence[\n",
        "                        0\n",
        "                    ].DerivationCodeSequence\n",
        "                    if derivation_code_sequence:\n",
        "                        frame_data[\n",
        "                            \"DerivationImageSequence_DerivationCodeSequence_CodeValue\"\n",
        "                        ] = derivation_code_sequence[0].CodeValue\n",
        "                        frame_data[\n",
        "                            \"DerivationImageSequence_DerivationCodeSequence_CodingSchemeDesignator\"\n",
        "                        ] = derivation_code_sequence[0].CodingSchemeDesignator\n",
        "                        frame_data[\n",
        "                            \"DerivationImageSequence_DerivationCodeSequence_CodeMeaning\"\n",
        "                        ] = derivation_code_sequence[0].CodeMeaning\n",
        "\n",
        "                    data.append(frame_data)\n",
        "\n",
        "            # Add data from this series to the combined_data list\n",
        "            combined_data.extend(data)\n",
        "\n",
        "except Exception as e:\n",
        "    logging.error(\"An error occurred: %s\", str(e))\n",
        "\n",
        "finally:\n",
        "    # Create a DataFrame from the combined_data list\n",
        "    df = pd.DataFrame(combined_data)\n",
        "\n",
        "    # Generate a single CSV file for all the data\n",
        "    csv_filename = \"perFrameFunctionalGroupSequence.csv\"\n",
        "    df.to_csv(csv_filename, index=False)\n",
        "    !lz4 --rm 'perFrameFunctionalGroupSequence.csv' 'perFrameFunctionalGroupSequence.csv.lz4'\n",
        "\n",
        "    logging.info(\"Processing complete.\")"
      ]
    }
  ],
  "metadata": {
    "celltoolbar": "Tags",
    "colab": {
      "include_colab_link": true,
      "provenance": []
    },
    "kernelspec": {
      "display_name": "Python 3 (ipykernel)",
      "language": "python",
      "name": "python3"
    },
    "language_info": {
      "codemirror_mode": {
        "name": "ipython",
        "version": 3
      },
      "file_extension": ".py",
      "mimetype": "text/x-python",
      "name": "python",
      "nbconvert_exporter": "python",
      "pygments_lexer": "ipython3",
      "version": "3.9.13"
    }
  },
  "nbformat": 4,
  "nbformat_minor": 5
}
