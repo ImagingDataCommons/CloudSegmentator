{
  "cells": [
    {
      "cell_type": "markdown",
      "metadata": {},
      "source": [
        "<a href=\"https://colab.research.google.com/github/ImagingDataCommons/CloudSegmentator/blob/main/workflows/TotalSegmentator/Notebooks/uploadPerFrameToBigquery.ipynb\" target=\"_parent\"><img src=\"https://colab.research.google.com/assets/colab-badge.svg\" alt=\"Open In Colab\"/></a>"
      ]
    },
    {
      "cell_type": "markdown",
      "metadata": {
        "id": "1ViG4TuwcEIV"
      },
      "source": [
        "## **This Notebook decompresses the csv.lz4 files containing general, shape and first order radiomics features and pushes the data to biqquery table**"
      ]
    },
    {
      "cell_type": "markdown",
      "metadata": {
        "id": "DKUDHW9ycelj"
      },
      "source": [
        "### **Installing Packages**"
      ]
    },
    {
      "cell_type": "code",
      "execution_count": null,
      "metadata": {
        "id": "laT39NA4kS3t"
      },
      "outputs": [],
      "source": [
        "%%capture\n",
        "!apt-get install lz4"
      ]
    },
    {
      "cell_type": "markdown",
      "metadata": {
        "id": "b-phJIbhkTOe"
      },
      "source": [
        "### **Importing Packages**"
      ]
    },
    {
      "cell_type": "code",
      "execution_count": null,
      "metadata": {
        "id": "iHFnDNE2bYdf"
      },
      "outputs": [],
      "source": [
        "from google.colab import auth\n",
        "from google.cloud import bigquery\n",
        "import ast\n",
        "import pandas as pd\n",
        "auth.authenticate_user()"
      ]
    },
    {
      "cell_type": "code",
      "execution_count": null,
      "metadata": {
        "id": "7fjoeOL5f6DF"
      },
      "outputs": [],
      "source": [
        "project_id='my project'\n",
        "client = bigquery.Client(project=project_id)"
      ]
    },
    {
      "cell_type": "markdown",
      "metadata": {
        "id": "v4nHyE_qfMKF"
      },
      "source": [
        "### **Read the Terra data table with links to output files**"
      ]
    },
    {
      "cell_type": "code",
      "execution_count": null,
      "metadata": {
        "id": "lAx35lYuf02s"
      },
      "outputs": [],
      "source": [
        "radiomics_terra_data_table=pd.read_table('path to tsv file with output links')\n",
        "radiomics_terra_data_table"
      ]
    },
    {
      "cell_type": "markdown",
      "metadata": {
        "id": "D200phMaeCi8"
      },
      "source": [
        "### **Decompress the csv.lz4, Read csv and load data to bigquery**"
      ]
    },
    {
      "cell_type": "code",
      "execution_count": null,
      "metadata": {
        "id": "hcYZf1Y_h8ut"
      },
      "outputs": [],
      "source": [
        "parquet_files= radiomics_terra_data_table.parquet_radiomicsJsonToDataFrame.to_list()\n",
        "parquet_files"
      ]
    },
    {
      "cell_type": "markdown",
      "metadata": {
        "id": "6dJKZV40i82t"
      },
      "source": [
        "### **Choose a bigquery table**"
      ]
    },
    {
      "cell_type": "code",
      "execution_count": null,
      "metadata": {
        "id": "zgTDbu5Ri8gO"
      },
      "outputs": [],
      "source": [
        "bq_table_name=\"project.dataset.table\""
      ]
    },
    {
      "cell_type": "code",
      "execution_count": null,
      "metadata": {
        "id": "LeuOrqUHiGZM"
      },
      "outputs": [],
      "source": [
        "for parquet_file in parquet_files:\n",
        "  !rm raw_radiomics.parquet\n",
        "  !gsutil cp $parquet_file .\n",
        "  json_radiomics_df= pd.read_parquet(parquet_file)\n",
        "  json_radiomics_df.columns = json_radiomics_df.columns.str.replace('.', '_')\n",
        "  # Now load the dataframe into BigQuery\n",
        "  client.load_table_from_dataframe(json_radiomics_df, bq_table_name, job_config=bigquery.LoadJobConfig(autodetect=True))\n",
        "\n"
      ]
    }
  ],
  "metadata": {
    "colab": {
      "provenance": []
    },
    "kernelspec": {
      "display_name": "Python 3",
      "name": "python3"
    },
    "language_info": {
      "name": "python"
    }
  },
  "nbformat": 4,
  "nbformat_minor": 0
}
